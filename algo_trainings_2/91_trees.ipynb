{
 "cells": [
  {
   "cell_type": "markdown",
   "id": "131837a4-df14-4d57-9afb-048cd85534e1",
   "metadata": {},
   "source": [
    "# Algorithms by Yandex"
   ]
  },
  {
   "cell_type": "markdown",
   "id": "70ddfb4c-e9b2-4660-b6f5-1e0b9c695eeb",
   "metadata": {},
   "source": [
    "[youtube playlist](https://www.youtube.com/playlist?list=PL6Wui14DvQPySdPv5NUqV3i8sDbHkCKC5)"
   ]
  },
  {
   "cell_type": "markdown",
   "id": "ce6e56b2-d6c6-4bad-ac8d-f38173f9550f",
   "metadata": {},
   "source": [
    "## Lesson 8. Trees"
   ]
  },
  {
   "cell_type": "markdown",
   "id": "19bf2146-83bf-415f-b760-5a16eb82d4d0",
   "metadata": {},
   "source": [
    "### Memory management"
   ]
  },
  {
   "cell_type": "code",
   "execution_count": 3,
   "id": "92d81936-0726-4385-a6d3-2f2e93c9be31",
   "metadata": {
    "tags": []
   },
   "outputs": [],
   "source": [
    "# This function initializes a contiguous block of memory\n",
    "# represented as a list of lists. Each inner list contains\n",
    "# three elements: the value of the node, the index of the \n",
    "# next free block of memory, and a flag indicating whether \n",
    "# the node is currently in use.\n",
    "def initmemory(maxn):\n",
    "    memory = []\n",
    "    for i in range(maxn):\n",
    "        memory.append([0, i + 1, 0])\n",
    "    return [memory, 0]\n",
    "\n",
    "# This function creates a new node by taking a free block of \n",
    "# memory from the contiguous memory block and updating the \n",
    "# next free block of memory.\n",
    "def newnode(memstruct):\n",
    "    memory, firstfree = memstruct\n",
    "    memstruct[1] = memory[firstfree][1]\n",
    "    return firstfree\n",
    "\n",
    "# This function deletes a node by marking the block of memory \n",
    "# as free and updating the next free block of memory.\n",
    "def delnode(memstruct, index):\n",
    "    memory, firstfree = memstruct\n",
    "    memory[index][1] = firstfree\n",
    "    memstruct[1] = index"
   ]
  },
  {
   "cell_type": "markdown",
   "id": "4445f864-86b6-4b51-9fa4-c9d86e78fecb",
   "metadata": {},
   "source": [
    "### Bianry search tree"
   ]
  },
  {
   "cell_type": "markdown",
   "id": "6bdcf395-650d-421a-b93e-da5b1d012cd7",
   "metadata": {},
   "source": [
    "A binary search tree is a hierarchical data structure in which each node has at most two children, referred to as the left child and the right child. The left child contains a value that is smaller than the value of the node, while the right child contains a value that is greater than the node. This property ensures that the values in the binary search tree are stored in a specific order, making it easy to search for a particular value.\n",
    "\n",
    "Binary search trees are often used in algorithms for searching, sorting, and manipulating data. They are efficient for searching and inserting elements, with a time complexity of O(log n) for both operations, where n is the number of elements in the tree.\n",
    "\n",
    "However, if the binary search tree becomes unbalanced, with one subtree much larger than the other, the performance of the search and insertion operations can degrade to O(n), where n is the number of nodes in the tree. To prevent this, self-balancing binary search trees like AVL trees or Red-Black trees are used in practice."
   ]
  },
  {
   "cell_type": "markdown",
   "id": "24b0ae14-d8e9-4b69-ba96-57b0bb4aa357",
   "metadata": {},
   "source": [
    "Binary Search Tree:\n",
    "- Each node has a key and two children - left and right.\n",
    "- The keys in the left subtree are less than the key in the node, and the keys in the right subtree are greater.\n",
    "- If keys are inserted in a random order, the depth of the tree will be O(log N)."
   ]
  },
  {
   "cell_type": "code",
   "execution_count": 27,
   "id": "fc3e14e6-b009-4aac-afa6-9a6a375b7b6f",
   "metadata": {
    "tags": []
   },
   "outputs": [],
   "source": [
    "def find(memstruct, root, x):\n",
    "    # Get the key of the current node\n",
    "    key = memstruct[0][root][0]\n",
    "    \n",
    "    # If the key matches the search value, return the node index\n",
    "    if x == key:\n",
    "        return root\n",
    "    \n",
    "    # If the search value is less than the key, recurse on the left subtree\n",
    "    elif x < key:\n",
    "        left = memstruct[0][root][1]\n",
    "        if left == -1:\n",
    "            # If the left child does not exist, the search value is not in the tree\n",
    "            return -1\n",
    "        else:\n",
    "            return find(memstruct, left, x)\n",
    "    \n",
    "    # If the search value is greater than the key, recurse on the right subtree\n",
    "    elif x > key:\n",
    "        right = memstruct[0][root][2]\n",
    "        if right == -1:\n",
    "            # If the right child does not exist, the search value is not in the tree\n",
    "            return -1\n",
    "        else:\n",
    "            return find(memstruct, right, x)\n"
   ]
  },
  {
   "cell_type": "markdown",
   "id": "ca6a6bc4-cad9-46cd-be42-b5d64a0362b1",
   "metadata": {},
   "source": [
    "The find function takes a memory structure memstruct, a root node index root, and a search value x, and recursively searches the binary search tree for the node with the specified key value. The function returns the index of the node if it is found, or -1 if it is not found."
   ]
  },
  {
   "cell_type": "code",
   "execution_count": 55,
   "id": "4c605dac-a6da-4637-9143-c2d8d7af98cc",
   "metadata": {
    "tags": []
   },
   "outputs": [],
   "source": [
    "def createandfillnode(memstruct, key):\n",
    "    index = newnode(memstruct)\n",
    "    memstruct[0][index][0] = key\n",
    "    memstruct[0][index][1] = -1\n",
    "    memstruct[0][index][2] = -1\n",
    "    return index\n",
    "\n",
    "\n",
    "def add(memstruct, root, x):\n",
    "    key = memstruct[0][root][0]\n",
    "    if x < key:\n",
    "        left = memstruct[0][root][1]\n",
    "        if left == -1:\n",
    "            memstruct[0][root][1] = createandfillnode(memstruct, x)\n",
    "        else:\n",
    "            add(memstruct, left, x)\n",
    "    elif x > key:\n",
    "        right = memstruct[0][root][2]\n",
    "        if right == -1:\n",
    "            memstruct[0][root][2] = createandfillnode(memstruct, x)\n",
    "        else:\n",
    "            add(memstruct, right, x)\n",
    "            \n",
    "\n",
    "# example usage\n",
    "memstruct = initmemory(20)\n",
    "root = createandfillnode(memstruct, 8)\n",
    "add(memstruct, root, 10)\n",
    "add(memstruct, root, 9)\n",
    "add(memstruct, root, 14)\n",
    "add(memstruct, root, 13)\n",
    "add(memstruct, root, 3)\n",
    "add(memstruct, root, 1)\n",
    "add(memstruct, root, 6)\n",
    "add(memstruct, root, 4)\n",
    "add(memstruct, root, 7)"
   ]
  },
  {
   "cell_type": "code",
   "execution_count": 56,
   "id": "274d9bfd-a08e-4e06-9d98-e57e7ce6461f",
   "metadata": {
    "tags": []
   },
   "outputs": [],
   "source": [
    "def display_tree(memstruct, root, level=0):\n",
    "    if root != -1:\n",
    "        display_tree(memstruct, memstruct[0][root][2], level + 1)\n",
    "        print(' ' * 4 * level + '->', memstruct[0][root][0])\n",
    "        display_tree(memstruct, memstruct[0][root][1], level + 1)"
   ]
  },
  {
   "cell_type": "code",
   "execution_count": 57,
   "id": "83c63a7d-24dc-4677-9b89-3c294254e1f8",
   "metadata": {
    "tags": []
   },
   "outputs": [
    {
     "name": "stdout",
     "output_type": "stream",
     "text": [
      "                            -> 14\n",
      "                                -> 13\n",
      "                        -> 10\n",
      "                            -> 9\n",
      "                    -> 8\n",
      "                                -> 7\n",
      "                            -> 6\n",
      "                                -> 4\n",
      "                        -> 3\n",
      "                            -> 1\n"
     ]
    }
   ],
   "source": [
    "display_tree(memstruct, root, level=5)"
   ]
  },
  {
   "cell_type": "markdown",
   "id": "5dc7b610-68c4-45b0-875b-c66e901be51c",
   "metadata": {},
   "source": [
    "How trees could look like on python:  \n",
    "[key, [left], [right]]"
   ]
  },
  {
   "cell_type": "code",
   "execution_count": 60,
   "id": "1f248b9b-2383-47a3-8818-b959a5e5eba7",
   "metadata": {
    "tags": []
   },
   "outputs": [
    {
     "data": {
      "text/plain": [
       "[5, [2, None, [3, None, None]], [7, None, [8, None, None]]]"
      ]
     },
     "execution_count": 60,
     "metadata": {},
     "output_type": "execute_result"
    }
   ],
   "source": [
    "[5, [2, None, [3, None, None]], [7, None, [8, None, None]]]"
   ]
  },
  {
   "cell_type": "markdown",
   "id": "9f99e495-65bd-4b0b-b7a5-107a4e1b55a5",
   "metadata": {},
   "source": [
    "Our tree from an example above:"
   ]
  },
  {
   "cell_type": "code",
   "execution_count": 61,
   "id": "e1f320db-6e8e-48cd-8886-e4d24d8747eb",
   "metadata": {
    "tags": []
   },
   "outputs": [
    {
     "data": {
      "text/plain": [
       "[8,\n",
       " [3, [1, None, None], [6, [4, None, None], [7, None, None]]],\n",
       " [10, [9, None, None], [14, [13, None, None], None]]]"
      ]
     },
     "execution_count": 61,
     "metadata": {},
     "output_type": "execute_result"
    }
   ],
   "source": [
    "[8,\n",
    "[3, [1, None, None], [6, [4, None, None], [7, None, None]]],\n",
    "[10, [9, None, None], [14, [13, None, None], None]]]"
   ]
  },
  {
   "cell_type": "markdown",
   "id": "6866e7d6-5a23-43af-a472-2c0e1111e3a6",
   "metadata": {},
   "source": [
    "### Tree traversal"
   ]
  },
  {
   "cell_type": "markdown",
   "id": "8afcfc10-bd6d-4c1d-976b-830813701f41",
   "metadata": {},
   "source": [
    "Tree traversal is a fundamental operation on tree data structures and is widely used in algorithms for processing hierarchical data such as file systems, XML, and JSON. There are three main traversal methods: pre-order, in-order, and post-order.\n",
    "\n",
    "In pre-order traversal, the nodes are visited in the order of parent, left child, right child. In in-order traversal, the nodes are visited in the order of left child, parent, right child. In post-order traversal, the nodes are visited in the order of left child, right child, parent.\n",
    "\n",
    "Tree traversal algorithms can be implemented using recursion or iteration, and the choice of algorithm depends on the specific requirements of the application. Recursive implementations are often simpler to write and understand, while iterative implementations may be more efficient in terms of memory usage and speed.\n",
    "\n",
    "Overall, tree traversal is an essential technique for efficiently processing hierarchical data structures in computer science and programming."
   ]
  },
  {
   "cell_type": "markdown",
   "id": "742e03cd-8103-4646-96a6-48cfda7384be",
   "metadata": {},
   "source": [
    "Non-binary trees:\n",
    "- Nodes in the tree can have more than two children, which need to be stored in a list.\n",
    "- Examples: file directory trees, HTML documents (DOM tree), class hierarchy trees in programming, etc.\n",
    "- Traversal is done in a similar way as binary trees, by recursively calling the function for all children."
   ]
  },
  {
   "cell_type": "markdown",
   "id": "f2077e97-2f8b-4d8a-a545-80657f85d6cf",
   "metadata": {},
   "source": [
    "Serialization of Huffman tree:\n",
    "- The Huffman algorithm allows us to assign a shorter code to more frequently occurring characters\n",
    "- At each step, we take the two least frequently occurring characters and merge them into a single node\n",
    "- We build a binary tree and place the letters in the leaves. Transition to the left child is encoded with the number 0, to the right child with the number 1, and the code for a character is all the edges on the path from the root to the leaf (the sequence of 0s and 1s we encountered on the path)."
   ]
  },
  {
   "cell_type": "markdown",
   "id": "245419ae-f815-417a-ba0c-8dfe0a5cd44b",
   "metadata": {},
   "source": [
    "The Huffman coding algorithm produces a prefix code, which means that no code word is a prefix of another code word. This property makes it easy to decode the encoded message, as we can simply read the code word one bit at a time until we find a matching character.\n",
    "\n",
    "Huffman coding is widely used in data compression and transmission applications, as it can significantly reduce the amount of data that needs to be transmitted or stored."
   ]
  },
  {
   "cell_type": "markdown",
   "id": "0fd135a6-d9b8-4995-b268-4239fc98ae50",
   "metadata": {},
   "source": [
    "How to store a tree structure as a string:\n",
    "- L - go to the left child\n",
    "- R - go to the right child\n",
    "- U - go to the parent\n",
    "- D - go to the leftmost unvisited child (nodes always have either two children or none)  \n",
    "\n",
    "U means that we are going up until we come from the right child. If we come to a node from the left child - we will immediately go to the right child.\n",
    "\n"
   ]
  },
  {
   "cell_type": "markdown",
   "id": "7007493f-fffa-48be-bd26-cd83fad6ec08",
   "metadata": {},
   "source": [
    "For example:\n",
    "- LURLLURUURUU - corresponds to a binary tree where we start from the root and first go left, then up, then right, left, left, up, right, up, up, right, up, up\n",
    "- DUDDDUDUUDUU - corresponds to a tree where we start from the root and first go to the leftmost child, then up, left, left, left, up, right, up, up, right, up, up"
   ]
  },
  {
   "cell_type": "markdown",
   "id": "9dc9aadd-0d72-4962-90a2-74f21cd3de17",
   "metadata": {},
   "source": [
    "#### Task 1. "
   ]
  },
  {
   "cell_type": "markdown",
   "id": "ff7f60b4-a883-4546-880e-52c8aefa8a7f",
   "metadata": {},
   "source": [
    "D - go to the leftmost unvisited child (there are always either two children or no children).\n",
    "U - go up until we come from the right child. If we came to the node from the left child, go immediately to the right.\n",
    "\n",
    "Restore the code for the leaves from the serialized representation."
   ]
  },
  {
   "cell_type": "code",
   "execution_count": 78,
   "id": "e7ccac38-a431-4a62-a190-87266cbf571c",
   "metadata": {
    "tags": []
   },
   "outputs": [],
   "source": [
    "def maketree(serialized):\n",
    "    # create a root node with no children\n",
    "    tree = {'left': None, 'right': None, 'up': None, 'type': 'root'}\n",
    "    # set the current node to the root\n",
    "    nownode = tree\n",
    "    # iterate over the serialized string\n",
    "    for sym in serialized:\n",
    "        # if the symbol is 'D', go to the left child\n",
    "        if sym == 'D':\n",
    "            # create a new node as the left child of the current node\n",
    "            newnode = {'left': None, 'right': None, 'up': nownode, 'type': 'left'}\n",
    "            nownode['left'] = newnode\n",
    "            # set the current node to the new left child\n",
    "            nownode = newnode\n",
    "        # if the symbol is 'U', go to the right child or up to the parent's right child\n",
    "        elif sym == 'U':\n",
    "            # go up the tree until we come from the right child\n",
    "            while nownode['type'] == 'right':\n",
    "                nownode = nownode['up']\n",
    "            # now we are at a node where we came from the left child, so we go up to its parent\n",
    "            nownode = nownode['up']\n",
    "            # create a new node as the right child of the current node\n",
    "            newnode = {'left': None, 'right': None, 'up': nownode, 'type': 'right'}\n",
    "            nownode['right'] = newnode\n",
    "            # set the current node to the new right child\n",
    "            nownode = newnode\n",
    "    # return the tree with all the nodes and their connections\n",
    "    return tree\n",
    "\n",
    "\n",
    "def traverse(root, prefix):\n",
    "    # if the node is a leaf (has no children), return its code\n",
    "    if root['left'] is None and root['right'] is None:\n",
    "        return [''.join(prefix)]\n",
    "    # if the node has a left child, go left and add '0' to the code\n",
    "    prefix.append('0')\n",
    "    ans = traverse(root['left'], prefix)\n",
    "    prefix.pop()\n",
    "    # if the node has a right child, go right and add '1' to the code\n",
    "    prefix.append('1')\n",
    "    ans.extend(traverse(root['right'], prefix))\n",
    "    prefix.pop()\n",
    "    # return the codes for all the leaves in the subtree\n",
    "    return ans"
   ]
  },
  {
   "cell_type": "code",
   "execution_count": 79,
   "id": "038f2b0f-8272-4506-9f25-e188273b66c0",
   "metadata": {
    "tags": []
   },
   "outputs": [
    {
     "name": "stdout",
     "output_type": "stream",
     "text": [
      "['0', '100', '101', '11']\n"
     ]
    }
   ],
   "source": [
    "# Example usage\n",
    "serialized = \"DUDDUU\"\n",
    "tree = maketree(serialized)\n",
    "\n",
    "# Traverse the tree to generate codes for each leaf\n",
    "codes = traverse(tree, [])\n",
    "print(codes)"
   ]
  }
 ],
 "metadata": {
  "kernelspec": {
   "display_name": "Python 3 (ipykernel)",
   "language": "python",
   "name": "python3"
  },
  "language_info": {
   "codemirror_mode": {
    "name": "ipython",
    "version": 3
   },
   "file_extension": ".py",
   "mimetype": "text/x-python",
   "name": "python",
   "nbconvert_exporter": "python",
   "pygments_lexer": "ipython3",
   "version": "3.7.11"
  }
 },
 "nbformat": 4,
 "nbformat_minor": 5
}

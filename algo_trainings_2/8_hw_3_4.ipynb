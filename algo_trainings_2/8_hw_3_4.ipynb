{
 "cells": [
  {
   "cell_type": "markdown",
   "id": "131837a4-df14-4d57-9afb-048cd85534e1",
   "metadata": {},
   "source": [
    "# Algorithms by Yandex"
   ]
  },
  {
   "cell_type": "markdown",
   "id": "70ddfb4c-e9b2-4660-b6f5-1e0b9c695eeb",
   "metadata": {},
   "source": [
    "[youtube playlist](https://www.youtube.com/playlist?list=PL6Wui14DvQPySdPv5NUqV3i8sDbHkCKC5)"
   ]
  },
  {
   "cell_type": "markdown",
   "id": "ce6e56b2-d6c6-4bad-ac8d-f38173f9550f",
   "metadata": {},
   "source": [
    "## Lessons 3 & 4. Hometasks"
   ]
  },
  {
   "cell_type": "markdown",
   "id": "9bf89146-15b4-4bc5-9c3d-f801f171c884",
   "metadata": {},
   "source": [
    "### Lesson 3. "
   ]
  },
  {
   "cell_type": "markdown",
   "id": "80a6db04-c3c7-46ef-b076-7a251d0abf6a",
   "metadata": {},
   "source": [
    "#### Task 1. "
   ]
  },
  {
   "cell_type": "markdown",
   "id": "13abe3e9-1566-4ffa-b6b0-f9d5f1185dd1",
   "metadata": {},
   "source": [
    "Translation: Three turtles are crawling along the road. One says: \"Two turtles are ahead of me.\" The second one says: \"Two turtles are behind me.\" The third one says: \"Two turtles are ahead of me and two turtles are behind me.\" How is this possible?  \n",
    "Answer: The third turtle is lying.  \n",
    "\n",
    "On the road, N turtles are moving one after another. Each turtle says a phrase like \"there are Ai turtles ahead of me and Bi turtles behind me.\" Your task is to determine the maximum number of turtles that can be telling the truth."
   ]
  },
  {
   "cell_type": "code",
   "execution_count": 2,
   "id": "e8d533ea-1eab-49c7-9071-1f7d7aa96449",
   "metadata": {
    "tags": []
   },
   "outputs": [
    {
     "name": "stdin",
     "output_type": "stream",
     "text": [
      " 3\n",
      " 1 1\n",
      " 0 2\n",
      " 1 1\n"
     ]
    },
    {
     "name": "stdout",
     "output_type": "stream",
     "text": [
      "2\n"
     ]
    }
   ],
   "source": [
    "n = int(input())\n",
    "\n",
    "used_before = set()\n",
    "for i in range(n):\n",
    "    a, b = map(int, input().split())\n",
    "    if a >= 0 and b >= 0 and a + b == n - 1 and a not in used_before:\n",
    "        used_before.add(a)\n",
    "    \n",
    "print(len(used_before))"
   ]
  },
  {
   "cell_type": "markdown",
   "id": "6664d3cb-d281-45a8-b194-ae036c66a899",
   "metadata": {},
   "source": [
    "#### Task 2. "
   ]
  },
  {
   "cell_type": "markdown",
   "id": "a9364185-8a12-45d5-bffb-ed64ad97abc6",
   "metadata": {},
   "source": [
    "The streets of Manhattan are organized as follows. From south to north, there is an avenue every hundred meters, and from west to east, there is a street every hundred meters. Avenues and streets are numbered with integers. Lower numbers correspond to western avenues and southern streets. Thus, a rectangular coordinate system can be constructed so that the point (x, y) lies at the intersection of the x-th avenue and the y-th street. It is easy to notice that in order to walk from point (x1, y1) to point (x2, y2) in Manhattan, you need to go through |x2 - x1| + |y2 - y1| blocks. This distance is called the Manhattan distance between points (x1, y1) and (x2, y2).  \n",
    "\n",
    "Mike lives in Manhattan and goes for a run around the city every morning. He starts from his home, which is located at point (0, 0), and runs along a random route. Every minute, Mike either stays at the same intersection as a minute ago, or moves one block in any direction. To avoid getting lost, Mike takes a navigator with him, which tells him his location every t minutes. Unfortunately, the navigator does not show Mike's exact location; it can show any of the points whose Manhattan distance to Mike does not exceed d.  \n",
    "\n",
    "After receiving the n-th message from the navigator at t \\* n minutes from the beginning of his run, Mike decided that it's time to run home. To do this, he wants to understand where he can be. Help Mike with this task."
   ]
  },
  {
   "cell_type": "code",
   "execution_count": 3,
   "id": "03ed76f4-d929-457f-aaa2-b4f6fcb1afda",
   "metadata": {
    "tags": []
   },
   "outputs": [
    {
     "name": "stdin",
     "output_type": "stream",
     "text": [
      " 3 2 3\n",
      " 0 0\n",
      " 2 1\n",
      " 3 -1\n"
     ]
    },
    {
     "name": "stdout",
     "output_type": "stream",
     "text": [
      "13\n",
      "1 -1\n",
      "2 -2\n",
      "3 -3\n",
      "2 -1\n",
      "3 -2\n",
      "2 0\n",
      "3 -1\n",
      "4 -2\n",
      "3 0\n",
      "4 -1\n",
      "3 1\n",
      "4 0\n",
      "5 -1\n"
     ]
    }
   ],
   "source": [
    "# read the inputs\n",
    "t, d, n = map(int, input().split())\n",
    "\n",
    "# initialize the position rectangle\n",
    "posrect = (0, 0, 0, 0)\n",
    "\n",
    "# function to extend a rectangle by d\n",
    "def extend(rect, d):\n",
    "    minplus, maxplus, minminus, maxminus = rect\n",
    "    return [minplus - d, maxplus + d, minminus - d, maxminus + d]\n",
    "\n",
    "# function to find intersection of two rectangles\n",
    "def intersect(rect1, rect2):\n",
    "    ans = [max(rect1[0], rect2[0]),\n",
    "           min(rect1[1], rect2[1]),\n",
    "           max(rect1[2], rect2[2]),\n",
    "           min(rect1[3], rect2[3])]\n",
    "    return ans\n",
    "\n",
    "# iterate n times\n",
    "for _ in range(n):\n",
    "    # extend the position rectangle\n",
    "    posrect = extend(posrect, t)\n",
    "    # read the navigation coordinates\n",
    "    navx, navy = map(int, input().split())\n",
    "    # create navigation rectangle\n",
    "    navrect = extend((navx + navy, navx + navy, navx - navy, navx - navy), d)\n",
    "    # find intersection of position and navigation rectangles\n",
    "    posrect = intersect(posrect, navrect)\n",
    "\n",
    "# find all points within the position rectangle with even sum of x and y\n",
    "points = []\n",
    "for xplusy in range(posrect[0], posrect[1] + 1):\n",
    "    for xminusy in range(posrect[2], posrect[3] + 1):\n",
    "        if (xplusy + xminusy) % 2 == 0:\n",
    "            x = (xplusy + xminusy) // 2\n",
    "            y = xplusy - x\n",
    "            points.append((x, y))\n",
    "\n",
    "# print the output\n",
    "print(len(points))\n",
    "for point in points:\n",
    "    print(*point)"
   ]
  },
  {
   "cell_type": "markdown",
   "id": "c5e4de63-a959-494a-ad8e-04ca8d1f269d",
   "metadata": {},
   "source": [
    "#### Task 3. "
   ]
  },
  {
   "cell_type": "markdown",
   "id": "7df89874-0559-4cc4-8dad-e2961bb2afa0",
   "metadata": {},
   "source": [
    "One of the problems in deciphering the Mayan script is determining the order of symbols. When drawing symbols of a particular word, Mayan writers sometimes chose the positions for the symbols based more on aesthetic views than on specific rules. This has led to the fact that although the sounds for many symbols are known, archaeologists are not always sure how the written word should be pronounced.\n",
    "\n",
    "Archaeologists are looking for a certain word W. They know the symbols for it, but do not know all possible ways of arranging them. Since they know you will come to them, they will ask for your help. They will give you g symbols that make up the word W and the sequence S of all symbols in the inscription they are studying, in the order of their appearance. Help them count the number of possible occurrences of the word W.\n",
    "\n",
    "Task: Write a program that, given the symbols of the word W and the sequence S of symbols in the inscription, counts the total number of possible occurrences of the word W in S, i.e. the number of all different positions of g consecutive symbols in the sequence S, which are some permutation of the symbols of the word W."
   ]
  },
  {
   "cell_type": "code",
   "execution_count": 4,
   "id": "353ac503-718e-4719-a5bf-1ed31218e6a3",
   "metadata": {
    "tags": []
   },
   "outputs": [
    {
     "name": "stdin",
     "output_type": "stream",
     "text": [
      " 4 13\n",
      " test\n",
      " testetestbesttest\n"
     ]
    },
    {
     "name": "stdout",
     "output_type": "stream",
     "text": [
      "3\n"
     ]
    }
   ],
   "source": [
    "def make_dict(s):\n",
    "    \"\"\"\n",
    "    Create a dictionary of characters and their frequency count for the input string\n",
    "    \"\"\"\n",
    "    s_dict = {}\n",
    "    for c in s:\n",
    "        if c not in s_dict:\n",
    "            s_dict[c] = 0\n",
    "        s_dict[c] += 1\n",
    "    return s_dict\n",
    "\n",
    "\n",
    "def match_dicts(dict1, dict2):\n",
    "    \"\"\"\n",
    "    Calculate the number of matching characters in two dictionaries\n",
    "    \"\"\"\n",
    "    matches = 0\n",
    "    for c in dict1:\n",
    "        if c in dict2 and dict1[c] == dict2[c]:\n",
    "            matches += 1\n",
    "    return matches\n",
    "\n",
    "\n",
    "def modify_dict(s_dict, w_dict, symbol, count_modifier):\n",
    "    \"\"\"\n",
    "    Modify a dictionary by adding or subtracting the count of a given character\n",
    "    \"\"\"\n",
    "    ans = 0\n",
    "    if symbol not in s_dict:\n",
    "        s_dict[symbol] = 0\n",
    "    if symbol in w_dict and s_dict[symbol] == w_dict[symbol]:\n",
    "        ans -= 1\n",
    "    s_dict[symbol] += count_modifier\n",
    "    if symbol in w_dict and s_dict[symbol] == w_dict[symbol]:\n",
    "        ans = 1\n",
    "    return ans\n",
    "\n",
    "\n",
    "# Take input from the user\n",
    "len_w, len_s = map(int, input().split())\n",
    "w = input()\n",
    "s = input()\n",
    "\n",
    "# Create dictionaries for the input strings\n",
    "w_dict = make_dict(w)\n",
    "s_dict = make_dict(s[:len_w])\n",
    "\n",
    "# Calculate the initial number of matching characters\n",
    "matching_letters = match_dicts(w_dict, s_dict)\n",
    "\n",
    "# Count the number of occurrences of the word in the string\n",
    "occurrences = 0\n",
    "if matching_letters == len(w_dict):\n",
    "    occurrences += 1\n",
    "for i in range(len_w, len_s):\n",
    "    matching_letters += modify_dict(s_dict, w_dict, s[i - len_w], -1)\n",
    "    matching_letters += modify_dict(s_dict, w_dict, s[i], +1)\n",
    "    if matching_letters == len(w_dict):\n",
    "        occurrences += 1\n",
    "\n",
    "# Print the output\n",
    "print(occurrences)"
   ]
  },
  {
   "cell_type": "markdown",
   "id": "5fdd587b-b13c-4db6-bf31-5f241fb2ff52",
   "metadata": {},
   "source": [
    "The word \"test\" occurs three times in the string \"testetestbesttest\". "
   ]
  },
  {
   "cell_type": "markdown",
   "id": "638b0533-601a-4197-94c5-f2fbbdf8531b",
   "metadata": {},
   "source": [
    "#### Task 4. "
   ]
  },
  {
   "cell_type": "markdown",
   "id": "05378050-6cdb-46f2-ae08-6b0a5df0c4ea",
   "metadata": {},
   "source": [
    "The teacher gave Pete homework - to put stress marks in words in the given text, and then asked Vic to check this homework. Vic is not familiar with this topic very well, so he found a dictionary that shows how to put stress marks in words. Unfortunately, this dictionary does not contain all the words. Vic decided that in words that are not in the dictionary, he would consider that Pete put the stress mark correctly if Pete put exactly one stress mark in that word. It turned out that in some words the stress mark can be placed in more than one way. Vic decided that in this case, if the way Pete put the stress mark corresponds to one of the options given in the dictionary, he would count it as a correct placement of the stress mark, and if not, as a mistake.  \n",
    "\n",
    "You are given the dictionary that Vic used and the homework that Pete did. Your task is to determine the number of mistakes that Vic counted in this homework."
   ]
  },
  {
   "cell_type": "code",
   "execution_count": 6,
   "id": "053807b0-f69c-416f-82b4-5d56c5d773cc",
   "metadata": {
    "tags": []
   },
   "outputs": [
    {
     "name": "stdin",
     "output_type": "stream",
     "text": [
      " 4\n",
      " cAnnot\n",
      " cannOt\n",
      " fOund\n",
      " pAge\n",
      " thE pAge cAnnot be found\n"
     ]
    },
    {
     "name": "stdout",
     "output_type": "stream",
     "text": [
      "2\n"
     ]
    }
   ],
   "source": [
    "n = int(input())  # read number of words in dictionary\n",
    "dict_lower = {}  # create an empty dictionary to store lower-case words\n",
    "\n",
    "# loop through the words in the dictionary\n",
    "for _ in range(n):\n",
    "    s = input()\n",
    "    s_lower = s.lower()  # convert word to lower case\n",
    "    if s_lower not in dict_lower:  # if word not in dict, add it\n",
    "        dict_lower[s_lower] = set()\n",
    "    dict_lower[s_lower].add(s)  # add original word to the set of variants\n",
    "\n",
    "text = input()  # read text to be checked\n",
    "mistakes = 0  # initialize counter for mistakes\n",
    "\n",
    "# loop through the words in the text\n",
    "for word in text.split():\n",
    "    word_lower = word.lower()  # convert word to lower case\n",
    "    if word_lower in dict_lower:  # if word in dict\n",
    "        if word not in dict_lower[word_lower]:  # if word not in set of variants\n",
    "            mistakes += 1  # increment mistake counter\n",
    "    else:  # if word not in dict\n",
    "        stresses = 0\n",
    "        for c in word:\n",
    "            if c.isupper():  # count number of uppercase letters (assumed to be stress marks)\n",
    "                stresses += 1\n",
    "        if stresses != 1:  # if not exactly one stress mark\n",
    "            mistakes += 1  # increment mistake counter\n",
    "\n",
    "print(mistakes)  # print the number of mistakes"
   ]
  },
  {
   "cell_type": "markdown",
   "id": "d1851b27-2950-4c22-ade1-3ad895c00154",
   "metadata": {},
   "source": [
    "#### Task 5. "
   ]
  },
  {
   "cell_type": "markdown",
   "id": "3c248da4-dcd7-401e-88e2-e529a47af109",
   "metadata": {},
   "source": [
    "The first line contains the number N of keywords in the language (0 <= N <= 50) and two words C and D, each of which is either YES or NO. The word C is YES if identifiers and keywords in the language are case-sensitive and NO if they are not.   \n",
    "The next N lines contain one word each consisting of Latin letters and underscores - keywords. All keywords are non-empty and different, and if the language is not case-sensitive, they are also different without taking case into account. The length of each keyword does not exceed 50 characters.   \n",
    "Then, until the end of the input data, the program text follows. It contains only characters with ASCII codes from 32 to 126 and line breaks.  \n",
    "The input data size does not exceed 10 kilobytes. The program has at least one identifier.   \n",
    "\n",
    "Output the identifier that occurs in the program the maximum number of times. If there are several such identifiers, output the one that occurs first. If the language is case-insensitive in the input data, the identifier can be output in any case."
   ]
  },
  {
   "cell_type": "markdown",
   "id": "915ec80e-af4d-43f1-9f3d-a4a72e607bff",
   "metadata": {},
   "source": [
    "Test input:\n",
    "```0 yes no\n",
    "int main() {\n",
    "    int a;\n",
    "    int b;\n",
    "    scanf(\"%d%d\", &a, &b);\n",
    "    printf(\"%d\", a + b);\n",
    "}\n",
    "```\n",
    "\n",
    "Expected Output:  \n",
    "int"
   ]
  },
  {
   "cell_type": "code",
   "execution_count": 9,
   "id": "2ee5821b-787a-4cbc-a136-4818852acf30",
   "metadata": {
    "tags": []
   },
   "outputs": [
    {
     "name": "stdout",
     "output_type": "stream",
     "text": [
      "int\n"
     ]
    }
   ],
   "source": [
    "# Define a function to filter out non-letters, digits, and underscores from a given line\n",
    "def onlylettersdigitsandunderscore(line):\n",
    "    ans = []\n",
    "    for c in line:\n",
    "        if c.isalpha() or c.isdigit() or c == '_':\n",
    "            ans.append(c)\n",
    "        else:\n",
    "            ans.append(' ')\n",
    "    return ''.join(ans)\n",
    "\n",
    "# Define a function to check if a given word is a valid identifier, based on whether it is a digit or starts with a digit\n",
    "def iscorrect(word, stdigit):\n",
    "    if word.isdigit():\n",
    "        return False\n",
    "    if not word[0].isdigit() or stdigit:\n",
    "        return True\n",
    "    return False\n",
    "\n",
    "# Open the input file, read the first line to get the number of keywords and case sensitivity, and convert them to appropriate types\n",
    "fin = open('input.txt', 'r')\n",
    "n, casesens, stdigit = fin.readline().strip().split()\n",
    "n = int(n)\n",
    "casesens = casesens == 'yes'\n",
    "stdigit = stdigit == 'yes'\n",
    "\n",
    "# Create a set to store the keywords, and read them from the input file\n",
    "keywords = set()\n",
    "for _ in range(n):\n",
    "    keyword = fin.readline().strip()\n",
    "    if not casesens:\n",
    "        keyword = keyword.lower()\n",
    "    keywords.add(keyword)\n",
    "\n",
    "# Create a dictionary to store the number of occurrences and position of each valid identifier\n",
    "cntposids = {}\n",
    "wordnumber = 0\n",
    "\n",
    "# Read each line of the input file, filter out non-letters, digits, and underscores, split into words, and check if each word is a valid identifier\n",
    "for line in fin.readlines():\n",
    "    line = onlylettersdigitsandunderscore(line)\n",
    "    words = line.strip().split()\n",
    "    for word in words:\n",
    "        if not casesens:\n",
    "            word = word.lower()\n",
    "        if word in keywords:\n",
    "            continue\n",
    "        if iscorrect(word, stdigit):\n",
    "            wordnumber += 1\n",
    "            if word not in cntposids:\n",
    "                cntposids[word] = [0, wordnumber]\n",
    "            cntposids[word][0] += 1\n",
    "        \n",
    "# Find the valid identifier with the highest number of occurrences, breaking ties by choosing the one with the lowest position\n",
    "bestword = ''\n",
    "maxcntpos = [0, 0]\n",
    "for word in cntposids:\n",
    "    if cntposids[word][0] > maxcntpos[0]:\n",
    "        maxcntpos = cntposids[word]\n",
    "        bestword = word\n",
    "    if cntposids[word][0] == maxcntpos[0] and cntposids[word][1] < maxcntpos[1]:\n",
    "        maxcntpos = cntposids[word]\n",
    "        \n",
    "# Print the chosen valid identifier\n",
    "print(bestword)"
   ]
  }
 ],
 "metadata": {
  "kernelspec": {
   "display_name": "Python 3 (ipykernel)",
   "language": "python",
   "name": "python3"
  },
  "language_info": {
   "codemirror_mode": {
    "name": "ipython",
    "version": 3
   },
   "file_extension": ".py",
   "mimetype": "text/x-python",
   "name": "python",
   "nbconvert_exporter": "python",
   "pygments_lexer": "ipython3",
   "version": "3.7.11"
  }
 },
 "nbformat": 4,
 "nbformat_minor": 5
}

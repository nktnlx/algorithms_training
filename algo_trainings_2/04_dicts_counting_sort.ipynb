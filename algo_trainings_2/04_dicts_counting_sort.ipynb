{
 "cells": [
  {
   "cell_type": "markdown",
   "id": "131837a4-df14-4d57-9afb-048cd85534e1",
   "metadata": {},
   "source": [
    "# Algorithms by Yandex"
   ]
  },
  {
   "cell_type": "markdown",
   "id": "70ddfb4c-e9b2-4660-b6f5-1e0b9c695eeb",
   "metadata": {},
   "source": [
    "[youtube playlist](https://www.youtube.com/playlist?list=PL6Wui14DvQPySdPv5NUqV3i8sDbHkCKC5)"
   ]
  },
  {
   "cell_type": "markdown",
   "id": "ce6e56b2-d6c6-4bad-ac8d-f38173f9550f",
   "metadata": {},
   "source": [
    "## Lesson 4. Dictionaries, Counting sort"
   ]
  },
  {
   "cell_type": "markdown",
   "id": "8211cc41-4f2e-4b72-81d1-30a16aa03ac4",
   "metadata": {},
   "source": [
    "### Counting sort"
   ]
  },
  {
   "cell_type": "markdown",
   "id": "312fa753-a12f-4b0b-9df0-f5da18724880",
   "metadata": {},
   "source": [
    "What is counting sort:\n",
    "- Suppose we need to sort an array of N integers, each ranging from 0 to K.\n",
    "- The regular sorting will take O(NlogN) time.\n",
    "- We will count the occurrences of each number, and then output each number as many times as it appeared. This will take O(N+k) time and O(k) additional memory.\n",
    "- The range of values can be shifted so that it is not from 0 to K, but from the minimum to the maximum value in the array."
   ]
  },
  {
   "cell_type": "markdown",
   "id": "43175b15-c087-4178-8f2f-c5ecab4c9f53",
   "metadata": {},
   "source": [
    "*The function performs counting sort on the input sequence seq. It first determines the range of the values in the sequence and creates an array count for counting their occurrences. Then it loops through the sequence and updates the count array. Finally, it loops through the count array and updates the sequence with the sorted values. The function returns the sorted sequence. The example usage shows how to call the function with an example sequence.*"
   ]
  },
  {
   "cell_type": "code",
   "execution_count": 11,
   "id": "c8e2e125-3ee9-4e0a-8eb3-8a9e993071b3",
   "metadata": {
    "tags": []
   },
   "outputs": [
    {
     "data": {
      "text/plain": [
       "[1, 3, 4, 5, 5, 5]"
      ]
     },
     "execution_count": 11,
     "metadata": {},
     "output_type": "execute_result"
    }
   ],
   "source": [
    "def countsort(seq):\n",
    "    # Get the minimum and maximum values in the sequence.\n",
    "    minval = min(seq)\n",
    "    maxval = max(seq)\n",
    "    # Calculate the range of the values and create an array for counting their occurrences.\n",
    "    k = maxval - minval + 1\n",
    "    count = [0] * k\n",
    "    # Count the occurrences of each value in the sequence.\n",
    "    for now in seq:\n",
    "        count[now - minval] += 1\n",
    "    # Update the sequence with the sorted values based on the count array.\n",
    "    nowpos = 0\n",
    "    for val in range(0, k):\n",
    "        for i in range(count[val]):\n",
    "            seq[nowpos] = val + minval\n",
    "            nowpos += 1\n",
    "    # Return the sorted sequence.\n",
    "    return seq\n",
    "\n",
    "\n",
    "# Example usage\n",
    "countsort([5, 3, 4, 5, 1, 5])"
   ]
  },
  {
   "cell_type": "markdown",
   "id": "f7e34b0d-187d-47f9-85a0-64baa00f950e",
   "metadata": {},
   "source": [
    " #### Task 1. "
   ]
  },
  {
   "cell_type": "markdown",
   "id": "f6c14950-b30c-46e9-b3a4-06ecf1c2126d",
   "metadata": {},
   "source": [
    "Given two numbers X and Y without leading zeroes.  \n",
    "It is necessary to check if the first number can be obtained from the second by permuting its digits."
   ]
  },
  {
   "cell_type": "markdown",
   "id": "98116f0b-0814-4098-bb89-e7af2a261e2e",
   "metadata": {},
   "source": [
    "*The function checks whether the number X can be obtained from Y by permuting its digits. It first defines a helper function countdigits that counts the occurrences of each digit in a number. The function uses this helper function to count the occurrences of digits in both X and Y. Then, it compares the counts of each digit between X and Y. If they differ for any digit, it returns False, indicating that X cannot be obtained from Y by permuting digits. Otherwise, it returns True. The example usage shows how to call the function with an example pair of numbers.*"
   ]
  },
  {
   "cell_type": "code",
   "execution_count": 13,
   "id": "d4a51e8e-23c2-4638-9978-1b0a797a01cf",
   "metadata": {
    "tags": []
   },
   "outputs": [
    {
     "data": {
      "text/plain": [
       "True"
      ]
     },
     "execution_count": 13,
     "metadata": {},
     "output_type": "execute_result"
    }
   ],
   "source": [
    "def isdigitpermutation(x, y):\n",
    "    # Helper function to count the occurrences of each digit in a number.\n",
    "    def countdigits(num):\n",
    "        digitcount = [0] * 10\n",
    "        while num > 0:\n",
    "            lastdigit = num % 10\n",
    "            digitcount[lastdigit] += 1\n",
    "            num //= 10\n",
    "        return digitcount\n",
    "\n",
    "    # Count the occurrences of each digit in X and Y.\n",
    "    digitsx = countdigits(x)\n",
    "    digitsy = countdigits(y)\n",
    "    # Compare the digit counts to check if X can be obtained from Y by permuting digits.\n",
    "    for digit in range(10):\n",
    "        if digitsx[digit] != digitsy[digit]:\n",
    "            return False\n",
    "    return True\n",
    "\n",
    "\n",
    "# Example usage\n",
    "isdigitpermutation(2021, 1202)"
   ]
  },
  {
   "cell_type": "markdown",
   "id": "60c52ea5-0daf-4f78-8727-ea2bef07a321",
   "metadata": {},
   "source": [
    "#### Summary"
   ]
  },
  {
   "cell_type": "markdown",
   "id": "cb15cc53-66c3-4292-a192-d0f3907c0ecf",
   "metadata": {},
   "source": [
    "Counting sort is the best choice when the input is a sequence of integers with a small range of values. It has a time complexity of O(n+k), where n is the length of the input sequence and k is the range of the values in the sequence. It can be faster than other comparison-based sorting algorithms, such as quicksort or mergesort, which have a time complexity of O(n log n).\n",
    "\n",
    "Counting sort is particularly useful when the range of values is known and relatively small. For example, if you need to sort a list of test scores between 0 and 100, counting sort can be a very efficient sorting algorithm.\n",
    "\n",
    "However, counting sort requires extra memory to store the counting array, which can make it impractical for sorting large sequences or sequences with a large range of values. In such cases, it might be better to use a different sorting algorithm with a higher time complexity, such as quicksort or mergesort."
   ]
  },
  {
   "cell_type": "markdown",
   "id": "f926a188-c315-4af8-bda0-d9cd8254b1cf",
   "metadata": {},
   "source": [
    "### Dictionaries"
   ]
  },
  {
   "cell_type": "markdown",
   "id": "dc0fd37d-b2c8-4f39-b308-57ba24e40617",
   "metadata": {},
   "source": [
    "- A dictionary is like a set, but each key is associated with a value.\n",
    "- It's not possible to search a dictionary by value.\n",
    "- The time complexity of dictionary operations is noticeably higher than that of arrays, so where possible, it's better to use counting sort.\n",
    "- It's not reasonable to use counting sort when the data is sparse."
   ]
  },
  {
   "cell_type": "markdown",
   "id": "f1281865-8103-451e-a9c6-b0e9f5b400f3",
   "metadata": {},
   "source": [
    "#### Task 2."
   ]
  },
  {
   "cell_type": "markdown",
   "id": "38098625-2e9d-4a7a-9af5-00ce7e609e35",
   "metadata": {},
   "source": [
    "On an N x N chessboard, there are M rooks (a rook attacks squares on the same row or column until the first occupied square).  \n",
    "Determine how many pairs of rooks attack each other.  \n",
    "The rooks are represented by a pair of numbers I and J, indicating the coordinates of the square.\n",
    "\n",
    "1 <= N <= 10^9  \n",
    "0 <= M <= 2*10^5"
   ]
  },
  {
   "cell_type": "code",
   "execution_count": 15,
   "id": "62a824ee-2495-4864-ac7c-2f4a21e6d08f",
   "metadata": {
    "tags": []
   },
   "outputs": [
    {
     "name": "stdout",
     "output_type": "stream",
     "text": [
      "2\n"
     ]
    }
   ],
   "source": [
    "def countbeatingrooks(rookcoords):\n",
    "    # function to add a rook to a row or column\n",
    "    def addrook(roworcol, key):\n",
    "        if key not in roworcol:\n",
    "            roworcol[key] = 0\n",
    "        roworcol[key] += 1\n",
    "    \n",
    "    # function to count pairs of rooks in a row or column\n",
    "    def countpairs(roworcol):\n",
    "        pairs = 0\n",
    "        for key in roworcol:\n",
    "            # count pairs of rooks (two rooks make one pair)\n",
    "            pairs += roworcol[key] - 1\n",
    "        return pairs\n",
    "    \n",
    "    # initialize dictionaries to count rooks in each row and column\n",
    "    rooksinrow = {}\n",
    "    rooksincol = {}\n",
    "    \n",
    "    # count rooks in each row and column\n",
    "    for row, col in rookcoords:\n",
    "        addrook(rooksinrow, row)\n",
    "        addrook(rooksincol, col)\n",
    "    \n",
    "    # count pairs of beating rooks in each row and column\n",
    "    return countpairs(rooksinrow) + countpairs(rooksincol)\n",
    "\n",
    "\n",
    "# Example usage\n",
    "rookcoords = [(1, 1), (2, 2), (3, 1), (1, 3), (5, 5)]\n",
    "print(countbeatingrooks(rookcoords))"
   ]
  },
  {
   "cell_type": "markdown",
   "id": "5af7fed8-d9e4-4c90-af3b-f8154294476b",
   "metadata": {},
   "source": [
    "The function works as follows:\n",
    "\n",
    "1. It defines two helper functions, addrook and countpairs. addrook takes a dictionary roworcol and a key key, and adds the key to the dictionary with a value of 1 if the key does not already exist, or increments the value by 1 if the key already exists. countpairs takes a dictionary roworcol and counts the number of pairs of rooks that are in the same row or column.\n",
    "2. The function initializes two dictionaries rooksinrow and rooksincol to keep track of the rooks in each row and column, respectively.\n",
    "3. For each rook in the rookcoords list, the function adds the rook to the rooksinrow and rooksincol dictionaries using the addrook helper function.\n",
    "4. The function then calculates the number of pairs of rooks in the same row or column by calling the countpairs function on rooksinrow and rooksincol, and returns the sum of the two counts."
   ]
  },
  {
   "cell_type": "markdown",
   "id": "56d18ac8-68e8-4f8d-b799-f60873058fc1",
   "metadata": {},
   "source": [
    "#### Task 3. "
   ]
  },
  {
   "cell_type": "markdown",
   "id": "4ce9c28d-d0df-49ac-b710-7cb762b87493",
   "metadata": {},
   "source": [
    "Given a string S.  \n",
    "Print a histogram as in the example (character codes are sorted)."
   ]
  },
  {
   "cell_type": "code",
   "execution_count": 18,
   "id": "ca27c52e-dd41-4c17-b369-b544ce3bc6e8",
   "metadata": {
    "tags": []
   },
   "outputs": [
    {
     "name": "stdout",
     "output_type": "stream",
     "text": [
      "      #   \n",
      "      ##  \n",
      "##########\n",
      " !,Hdelorw\n"
     ]
    }
   ],
   "source": [
    "def printchar(s):\n",
    "    # dictionary to store symbol counts\n",
    "    symcount = {}\n",
    "    # variable to store maximum count of a single symbol\n",
    "    maxsymcount = 0\n",
    "    # iterate over each symbol in the string\n",
    "    for sym in s:\n",
    "        # if symbol is not in symcount, add it with count 0\n",
    "        if sym not in symcount:\n",
    "            symcount[sym] = 0\n",
    "        # increment the count of the current symbol\n",
    "        symcount[sym] += 1\n",
    "        # update maxsymcount if the current count is greater than the current max\n",
    "        maxsymcount = max(maxsymcount, symcount[sym])\n",
    "    # get a sorted list of unique symbols\n",
    "    sorteduniqsyms = sorted(symcount.keys())\n",
    "    # iterate over each row of the histogram\n",
    "    for row in range(maxsymcount, 0, -1):\n",
    "        # iterate over each symbol and print a # if its count is greater than or equal to the current row\n",
    "        for sym in sorteduniqsyms:\n",
    "            if symcount[sym] >= row:\n",
    "                print('#', end='')\n",
    "            else:\n",
    "                print(' ', end='')\n",
    "        # print a newline to start a new row\n",
    "        print()\n",
    "    # print the sorted list of unique symbols at the bottom of the histogram\n",
    "    print(''.join(sorteduniqsyms))\n",
    "    \n",
    "\n",
    "# Example usage    \n",
    "printchar('Hello, world!')"
   ]
  },
  {
   "cell_type": "markdown",
   "id": "5d557acb-331a-405f-8c1b-6e2d80f8dd76",
   "metadata": {},
   "source": [
    "Here is a breakdown of how the function works:\n",
    "\n",
    "1. symcount = {}: Create an empty dictionary to store the count of each character in the string.\n",
    "2. maxsymcount = 0: Initialize a variable to keep track of the maximum count of any character.\n",
    "3. for sym in s:: Loop over each character in the string.\n",
    "4. if sym not in symcount:: If the character is not already in the dictionary, add it and set the count to zero.\n",
    "5. symcount[sym] += 1: Increment the count of the character in the dictionary.\n",
    "6. maxsymcount = max(maxsymcount, symcount[sym]): Update the maximum count if necessary.\n",
    "7. sorteduniqsyms = sorted(symcount.keys()): Get a sorted list of the unique characters in the string.\n",
    "8. for row in range(maxsymcount, 0, -1):: Loop over the rows of the histogram, starting from the maximum count and going down to 1.\n",
    "9. for sym in sorteduniqsyms:: Loop over the characters in the sorted list.\n",
    "10. if symcount[sym] >= row:: If the count of the character is greater than or equal to the current row, print a '#' symbol.\n",
    "11. else:: Otherwise, print a space.\n",
    "12. print(): Print a newline character to move to the next row of the histogram.\n",
    "13. print(''.join(sorteduniqsyms)): Print the sorted list of characters at the bottom of the histogram.\n"
   ]
  },
  {
   "cell_type": "markdown",
   "id": "93f1ab8f-ef20-4fe8-bb74-f8df6af029f9",
   "metadata": {},
   "source": [
    "### Optimization"
   ]
  },
  {
   "cell_type": "markdown",
   "id": "00c5cd42-8176-4a63-857f-05967675f882",
   "metadata": {},
   "source": [
    "Criteria for algorithm quality:\n",
    "- Time to run\n",
    "- Memory usage\n",
    "- Time to code it\n",
    "- Maintainability complexity\n",
    "- Parallelization feasibility\n",
    "- Required employee expertise for maintenance\n",
    "- Cost of equipment"
   ]
  },
  {
   "cell_type": "markdown",
   "id": "a88cc22c-3602-44d1-b612-ccee3d686ea7",
   "metadata": {},
   "source": [
    "#### Task 4."
   ]
  },
  {
   "cell_type": "markdown",
   "id": "cb361f61-d1e8-49e9-95e8-b573fb66e825",
   "metadata": {},
   "source": [
    "Сгруппировать слова по общим буквам.  \n",
    "\n",
    "Sample input: ['eat', 'tea', 'tan', 'ate', 'nat', 'bat']  \n",
    "Sample output: [['ate', 'eat', 'tea'], ['nat', 'tan'], ['bat']]"
   ]
  },
  {
   "cell_type": "code",
   "execution_count": 22,
   "id": "c2a4d6f8-5ac9-4c59-8102-c80e25ccb444",
   "metadata": {
    "tags": []
   },
   "outputs": [
    {
     "data": {
      "text/plain": [
       "[['eat', 'tea', 'ate'], ['tan', 'nat'], ['bat']]"
      ]
     },
     "execution_count": 22,
     "metadata": {},
     "output_type": "execute_result"
    }
   ],
   "source": [
    "def groupwords(words):\n",
    "    # create an empty dictionary to store the groups\n",
    "    groups = {}\n",
    "    \n",
    "    # for each word in the list of words\n",
    "    for word in words:\n",
    "        # sort the letters of the word and join them back into a string\n",
    "        sortedword = ''.join(sorted(word))\n",
    "        \n",
    "        # if the sorted word is not in the groups dictionary, add it with an empty list\n",
    "        if sortedword not in groups:\n",
    "            groups[sortedword] = []\n",
    "        \n",
    "        # add the original word to the list of words for the corresponding sorted word\n",
    "        groups[sortedword].append(word)\n",
    "    \n",
    "    # create a list to store the final answer\n",
    "    ans = []\n",
    "    \n",
    "    # for each sorted word in the groups dictionary, append the list of words to the answer list\n",
    "    for sortedword in groups:\n",
    "        ans.append(groups[sortedword])\n",
    "    \n",
    "    # return the answer list\n",
    "    return ans\n",
    "\n",
    "\n",
    "# Example usage\n",
    "groupwords(['eat', 'tea', 'tan', 'ate', 'nat', 'bat'])"
   ]
  }
 ],
 "metadata": {
  "kernelspec": {
   "display_name": "Python 3 (ipykernel)",
   "language": "python",
   "name": "python3"
  },
  "language_info": {
   "codemirror_mode": {
    "name": "ipython",
    "version": 3
   },
   "file_extension": ".py",
   "mimetype": "text/x-python",
   "name": "python",
   "nbconvert_exporter": "python",
   "pygments_lexer": "ipython3",
   "version": "3.7.11"
  }
 },
 "nbformat": 4,
 "nbformat_minor": 5
}

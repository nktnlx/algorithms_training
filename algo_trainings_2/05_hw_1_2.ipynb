{
 "cells": [
  {
   "cell_type": "markdown",
   "id": "131837a4-df14-4d57-9afb-048cd85534e1",
   "metadata": {},
   "source": [
    "# Algorithms by Yandex"
   ]
  },
  {
   "cell_type": "markdown",
   "id": "70ddfb4c-e9b2-4660-b6f5-1e0b9c695eeb",
   "metadata": {},
   "source": [
    "[youtube playlist](https://www.youtube.com/playlist?list=PL6Wui14DvQPySdPv5NUqV3i8sDbHkCKC5)"
   ]
  },
  {
   "cell_type": "markdown",
   "id": "ce6e56b2-d6c6-4bad-ac8d-f38173f9550f",
   "metadata": {},
   "source": [
    "## Lessons 1 & 2. Hometasks"
   ]
  },
  {
   "cell_type": "markdown",
   "id": "36cbb556-ad98-4c3d-9d78-565b452293c2",
   "metadata": {},
   "source": [
    "### Lesson 1. "
   ]
  },
  {
   "cell_type": "markdown",
   "id": "6691c38d-b676-4e8d-80c3-46bba8bb8d6d",
   "metadata": {},
   "source": [
    "#### Task 1. "
   ]
  },
  {
   "cell_type": "markdown",
   "id": "a9c2ea21-e340-4414-bf63-f232e3d6a47f",
   "metadata": {},
   "source": [
    "Over many years of captivity, the prisoner of the castle created a rectangular hole in the wall with dimensions of D x E. The castle is built of bricks with dimensions of A x B x C. Determine whether the prisoner can throw the bricks into the sea through this hole if the sides of the brick must be parallel to the sides of the hole."
   ]
  },
  {
   "cell_type": "code",
   "execution_count": 1,
   "id": "64614499-5535-417f-8a64-99c21a1a6931",
   "metadata": {
    "tags": []
   },
   "outputs": [
    {
     "name": "stdin",
     "output_type": "stream",
     "text": [
      " 2\n",
      " 3\n",
      " 18\n",
      " 2\n",
      " 4\n"
     ]
    },
    {
     "name": "stdout",
     "output_type": "stream",
     "text": [
      "YES\n"
     ]
    }
   ],
   "source": [
    "def sort2(first, second):\n",
    "    if first < second:\n",
    "        return (first, second)\n",
    "    return (second, first)\n",
    "\n",
    "a, b, c, d, e = [int(input()) for _ in range(5)]\n",
    "\n",
    "a, b = sort2(a, b)\n",
    "b, c = sort2(b, c)\n",
    "a, b = sort2(a, b)\n",
    "d, e = sort2(d, e)\n",
    "\n",
    "if a <= d and b <=e:\n",
    "    print('YES')\n",
    "else:\n",
    "    print('NO')"
   ]
  },
  {
   "cell_type": "markdown",
   "id": "f9e9fe1d-7938-40c9-8f14-87b9d9d16626",
   "metadata": {
    "tags": []
   },
   "source": [
    "#### Task 2. "
   ]
  },
  {
   "cell_type": "markdown",
   "id": "83667576-f61e-4ce2-ae7f-3e76c832c7e4",
   "metadata": {},
   "source": [
    "At some cross-platform metro stations, trains from different directions arrive on opposite sides of the platform. Monica agreed to meet her friend at such a station, but since her friend came from a different time zone, she overslept by a lot and Monica had to wait for her for a long time. Trains always run precisely on schedule, and Monica knows that a train stands on the platform for exactly one minute, and the interval between trains (the time during which there is no train at the platform) is A minutes for trains on the first track and B minutes for trains on the second track. That is, a train arrives on the first track and stands for one minute, then there are no trains at the platform for A minutes, then the next train stands for one minute, and so on.\n",
    "\n",
    "While Monica was standing on the platform, she counted N trains on the first track and M trains on the second track. Determine the minimum and maximum time that Monica could have spent on the platform, or indicate that she definitely lost count.\n",
    "\n",
    "Monica observed all the trains she saw during the whole minute, that is, Monica does not come and does not leave the platform in the middle of the minute when the train is standing on the platform."
   ]
  },
  {
   "cell_type": "code",
   "execution_count": 5,
   "id": "8111e9e8-3463-4a67-901d-f128c3ab8baf",
   "metadata": {
    "tags": []
   },
   "outputs": [
    {
     "name": "stdin",
     "output_type": "stream",
     "text": [
      " 1\n",
      " 2\n",
      " 3\n",
      " 6\n"
     ]
    },
    {
     "name": "stdout",
     "output_type": "stream",
     "text": [
      "11 11\n"
     ]
    }
   ],
   "source": [
    "a, b, m, n = [int(input()) for _ in range(4)]\n",
    "\n",
    "min1 = (a + 1) * (n - 1) + 1\n",
    "max1 = (a + 1) * (n - 1) + 1 + 2 * a\n",
    "min2 = (b + 1) * (m - 1) + 1\n",
    "max2 = (b + 1) * (m - 1) + 1 + 2 * b\n",
    "\n",
    "minans = max(min1, min2)\n",
    "maxans = min(max1, max2)\n",
    "\n",
    "if maxans < minans:\n",
    "    print(-1)\n",
    "else:\n",
    "    print(minans, maxans)"
   ]
  },
  {
   "cell_type": "markdown",
   "id": "4d7f2fb7-c8c3-47a0-bbe7-030091ac4e1e",
   "metadata": {},
   "source": [
    "#### Task 3. "
   ]
  },
  {
   "cell_type": "markdown",
   "id": "d850ef8d-e276-4e62-a1c2-15ef5288fd14",
   "metadata": {},
   "source": [
    "An ambulance crew was called out to one of the remote areas. Unfortunately, when the dispatcher received the call, he only had time to write down the house address and apartment number K1, and then the communication was lost. However, he remembered that some time ago, an ambulance was called to apartment K2 located in entrance P2 on the floor N2 at the same address. It is known that there are M floors in the building, and the number of apartments on each landing is the same. Write a program that calculates the entrance number P1 and the floor number N1 of the apartment K1.\n",
    "\n",
    "All numbers are less than or equal to 10^6."
   ]
  },
  {
   "cell_type": "code",
   "execution_count": 12,
   "id": "99c0fa5f-ad54-4dee-b3fb-d32578eaab79",
   "metadata": {
    "tags": []
   },
   "outputs": [],
   "source": [
    "def getentranceandfloor(flatno, flatsonfloor, floors):\n",
    "    floorsbefore = (flatno - 1) // flatsonfloor\n",
    "    entrance = floorsbefore // floors + 1\n",
    "    floor = floorsbefore % floors + 1\n",
    "    return entrance, floor\n",
    "\n",
    "def check(k1, m, k2, p2, n2, flatsonfloor):\n",
    "    entrance2, floor2 = getentranceandfloor(k2, flatsonfloor, m)\n",
    "    if entrance2 == p2 and floor2 == n2:\n",
    "        return getentranceandfloor(k1, flatsonfloor, m)\n",
    "    return -1, -1\n",
    "\n",
    "def slow(k1, m, k2, p2, n2):\n",
    "    ent = -1\n",
    "    floor = -1\n",
    "    goodflag = False\n",
    "    for flatsonfloor in range(1, maxrandval + 1):\n",
    "        nent, nfloor = check(k1, m, k2, p2, n2, flatsonfloor)\n",
    "        if nent != -1:\n",
    "            goodflag = True\n",
    "            if ent == -1:\n",
    "                ent, floor = nent, nfloor\n",
    "            elif ent != nent and ent !=0:\n",
    "                ent = 0\n",
    "            elif floor != nfloor and floor != 0:\n",
    "                floor = 0\n",
    "    if goodflag:\n",
    "        return (ent, floor)\n",
    "    else:\n",
    "        return (-1, -1)"
   ]
  },
  {
   "cell_type": "code",
   "execution_count": 13,
   "id": "7653cfc9-bea8-40fc-87e4-8d66962cde41",
   "metadata": {
    "tags": []
   },
   "outputs": [],
   "source": [
    "def fast(k1, m, k2, p2, n2):\n",
    "    f2 = (p2 - 1) * m + n2\n",
    "    if f2 == 1:\n",
    "        if k1 <= k2:\n",
    "            return (1, 1)\n",
    "        elif m == 1:\n",
    "            return (0, 1)\n",
    "        else:\n",
    "            return (0, 0)\n",
    "    else:\n",
    "        onfmax = (k2 + f2 - 2) // (f2 - 1) - 1\n",
    "        onfmin = (k2 + f2 - 1) // f2\n",
    "        if onfmax < onfmin:\n",
    "            return (-1, -1)\n",
    "        else:\n",
    "            f1min = (k1 - 1) // onfmax + 1\n",
    "            f1max = (k1 - 1) // onfmin + 1\n",
    "            p1min = (f1min - 1) // m + 1\n",
    "            p1max = (f1max - 1) // m + 1\n",
    "            n1min = (f1min - 1) % m + 1\n",
    "            n1max = (f1max - 1) % m + 1\n",
    "            if p1min == p1max and n1min == n1max:\n",
    "                return (p1min, n1min)\n",
    "            elif p1min == p1max:\n",
    "                return (p1min, 0)\n",
    "            elif n1min == n1max:\n",
    "                return (0, n1min)        "
   ]
  },
  {
   "cell_type": "code",
   "execution_count": 14,
   "id": "d228c70e-b121-4f58-bf56-72dee6a3563d",
   "metadata": {
    "tags": []
   },
   "outputs": [
    {
     "name": "stdout",
     "output_type": "stream",
     "text": [
      "7 10 3 7 10\n",
      "OK\n",
      "9 10 1 2 3\n",
      "OK\n",
      "7 6 10 6 10\n",
      "OK\n",
      "4 2 8 6 10\n",
      "OK\n",
      "3 8 7 10 6\n",
      "OK\n",
      "2 1 3 8 2\n",
      "OK\n",
      "10 8 7 1 6\n",
      "OK\n",
      "1 6 2 10 1\n",
      "OK\n",
      "7 2 8 1 2\n",
      "OK\n",
      "4 2 4 3 10\n",
      "OK\n",
      "9 2 7 2 10\n",
      "OK\n",
      "3 2 5 7 10\n",
      "OK\n",
      "1 2 1 9 3\n",
      "OK\n",
      "4 3 4 8 8\n",
      "OK\n",
      "9 1 7 6 3\n",
      "OK\n",
      "5 9 6 5 1\n",
      "OK\n",
      "8 8 3 2 4\n",
      "OK\n",
      "2 10 6 5 4\n",
      "OK\n",
      "3 4 2 2 9\n",
      "OK\n",
      "6 6 8 6 9\n",
      "OK\n",
      "7 6 1 6 1\n",
      "OK\n",
      "7 5 9 8 6\n",
      "OK\n",
      "5 2 1 2 4\n",
      "OK\n",
      "10 3 2 1 2\n",
      "OK\n",
      "2 5 3 1 10\n",
      "OK\n",
      "1 6 6 1 4\n",
      "OK\n",
      "5 10 3 6 4\n",
      "OK\n",
      "5 9 3 3 5\n",
      "OK\n",
      "2 3 6 9 3\n",
      "OK\n",
      "5 2 6 5 10\n",
      "OK\n",
      "10 6 1 8 8\n",
      "OK\n",
      "4 3 3 1 9\n",
      "OK\n",
      "4 4 8 9 10\n",
      "OK\n",
      "4 10 1 3 1\n",
      "OK\n",
      "9 4 5 9 2\n",
      "OK\n",
      "4 8 5 8 10\n",
      "OK\n",
      "7 3 7 7 6\n",
      "OK\n",
      "4 5 2 10 10\n",
      "OK\n",
      "2 6 1 2 10\n",
      "OK\n",
      "9 9 2 9 3\n",
      "OK\n",
      "2 10 5 1 8\n",
      "OK\n",
      "8 7 6 3 7\n",
      "OK\n",
      "4 3 4 10 1\n",
      "OK\n",
      "7 8 7 2 3\n",
      "OK\n",
      "5 1 10 10 1\n",
      "OK\n",
      "10 2 10 2 9\n",
      "OK\n",
      "1 4 1 5 6\n",
      "OK\n",
      "1 3 3 6 6\n",
      "OK\n",
      "1 7 6 8 3\n",
      "OK\n",
      "6 3 9 2 1\n",
      "OK\n",
      "1 6 9 4 5\n",
      "OK\n",
      "4 8 10 7 2\n",
      "OK\n",
      "9 3 10 9 2\n",
      "OK\n",
      "3 5 2 2 5\n",
      "OK\n",
      "2 5 10 7 2\n",
      "OK\n",
      "1 4 6 7 6\n",
      "OK\n",
      "1 10 10 6 10\n",
      "OK\n",
      "4 6 7 9 1\n",
      "OK\n",
      "9 2 1 3 3\n",
      "OK\n",
      "4 3 4 1 7\n",
      "OK\n",
      "2 3 7 4 10\n",
      "OK\n",
      "10 4 1 3 1\n",
      "OK\n",
      "6 6 3 8 3\n",
      "OK\n",
      "8 8 1 8 1\n",
      "OK\n",
      "6 8 2 2 5\n",
      "OK\n",
      "7 4 3 2 10\n",
      "OK\n",
      "7 3 8 7 4\n",
      "OK\n",
      "6 10 1 8 9\n",
      "OK\n",
      "4 3 1 6 1\n",
      "OK\n",
      "4 1 3 2 3\n",
      "OK\n",
      "4 6 5 6 4\n",
      "OK\n",
      "2 6 2 1 2\n",
      "OK\n",
      "1 3 8 10 9\n",
      "OK\n",
      "7 1 2 3 7\n",
      "OK\n",
      "1 8 4 8 4\n",
      "OK\n",
      "5 10 5 8 9\n",
      "OK\n",
      "6 6 1 10 3\n",
      "OK\n",
      "7 6 1 7 7\n",
      "OK\n",
      "9 7 7 2 7\n",
      "OK\n",
      "5 6 8 9 1\n",
      "OK\n",
      "2 2 10 5 7\n",
      "OK\n",
      "7 3 4 4 1\n",
      "OK\n",
      "1 3 4 5 8\n",
      "OK\n",
      "1 9 1 1 4\n",
      "OK\n",
      "10 10 9 9 10\n",
      "OK\n",
      "7 7 8 9 8\n",
      "OK\n",
      "2 2 4 9 5\n",
      "OK\n",
      "8 5 9 2 9\n",
      "OK\n",
      "7 7 6 7 6\n",
      "OK\n",
      "4 6 5 1 8\n",
      "OK\n",
      "4 5 6 8 7\n",
      "OK\n",
      "8 3 6 8 1\n",
      "OK\n",
      "1 8 6 9 3\n",
      "OK\n",
      "4 8 7 3 5\n",
      "OK\n",
      "7 2 1 1 4\n",
      "OK\n",
      "7 9 2 10 8\n",
      "OK\n",
      "1 2 3 1 5\n",
      "OK\n",
      "10 2 3 1 3\n",
      "WA (5, 2) (-1, -1)\n"
     ]
    }
   ],
   "source": [
    "# how to test your solution\n",
    "import random\n",
    "\n",
    "\n",
    "maxrandval = 10\n",
    "while True:\n",
    "    randvals = [0] * 5\n",
    "    for i in range(5):\n",
    "        randvals[i] = random.randint(1, maxrandval)\n",
    "    k1, m, k2, p2, n2 = randvals\n",
    "    slowans = slow(k1, m, k2, p2, n2)\n",
    "    fastans = fast(k1, m, k2, p2, n2)\n",
    "    print(*randvals)\n",
    "    if slowans == fastans:\n",
    "        print('OK')\n",
    "    else:\n",
    "        print('WA', fastans, slowans)\n",
    "        break"
   ]
  },
  {
   "cell_type": "markdown",
   "id": "9ef56b77-6f13-4768-a650-c683324744db",
   "metadata": {},
   "source": [
    "### Lesson 2. "
   ]
  },
  {
   "cell_type": "markdown",
   "id": "abb6ded5-286d-4835-99da-004e5618d633",
   "metadata": {},
   "source": [
    "#### Task 1. "
   ]
  },
  {
   "cell_type": "markdown",
   "id": "c3b89e50-b76d-455c-bf88-ff9551166b9f",
   "metadata": {},
   "source": [
    "Symmetric sequence. A sequence of numbers is called symmetric if it can be read the same way from left to right and from right to left. For example, the following sequences are symmetric: \n",
    "- 1 2 3 4 5 4 3 2 1\n",
    "- 1 2 1 2 2 1 2 1\n",
    "\n",
    "Your program will be given a sequence of numbers. You need to determine the minimum number of elements and what numbers need to be added to the end of the sequence to make it symmetric.\n",
    "\n",
    "The length of the sequence is up to 100."
   ]
  },
  {
   "cell_type": "code",
   "execution_count": 19,
   "id": "b2e8e524-752f-4f5b-98d0-11368de89db9",
   "metadata": {
    "tags": []
   },
   "outputs": [
    {
     "name": "stdout",
     "output_type": "stream",
     "text": [
      "0\n",
      "\n"
     ]
    }
   ],
   "source": [
    "# define function called slow with parameter seq\n",
    "def slow(seq):\n",
    "    # iterate through all possible starting indices of the sequence\n",
    "    for start in range(len(seq)):\n",
    "        i = start\n",
    "        j = len(seq) - 1\n",
    "        # check if the current segment is a palindrome\n",
    "        while i < len(seq) and j >= 0 and seq[i] == seq[j] and i <= j:\n",
    "            i += 1\n",
    "            j -= 1\n",
    "        # if the entire sequence is a palindrome\n",
    "        if i > j:\n",
    "            # construct the prefix to make the sequence symmetric\n",
    "            ans = []\n",
    "            for i in range(start - 1, -1, -1):\n",
    "                ans.append(seq[i])\n",
    "            # return the prefix\n",
    "            return ans\n",
    "        \n",
    "    \n",
    "# call the slow function with a specific sequence and store the result in ans\n",
    "ans = slow([1, 2, 1, 3, 1, 2, 1, 4, 1, 2, 1, 3, 1, 2, 1])\n",
    "\n",
    "# print the length and values of the returned prefix\n",
    "print(len(ans))\n",
    "print(*ans)"
   ]
  },
  {
   "cell_type": "markdown",
   "id": "ce672cee-a834-4b8e-ae87-0c095bb55f01",
   "metadata": {},
   "source": [
    "The function slow(seq) takes a list of integers seq as its argument. The function tries to find the shortest prefix of the given sequence that, when added to the end of the sequence, will make the entire sequence symmetric. The function iterates through all possible starting indices of the sequence, and for each starting index, it checks if the segment from that index to the end of the sequence is a palindrome. If it is, the function constructs the prefix that needs to be added to the end of the sequence to make it symmetric and returns it.\n",
    "\n",
    "The prefix is constructed by iterating from the starting index backwards and appending the values to a list. Finally, the function returns the list of integers that forms the prefix."
   ]
  },
  {
   "cell_type": "markdown",
   "id": "e6e91740-5615-4c47-ba52-f3165e53460f",
   "metadata": {},
   "source": [
    "#### Task 2. "
   ]
  },
  {
   "cell_type": "markdown",
   "id": "9800222b-0b88-4879-af00-c2c3366918b9",
   "metadata": {},
   "source": [
    "The largest product of three numbers.  \n",
    "In this list of n <= 10^5 integers, find three numbers whose product is maximal.  \n",
    "The solution should have a complexity of O(N), where N is the size of the list.  \n",
    "Print the three numbers in any order."
   ]
  },
  {
   "cell_type": "code",
   "execution_count": 25,
   "id": "dd31d990-f999-4f0e-9403-03589ff99279",
   "metadata": {
    "tags": []
   },
   "outputs": [
    {
     "name": "stdin",
     "output_type": "stream",
     "text": [
      " -7 -3 0 1 2 1 0 0 1\n"
     ]
    },
    {
     "name": "stdout",
     "output_type": "stream",
     "text": [
      "42\n"
     ]
    }
   ],
   "source": [
    "def kth_rearrange(seq, left, right, k):\n",
    "    left = 0\n",
    "    right = len(seq) - 1\n",
    "    while left < right:\n",
    "        x = seq[(right + left) // 2]  # middle element of the sub-sequence\n",
    "        eqxfirst = left               # index of the first equal element\n",
    "        gtxfirst = left               # index of the first greater element\n",
    "        for i in range(left, right + 1):\n",
    "            now = seq[i]\n",
    "            if now == x:\n",
    "                seq[i] = seq[gtxfirst]\n",
    "                seq[gtxfirst] = now\n",
    "                gtxfirst += 1\n",
    "            elif now < x:\n",
    "                seq[i] = seq[gtxfirst]\n",
    "                seq[gtxfirst] = seq[eqxfirst]\n",
    "                seq[eqxfirst] = now\n",
    "                gtxfirst += 1\n",
    "                eqxfirst += 1\n",
    "        if k < eqxfirst:\n",
    "            right = eqxfirst - 1   # adjust right boundary\n",
    "        elif k >= gtxfirst:\n",
    "            left = gtxfirst        # adjust left boundary\n",
    "        else:\n",
    "            return                 # kth element is found\n",
    "        \n",
    "seq = list(map(int, input().split()))\n",
    "kth_rearrange(seq, 0, len(seq), len(seq) - 1)\n",
    "kth_rearrange(seq, 0, len(seq) - 1, len(seq) - 2)\n",
    "kth_rearrange(seq, 0, len(seq) - 3, 2)\n",
    "\n",
    "if seq[-1] * seq[-2] * seq[-3] >= seq[-1] * seq[0] * seq[1]:\n",
    "    print(seq[-1] * seq[-2] * seq[-3])\n",
    "else:\n",
    "    print(seq[-1] * seq[0] * seq[1])"
   ]
  },
  {
   "cell_type": "markdown",
   "id": "d310b23a-c034-4297-ace4-903bb5710f2d",
   "metadata": {},
   "source": [
    "Step by step how it works:\n",
    "- The kth_rearrange function uses the binary search approach to find the k-th smallest element in the sequence.\n",
    "- left and right arguments of kth_rearrange initially define the range of the sub-sequence to search in.\n",
    "- In each iteration, the middle element of the sub-sequence is determined as x by calculating the average of the left and right indices.\n",
    "- Then the sequence is rearranged in such a way that all elements smaller than x are put before all elements greater than x, and all elements equal to x are in between.\n",
    "- The rearrangement is done by iterating through the sub-sequence, keeping track of the first equal and first greater elements using eqxfirst and gtxfirst indices respectively.\n",
    "- If the k-th smallest element is found to be smaller than the first equal element, the search is narrowed to the left half of the sub-sequence by adjusting the right boundary. If it is greater than or equal to the first greater element, the search is narrowed to the right half by adjusting the left boundary.\n",
    "- If the k-th smallest element falls between the first equal and first greater elements, it has been found and the function returns.\n",
    "- The function assumes that the k argument is within the range of the sub-sequence.\n",
    "- The main program parses the input as a list of integers and then uses the kth_rearrange() function to find the 2nd and 3rd largest elements in the list. \n",
    "- Finally, the program calculates the maximum product of three elements in the list and prints the result."
   ]
  },
  {
   "cell_type": "markdown",
   "id": "1c3db57c-d657-44d8-99e7-d1930c93412e",
   "metadata": {},
   "source": [
    "#### Task 3. "
   ]
  },
  {
   "cell_type": "markdown",
   "id": "5835dd41-f54f-47e1-8820-b3fbebaf13a3",
   "metadata": {},
   "source": [
    "Minesweeper. You need to build a field for the \"Minesweeper\" game based on its configuration - the dimensions and coordinates of the placed mines.  \n",
    "Here are the rules for constructing a field for the game:\n",
    "- the field consists of cells with mines and empty cells\n",
    "- cells with mines are denoted by the symbol \"*\"\n",
    "- empty cells contain the number Kij, 0 <= Kij <= 8 - the number of mines on adjacent cells. Adjacent cells are the eight cells that have a common corner or side."
   ]
  },
  {
   "cell_type": "code",
   "execution_count": 32,
   "id": "5ed7c198-d6ea-421a-9746-08ebfa53746c",
   "metadata": {
    "tags": []
   },
   "outputs": [
    {
     "name": "stdin",
     "output_type": "stream",
     "text": [
      " 5 5 3\n",
      " 2 2\n",
      " 3 3\n",
      " 4 4\n"
     ]
    },
    {
     "name": "stdout",
     "output_type": "stream",
     "text": [
      "\n",
      "0 0 0 0 0 \n",
      "0 1 0 0 0 \n",
      "0 0 1 0 0 \n",
      "0 0 0 1 0 \n",
      "0 0 0 0 0 \n"
     ]
    }
   ],
   "source": [
    "def makefield(n, m, mines):\n",
    "    # Define the coordinates of the surrounding cells\n",
    "    dx = (-1, -1, -1, 0, 0, 1, 1, 1)\n",
    "    dy = (-1, 0, 1, -1, 1, -1, 0, 1)\n",
    "\n",
    "    # Create an empty field\n",
    "    field = []\n",
    "    for k in range(n + 2):\n",
    "        field.append([0] * (m + 2))\n",
    "\n",
    "    # Place mines and count adjacent mines\n",
    "    for minei, minej in mines:\n",
    "        for k in range(len(dx)):\n",
    "            field[minei + dx[k]][minej + dy[k]] + 1\n",
    "        field[minei][minej] = 1\n",
    "\n",
    "    return field\n",
    "\n",
    "\n",
    "n, m, k = map(int, input().split())\n",
    "mines = []\n",
    "for i in range(k):\n",
    "    mines.append(tuple(map(int, input().split())))\n",
    "\n",
    "field = makefield(n, m, mines)\n",
    "\n",
    "# Print the field\n",
    "print()\n",
    "for i in range(1, n + 1):\n",
    "    for j in range(1, m + 1):\n",
    "        print(field[i][j], end=' ')\n",
    "    print()"
   ]
  },
  {
   "cell_type": "markdown",
   "id": "e942732c-6dc3-482f-99c8-918b0cb760f5",
   "metadata": {},
   "source": [
    "The makefield function takes three arguments:\n",
    "- n: the number of rows in the field\n",
    "- m: the number of columns in the field\n",
    "- mines: a list of tuples representing the coordinates of the mines\n",
    "\n",
    "The function creates an empty field with dimensions (n+2) x (m+2). The additional rows and columns are created to simplify the logic when checking the neighbors of the cells on the edges of the field. The dx and dy variables are used to represent the coordinates of the surrounding cells (including diagonals). For each mine in the mines list, the function adds 1 to the count of each adjacent cell and sets the mine itself to the * symbol.  \n",
    "\n",
    "The main program reads the input values and creates the mines list of tuples. It then calls the makefield function to create the field and store it in the field variable. Finally, the program prints the contents of the field matrix. The nested for loops are used to iterate over the cells in the field and print them one at a time. The end=' ' argument is used to separate the cells with a space, and print() is called after each row to move to the next line."
   ]
  },
  {
   "cell_type": "markdown",
   "id": "5a66e01d-10bf-4bc7-ba7a-f320aa2ba2c2",
   "metadata": {},
   "source": [
    "#### Task 4. "
   ]
  },
  {
   "cell_type": "markdown",
   "id": "28dc8959-d864-4d69-bb35-b262f87b9f88",
   "metadata": {},
   "source": [
    "Max has a professional musical tuner that can play a note with a given frequency. Max acts as follows: he turns on notes with different frequencies on the tuner and for each note, he determines by ear whether it is closer or farther from the sound produced by the instrument than the previous note. Since Max has perfect pitch, he always determines this absolutely correctly.\n",
    "\n",
    "Max showed you a record in which a sequence of frequencies set by him on the tuner is given, and for each note, starting with the second, it is recorded whether it is closer or farther from the sound of the instrument than the previous note. It is known in advance that the instrument's sound frequency is not less than 30 Hz and not more than 4000 Hz.\n",
    "\n",
    "You need to write a program that determines in which range the frequency of the sound of the musical instrument may be."
   ]
  },
  {
   "cell_type": "code",
   "execution_count": 51,
   "id": "cddf9238-8c7a-4ea1-b74b-df964fbedff1",
   "metadata": {
    "tags": []
   },
   "outputs": [
    {
     "name": "stdin",
     "output_type": "stream",
     "text": [
      " 5\n",
      " 30\n",
      " 1600 'closer'\n",
      " 800 'further'\n",
      " 1000 'closer'\n",
      " 500 'further'\n"
     ]
    },
    {
     "name": "stdout",
     "output_type": "stream",
     "text": [
      "815.0 1200.0\n"
     ]
    }
   ],
   "source": [
    "left = 30  # set the minimum frequency range\n",
    "right = 4000  # set the maximum frequency range\n",
    "n = int(input())  # take the number of notes in the sequence as input\n",
    "prev = float(input())  # take the first note's frequency as input and store it as previous\n",
    "\n",
    "for i in range(n - 1):  # loop through the remaining notes in the sequence\n",
    "    f, s = input().strip().split()  # read the note's frequency and the relative position (closer/farther)\n",
    "    now = float(f)  # convert the note's frequency to float and store it as current\n",
    "    if abs(now - prev) < 10**(-6):  # if the current and previous note have the same frequency (within a tolerance of 10^-6), skip the iteration\n",
    "        continue\n",
    "    if s == 'closer':  # if the note is closer to the instrument's sound\n",
    "        if now > prev:  # if the note is higher in frequency than the previous note\n",
    "            left = max(left, (now + prev) / 2)  # update the minimum frequency range by setting it to the average of the current and previous note's frequency\n",
    "        else:\n",
    "            right = min(right, (now + prev) / 2)  # update the maximum frequency range by setting it to the average of the current and previous note's frequency\n",
    "    else:  # if the note is farther from the instrument's sound\n",
    "        if now < prev:  # if the note is lower in frequency than the previous note\n",
    "            left = max(left, (now + prev) / 2)  # update the minimum frequency range by setting it to the average of the current and previous note's frequency\n",
    "        else:\n",
    "            right = min(right, (now + prev) / 2)  # update the maximum frequency range by setting it to the average of the current and previous note's frequency\n",
    "    prev = now  # set the current note as the previous note for the next iteration\n",
    "\n",
    "print(*sorted([left, right]))"
   ]
  },
  {
   "cell_type": "markdown",
   "id": "d2d6952e-4de8-4ac6-8503-7116d6979ff9",
   "metadata": {},
   "source": [
    "The program reads the number of frequencies n and the first frequency prev from the user. Then, for each of the remaining n-1 frequencies, it reads the current frequency now and whether it's \"closer\" or \"further\" from the instrument sound than the previous frequency.\n",
    "\n",
    "Based on this information, the program updates the range of possible frequencies using binary search. If the current frequency is closer to the instrument sound than the previous frequency, the program narrows the range by setting the left endpoint to the maximum of the current left endpoint and the average of the current and previous frequencies, or sets the right endpoint to the minimum of the current right endpoint and the average of the current and previous frequencies. If the current frequency is further from the instrument sound than the previous frequency, the program narrows the range by setting the left endpoint to the maximum of the current left endpoint and the average of the current and previous frequencies, or sets the right endpoint to the minimum of the current right endpoint and the average of the current and previous frequencies.\n",
    "\n",
    "At the end of the loop, the program sets prev to the current frequency and moves on to the next iteration of the loop. Finally, the program outputs the range of possible frequencies, which is the interval between left and right."
   ]
  }
 ],
 "metadata": {
  "kernelspec": {
   "display_name": "Python 3 (ipykernel)",
   "language": "python",
   "name": "python3"
  },
  "language_info": {
   "codemirror_mode": {
    "name": "ipython",
    "version": 3
   },
   "file_extension": ".py",
   "mimetype": "text/x-python",
   "name": "python",
   "nbconvert_exporter": "python",
   "pygments_lexer": "ipython3",
   "version": "3.7.11"
  }
 },
 "nbformat": 4,
 "nbformat_minor": 5
}

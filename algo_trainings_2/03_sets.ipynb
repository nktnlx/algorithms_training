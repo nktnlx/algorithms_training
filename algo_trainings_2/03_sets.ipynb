{
 "cells": [
  {
   "cell_type": "markdown",
   "id": "131837a4-df14-4d57-9afb-048cd85534e1",
   "metadata": {},
   "source": [
    "# Algorithms by Yandex"
   ]
  },
  {
   "cell_type": "markdown",
   "id": "70ddfb4c-e9b2-4660-b6f5-1e0b9c695eeb",
   "metadata": {},
   "source": [
    "[youtube playlist](https://www.youtube.com/playlist?list=PL6Wui14DvQPySdPv5NUqV3i8sDbHkCKC5)"
   ]
  },
  {
   "cell_type": "markdown",
   "id": "ce6e56b2-d6c6-4bad-ac8d-f38173f9550f",
   "metadata": {},
   "source": [
    "## Lesson 3. Sets"
   ]
  },
  {
   "cell_type": "markdown",
   "id": "81213e22-85cf-4c46-882e-a02e752923fa",
   "metadata": {},
   "source": [
    "### What are sets"
   ]
  },
  {
   "cell_type": "markdown",
   "id": "f76baf22-7575-4e25-a013-4c2a7e8a4fa0",
   "metadata": {},
   "source": [
    "There is no order in elements in a set.   \n",
    "What a set should be able to do:\n",
    "- Add an element\n",
    "- Check for the presence of an element\n",
    "- Remove an element"
   ]
  },
  {
   "cell_type": "markdown",
   "id": "fa6dfccd-769e-423b-8657-12d5fd3b577f",
   "metadata": {},
   "source": [
    "How a set is structured:\n",
    "- Come up with some function that maps each element to a small number\n",
    "- Calculate the function of the element\n",
    "- Put the element in a list with a number equal to the value of the function"
   ]
  },
  {
   "cell_type": "markdown",
   "id": "54059198-730c-486f-9766-53174e828b9b",
   "metadata": {},
   "source": [
    "Example of an add function for numbers (hash function):\n",
    "- Function - the last digit of number X (i.e. F(X) = X % 10)\n",
    "- Calculate the function of the element\n",
    "- Put the element in a list with a number equal to the value of the function"
   ]
  },
  {
   "cell_type": "markdown",
   "id": "7b200188-287a-4353-b91a-91ac52d0f9b0",
   "metadata": {},
   "source": [
    "If we have a collision (two different numbers have the same hash), then we create a list of such numbers with the same hash."
   ]
  },
  {
   "cell_type": "markdown",
   "id": "ebcb5ebe-f2b6-44fb-9c99-d6e85eabfbf2",
   "metadata": {},
   "source": [
    "We use a simple linear search to look for an element in a set. "
   ]
  },
  {
   "cell_type": "markdown",
   "id": "81e80a9a-7ed6-4ee0-bdb9-a6b2dcd6eb91",
   "metadata": {},
   "source": [
    "To write something to a memory is always slower than to read. "
   ]
  },
  {
   "cell_type": "markdown",
   "id": "19396020-9e96-4c21-b54f-3c1efda17840",
   "metadata": {},
   "source": [
    "The element is deleted after finding it in O(N), but the search for this element takes O(K/N).  \n",
    "N is the size of the hash table  \n",
    "K/N is the average length of the lists used by the hash table."
   ]
  },
  {
   "cell_type": "markdown",
   "id": "9ff989f2-9fdb-4615-83d7-5b885e575aee",
   "metadata": {},
   "source": [
    "The time complexity of adding an element to a set implemented as a hash table is typically O(1) on average. This means that in an average case scenario, the time taken to add an element to the set is constant and does not depend on the number of elements in the set. However, in the worst case scenario, when there is a collision and multiple elements have the same hash, the time complexity can increase to O(n), where n is the number of elements in the list with the same hash. In this case, a linear search through the list would be required to find the position to add the element. But overall, the time complexity of adding an element to a hash table set is considered to be efficient and fast."
   ]
  },
  {
   "cell_type": "markdown",
   "id": "c9196d52-1165-40b9-a564-d783694e2474",
   "metadata": {},
   "source": [
    "#### Our own multi-set realisation"
   ]
  },
  {
   "cell_type": "markdown",
   "id": "e6f8b1cc-c54f-4282-819a-a3a2d572963e",
   "metadata": {},
   "source": [
    "A multiset is a set in which each element can appear multiple times."
   ]
  },
  {
   "cell_type": "code",
   "execution_count": 1,
   "id": "0547efb3-acf2-49f0-969a-6f47072154ff",
   "metadata": {
    "tags": []
   },
   "outputs": [],
   "source": [
    "# Initialize the setsize to 10 and create a list of empty lists with the length of setsize\n",
    "setsize = 10\n",
    "myset = [[] for _ in range(setsize)]\n",
    "\n",
    "# Function to add an element to the set\n",
    "# Find the modulo of the element and the setsize, and add the element to the list at that index\n",
    "def add(x):\n",
    "    myset[x % setsize].append(x)\n",
    "\n",
    "# Function to find an element in the set\n",
    "# Find the modulo of the element and the setsize, and search for the element in the list at that index\n",
    "def find(x):\n",
    "    for now in myset[x % setsize]:\n",
    "        if now == x:\n",
    "            return True\n",
    "    return False\n",
    "\n",
    "# Function to delete an element from the set\n",
    "# Find the modulo of the element and the setsize, \n",
    "# then find the index of the element in the list and replace it with the last element\n",
    "# Finally, pop the last element from the list\n",
    "def delete(x):\n",
    "    xlist = myset[x % setsize]\n",
    "    for i in range(len(xlist)):\n",
    "        if xlist[i] == x:\n",
    "            xlist[i], xlist[len(xlist) - 1] = xlist[len(xlist) - 1], xlist[i]\n",
    "            xlist.pop()\n",
    "            return\n"
   ]
  },
  {
   "cell_type": "markdown",
   "id": "043c6fc0-a384-4b80-b80c-364121d1113a",
   "metadata": {},
   "source": [
    "What can be stored in a set efficiently:\n",
    "- Anything can be stored\n",
    "- Efficiently, only immutable objects\n",
    "- For immutable objects, you can calculate the hash function value when they are created\n",
    "- The hash function should provide uniform distribution."
   ]
  },
  {
   "cell_type": "markdown",
   "id": "9db08054-011c-456b-8059-6db36ba8891c",
   "metadata": {},
   "source": [
    "### Amortized complexity"
   ]
  },
  {
   "cell_type": "markdown",
   "id": "f658ff91-1133-4d7a-9bc4-5833a9e359f0",
   "metadata": {},
   "source": [
    "The problems with hash tables:\n",
    "- When the size is too big - consumes a lot of memory O(N)\n",
    "- WHhen the size is too small - high fill factor and slow search and deletion O(K/N)\n",
    "- A reasonable balance is desired, for example, the fill factor is not more than one (i.e. K <= N). Then all operations will on average take O(1).   \n",
    "  \n",
    "A simple solution to this problem: when the hash table is full - let's just twice increase its size and simply rebuild it. "
   ]
  },
  {
   "cell_type": "markdown",
   "id": "04d5f732-5301-4695-bf00-50b00383aebe",
   "metadata": {},
   "source": [
    "The complexity of adding to such a table is O(NlogN)?:\n",
    "- we take a table with a starting size of 1\n",
    "- we will add N = 2^p elements, i.e. p = logN\n",
    "- only on P steps (when the size of the table is equal to the next power of two) can a table reconstruction occur in O(N)\n",
    "- **in reality, the complexity of adding N elements is O(N)**, since 1 + 2 + 4 + 8 +...+2^p = 2^p + 1 - 1 = 2N - 1 = O(N)."
   ]
  },
  {
   "cell_type": "markdown",
   "id": "c008dd56-3457-472a-bd33-3765633c14af",
   "metadata": {},
   "source": [
    "Амортизированная сложность - среднее время выполнения операции (условно).  \n",
    "У нас амортизационная сложность операции O(1) - всего было N операций и суммарно на это ушло O(N).  \n",
    "В худшем случае отдельная операция выполняется за O(N) - может не проходить для систем реального времени. "
   ]
  },
  {
   "cell_type": "markdown",
   "id": "c9f8ecc7-f204-4adf-aeb7-14fa3e9d9766",
   "metadata": {},
   "source": [
    "### Tasks"
   ]
  },
  {
   "cell_type": "markdown",
   "id": "e5abe580-1c14-41d5-8b66-002b54b3c967",
   "metadata": {},
   "source": [
    "#### Task 1."
   ]
  },
  {
   "cell_type": "markdown",
   "id": "cedbda6d-7337-48c3-80f4-9dda43367024",
   "metadata": {},
   "source": [
    "Given a sequence of positive numbers of length N and a number X, find two different numbers A and B from the sequence such that A + B = X or return the pair 0, 0 if such a pair of numbers does not exist."
   ]
  },
  {
   "cell_type": "markdown",
   "id": "898ae136-796f-4ac5-a3e5-de56689d898f",
   "metadata": {},
   "source": [
    "##### O(N^2) solution"
   ]
  },
  {
   "cell_type": "code",
   "execution_count": 9,
   "id": "9dbdaf7e-0a1b-4204-bf58-d623712f83d5",
   "metadata": {
    "tags": []
   },
   "outputs": [
    {
     "data": {
      "text/plain": [
       "(5, 2)"
      ]
     },
     "execution_count": 9,
     "metadata": {},
     "output_type": "execute_result"
    }
   ],
   "source": [
    "# This function takes in two arguments:\n",
    "# nums is a list of positive numbers\n",
    "# x is a target number that we want to find two different terms from the list that sum up to it\n",
    "def twotermswithsumx(nums, x):\n",
    "    # We use two for-loops to check every possible combination of two terms from the list\n",
    "    for i in range(len(nums)):\n",
    "        for j in range(i + 1, len(nums)):\n",
    "            # If we find two terms that sum up to x, we return them\n",
    "            if nums[i] + nums[j] == x:\n",
    "                return nums[i], nums[j]\n",
    "    # If we don't find any two terms that sum up to x, we return (0, 0)\n",
    "    return 0, 0\n",
    "\n",
    "\n",
    "# We call the function and pass the list [1, 3, 5, 8, 2] and the target number 7 as arguments\n",
    "twotermswithsumx([1, 3, 5, 8, 2], 7)"
   ]
  },
  {
   "cell_type": "markdown",
   "id": "75af0f5b-62f9-4c29-95c2-35036ce60bdb",
   "metadata": {},
   "source": [
    "##### O(N) solution"
   ]
  },
  {
   "cell_type": "code",
   "execution_count": 11,
   "id": "72869dc8-8f47-4df1-8027-49c0e3a54661",
   "metadata": {
    "tags": []
   },
   "outputs": [
    {
     "data": {
      "text/plain": [
       "(2, 5)"
      ]
     },
     "execution_count": 11,
     "metadata": {},
     "output_type": "execute_result"
    }
   ],
   "source": [
    "def twotermswithsumx(nums, x):\n",
    "    \"\"\"\n",
    "    This function finds two different elements in the given list 'nums' \n",
    "    such that their sum is equal to 'x', or returns 0,0 \n",
    "    if no such pair exists.\n",
    "    \"\"\"\n",
    "    # A set to store elements seen so far\n",
    "    prevnums = set()\n",
    "\n",
    "    # Iterate over elements in the list 'nums'\n",
    "    for nownum in nums:\n",
    "        # Check if the complement of the current element (x - nownum) is present in the set 'prevnums'\n",
    "        if x - nownum in prevnums:\n",
    "            # If yes, return the pair (nownum, x - nownum)\n",
    "            return nownum, x - nownum\n",
    "        # Add the current element to the set 'prevnums'\n",
    "        prevnums.add(nownum)\n",
    "\n",
    "    # Return (0,0) if no such pair exists\n",
    "    return 0, 0\n",
    "\n",
    "    \n",
    "twotermswithsumx([1, 3, 5, 8, 2], 7)"
   ]
  },
  {
   "cell_type": "markdown",
   "id": "e733cfad-af69-41d9-b356-0cf17449fdc8",
   "metadata": {},
   "source": [
    "#### Task 2."
   ]
  },
  {
   "cell_type": "markdown",
   "id": "2f7eeb64-8efe-47b1-9078-2339d2e613c5",
   "metadata": {},
   "source": [
    "Given a dictionary of N words, each with a length of not more than K.\n",
    "In the recording of each of the M words of the text (each with a length of up to K), one letter may be missing. For each word, say whether it is included (possibly with one missing letter) in the dictionary."
   ]
  },
  {
   "cell_type": "markdown",
   "id": "d147adc9-fe95-4e69-a4e5-9c45a717719d",
   "metadata": {},
   "source": [
    "##### O(NK^2 + M) solution"
   ]
  },
  {
   "cell_type": "markdown",
   "id": "97603785-ad55-49be-9acc-e02c7d7a0ac6",
   "metadata": {},
   "source": [
    "This function checks if each word in the text is present in the dictionary or with one letter removed. It does this by first creating a set goodwords that contains all words from the dictionary and all possible variations with one letter removed. Then, for each word in the text, it checks if it's in the set of goodwords, and adds the result to a list ans. Finally, the function returns the list ans, which is a list of Boolean values indicating if each word in the text is present in the dictionary or with one letter removed."
   ]
  },
  {
   "cell_type": "code",
   "execution_count": 18,
   "id": "fccc190c-5222-44f5-ac39-faec1998ce7d",
   "metadata": {
    "tags": []
   },
   "outputs": [
    {
     "data": {
      "text/plain": [
       "[True, True, False, False]"
      ]
     },
     "execution_count": 18,
     "metadata": {},
     "output_type": "execute_result"
    }
   ],
   "source": [
    "def wordsindict(dictionary, text):\n",
    "    # Create a set of words from the dictionary, with possible\n",
    "    # one letter removed.\n",
    "    goodwords = set(dictionary)\n",
    "    for word in dictionary:\n",
    "        for delpos in range(len(word)):\n",
    "            goodwords.add(word[:delpos] + word[delpos+1:])\n",
    "\n",
    "    # Check if each word in text is in the set of good words.\n",
    "    ans = [] \n",
    "    for word in text:\n",
    "        ans.append(word in goodwords)\n",
    "    return ans\n",
    "\n",
    "\n",
    "# an example to test the function\n",
    "dictionary = ['apple', 'banana', 'cherry']\n",
    "text = ['aple', 'banana', 'pear', 'cherries']\n",
    "\n",
    "wordsindict(dictionary, text)"
   ]
  }
 ],
 "metadata": {
  "kernelspec": {
   "display_name": "Python 3 (ipykernel)",
   "language": "python",
   "name": "python3"
  },
  "language_info": {
   "codemirror_mode": {
    "name": "ipython",
    "version": 3
   },
   "file_extension": ".py",
   "mimetype": "text/x-python",
   "name": "python",
   "nbconvert_exporter": "python",
   "pygments_lexer": "ipython3",
   "version": "3.7.11"
  }
 },
 "nbformat": 4,
 "nbformat_minor": 5
}

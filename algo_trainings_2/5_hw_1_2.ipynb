{
 "cells": [
  {
   "cell_type": "markdown",
   "id": "131837a4-df14-4d57-9afb-048cd85534e1",
   "metadata": {},
   "source": [
    "# Algorithms by Yandex"
   ]
  },
  {
   "cell_type": "markdown",
   "id": "70ddfb4c-e9b2-4660-b6f5-1e0b9c695eeb",
   "metadata": {},
   "source": [
    "[youtube playlist](https://www.youtube.com/playlist?list=PL6Wui14DvQPySdPv5NUqV3i8sDbHkCKC5)"
   ]
  },
  {
   "cell_type": "markdown",
   "id": "ce6e56b2-d6c6-4bad-ac8d-f38173f9550f",
   "metadata": {},
   "source": [
    "## Lessons 1 & 2. Hometasks"
   ]
  },
  {
   "cell_type": "markdown",
   "id": "36cbb556-ad98-4c3d-9d78-565b452293c2",
   "metadata": {},
   "source": [
    "### Lesson 1. "
   ]
  },
  {
   "cell_type": "markdown",
   "id": "6691c38d-b676-4e8d-80c3-46bba8bb8d6d",
   "metadata": {},
   "source": [
    "#### Task 1. "
   ]
  },
  {
   "cell_type": "markdown",
   "id": "a9c2ea21-e340-4414-bf63-f232e3d6a47f",
   "metadata": {},
   "source": [
    "Over many years of captivity, the prisoner of the castle created a rectangular hole in the wall with dimensions of D x E. The castle is built of bricks with dimensions of A x B x C. Determine whether the prisoner can throw the bricks into the sea through this hole if the sides of the brick must be parallel to the sides of the hole."
   ]
  },
  {
   "cell_type": "code",
   "execution_count": 1,
   "id": "64614499-5535-417f-8a64-99c21a1a6931",
   "metadata": {
    "tags": []
   },
   "outputs": [
    {
     "name": "stdin",
     "output_type": "stream",
     "text": [
      " 2\n",
      " 3\n",
      " 18\n",
      " 2\n",
      " 4\n"
     ]
    },
    {
     "name": "stdout",
     "output_type": "stream",
     "text": [
      "YES\n"
     ]
    }
   ],
   "source": [
    "def sort2(first, second):\n",
    "    if first < second:\n",
    "        return (first, second)\n",
    "    return (second, first)\n",
    "\n",
    "a, b, c, d, e = [int(input()) for _ in range(5)]\n",
    "\n",
    "a, b = sort2(a, b)\n",
    "b, c = sort2(b, c)\n",
    "a, b = sort2(a, b)\n",
    "d, e = sort2(d, e)\n",
    "\n",
    "if a <= d and b <=e:\n",
    "    print('YES')\n",
    "else:\n",
    "    print('NO')"
   ]
  },
  {
   "cell_type": "markdown",
   "id": "f9e9fe1d-7938-40c9-8f14-87b9d9d16626",
   "metadata": {
    "tags": []
   },
   "source": [
    "#### Task 2. "
   ]
  },
  {
   "cell_type": "markdown",
   "id": "83667576-f61e-4ce2-ae7f-3e76c832c7e4",
   "metadata": {},
   "source": [
    "At some cross-platform metro stations, trains from different directions arrive on opposite sides of the platform. Monica agreed to meet her friend at such a station, but since her friend came from a different time zone, she overslept by a lot and Monica had to wait for her for a long time. Trains always run precisely on schedule, and Monica knows that a train stands on the platform for exactly one minute, and the interval between trains (the time during which there is no train at the platform) is A minutes for trains on the first track and B minutes for trains on the second track. That is, a train arrives on the first track and stands for one minute, then there are no trains at the platform for A minutes, then the next train stands for one minute, and so on.\n",
    "\n",
    "While Monica was standing on the platform, she counted N trains on the first track and M trains on the second track. Determine the minimum and maximum time that Monica could have spent on the platform, or indicate that she definitely lost count.\n",
    "\n",
    "Monica observed all the trains she saw during the whole minute, that is, Monica does not come and does not leave the platform in the middle of the minute when the train is standing on the platform."
   ]
  },
  {
   "cell_type": "code",
   "execution_count": 5,
   "id": "8111e9e8-3463-4a67-901d-f128c3ab8baf",
   "metadata": {
    "tags": []
   },
   "outputs": [
    {
     "name": "stdin",
     "output_type": "stream",
     "text": [
      " 1\n",
      " 2\n",
      " 3\n",
      " 6\n"
     ]
    },
    {
     "name": "stdout",
     "output_type": "stream",
     "text": [
      "11 11\n"
     ]
    }
   ],
   "source": [
    "a, b, m, n = [int(input()) for _ in range(4)]\n",
    "\n",
    "min1 = (a + 1) * (n - 1) + 1\n",
    "max1 = (a + 1) * (n - 1) + 1 + 2 * a\n",
    "min2 = (b + 1) * (m - 1) + 1\n",
    "max2 = (b + 1) * (m - 1) + 1 + 2 * b\n",
    "\n",
    "minans = max(min1, min2)\n",
    "maxans = min(max1, max2)\n",
    "\n",
    "if maxans < minans:\n",
    "    print(-1)\n",
    "else:\n",
    "    print(minans, maxans)"
   ]
  },
  {
   "cell_type": "markdown",
   "id": "4d7f2fb7-c8c3-47a0-bbe7-030091ac4e1e",
   "metadata": {},
   "source": [
    "#### Task 3. "
   ]
  },
  {
   "cell_type": "markdown",
   "id": "d850ef8d-e276-4e62-a1c2-15ef5288fd14",
   "metadata": {},
   "source": [
    "An ambulance crew was called out to one of the remote areas. Unfortunately, when the dispatcher received the call, he only had time to write down the house address and apartment number K1, and then the communication was lost. However, he remembered that some time ago, an ambulance was called to apartment K2 located in entrance P2 on the floor N2 at the same address. It is known that there are M floors in the building, and the number of apartments on each landing is the same. Write a program that calculates the entrance number P1 and the floor number N1 of the apartment K1.\n",
    "\n",
    "All numbers are less than or equal to 10^6."
   ]
  },
  {
   "cell_type": "code",
   "execution_count": 12,
   "id": "99c0fa5f-ad54-4dee-b3fb-d32578eaab79",
   "metadata": {
    "tags": []
   },
   "outputs": [],
   "source": [
    "def getentranceandfloor(flatno, flatsonfloor, floors):\n",
    "    floorsbefore = (flatno - 1) // flatsonfloor\n",
    "    entrance = floorsbefore // floors + 1\n",
    "    floor = floorsbefore % floors + 1\n",
    "    return entrance, floor\n",
    "\n",
    "def check(k1, m, k2, p2, n2, flatsonfloor):\n",
    "    entrance2, floor2 = getentranceandfloor(k2, flatsonfloor, m)\n",
    "    if entrance2 == p2 and floor2 == n2:\n",
    "        return getentranceandfloor(k1, flatsonfloor, m)\n",
    "    return -1, -1\n",
    "\n",
    "def slow(k1, m, k2, p2, n2):\n",
    "    ent = -1\n",
    "    floor = -1\n",
    "    goodflag = False\n",
    "    for flatsonfloor in range(1, maxrandval + 1):\n",
    "        nent, nfloor = check(k1, m, k2, p2, n2, flatsonfloor)\n",
    "        if nent != -1:\n",
    "            goodflag = True\n",
    "            if ent == -1:\n",
    "                ent, floor = nent, nfloor\n",
    "            elif ent != nent and ent !=0:\n",
    "                ent = 0\n",
    "            elif floor != nfloor and floor != 0:\n",
    "                floor = 0\n",
    "    if goodflag:\n",
    "        return (ent, floor)\n",
    "    else:\n",
    "        return (-1, -1)"
   ]
  },
  {
   "cell_type": "code",
   "execution_count": 13,
   "id": "7653cfc9-bea8-40fc-87e4-8d66962cde41",
   "metadata": {
    "tags": []
   },
   "outputs": [],
   "source": [
    "def fast(k1, m, k2, p2, n2):\n",
    "    f2 = (p2 - 1) * m + n2\n",
    "    if f2 == 1:\n",
    "        if k1 <= k2:\n",
    "            return (1, 1)\n",
    "        elif m == 1:\n",
    "            return (0, 1)\n",
    "        else:\n",
    "            return (0, 0)\n",
    "    else:\n",
    "        onfmax = (k2 + f2 - 2) // (f2 - 1) - 1\n",
    "        onfmin = (k2 + f2 - 1) // f2\n",
    "        if onfmax < onfmin:\n",
    "            return (-1, -1)\n",
    "        else:\n",
    "            f1min = (k1 - 1) // onfmax + 1\n",
    "            f1max = (k1 - 1) // onfmin + 1\n",
    "            p1min = (f1min - 1) // m + 1\n",
    "            p1max = (f1max - 1) // m + 1\n",
    "            n1min = (f1min - 1) % m + 1\n",
    "            n1max = (f1max - 1) % m + 1\n",
    "            if p1min == p1max and n1min == n1max:\n",
    "                return (p1min, n1min)\n",
    "            elif p1min == p1max:\n",
    "                return (p1min, 0)\n",
    "            elif n1min == n1max:\n",
    "                return (0, n1min)        "
   ]
  },
  {
   "cell_type": "code",
   "execution_count": 14,
   "id": "d228c70e-b121-4f58-bf56-72dee6a3563d",
   "metadata": {
    "tags": []
   },
   "outputs": [
    {
     "name": "stdout",
     "output_type": "stream",
     "text": [
      "7 10 3 7 10\n",
      "OK\n",
      "9 10 1 2 3\n",
      "OK\n",
      "7 6 10 6 10\n",
      "OK\n",
      "4 2 8 6 10\n",
      "OK\n",
      "3 8 7 10 6\n",
      "OK\n",
      "2 1 3 8 2\n",
      "OK\n",
      "10 8 7 1 6\n",
      "OK\n",
      "1 6 2 10 1\n",
      "OK\n",
      "7 2 8 1 2\n",
      "OK\n",
      "4 2 4 3 10\n",
      "OK\n",
      "9 2 7 2 10\n",
      "OK\n",
      "3 2 5 7 10\n",
      "OK\n",
      "1 2 1 9 3\n",
      "OK\n",
      "4 3 4 8 8\n",
      "OK\n",
      "9 1 7 6 3\n",
      "OK\n",
      "5 9 6 5 1\n",
      "OK\n",
      "8 8 3 2 4\n",
      "OK\n",
      "2 10 6 5 4\n",
      "OK\n",
      "3 4 2 2 9\n",
      "OK\n",
      "6 6 8 6 9\n",
      "OK\n",
      "7 6 1 6 1\n",
      "OK\n",
      "7 5 9 8 6\n",
      "OK\n",
      "5 2 1 2 4\n",
      "OK\n",
      "10 3 2 1 2\n",
      "OK\n",
      "2 5 3 1 10\n",
      "OK\n",
      "1 6 6 1 4\n",
      "OK\n",
      "5 10 3 6 4\n",
      "OK\n",
      "5 9 3 3 5\n",
      "OK\n",
      "2 3 6 9 3\n",
      "OK\n",
      "5 2 6 5 10\n",
      "OK\n",
      "10 6 1 8 8\n",
      "OK\n",
      "4 3 3 1 9\n",
      "OK\n",
      "4 4 8 9 10\n",
      "OK\n",
      "4 10 1 3 1\n",
      "OK\n",
      "9 4 5 9 2\n",
      "OK\n",
      "4 8 5 8 10\n",
      "OK\n",
      "7 3 7 7 6\n",
      "OK\n",
      "4 5 2 10 10\n",
      "OK\n",
      "2 6 1 2 10\n",
      "OK\n",
      "9 9 2 9 3\n",
      "OK\n",
      "2 10 5 1 8\n",
      "OK\n",
      "8 7 6 3 7\n",
      "OK\n",
      "4 3 4 10 1\n",
      "OK\n",
      "7 8 7 2 3\n",
      "OK\n",
      "5 1 10 10 1\n",
      "OK\n",
      "10 2 10 2 9\n",
      "OK\n",
      "1 4 1 5 6\n",
      "OK\n",
      "1 3 3 6 6\n",
      "OK\n",
      "1 7 6 8 3\n",
      "OK\n",
      "6 3 9 2 1\n",
      "OK\n",
      "1 6 9 4 5\n",
      "OK\n",
      "4 8 10 7 2\n",
      "OK\n",
      "9 3 10 9 2\n",
      "OK\n",
      "3 5 2 2 5\n",
      "OK\n",
      "2 5 10 7 2\n",
      "OK\n",
      "1 4 6 7 6\n",
      "OK\n",
      "1 10 10 6 10\n",
      "OK\n",
      "4 6 7 9 1\n",
      "OK\n",
      "9 2 1 3 3\n",
      "OK\n",
      "4 3 4 1 7\n",
      "OK\n",
      "2 3 7 4 10\n",
      "OK\n",
      "10 4 1 3 1\n",
      "OK\n",
      "6 6 3 8 3\n",
      "OK\n",
      "8 8 1 8 1\n",
      "OK\n",
      "6 8 2 2 5\n",
      "OK\n",
      "7 4 3 2 10\n",
      "OK\n",
      "7 3 8 7 4\n",
      "OK\n",
      "6 10 1 8 9\n",
      "OK\n",
      "4 3 1 6 1\n",
      "OK\n",
      "4 1 3 2 3\n",
      "OK\n",
      "4 6 5 6 4\n",
      "OK\n",
      "2 6 2 1 2\n",
      "OK\n",
      "1 3 8 10 9\n",
      "OK\n",
      "7 1 2 3 7\n",
      "OK\n",
      "1 8 4 8 4\n",
      "OK\n",
      "5 10 5 8 9\n",
      "OK\n",
      "6 6 1 10 3\n",
      "OK\n",
      "7 6 1 7 7\n",
      "OK\n",
      "9 7 7 2 7\n",
      "OK\n",
      "5 6 8 9 1\n",
      "OK\n",
      "2 2 10 5 7\n",
      "OK\n",
      "7 3 4 4 1\n",
      "OK\n",
      "1 3 4 5 8\n",
      "OK\n",
      "1 9 1 1 4\n",
      "OK\n",
      "10 10 9 9 10\n",
      "OK\n",
      "7 7 8 9 8\n",
      "OK\n",
      "2 2 4 9 5\n",
      "OK\n",
      "8 5 9 2 9\n",
      "OK\n",
      "7 7 6 7 6\n",
      "OK\n",
      "4 6 5 1 8\n",
      "OK\n",
      "4 5 6 8 7\n",
      "OK\n",
      "8 3 6 8 1\n",
      "OK\n",
      "1 8 6 9 3\n",
      "OK\n",
      "4 8 7 3 5\n",
      "OK\n",
      "7 2 1 1 4\n",
      "OK\n",
      "7 9 2 10 8\n",
      "OK\n",
      "1 2 3 1 5\n",
      "OK\n",
      "10 2 3 1 3\n",
      "WA (5, 2) (-1, -1)\n"
     ]
    }
   ],
   "source": [
    "# how to test your solution\n",
    "import random\n",
    "\n",
    "\n",
    "maxrandval = 10\n",
    "while True:\n",
    "    randvals = [0] * 5\n",
    "    for i in range(5):\n",
    "        randvals[i] = random.randint(1, maxrandval)\n",
    "    k1, m, k2, p2, n2 = randvals\n",
    "    slowans = slow(k1, m, k2, p2, n2)\n",
    "    fastans = fast(k1, m, k2, p2, n2)\n",
    "    print(*randvals)\n",
    "    if slowans == fastans:\n",
    "        print('OK')\n",
    "    else:\n",
    "        print('WA', fastans, slowans)\n",
    "        break"
   ]
  },
  {
   "cell_type": "markdown",
   "id": "9ef56b77-6f13-4768-a650-c683324744db",
   "metadata": {},
   "source": [
    "### Lesson 2. "
   ]
  },
  {
   "cell_type": "markdown",
   "id": "abb6ded5-286d-4835-99da-004e5618d633",
   "metadata": {},
   "source": [
    "#### Task 1. "
   ]
  },
  {
   "cell_type": "markdown",
   "id": "c3b89e50-b76d-455c-bf88-ff9551166b9f",
   "metadata": {},
   "source": [
    "tbc.."
   ]
  },
  {
   "cell_type": "code",
   "execution_count": null,
   "id": "2dc36d30-53ca-4dce-830f-fb338b691fb9",
   "metadata": {},
   "outputs": [],
   "source": []
  },
  {
   "cell_type": "code",
   "execution_count": null,
   "id": "d2aa8040-ad84-40a4-a912-e81f2edb45d2",
   "metadata": {},
   "outputs": [],
   "source": []
  },
  {
   "cell_type": "code",
   "execution_count": null,
   "id": "bcd37d75-07d4-458b-92f3-2c57aa70e269",
   "metadata": {},
   "outputs": [],
   "source": []
  },
  {
   "cell_type": "code",
   "execution_count": null,
   "id": "a0c5c12d-e914-4997-8eef-5df1b85940e9",
   "metadata": {},
   "outputs": [],
   "source": []
  },
  {
   "cell_type": "code",
   "execution_count": null,
   "id": "8f093a6e-7296-4245-adb7-178f2b637997",
   "metadata": {},
   "outputs": [],
   "source": []
  }
 ],
 "metadata": {
  "kernelspec": {
   "display_name": "Python 3 (ipykernel)",
   "language": "python",
   "name": "python3"
  },
  "language_info": {
   "codemirror_mode": {
    "name": "ipython",
    "version": 3
   },
   "file_extension": ".py",
   "mimetype": "text/x-python",
   "name": "python",
   "nbconvert_exporter": "python",
   "pygments_lexer": "ipython3",
   "version": "3.7.11"
  }
 },
 "nbformat": 4,
 "nbformat_minor": 5
}

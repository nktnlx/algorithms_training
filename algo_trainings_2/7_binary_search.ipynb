{
 "cells": [
  {
   "cell_type": "markdown",
   "id": "131837a4-df14-4d57-9afb-048cd85534e1",
   "metadata": {},
   "source": [
    "# Algorithms by Yandex"
   ]
  },
  {
   "cell_type": "markdown",
   "id": "70ddfb4c-e9b2-4660-b6f5-1e0b9c695eeb",
   "metadata": {},
   "source": [
    "[youtube playlist](https://www.youtube.com/playlist?list=PL6Wui14DvQPySdPv5NUqV3i8sDbHkCKC5)"
   ]
  },
  {
   "cell_type": "markdown",
   "id": "ce6e56b2-d6c6-4bad-ac8d-f38173f9550f",
   "metadata": {},
   "source": [
    "## Lesson 6. Binary search"
   ]
  },
  {
   "cell_type": "markdown",
   "id": "a4764616-f9be-4b89-af27-c3ca5ac6600d",
   "metadata": {},
   "source": [
    "Binary search is a commonly used algorithm for searching through a sorted collection of data to find a specific value. It works by repeatedly dividing the search interval in half until the target value is found or determined to not be present in the collection.\n",
    "\n",
    "The algorithm starts by comparing the target value to the middle element of the sorted collection. If the target value is equal to the middle element, the search is successful and the algorithm returns the index of the middle element. If the target value is less than the middle element, the algorithm discards the right half of the collection and continues searching the left half. If the target value is greater than the middle element, the algorithm discards the left half and continues searching the right half.\n",
    "\n",
    "The process is repeated with each successive half of the collection until either the target value is found, or the search interval is reduced to zero and the target value is determined to not be present in the collection.\n",
    "\n",
    "Binary search is an efficient algorithm with a time complexity of O(log n) and is commonly used in a variety of applications such as searching through large databases, computer programs, and even in games."
   ]
  },
  {
   "cell_type": "markdown",
   "id": "79d87fd0-30bb-4c8e-9ef6-5c78a681980b",
   "metadata": {},
   "source": [
    "Two types of binary search:\n",
    "- left binary search - the very first suitable value (leftmost)\n",
    "- right binary search - the very last suitable value (rightmost)"
   ]
  },
  {
   "cell_type": "code",
   "execution_count": 1,
   "id": "0bb469bb-ccd9-4ff5-b3d4-141d0174696a",
   "metadata": {
    "tags": []
   },
   "outputs": [
    {
     "name": "stdout",
     "output_type": "stream",
     "text": [
      "2\n"
     ]
    }
   ],
   "source": [
    "def left_bin_search(l, r, check, checkparams):\n",
    "    \"\"\"\n",
    "    Binary search for the leftmost index in a sorted list that satisfies a condition.\n",
    "\n",
    "    Args:\n",
    "    l (int): The leftmost index of the search interval.\n",
    "    r (int): The rightmost index of the search interval.\n",
    "    check (function): A function that takes an index and `checkparams` as arguments, and returns a boolean indicating\n",
    "    whether the condition is satisfied at that index.\n",
    "    checkparams (list): Additional parameters to be passed to the `check` function.\n",
    "\n",
    "    Returns:\n",
    "    int: The leftmost index in the list that satisfies the condition.\n",
    "    \"\"\"\n",
    "    while l < r:\n",
    "        m = (l + r) // 2\n",
    "        if check(m, checkparams):\n",
    "            r = m\n",
    "        else:\n",
    "            l = m + 1\n",
    "    return l\n",
    "\n",
    "# Example check function: \n",
    "# returns True if the value at the given index is even\n",
    "def is_even(index, lst):\n",
    "    return lst[index] % 2 == 0\n",
    "\n",
    "# Example usage:\n",
    "# Given a sorted list of integers, \n",
    "# find the index of the leftmost even number\n",
    "lst = [1, 3, 4, 6, 8, 9, 10]\n",
    "result = left_bin_search(0, len(lst), is_even, lst)\n",
    "print(result) "
   ]
  },
  {
   "cell_type": "code",
   "execution_count": 2,
   "id": "1353e9c8-8e01-41cc-ab0f-8b5ff11a6075",
   "metadata": {
    "tags": []
   },
   "outputs": [
    {
     "name": "stdout",
     "output_type": "stream",
     "text": [
      "1\n"
     ]
    }
   ],
   "source": [
    "def right_bin_search(l, r, check, checkparams):\n",
    "    \"\"\"\n",
    "    Binary search for the rightmost index in a sorted list that satisfies a condition.\n",
    "\n",
    "    Args:\n",
    "    l (int): The leftmost index of the search interval.\n",
    "    r (int): The rightmost index of the search interval.\n",
    "    check (function): A function that takes an index and `checkparams` as arguments, and returns a boolean indicating\n",
    "    whether the condition is satisfied at that index.\n",
    "    checkparams (list): Additional parameters to be passed to the `check` function.\n",
    "\n",
    "    Returns:\n",
    "    int: The rightmost index in the list that satisfies the condition.\n",
    "    \"\"\"\n",
    "    while l < r:\n",
    "        m = (l + r + 1) // 2\n",
    "        if check(m, checkparams):\n",
    "            l = m\n",
    "        else:\n",
    "            r = m - 1\n",
    "    return l\n",
    "\n",
    "# Example check function: \n",
    "# returns True if the value at the given index is odd\n",
    "def is_odd(index, lst):\n",
    "    return lst[index] % 2 == 1\n",
    "\n",
    "# Example usage:\n",
    "# Given a sorted list of integers, \n",
    "# find the index of the rightmost odd number\n",
    "lst = [1, 3, 4, 6, 8, 9, 10]\n",
    "result = right_bin_search(0, len(lst), is_odd, lst)\n",
    "print(result)"
   ]
  },
  {
   "cell_type": "markdown",
   "id": "3a3fe6ef-4821-4a6e-8281-c03fe95f263e",
   "metadata": {},
   "source": [
    "#### Task 1. "
   ]
  },
  {
   "cell_type": "markdown",
   "id": "519cfaaa-195e-409b-9fb1-1e2bef144fa6",
   "metadata": {},
   "source": [
    "The school board is made up of parents, teachers, and students of the school. The number of parents should be at least one-third of the total number of board members. Currently, there are N people on the board, of which K are parents.  \n",
    "Determine how many additional parents need to be added to the board so that their number becomes more than one-third of the total number of board members."
   ]
  },
  {
   "cell_type": "code",
   "execution_count": 3,
   "id": "9143aa3c-7e5a-433e-80e1-1f37b564807b",
   "metadata": {
    "tags": []
   },
   "outputs": [
    {
     "name": "stdout",
     "output_type": "stream",
     "text": [
      "2\n"
     ]
    }
   ],
   "source": [
    "def lbinsearch(l, r, check, checkparams):\n",
    "    # while the left endpoint is less than the right endpoint\n",
    "    while l < r:\n",
    "        # calculate the midpoint\n",
    "        m = (l + r) // 2\n",
    "        # if the check function returns True for the midpoint\n",
    "        if check(m, checkparams):\n",
    "            # move the right endpoint to the midpoint\n",
    "            r = m\n",
    "        # otherwise, move the left endpoint to the midpoint plus one\n",
    "        else:\n",
    "            l = m + 1\n",
    "    # return the left endpoint\n",
    "    return l\n",
    "\n",
    "\n",
    "# define a check function to be used with lbinsearch\n",
    "def checkendownment(m, params):\n",
    "    n, k = params\n",
    "    # return True if adding m to k and multiplying by 3 is greater than or equal to adding m to n\n",
    "    return (k + m) * 3 >= n + m\n",
    "\n",
    "\n",
    "# set the parameters\n",
    "n = 19\n",
    "k = 5\n",
    "\n",
    "l = 0\n",
    "r = n\n",
    "\n",
    "# call lbinsearch to find the minimum number of additional parents needed to meet the one-third requirement\n",
    "min_additional_parents = lbinsearch(l, r, checkendownment, (n, k))\n",
    "\n",
    "# print the result\n",
    "print(min_additional_parents)"
   ]
  },
  {
   "cell_type": "markdown",
   "id": "6cc7bf27-6aa5-473a-8e1a-a4508b3eec98",
   "metadata": {},
   "source": [
    "#### Task 2."
   ]
  },
  {
   "cell_type": "markdown",
   "id": "a7e15512-cf3d-4336-8bad-3c186c15fc85",
   "metadata": {},
   "source": [
    "Mike decided to prepare for an interview. He decided to do N tasks to prepare. On the first day, Mike solved K tasks, and on each subsequent day, Mike solved one more task than on the previous day.  \n",
    "Determine how many days it will take Mike to prepare for the interview."
   ]
  },
  {
   "cell_type": "code",
   "execution_count": 4,
   "id": "4234b074-310d-498c-aa70-772f48a58c34",
   "metadata": {
    "tags": []
   },
   "outputs": [
    {
     "data": {
      "text/plain": [
       "4"
      ]
     },
     "execution_count": 4,
     "metadata": {},
     "output_type": "execute_result"
    }
   ],
   "source": [
    "def lbinsearch(l, r, check, checkparams):\n",
    "    # Left binary search function\n",
    "    # Continues to divide the range in half until only one value remains\n",
    "    # Returns the index of the last element that fulfills a given condition\n",
    "    \n",
    "    while l < r:\n",
    "        m = (l + r) // 2   # Calculate the middle point of the range\n",
    "        if check(m, checkparams):  # Check if the condition is fulfilled at index m\n",
    "            r = m   # If condition is fulfilled, search the left half of the range\n",
    "        else:\n",
    "            l = m + 1   # If condition is not fulfilled, search the right half of the range\n",
    "    return l   # Return the last element that fulfills the condition\n",
    "\n",
    "\n",
    "def checkproblemcount(days, params):\n",
    "    # Check function that determines if the problem count has been reached given the number of days\n",
    "    n, k = params\n",
    "    return (k + (k + days - 1)) * days // 2 >= n   # Checks if the number of problems is greater than or equal to n\n",
    "\n",
    "# Example usage:\n",
    "n = 7\n",
    "k = 1\n",
    "l = 0\n",
    "r = n\n",
    "\n",
    "# Find the number of days it will take Mike to solve n problems\n",
    "lbinsearch(l, r, checkproblemcount, (n, k))"
   ]
  },
  {
   "cell_type": "markdown",
   "id": "a555bb75-aaf6-45bd-af28-2bf37136f824",
   "metadata": {},
   "source": [
    "#### Task 3. "
   ]
  },
  {
   "cell_type": "markdown",
   "id": "9ba5f926-3522-44e6-a340-a54cc5ff66b6",
   "metadata": {},
   "source": [
    "Jane gives lectures on algorithms. There is a board behind her with dimensions of W x H centimeters. Jane needs to place N square stickers with cheat sheets on the board, and the length of the sticker's side in centimeters must be an integer.  \n",
    "Determine the maximum length of the sticker's side so that all stickers fit on the board."
   ]
  },
  {
   "cell_type": "code",
   "execution_count": 5,
   "id": "3f713ee6-ea71-40bc-996c-ee183ff11489",
   "metadata": {
    "tags": []
   },
   "outputs": [
    {
     "name": "stdout",
     "output_type": "stream",
     "text": [
      "10\n"
     ]
    }
   ],
   "source": [
    "def rbinsearch(l, r, check, checkparams):\n",
    "    while l < r:\n",
    "        m = (l + r + 1) // 2\n",
    "        if check(m, checkparams):\n",
    "            l = m\n",
    "        else:\n",
    "            r = m - 1\n",
    "    return l\n",
    "\n",
    "def checkstickers(size, params):\n",
    "    n, w, h = params\n",
    "    return (w // size) * (h // size) >= n\n",
    "\n",
    "\n",
    "# Example usage\n",
    "n = 10\n",
    "w = 30\n",
    "h = 40\n",
    "\n",
    "# We know that the smallest the size of the sticker can be is 1,\n",
    "# and the largest it can be is min(w, h). \n",
    "# Therefore, we can perform a binary search to find the\n",
    "# largest possible size of the sticker \n",
    "# that can fit n stickers onto the board.\n",
    "largest_possible_size = rbinsearch(1, min(w, h), checkstickers, (n, w, h))\n",
    "\n",
    "print(largest_possible_size)"
   ]
  },
  {
   "cell_type": "markdown",
   "id": "42e83879-95dc-4d1c-ad99-71a443d0c573",
   "metadata": {},
   "source": [
    "#### Task 4. "
   ]
  },
  {
   "cell_type": "markdown",
   "id": "cebdc80d-7759-4bf5-8a9e-6e44c6bc9f15",
   "metadata": {},
   "source": [
    "Given a sorted sequence of N numbers and a number X.  \n",
    "You need to determine the index of the first number in the sequence that is greater than or equal to X. If there is no such number, return N."
   ]
  },
  {
   "cell_type": "code",
   "execution_count": 6,
   "id": "f16a62d6-f08a-4aa3-bb9b-e871e9024624",
   "metadata": {
    "tags": []
   },
   "outputs": [
    {
     "name": "stdout",
     "output_type": "stream",
     "text": [
      "3\n"
     ]
    }
   ],
   "source": [
    "def lbinsearch(l, r, check, checkparams):\n",
    "    # While the left endpoint is less than the right endpoint\n",
    "    while l < r:\n",
    "        # Calculate the midpoint\n",
    "        m = (l + r) // 2\n",
    "        # If the check function returns True for the midpoint\n",
    "        if check(m, checkparams):\n",
    "            # Move the right endpoint to the midpoint\n",
    "            r = m\n",
    "        # Otherwise, move the left endpoint to the midpoint plus one\n",
    "        else:\n",
    "            l = m + 1\n",
    "    # Return the left endpoint\n",
    "    return l\n",
    "\n",
    "\n",
    "def check_is_greater(index, params):\n",
    "    # Check if the number at the given index is greater than or equal to x\n",
    "    seq, x = params\n",
    "    return seq[index] >= x\n",
    "\n",
    "\n",
    "def find_first_greater(seq, x):\n",
    "    # Use binary search to find the index of the first number in seq that is greater than or equal to x\n",
    "    ans = lbinsearch(0, len(seq) - 1, check_is_greater, (seq, x))\n",
    "    # If the number at the found index is less than x, return the length of the sequence (i.e., x is greater than all numbers in the sequence)\n",
    "    if seq[ans] < x:\n",
    "        return len(seq)\n",
    "    # Otherwise, return the found index\n",
    "    return ans\n",
    "\n",
    "\n",
    "# Example usage\n",
    "seq = [1, 3, 5, 7, 9]\n",
    "x = 6\n",
    "print(find_first_greater(seq, x)) "
   ]
  },
  {
   "cell_type": "markdown",
   "id": "e1ea6cec-bbd6-43fc-9644-2ea3dd0077dc",
   "metadata": {},
   "source": [
    "#### Task 5."
   ]
  },
  {
   "cell_type": "markdown",
   "id": "ddf84948-ef4e-4548-a6c7-93a98bba7f38",
   "metadata": {},
   "source": [
    "Translated: Given a non-decreasing sorted sequence of N numbers and a number X. Determine how many times the number X occurs in the sequence."
   ]
  },
  {
   "cell_type": "code",
   "execution_count": 7,
   "id": "839e2aaa-270e-47d0-8f31-3dc9dd199c01",
   "metadata": {
    "tags": []
   },
   "outputs": [
    {
     "name": "stdout",
     "output_type": "stream",
     "text": [
      "The number 2 appears 3 times in the sequence.\n"
     ]
    }
   ],
   "source": [
    "def lbinsearch(l, r, check, checkparams):\n",
    "    # While the left endpoint is less than the right endpoint\n",
    "    while l < r:\n",
    "        # Calculate the midpoint\n",
    "        m = (l + r) // 2\n",
    "        # If the check function returns True for the midpoint\n",
    "        if check(m, checkparams):\n",
    "            # Move the right endpoint to the midpoint\n",
    "            r = m\n",
    "        # Otherwise, move the left endpoint to the midpoint plus one\n",
    "        else:\n",
    "            l = m + 1\n",
    "    # Return the left endpoint\n",
    "    return l\n",
    "\n",
    "\n",
    "def checkisgt(index, params):\n",
    "    seq, x = params\n",
    "    # Return True if the element at index in seq is greater than x\n",
    "    return seq[index] > x\n",
    "\n",
    "\n",
    "def checkisge(index, params):\n",
    "    seq, x = params\n",
    "    # Return True if the element at index in seq is greater than or equal to x\n",
    "    return seq[index] >= x\n",
    "\n",
    "\n",
    "def findfirst(seq, x, check):\n",
    "    # Find the first index i in seq where check(i) is True\n",
    "    ans = lbinsearch(0, len(seq) - 1, check, (seq, x))\n",
    "    # If check is False for all indices in seq, return the length of seq\n",
    "    if not check (ans, (seq, x)):\n",
    "        return len(seq)\n",
    "    return ans\n",
    "\n",
    "\n",
    "def countx(seq, x):\n",
    "    # Find the first index i in seq where seq[i] > x and the first index j in seq where seq[j] >= x\n",
    "    indexgt = findfirst(seq, x, checkisgt)\n",
    "    indexge = findfirst(seq, x, checkisge)\n",
    "    # The number of occurrences of x in seq is equal to the difference between the indices i and j\n",
    "    return indexgt - indexge\n",
    "\n",
    "\n",
    "# Example usage\n",
    "seq = [1, 2, 2, 2, 3, 4, 4, 5, 5, 5, 5]\n",
    "x = 2\n",
    "\n",
    "count = countx(seq, x)\n",
    "print(f'The number {x} appears {count} times in the sequence.')"
   ]
  },
  {
   "cell_type": "markdown",
   "id": "c01e8c1c-830d-46d6-b38f-cecb9555f800",
   "metadata": {},
   "source": [
    "#### Task 6. "
   ]
  },
  {
   "cell_type": "markdown",
   "id": "cdc7c95b-a606-4650-a157-931a5971b1eb",
   "metadata": {},
   "source": [
    "Given the annual interest rate on a loan (X% per year), the loan term (N months), and the loan amount (M USD).  \n",
    "Find the size of the annuity monthly payment."
   ]
  },
  {
   "cell_type": "code",
   "execution_count": 8,
   "id": "28e2d537-8201-4bb9-9616-59e69a2e6f20",
   "metadata": {
    "tags": []
   },
   "outputs": [
    {
     "name": "stdout",
     "output_type": "stream",
     "text": [
      "Credit details:\n",
      "- Credit sum: 250,000.00 USD\n",
      "- Credit duration: 300 months\n",
      "- Yearly percent rate: 7%\n",
      "- Monthly percent rate: 0.5654%\n",
      "- Monthly payment: 1732.79 USD\n"
     ]
    }
   ],
   "source": [
    "def checkmonthlyperc(mperc, yperc):\n",
    "    msum = 1 + mperc / 100\n",
    "    ysum = 1 + yperc / 100\n",
    "    return msum ** 12 >= ysum\n",
    "\n",
    "def checkcredit(mpay, params):\n",
    "    periods, creditsum, mperc = params\n",
    "    for i in range(periods):\n",
    "        percpay = creditsum * (mperc / 100)\n",
    "        creditsum -= mpay - percpay\n",
    "    return creditsum <= 0\n",
    "\n",
    "def fbinsearch(l, r, eps, check, checkparams):\n",
    "    while l + eps < r:\n",
    "        m = (l + r) / 2\n",
    "        if check(m, checkparams):\n",
    "            r = m\n",
    "        else:\n",
    "            l = m\n",
    "    return l\n",
    "\n",
    "\n",
    "# calc percent per month\n",
    "x = 7  # percent per year\n",
    "eps = 0.0001\n",
    "mperc = fbinsearch(0, x, eps, checkmonthlyperc, x)\n",
    "\n",
    "# calc payment per month\n",
    "eps = 0.01\n",
    "m = 250000  # credit sum\n",
    "n = 300  # credit duration in month\n",
    "monthlypay = fbinsearch(0, m, eps, checkcredit, (n, m, mperc))\n",
    "\n",
    "print(f'Credit details:\\n- Credit sum: {m:,.2f} USD\\n- Credit duration: {n} months\\n- Yearly percent rate: {x}%\\n- Monthly percent rate: {mperc:.4f}%\\n- Monthly payment: {monthlypay:.2f} USD')"
   ]
  },
  {
   "cell_type": "markdown",
   "id": "eabf94d4-6b99-49e4-b220-95b03dfb48aa",
   "metadata": {},
   "source": [
    "#### Task 7."
   ]
  },
  {
   "cell_type": "markdown",
   "id": "2834e85e-d279-4619-9815-b1ebc6a41de5",
   "metadata": {},
   "source": [
    "The requested task is \"Using Binary search by derivative instead of Ternary search\".  \n",
    "Cyclists participating in a road race are at points that are x1, x2, x3, ..., xn meters away from the starting point at a certain time, called the initial time (n - the total number of cyclists, does not exceed 100,000). Each cyclist moves at their own constant speed v1, v2, v3, ..., vn meters per second. All cyclists move in the same direction. A reporter covering the race wants to determine the time at which the distance between the leading cyclist and the trailing cyclist becomes the minimum, in order to photograph all the participants in the bike race from a helicopter at once.  \n",
    "It is necessary to find the moment in time when the distance becomes minimal."
   ]
  },
  {
   "cell_type": "code",
   "execution_count": 9,
   "id": "0605123e-089b-48cc-bc29-8d1cd82ebc0d",
   "metadata": {
    "tags": []
   },
   "outputs": [
    {
     "name": "stdout",
     "output_type": "stream",
     "text": [
      "Time: 49.9992 s\n",
      "Minimum distance: 3750.0038 m\n"
     ]
    }
   ],
   "source": [
    "def dist(t, params):\n",
    "    x, v = params\n",
    "    # initialize minpos and maxpos as the position of the first cyclist\n",
    "    minpos = maxpos = x[0] + v[0] * t\n",
    "    for i in range(1, len(x)):\n",
    "        # calculate the position of the i-th cyclist at time t\n",
    "        nowpos = x[i] + v[i] * t\n",
    "        # update minpos and maxpos\n",
    "        minpos = min(minpos, nowpos)\n",
    "        maxpos = max(maxpos, nowpos)\n",
    "    # calculate the distance between the closest and furthest cyclists\n",
    "    return maxpos - minpos\n",
    "\n",
    "\n",
    "def chekasc(t, eps, params):\n",
    "    # check if increasing the time by epsilon results in a greater or equal distance\n",
    "    return dist(t + eps, params) >= dist(t, params)\n",
    "\n",
    "\n",
    "def fbinsearch(l, r, eps, check, params):\n",
    "    while l + eps < r:\n",
    "        # find the middle point\n",
    "        m = (l + r) / 2\n",
    "        # if increasing the time by epsilon results in a greater or equal distance, search in the left half\n",
    "        if check(m, eps, params):\n",
    "            r = m\n",
    "        # otherwise, search in the right half\n",
    "        else:\n",
    "            l = m\n",
    "    return l\n",
    "\n",
    "\n",
    "# cyclists' positions and velocities\n",
    "x = [2000, 3000, 4000, 5000, 1000]\n",
    "v = [5, 10, 15, 20, 25]\n",
    "params = (x, v)\n",
    "\n",
    "# binary search for the time when the distance is minimum\n",
    "eps = 0.001\n",
    "t = fbinsearch(0, 100, eps, chekasc, params)\n",
    "\n",
    "# print the time and the minimum distance\n",
    "print(f'Time: {t:.4f} s')\n",
    "print(f'Minimum distance: {dist(t, params):.4f} m')"
   ]
  }
 ],
 "metadata": {
  "kernelspec": {
   "display_name": "Python 3 (ipykernel)",
   "language": "python",
   "name": "python3"
  },
  "language_info": {
   "codemirror_mode": {
    "name": "ipython",
    "version": 3
   },
   "file_extension": ".py",
   "mimetype": "text/x-python",
   "name": "python",
   "nbconvert_exporter": "python",
   "pygments_lexer": "ipython3",
   "version": "3.7.11"
  }
 },
 "nbformat": 4,
 "nbformat_minor": 5
}

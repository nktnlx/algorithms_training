{
 "cells": [
  {
   "cell_type": "markdown",
   "id": "131837a4-df14-4d57-9afb-048cd85534e1",
   "metadata": {},
   "source": [
    "# Algorithms by Yandex"
   ]
  },
  {
   "cell_type": "markdown",
   "id": "70ddfb4c-e9b2-4660-b6f5-1e0b9c695eeb",
   "metadata": {},
   "source": [
    "[youtube playlist](https://www.youtube.com/playlist?list=PL6Wui14DvQPySdPv5NUqV3i8sDbHkCKC5)"
   ]
  },
  {
   "cell_type": "markdown",
   "id": "ce6e56b2-d6c6-4bad-ac8d-f38173f9550f",
   "metadata": {},
   "source": [
    "## Lesson 7. Event sorting"
   ]
  },
  {
   "cell_type": "markdown",
   "id": "19bf2146-83bf-415f-b760-5a16eb82d4d0",
   "metadata": {},
   "source": [
    "### Event sorting"
   ]
  },
  {
   "cell_type": "markdown",
   "id": "5f7ef176-540e-485a-bfbc-3d9a53bd06e4",
   "metadata": {},
   "source": [
    "In coding, event sorting refers to the process of arranging events in a particular order based on specific criteria. This can be useful in a variety of applications, such as scheduling, log analysis, and data processing.\n",
    "\n",
    "There are various algorithms and data structures used for event sorting, including:\n",
    "\n",
    "- Merge sort: This is a divide-and-conquer algorithm that splits the events into smaller sub-lists, sorts them, and then merges them back together in the desired order.  \n",
    "- Quick sort: Another divide-and-conquer algorithm, quick sort is often faster than merge sort but can be less stable.  \n",
    "- Heap sort: This algorithm uses a binary heap d ata structure to sort the events. It has a time complexity of O(n log n) and is often used in sorting large data sets.  \n",
    "- Bucket sort: This is a non-comparison based algorithm that works by dividing the events into buckets based on their values, and then sorting each bucket individually.  \n",
    "\n",
    "In addition to these algorithms, there are also specialized data structures, such as priority queues, that can be used for event sorting. These structures are optimized for adding and removing items in a particular order, which can be useful for processing events in real time."
   ]
  },
  {
   "cell_type": "markdown",
   "id": "7a9d052d-8fc6-4de2-80d1-22d53a25ab15",
   "metadata": {},
   "source": [
    "#### Task 1. "
   ]
  },
  {
   "cell_type": "markdown",
   "id": "889e628a-7e95-49f1-a3cc-9f642b5da3e8",
   "metadata": {},
   "source": [
    "The site was visited by N people, for each person the time of entering the site IN and the time of leaving the site OUT are known. It is assumed that the person was on the site from the moment of IN to the moment of OUT inclusive. Determine the maximum number of people who were on the site simultaneously."
   ]
  },
  {
   "cell_type": "markdown",
   "id": "1e3c0b85-3ecd-4325-a297-2d9999eb5879",
   "metadata": {},
   "source": [
    "*This is a problem of finding the maximum number of concurrent events or overlaps in a given set of events. In this case, the events are the visits to the website, and the overlaps occur when multiple people are on the site at the same time.*\n",
    "\n",
    "*One way to solve this problem is to use an algorithm that maintains a count of the number of people on the site at each moment in time, by keeping track of the start and end times of each visit. Specifically, the algorithm can follow these steps:*\n",
    "\n",
    "- Create a list of all the visit start and end times.\n",
    "- Sort the list in ascending order of time.\n",
    "- Initialize a count variable to 0 and a maximum variable to 0.\n",
    "- Iterate through the sorted list, incrementing the count variable by 1 - for each start time and decrementing it by 1 for each end time.\n",
    "- At each iteration, update the maximum variable to be the maximum of itself and the current value of the count variable.\n",
    "- Return the maximum variable as the result.  \n",
    "\n",
    "*This algorithm has a time complexity of O(n log n), where n is the number of visits to the website, due to the sorting step. However, it can be optimized to have a time complexity of O(n) by using a different data structure, such as a heap or a balanced binary search tree, to maintain a sorted list of the events.*\n"
   ]
  },
  {
   "cell_type": "code",
   "execution_count": 5,
   "id": "d901be5a-a49e-42bf-bf9a-4393f692abbf",
   "metadata": {
    "tags": []
   },
   "outputs": [
    {
     "name": "stdout",
     "output_type": "stream",
     "text": [
      "4\n"
     ]
    }
   ],
   "source": [
    "def maxvisitorsonline(n, tin, tout):\n",
    "    # Create a list of all the event start and end times\n",
    "    events = []\n",
    "    for i in range(n):\n",
    "        events.append((tin[i], -1))  # -1 in sign for start event\n",
    "        events.append((tout[i], 1))  # 1 out sign for end event\n",
    "\n",
    "    # Sort the events in ascending order of time\n",
    "    events.sort()\n",
    "\n",
    "    # Initialize variables for counting online visitors and the maximum number of online visitors\n",
    "    online = 0\n",
    "    maxonline = 0\n",
    "\n",
    "    # Iterate through the sorted events and update the online and maxonline variables\n",
    "    for event in events:\n",
    "        if event[1] == -1:\n",
    "            online += 1\n",
    "        else:\n",
    "            online -= 1\n",
    "        maxonline = max(online, maxonline)\n",
    "\n",
    "    # Return the maximum number of online visitors\n",
    "    return maxonline\n",
    "\n",
    "\n",
    "# Example usage\n",
    "n = 6\n",
    "tin = [1, 2, 3, 4, 5, 6]\n",
    "tout = [5, 3, 6, 9, 7, 8]\n",
    "\n",
    "print(maxvisitorsonline(n, tin, tout))"
   ]
  },
  {
   "cell_type": "markdown",
   "id": "ade7d0d9-865a-486a-8b2c-25ebb152ab47",
   "metadata": {},
   "source": [
    "#### Task 2. "
   ]
  },
  {
   "cell_type": "markdown",
   "id": "a6f6733d-f56c-47a1-867a-755b1999b4bf",
   "metadata": {},
   "source": [
    "N people visited the website, for each one the entry time IN and the exit time OUT are known. It is considered that a person was on the website from the moment of entry IN to the moment of exit OUT, inclusive.  \n",
    "Determine the total time that at least one person was on the website."
   ]
  },
  {
   "cell_type": "code",
   "execution_count": 8,
   "id": "5b819ddb-a3e0-4315-b1d4-8971c5acd8fc",
   "metadata": {
    "tags": []
   },
   "outputs": [
    {
     "name": "stdout",
     "output_type": "stream",
     "text": [
      "7\n"
     ]
    }
   ],
   "source": [
    "def timewithvisitors(n, tin, tout):\n",
    "    events = []\n",
    "    # create list of events, with tuples containing the entry and exit times of visitors (with appropriate signs)\n",
    "    for i in range(n):\n",
    "        events.append((tin[i], -1))  # -1 in sign for entry\n",
    "        events.append((tout[i], 1))  # 1 out sign for exit\n",
    "    events.sort()  # sort events in ascending order by time\n",
    "    online = 0  # keep track of number of visitors online\n",
    "    notemptytime = 0  # keep track of total non-empty time\n",
    "    # iterate over sorted list of events, updating number of online visitors and calculating non-empty time as necessary\n",
    "    for i in range(len(events)):\n",
    "        if online > 0:\n",
    "            notemptytime += events[i][0] - events[i-1][0]  # calculate time with visitors\n",
    "        if events[i][1] == -1:\n",
    "            online += 1\n",
    "        else:\n",
    "            online -= 1\n",
    "    return notemptytime  # return total time that at least one visitor was on the website\n",
    "\n",
    "\n",
    "# Example usage\n",
    "n = 4  # number of visitors\n",
    "tin = [1, 2, 3, 4]  # list of entry times\n",
    "tout = [5, 7, 6, 8]  # list of exit times\n",
    "\n",
    "print(timewithvisitors(n, tin, tout))"
   ]
  },
  {
   "cell_type": "markdown",
   "id": "a0a32bf1-9c7a-4e7e-a90a-8a0d0aea4952",
   "metadata": {},
   "source": [
    "#### Task 3."
   ]
  },
  {
   "cell_type": "markdown",
   "id": "af8be935-47a7-470d-9ac4-ad5f66314ffa",
   "metadata": {},
   "source": [
    "N people visited the website, for each of them the entry time to the website IN and the exit time from the website OUT are known. It is assumed that a person was on the website from the moment IN to the moment OUT inclusive. The boss visited the website M times at the times BOSS and checked how many people were online. The boss's website visits are ordered by time.  \n",
    "Determine the counter readings of the online users that the boss saw."
   ]
  },
  {
   "cell_type": "code",
   "execution_count": 10,
   "id": "4f9b59b8-09ee-403a-8e88-88cb01774440",
   "metadata": {
    "tags": []
   },
   "outputs": [
    {
     "name": "stdout",
     "output_type": "stream",
     "text": [
      "[2, 4, 2]\n"
     ]
    }
   ],
   "source": [
    "def bosscounters(n, tin, tout, m, tboss):\n",
    "    # creating an events list where each event is a tuple of time and a sign that\n",
    "    # indicates whether the event is a start or end of a person's visit (-1 or 1)\n",
    "    # or a boss checking the online visitors (0)\n",
    "    events = []\n",
    "    for i in range(n):\n",
    "        events.append((tin[i], -1))\n",
    "        events.append((tout[i], 1))\n",
    "    for i in range(m):\n",
    "        events.append((tboss[i], 0))\n",
    "    # sorting the events by time\n",
    "    events.sort()\n",
    "    online = 0\n",
    "    bossans = []\n",
    "    # looping over the sorted events and updating the online counter and bossans list\n",
    "    for i in range(len(events)):\n",
    "        if events[i][1] == -1:\n",
    "            online += 1\n",
    "        elif events[i][1] == 1:\n",
    "            online -= 1\n",
    "        else:\n",
    "            bossans.append(online)\n",
    "    return bossans\n",
    "\n",
    "\n",
    "# Example usage\n",
    "n = 5\n",
    "tin = [1, 2, 3, 4, 5]\n",
    "tout = [5, 6, 7, 8, 9]\n",
    "m = 3\n",
    "tboss = [2, 6, 8]\n",
    "\n",
    "print(bosscounters(n, tin, tout, m, tboss))"
   ]
  },
  {
   "cell_type": "markdown",
   "id": "4445f864-86b6-4b51-9fa4-c9d86e78fecb",
   "metadata": {},
   "source": [
    "### Circle (radix) sort"
   ]
  },
  {
   "cell_type": "markdown",
   "id": "6a6a65a8-2d76-453d-9198-720c8cf65b5e",
   "metadata": {},
   "source": [
    "In coding, circle sort is a variation of radix sort that works by sorting the elements of an array or list based on their digits. It is called \"circle sort\" because the digits are arranged in a circle, rather than in a linear fashion.\n",
    "\n",
    "The algorithm works by dividing the elements into buckets based on their least significant digit, and then sorting the elements within each bucket. This process is repeated for each successive digit, moving from least to most significant, until the entire list is sorted.\n",
    "\n",
    "Circle sort is often used for sorting integers or strings, and has a time complexity of O(kn), where k is the number of digits in the largest element.\n",
    "\n",
    "While not as commonly used as some other sorting algorithms, circle sort can be useful in certain situations where the range of values is relatively small and the number of digits is not too large. It can also be adapted for use with other data structures, such as trees or graphs."
   ]
  },
  {
   "cell_type": "markdown",
   "id": "6866e7d6-5a23-43af-a472-2c0e1111e3a6",
   "metadata": {},
   "source": [
    "### Two pass"
   ]
  },
  {
   "cell_type": "markdown",
   "id": "cde63164-0b0e-4329-ba33-38732867ac32",
   "metadata": {},
   "source": [
    "In coding, two-pass refers to an algorithm or process that involves two sequential passes through a dataset or data structure. Each pass serves a different purpose and may involve different operations or calculations.\n",
    "\n",
    "For example, in sorting algorithms, a two-pass approach might involve an initial pass to divide the data into smaller subgroups, followed by a second pass to sort and merge the subgroups into a final sorted list.\n",
    "\n",
    "Another common use of a two-pass approach is in file input/output operations. In this context, a first pass may be used to read or scan the file and gather information, such as the number of lines or the length of each line. A second pass would then be used to perform the desired operation, such as sorting or filtering the data.\n",
    "\n",
    "The two-pass approach can be useful in situations where the data is too large or complex to process in a single pass, or where different operations need to be performed on the data in different stages. However, it can also be less efficient than a single-pass approach, particularly in cases where the data needs to be stored or re-read between passes."
   ]
  },
  {
   "cell_type": "markdown",
   "id": "2749d2d9-2620-4e3f-b388-da711d70251c",
   "metadata": {},
   "source": [
    "#### Task 4. "
   ]
  },
  {
   "cell_type": "markdown",
   "id": "55909289-54e4-47dc-b616-08ee035b077a",
   "metadata": {},
   "source": [
    "In a shopping center parking lot there are N parking spaces (numbered from 1 to N). During the day, M cars came to the shopping center, some of which were long and occupied several consecutive parking spaces. For each car, the arrival and departure time are known, as well as two numbers - from which to which parking spaces it occupied. If at some point in time one car left the parking space, the space is considered free, and at the same time another car can take this space.  \n",
    "\n",
    "It is necessary to determine whether there was a moment when all parking spaces were occupied."
   ]
  },
  {
   "cell_type": "code",
   "execution_count": 12,
   "id": "a059ce43-2a52-4837-89b9-fafcaedba45a",
   "metadata": {
    "tags": []
   },
   "outputs": [
    {
     "name": "stdout",
     "output_type": "stream",
     "text": [
      "False\n"
     ]
    }
   ],
   "source": [
    "def isparkingfull(cars, n):\n",
    "    # create a list of events from cars with start and end times\n",
    "    # and the number of spots they occupy\n",
    "    events = []\n",
    "    for car in cars:\n",
    "        timein, timeout, placefrom, placeto = car\n",
    "        events.append((timein, 1, placeto - placefrom + 1))  # add event for start time of car\n",
    "        events.append((timeout, -1, placeto - placefrom + 1))  # add event for end time of car\n",
    "    events.sort()  # sort events by time\n",
    "\n",
    "    occupied = 0\n",
    "    for i in range(len(events)):\n",
    "        # update the number of occupied spots based on whether a car has started or ended\n",
    "        if events[i][1] == -1:  # if the event is for a car ending\n",
    "            occupied -= events[i][2]  # subtract the number of spots it occupied\n",
    "        elif events[i][1] == 1:  # if the event is for a car starting\n",
    "            occupied += events[i][2]  # add the number of spots it occupies\n",
    "\n",
    "        # check if all spots are occupied and return True if they are\n",
    "        if occupied == n:\n",
    "            return True\n",
    "\n",
    "    # if all events have been processed and not all spots were occupied, return False\n",
    "    return False\n",
    "\n",
    "\n",
    "# Example usage\n",
    "cars = [\n",
    "    (1, 3, 1, 1),\n",
    "    (2, 5, 2, 4),\n",
    "    (5, 8, 5, 6),\n",
    "    (6, 7, 3, 3),\n",
    "    (7, 9, 4, 4),\n",
    "    (10, 12, 6, 6)\n",
    "]\n",
    "n = 6\n",
    "\n",
    "print(isparkingfull(cars, n))"
   ]
  },
  {
   "cell_type": "markdown",
   "id": "0bef9f69-1540-4382-a3de-5bfab76959d8",
   "metadata": {},
   "source": [
    "#### Task 5. "
   ]
  },
  {
   "cell_type": "markdown",
   "id": "b6932866-3ad4-4941-9627-9b224d153d41",
   "metadata": {},
   "source": [
    "On the parking lot of a shopping center, there are N parking spots (numbered from 1 to N). During the day, M cars arrived at the shopping center, some of them are long and occupied several consecutive parking spots. For each car, the time of arrival and departure is known, as well as two numbers - which parking spots it occupied. If at some point one car left the parking spot, the spot is considered to be vacated, and at the same moment another car can take the place.\n",
    "\n",
    "It is necessary to determine whether there was a moment when all parking spots were occupied, and to determine the minimum number of cars that occupied all spots. If there was no such moment, return M + 1."
   ]
  },
  {
   "cell_type": "code",
   "execution_count": 13,
   "id": "da218e76-a637-444a-b995-c5bc0a664797",
   "metadata": {
    "tags": []
   },
   "outputs": [
    {
     "name": "stdout",
     "output_type": "stream",
     "text": [
      "8\n"
     ]
    }
   ],
   "source": [
    "def mincarsonfullparking(cars, n):\n",
    "    events = []\n",
    "    \n",
    "    # create events list by unpacking each car's information into 3-tuples\n",
    "    for car in cars:\n",
    "        timein, timeout, placefrom, placeto = car\n",
    "        events.append((timein, 1, placeto - placefrom + 1))\n",
    "        events.append((timeout, -1, placeto - placefrom + 1))\n",
    "\n",
    "    # sort events by time\n",
    "    events.sort()\n",
    "    occupied = 0\n",
    "    nowcars = 0\n",
    "    mincars = len(cars) + 1\n",
    "\n",
    "    # iterate through events, updating occupied spaces and current cars in lot\n",
    "    for i in range(len(events)):\n",
    "        if events[i][1] == -1:\n",
    "            occupied -= events[i][2]\n",
    "            nowcars -= 1\n",
    "        elif events[i][1] == 1:\n",
    "            occupied += events[i][2]\n",
    "            nowcars += 1\n",
    "\n",
    "        # check if parking is full and update mincars if necessary\n",
    "        if occupied == n:\n",
    "            mincars = min(mincars, nowcars)\n",
    "\n",
    "    # if all parking spots were never filled, return M+1\n",
    "    if mincars == len(cars) + 1:\n",
    "        return len(cars) + 1\n",
    "    else:\n",
    "        return mincars\n",
    "    \n",
    "    \n",
    "# Example usage\n",
    "cars = [\n",
    "    (8, 9, 1, 1),\n",
    "    (7, 8, 4, 5),\n",
    "    (2, 5, 2, 4),\n",
    "    (9, 10, 2, 2),\n",
    "    (1, 3, 1, 1),\n",
    "    (6, 7, 5, 5),\n",
    "    (3, 6, 3, 3)\n",
    "]\n",
    "n = 5\n",
    "\n",
    "print(mincarsonfullparking(cars, n))"
   ]
  },
  {
   "cell_type": "markdown",
   "id": "140a49f3-878e-4873-b8e5-6ebcd588bea5",
   "metadata": {},
   "source": [
    "#### Task 6. "
   ]
  },
  {
   "cell_type": "markdown",
   "id": "503b7083-8144-4e06-b2cc-55a1ebe5d2cc",
   "metadata": {},
   "source": [
    "On the parking lot of a shopping center, there are N parking spots (numbered from 1 to N). During the day, M cars arrived at the shopping center, some of them are long and occupied several consecutive parking spots. For each car, the time of arrival and departure is known, as well as two numbers - which parking spots it occupied. If at some point one car left the parking spot, the spot is considered to be vacated, and at the same moment another car can take the place.  \n",
    "\n",
    "It is necessary to determine if there was a moment when all parking spots were occupied, and to determine the minimum number of cars that occupied all the spots, as well as the numbers of these cars (in the order in which they are listed in the list). If the parking lot was never completely occupied, return an empty list."
   ]
  },
  {
   "cell_type": "markdown",
   "id": "e23c3c11-39ac-42f9-8538-08e534866316",
   "metadata": {},
   "source": [
    "##### slow solution"
   ]
  },
  {
   "cell_type": "code",
   "execution_count": 19,
   "id": "d2c2daf0-0871-4a74-a0ce-31facf093ba4",
   "metadata": {
    "tags": []
   },
   "outputs": [
    {
     "name": "stdout",
     "output_type": "stream",
     "text": [
      "[0, 1, 3]\n"
     ]
    }
   ],
   "source": [
    "def mincarsonfullparking(cars, n):\n",
    "    # Create a list to store events, each event is a tuple of time, type (+1 or -1), \n",
    "    # the number of parking spots it occupied, and the index of the car in the original list\n",
    "    events = []\n",
    "    for i in range(len(cars)):\n",
    "        timein, timeout, placefrom, placeto = cars[i]\n",
    "        events.append((timein, 1, placeto - placefrom + 1, i))\n",
    "        events.append((timeout, -1, placeto - placefrom + 1, i))\n",
    "\n",
    "    # Sort the events in chronological order\n",
    "    events.sort()\n",
    "\n",
    "    # Initialize variables to keep track of how many spots are currently occupied and how many cars are present\n",
    "    occupied = 0\n",
    "    nowcars = 0\n",
    "\n",
    "    # Set mincars to a value that is guaranteed to be greater than the number of cars in the list\n",
    "    mincars = len(cars) + 1\n",
    "\n",
    "    # Create a set to keep track of the car numbers that occupied the parking spots when they were all full\n",
    "    carnums = set()\n",
    "    bestcarnums = set()\n",
    "\n",
    "    # Loop through the events\n",
    "    for i in range(len(events)):\n",
    "        if events[i][1] == -1:\n",
    "            # If the event is a car leaving, subtract the number of spots it occupied from the occupied count\n",
    "            # and decrement the number of cars present by 1. Remove the car from the carnums set.\n",
    "            occupied -= events[i][2]\n",
    "            nowcars -= 1\n",
    "            carnums.remove(events[i][3])\n",
    "        elif events[i][1] == 1:\n",
    "            # If the event is a car arriving, add the number of spots it occupied to the occupied count\n",
    "            # and increment the number of cars present by 1. Add the car to the carnums set.\n",
    "            occupied += events[i][2]\n",
    "            nowcars += 1\n",
    "            carnums.add(events[i][3])\n",
    "        \n",
    "        # If all spots are occupied and the number of cars present is less than mincars, update mincars and bestcarnums\n",
    "        if occupied == n and nowcars < mincars:\n",
    "            bestcarnums = carnums.copy()\n",
    "            mincars = nowcars\n",
    "\n",
    "    # Return the set of car numbers that occupied the parking spots when they were all full\n",
    "    return sorted(bestcarnums)\n",
    "\n",
    "\n",
    "# Example usage\n",
    "cars = [\n",
    "    (0, 5, 1, 3), \n",
    "    (1, 4, 4, 5), \n",
    "    (2, 3, 2, 2), \n",
    "    (3, 6, 6, 7)\n",
    "]\n",
    "n = 7\n",
    "\n",
    "print(mincarsonfullparking(cars, n))"
   ]
  },
  {
   "cell_type": "markdown",
   "id": "e8ae3fd9-e86f-4485-89e3-d51705aedc7e",
   "metadata": {},
   "source": [
    "##### fast solution"
   ]
  },
  {
   "cell_type": "code",
   "execution_count": 20,
   "id": "c63f390d-603f-4859-98c8-62d50b5c8749",
   "metadata": {
    "tags": []
   },
   "outputs": [
    {
     "name": "stdout",
     "output_type": "stream",
     "text": [
      "[0, 1, 3]\n"
     ]
    }
   ],
   "source": [
    "def mincarsonfullparking(cars, n):\n",
    "    events = []\n",
    "    for i in range(len(cars)):\n",
    "        timein, timeout, placefrom, placeto = cars[i]\n",
    "        # Append arrival and departure times, number of parking spots used, and index of the car in the original list.\n",
    "        events.append((timein, 1, placeto - placefrom + 1, i))\n",
    "        events.append((timeout, -1, placeto - placefrom + 1, i))\n",
    "    # Sort the events in chronological order.\n",
    "    events.sort()\n",
    "    # Initialize counters and set up storage for car indices.\n",
    "    occupied = 0\n",
    "    nowcars = 0\n",
    "    mincars = len(cars) + 1\n",
    "    # Iterate through events and update counts and car index storage as needed.\n",
    "    for i in range(len(events)):\n",
    "        if events[i][1] == -1:\n",
    "            occupied -= events[i][2]\n",
    "            nowcars -= 1\n",
    "        elif events[i][1] == 1:\n",
    "            occupied += events[i][2]\n",
    "            nowcars += 1\n",
    "        # If all parking spots are occupied and fewer cars are currently parked than previously seen, update mincars.\n",
    "        if occupied == n and nowcars < mincars:\n",
    "            mincars = nowcars\n",
    "    # Create a set for car indices and reset parking spot and car counters.\n",
    "    carnums = set()\n",
    "    nowcars = 0\n",
    "    # Iterate through events again and update counts and car index storage. Return the set of car indices with the minimum number of cars parked.\n",
    "    for i in range(len(events)):\n",
    "        if events[i][1] == -1:\n",
    "            occupied -= events[i][2]\n",
    "            nowcars -= 1\n",
    "            carnums.remove(events[i][3])\n",
    "        elif events[i][1] == 1:\n",
    "            occupied += events[i][2]\n",
    "            nowcars += 1\n",
    "            carnums.add(events[i][3])\n",
    "        if occupied == n and nowcars == mincars:\n",
    "            return sorted(carnums)\n",
    "    # If no instance of all parking spots being occupied is found, return an empty set.\n",
    "    return set()\n",
    "\n",
    "\n",
    "# Example usage\n",
    "cars = [\n",
    "    (0, 5, 1, 3), \n",
    "    (1, 4, 4, 5), \n",
    "    (2, 3, 2, 2), \n",
    "    (3, 6, 6, 7)\n",
    "]\n",
    "n = 7\n",
    "\n",
    "print(mincarsonfullparking(cars, n))"
   ]
  },
  {
   "cell_type": "markdown",
   "id": "d6ae4c18-be07-423c-8907-455ed943f738",
   "metadata": {},
   "source": [
    "This version of the code is functionally the same as the previous version, but it is more efficient."
   ]
  }
 ],
 "metadata": {
  "kernelspec": {
   "display_name": "Python 3 (ipykernel)",
   "language": "python",
   "name": "python3"
  },
  "language_info": {
   "codemirror_mode": {
    "name": "ipython",
    "version": 3
   },
   "file_extension": ".py",
   "mimetype": "text/x-python",
   "name": "python",
   "nbconvert_exporter": "python",
   "pygments_lexer": "ipython3",
   "version": "3.7.11"
  }
 },
 "nbformat": 4,
 "nbformat_minor": 5
}

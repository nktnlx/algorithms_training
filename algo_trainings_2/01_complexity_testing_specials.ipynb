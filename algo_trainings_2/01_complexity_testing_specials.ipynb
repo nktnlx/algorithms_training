{
 "cells": [
  {
   "cell_type": "markdown",
   "id": "131837a4-df14-4d57-9afb-048cd85534e1",
   "metadata": {},
   "source": [
    "# Algorithms by Yandex"
   ]
  },
  {
   "cell_type": "markdown",
   "id": "70ddfb4c-e9b2-4660-b6f5-1e0b9c695eeb",
   "metadata": {},
   "source": [
    "[youtube playlist](https://www.youtube.com/playlist?list=PL6Wui14DvQPySdPv5NUqV3i8sDbHkCKC5)"
   ]
  },
  {
   "cell_type": "markdown",
   "id": "ce6e56b2-d6c6-4bad-ac8d-f38173f9550f",
   "metadata": {},
   "source": [
    "## Lesson 1. Comlexity, testing, special cases"
   ]
  },
  {
   "cell_type": "markdown",
   "id": "bada7561-3781-4af6-b82c-e076cea4d4b9",
   "metadata": {},
   "source": [
    "Best ways to learn algorithms:\n",
    "* code more than 10000 lines of properly working code\n",
    "* practise on leetcode, codeforces, etc. "
   ]
  },
  {
   "cell_type": "markdown",
   "id": "1e98b973-31da-492e-a8b6-52ed9ac98760",
   "metadata": {},
   "source": [
    "### Complexity"
   ]
  },
  {
   "cell_type": "markdown",
   "id": "5e87dcb3-7d13-4853-9d5d-d55630d9b598",
   "metadata": {},
   "source": [
    "* The complexity of an algorithm is the order of the number of actions that the algorithm performs.  \n",
    "* For example, in a program there are two nested loops, each from 1 to N, then the complexity is O(N^2).  \n",
    "* 100 * N = O(N), 2 * N = O(N). Here 100 and 2 are constants that do not depend on the size of the input data. Constants do not strongly affect the performance of the algorithm when the parameters are large.  \n",
    "* There is also \"space complexity\" - the amount of memory used.  "
   ]
  },
  {
   "cell_type": "markdown",
   "id": "5669a9ab-03b7-4994-9455-89c43542437a",
   "metadata": {},
   "source": [
    "#### Task 1. "
   ]
  },
  {
   "cell_type": "markdown",
   "id": "61f5c25c-3490-4458-9522-70bed7727fec",
   "metadata": {},
   "source": [
    "Given a string in UTF-8 encoding, find the most frequently occurring symbol in it. If several symbols occur equally frequently, any of them can be output."
   ]
  },
  {
   "cell_type": "markdown",
   "id": "103c8270-c6a5-4854-830c-1bf41e7a5347",
   "metadata": {},
   "source": [
    "##### O(N^2) solution"
   ]
  },
  {
   "cell_type": "markdown",
   "id": "0c89e51c-1e5c-4520-b20d-a3437bcca1c3",
   "metadata": {},
   "source": [
    "This code takes a string input from the user, maps it using the map function and a lambda function, which counts the number of occurrences of each character in the string s and returns a tuple containing the count and the character. The max function is then used to find the maximum count of the characters, and the second element of the tuple (the character) is returned using indexing. The returned character is the one that occurs the most frequently in the string."
   ]
  },
  {
   "cell_type": "code",
   "execution_count": 6,
   "id": "400631ae-c80a-4c4d-b1aa-51d04174f037",
   "metadata": {
    "tags": []
   },
   "outputs": [
    {
     "name": "stdin",
     "output_type": "stream",
     "text": [
      " abaab\n"
     ]
    },
    {
     "name": "stdout",
     "output_type": "stream",
     "text": [
      "a\n"
     ]
    }
   ],
   "source": [
    "s = input()\n",
    "print(max(map(lambda x: (s.count(x), x), s))[1])"
   ]
  },
  {
   "cell_type": "markdown",
   "id": "6b7d997c-c01b-467c-aca8-0ae782f76436",
   "metadata": {},
   "source": [
    "One more way to solve it, without using a dictionary data structure. "
   ]
  },
  {
   "cell_type": "code",
   "execution_count": 10,
   "id": "94c7d6ae-4039-4ede-b147-b69b97707fdf",
   "metadata": {
    "tags": []
   },
   "outputs": [
    {
     "name": "stdin",
     "output_type": "stream",
     "text": [
      " abaab\n"
     ]
    },
    {
     "name": "stdout",
     "output_type": "stream",
     "text": [
      "a\n"
     ]
    }
   ],
   "source": [
    "# input a string\n",
    "s = input()\n",
    "\n",
    "# initialize variables to store the character and its count\n",
    "answer = ''\n",
    "answer_cnt = 0\n",
    "\n",
    "# loop through each character in the string\n",
    "for i in range(len(s)):\n",
    "    # initialize a variable to store the current character's count\n",
    "    now_cnt = 0\n",
    "    # compare the current character to all other characters in the string\n",
    "    for j in range(len(s)):\n",
    "        # if the current character matches another character, increment its count\n",
    "        if s[i] == s[j]:\n",
    "            now_cnt += 1\n",
    "    # if the count of the current character is greater than the current maximum count, update the maximum count and the corresponding character\n",
    "    if now_cnt > answer_cnt:\n",
    "        answer = s[i]\n",
    "        answer_cnt = now_cnt\n",
    "\n",
    "# print the most frequent character\n",
    "print(answer)"
   ]
  },
  {
   "cell_type": "markdown",
   "id": "995259ef-1ecb-4da8-9c8e-8a3e514531ac",
   "metadata": {},
   "source": [
    "##### O(Nk) solution"
   ]
  },
  {
   "cell_type": "code",
   "execution_count": 13,
   "id": "245d62f0-3d95-4425-9ebc-c68a7ccfe0a6",
   "metadata": {
    "tags": []
   },
   "outputs": [
    {
     "name": "stdin",
     "output_type": "stream",
     "text": [
      " abaab\n"
     ]
    },
    {
     "name": "stdout",
     "output_type": "stream",
     "text": [
      "a\n"
     ]
    }
   ],
   "source": [
    "# Input a string from the user\n",
    "s = input()\n",
    "\n",
    "# Initialize variables to store the answer and answer count\n",
    "answer = ''\n",
    "answer_cnt = 0\n",
    "\n",
    "# Get the unique characters in the string\n",
    "for letter in set(s):\n",
    "    # Initialize a count for the number of times this character occurs in the string\n",
    "    now_cnt = 0\n",
    "\n",
    "    # Iterate through the string\n",
    "    for i in range(len(s)):\n",
    "        # If the current character is equal to the current letter we are checking, \n",
    "        # increase the count\n",
    "        if letter == s[i]:\n",
    "            now_cnt += 1\n",
    "    # If the count for the current letter is greater than the current max count, \n",
    "    # update the answer and answer count\n",
    "    if now_cnt > answer_cnt:\n",
    "        answer = letter\n",
    "        answer_cnt = now_cnt\n",
    "    \n",
    "# Print the most frequently occurring character\n",
    "print(answer)\n"
   ]
  },
  {
   "cell_type": "markdown",
   "id": "f20e3a6d-fd4b-4256-a41b-d9861a71f2e1",
   "metadata": {
    "tags": []
   },
   "source": [
    "##### O(N+k) = O(N) solution"
   ]
  },
  {
   "cell_type": "code",
   "execution_count": 14,
   "id": "4e14674f-a874-4774-81b1-923ec874bf12",
   "metadata": {
    "tags": []
   },
   "outputs": [
    {
     "name": "stdin",
     "output_type": "stream",
     "text": [
      " abaab\n"
     ]
    },
    {
     "name": "stdout",
     "output_type": "stream",
     "text": [
      "a\n"
     ]
    }
   ],
   "source": [
    "# input a string\n",
    "s = input()\n",
    "\n",
    "# initialize a dictionary to store the count of each character\n",
    "char_count = {}\n",
    "\n",
    "# loop through each character in the string\n",
    "for char in s:\n",
    "    # if the character is not in the dictionary, add it and set its count to 1\n",
    "    if char not in char_count:\n",
    "        char_count[char] = 1\n",
    "    # if the character is already in the dictionary, increment its count by 1\n",
    "    else:\n",
    "        char_count[char] += 1\n",
    "\n",
    "# initialize variables to store the maximum count and the corresponding character\n",
    "max_count = 0\n",
    "most_frequent_char = ''\n",
    "\n",
    "# loop through the items in the dictionary\n",
    "for char, count in char_count.items():\n",
    "    # if the count of the current character is greater than the current maximum count, update the maximum count and the corresponding character\n",
    "    if count > max_count:\n",
    "        max_count = count\n",
    "        most_frequent_char = char\n",
    "\n",
    "# print the most frequent character\n",
    "print(most_frequent_char)"
   ]
  },
  {
   "cell_type": "markdown",
   "id": "eba9b2b8-c72a-4c01-8b27-f4d1bcb91dca",
   "metadata": {},
   "source": [
    "##### Solution's complexity comparison table"
   ]
  },
  {
   "cell_type": "markdown",
   "id": "f81dbe7c-788a-4fd0-8f50-8d7b58ad586d",
   "metadata": {},
   "source": [
    "| Solution | Time | Memory |\n",
    "|----------|----------|----------|\n",
    "| Iterating through the string for each character in the string | O(N^2)| O(N) |\n",
    "| Iterating through the string for each character in the set | O(NK)| O(N+K) = O(N) |\n",
    "| Using a dictionary | O(N)| O(K) |"
   ]
  },
  {
   "cell_type": "markdown",
   "id": "c019f4dc-b4d0-4739-9c41-a4bafea85f04",
   "metadata": {},
   "source": [
    "### Special cases"
   ]
  },
  {
   "cell_type": "markdown",
   "id": "41e60cf5-8718-4c0e-a8ad-5418629768b4",
   "metadata": {},
   "source": [
    "Remember to initialize your variables with empty strings first, to prevent a crash of your program if someone inputs an empty string."
   ]
  },
  {
   "cell_type": "markdown",
   "id": "13529b7c-f6eb-42d7-817b-66270a52ddbc",
   "metadata": {},
   "source": [
    "#### Sum of a sequence example"
   ]
  },
  {
   "cell_type": "markdown",
   "id": "f8b6980a-d76d-48eb-942d-8667856ba5ac",
   "metadata": {},
   "source": [
    "Here we have overprotected ourselves. Better not to do it, in ordere not to complicate your code. "
   ]
  },
  {
   "cell_type": "code",
   "execution_count": 15,
   "id": "bb098f27-0a6b-493d-9f02-6e2110b29cd3",
   "metadata": {
    "tags": []
   },
   "outputs": [
    {
     "name": "stdin",
     "output_type": "stream",
     "text": [
      " 1 2 5\n"
     ]
    },
    {
     "name": "stdout",
     "output_type": "stream",
     "text": [
      "8\n"
     ]
    }
   ],
   "source": [
    "seq = list(map(int, input().split()))\n",
    "\n",
    "if len(seq) == 0:\n",
    "    print(0)\n",
    "else:\n",
    "    seq_sum = seq[0]\n",
    "    for i in range(1, len(seq)):\n",
    "        seq_sum += seq[i]\n",
    "    print(seq_sum)"
   ]
  },
  {
   "cell_type": "markdown",
   "id": "c4771c48-4ca1-4ea8-8fee-d1e723140594",
   "metadata": {},
   "source": [
    "Here is a better option to do it. "
   ]
  },
  {
   "cell_type": "code",
   "execution_count": 16,
   "id": "5e51086d-8916-4ba7-a8ed-cd10417fad85",
   "metadata": {
    "tags": []
   },
   "outputs": [
    {
     "name": "stdin",
     "output_type": "stream",
     "text": [
      " 1 2 5\n"
     ]
    },
    {
     "name": "stdout",
     "output_type": "stream",
     "text": [
      "8\n"
     ]
    }
   ],
   "source": [
    "seq = list(map(int, input().split()))\n",
    "\n",
    "seq_sum = 0\n",
    "for i in range(len(seq)):\n",
    "    seq_sum += seq[i]\n",
    "print(seq_sum)"
   ]
  },
  {
   "cell_type": "markdown",
   "id": "4fa07aa7-9c3f-4855-868b-f8d811158eca",
   "metadata": {},
   "source": [
    "#### Max of a sequence example"
   ]
  },
  {
   "cell_type": "markdown",
   "id": "41d8d4f3-fd7a-4107-88ef-818b6f2f9063",
   "metadata": {},
   "source": [
    "This code will be working until we all numbers in our sequence are postive. "
   ]
  },
  {
   "cell_type": "code",
   "execution_count": 22,
   "id": "5df7e606-dd14-4f0a-a39e-208d689c493f",
   "metadata": {
    "tags": []
   },
   "outputs": [
    {
     "name": "stdin",
     "output_type": "stream",
     "text": [
      " 3 5 1\n"
     ]
    },
    {
     "name": "stdout",
     "output_type": "stream",
     "text": [
      "5\n"
     ]
    }
   ],
   "source": [
    "seq = list(map(int, input().split()))\n",
    "\n",
    "seq_max = 0\n",
    "for i in range(len(seq)):\n",
    "    if seq[i] > seq_max:\n",
    "        seq_max = seq[i]\n",
    "print(seq_max)"
   ]
  },
  {
   "cell_type": "markdown",
   "id": "4b065962-3df7-4dd6-b262-705f54539c01",
   "metadata": {},
   "source": [
    "Here how to rewrite this code to account for negative numbers. "
   ]
  },
  {
   "cell_type": "markdown",
   "id": "7cec4f8f-91bb-4ef1-9fdd-527b38b6c6a8",
   "metadata": {},
   "source": [
    "This code takes a string of integers as input, separated by spaces. It splits the input string into a list of integers, and checks if the list is empty. If the list is empty, it prints -inf. If the list is not empty, it sets the first element of the list as the maximum value, and iterates through the rest of the elements, updating the maximum value whenever a larger value is found. Finally, it prints the maximum value."
   ]
  },
  {
   "cell_type": "code",
   "execution_count": 30,
   "id": "e8cf3ca6-d00d-4b8a-962f-b24807992be2",
   "metadata": {
    "tags": []
   },
   "outputs": [
    {
     "name": "stdin",
     "output_type": "stream",
     "text": [
      " -5 -1 -3\n"
     ]
    },
    {
     "name": "stdout",
     "output_type": "stream",
     "text": [
      "-1\n"
     ]
    }
   ],
   "source": [
    "# Input: A list of integers separated by spaces, entered as a string.\n",
    "seq = list(map(int, input().split()))\n",
    "\n",
    "# Check if the input is an empty list\n",
    "if len(seq) == 0:\n",
    "    # If the list is empty, print -inf\n",
    "    print('-inf')\n",
    "else:\n",
    "    # Set the first element as the maximum value in the list\n",
    "    seq_max = seq[0]\n",
    "    # Iterate through the rest of the elements in the list\n",
    "    for i in range(1, len(seq)):\n",
    "        # If the current element is greater than the current maximum, update the maximum\n",
    "        if seq[i] > seq_max:\n",
    "            seq_max = seq[i]\n",
    "    # Print the maximum value\n",
    "    print(seq_max)"
   ]
  },
  {
   "cell_type": "markdown",
   "id": "921eb924-e9c7-4d25-9bb2-af185899fb1c",
   "metadata": {},
   "source": [
    "### Testing your code"
   ]
  },
  {
   "cell_type": "markdown",
   "id": "7c16516d-96a1-41f2-a7be-e161a66e3192",
   "metadata": {},
   "source": [
    "What usually needs to be tested:\n",
    "* Tests from task conditions (if any)\n",
    "* General cases\n",
    "* Special cases\n",
    "\n",
    "\n",
    "\n"
   ]
  },
  {
   "cell_type": "markdown",
   "id": "67652c90-4384-42a2-857e-8a66e04c7723",
   "metadata": {},
   "source": [
    "Do not forget to test for such cases:\n",
    "* when the sequence is sorted (asc, desc)\n",
    "* when the answer is the first or the last element of a sequence\n",
    "* when all elements of the sequence are the same\n",
    "* when the sequence is an empty sequence\n",
    "* when the sequence is made of a single element\n",
    "* when you have all negative numbers in the sequence"
   ]
  },
  {
   "cell_type": "markdown",
   "id": "36017c1d-75cf-4716-9883-529e36d38a39",
   "metadata": {},
   "source": [
    "Tips for composing tests:\n",
    "- If there are examples, solve them by hand and compare the answers. If it does not match, either there can be several correct answers or you have misunderstood the task\n",
    "- First, write several examples and solve the task by hand to better understand the condition and then to have something to compare to\n",
    "- Check the sequence of one element and an empty sequence\n",
    "- Edge effects - check that the program works correctly at the beginning and end of the sequence, make tests so that the answer is at the first and last place in the sequence\n",
    "- Compose coverage of all branches, so that there is a test that enters every if and else\n",
    "- Choose tests so that there is no entry into the loop\n",
    "- One test - one possible error"
   ]
  },
  {
   "cell_type": "markdown",
   "id": "b5f1643a-e16d-4801-a1f7-cb71b6dc9a21",
   "metadata": {},
   "source": [
    "#### An example of a code that has to be tested on many special cases"
   ]
  },
  {
   "cell_type": "markdown",
   "id": "2b93aaec-03e7-483e-9d27-5d2fdf713cd7",
   "metadata": {},
   "source": [
    "Quadratic Equations"
   ]
  },
  {
   "cell_type": "code",
   "execution_count": 42,
   "id": "e9f7c0b3-3c32-4fa3-8008-725f63d5741d",
   "metadata": {
    "tags": []
   },
   "outputs": [
    {
     "name": "stdin",
     "output_type": "stream",
     "text": [
      " -5 4 1\n"
     ]
    },
    {
     "name": "stdout",
     "output_type": "stream",
     "text": [
      "-0.2 1.0\n"
     ]
    }
   ],
   "source": [
    "from math import sqrt\n",
    "\n",
    "# Read coefficients a, b, c from the user input\n",
    "a, b, c = map(int, input().split())\n",
    "\n",
    "# Check if a is equal to 0\n",
    "if a == 0:\n",
    "    # If a is 0 and b is not 0, then there is one solution\n",
    "    if b != 0:\n",
    "        x = -c / b\n",
    "        print(x)\n",
    "    # If a and b are both 0, then there are infinite solutions\n",
    "    elif b == 0 and c == 0:\n",
    "        print('Infinite number of solutions')\n",
    "# If a is not 0, then we use the quadratic formula to find the solutions\n",
    "else:\n",
    "    d = b**2 - 4*a*c\n",
    "    # If the discriminant is 0, then there is only one solution\n",
    "    if d == 0:\n",
    "        x = -b / (2*a)\n",
    "        print(x)\n",
    "    # If the discriminant is positive, then there are two solutions\n",
    "    elif d > 0:\n",
    "        x1 = (-b - sqrt(d)) / (2*a)\n",
    "        x2 = (-b + sqrt(d)) / (2*a)\n",
    "        # We print the solutions in ascending order\n",
    "        if x1 < x2:\n",
    "            print(x1, x2)\n",
    "        else:\n",
    "            print(x2, x1)\n",
    "    # If the discriminant is negative, then there are no real solutions\n",
    "    else:\n",
    "        print('No real solutions')\n"
   ]
  },
  {
   "cell_type": "code",
   "execution_count": null,
   "id": "88524c1a-4787-4bea-94d2-53759ac7f06b",
   "metadata": {},
   "outputs": [],
   "source": []
  }
 ],
 "metadata": {
  "kernelspec": {
   "display_name": "Python 3 (ipykernel)",
   "language": "python",
   "name": "python3"
  },
  "language_info": {
   "codemirror_mode": {
    "name": "ipython",
    "version": 3
   },
   "file_extension": ".py",
   "mimetype": "text/x-python",
   "name": "python",
   "nbconvert_exporter": "python",
   "pygments_lexer": "ipython3",
   "version": "3.7.11"
  }
 },
 "nbformat": 4,
 "nbformat_minor": 5
}

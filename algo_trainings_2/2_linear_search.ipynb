{
 "cells": [
  {
   "cell_type": "markdown",
   "id": "131837a4-df14-4d57-9afb-048cd85534e1",
   "metadata": {},
   "source": [
    "# Algorithms by Yandex"
   ]
  },
  {
   "cell_type": "markdown",
   "id": "70ddfb4c-e9b2-4660-b6f5-1e0b9c695eeb",
   "metadata": {},
   "source": [
    "[youtube playlist](https://www.youtube.com/playlist?list=PL6Wui14DvQPySdPv5NUqV3i8sDbHkCKC5)"
   ]
  },
  {
   "cell_type": "markdown",
   "id": "ce6e56b2-d6c6-4bad-ac8d-f38173f9550f",
   "metadata": {},
   "source": [
    "## Lesson 2. Linear search"
   ]
  },
  {
   "cell_type": "markdown",
   "id": "4c85dc57-fbc1-4b1d-be47-6946e6b6028f",
   "metadata": {},
   "source": [
    "Linear search is a simple search algorithm used to find a particular item in a collection of items. It works by checking each element in the collection one by one until the target item is found or all elements have been checked.\n",
    "\n",
    "Here's how the algorithm works:\n",
    "\n",
    "1. Start from the first element in the collection.\n",
    "1. Compare the current element with the target item.\n",
    "1. If the current element is equal to the target item, return its position.\n",
    "1. If the current element is not equal to the target item, move on to the next element and repeat steps 2 and 3.\n",
    "1. If all elements have been checked and the target item has not been found, return -1 to indicate that the item was not found."
   ]
  },
  {
   "cell_type": "code",
   "execution_count": 1,
   "id": "ef7c8d03-38bc-4e3b-b6a9-bc040982212c",
   "metadata": {
    "tags": []
   },
   "outputs": [],
   "source": [
    "def linear_search(arr, target):\n",
    "    for i in range(len(arr)):\n",
    "        if arr[i] == target:\n",
    "            return i\n",
    "    return -1"
   ]
  },
  {
   "cell_type": "markdown",
   "id": "83f896b4-1d7c-41a0-a64b-9f7416604601",
   "metadata": {
    "tags": []
   },
   "source": [
    "The time complexity of linear search is O(n), where n is the number of elements in the collection. This means that the algorithm takes longer to search through larger collections, but it is still efficient for small collections. However, it is not as efficient as other search algorithms, such as binary search, which has a time complexity of O(log n)."
   ]
  },
  {
   "cell_type": "markdown",
   "id": "bada7561-3781-4af6-b82c-e076cea4d4b9",
   "metadata": {},
   "source": [
    "Linear search summary:\n",
    "- Linear search is a search method where all elements are checked.\n",
    "- The complexity of linear search is linear, i.e. O(N).\n",
    "- Usually, the suitable or most suitable element is searched for."
   ]
  },
  {
   "cell_type": "markdown",
   "id": "5669a9ab-03b7-4994-9455-89c43542437a",
   "metadata": {},
   "source": [
    "#### Task 1. The first leftmost occurrence"
   ]
  },
  {
   "cell_type": "markdown",
   "id": "61f5c25c-3490-4458-9522-70bed7727fec",
   "metadata": {},
   "source": [
    "Given a sequence of numbers of length N, find the first (leftmost) occurrence of the positive number X in it or output -1 if the number X has not been encountered."
   ]
  },
  {
   "cell_type": "markdown",
   "id": "d1178885-5b63-43fc-bf38-59277e5cb0a4",
   "metadata": {},
   "source": [
    "*The function findx takes two arguments: seq and x. The seq is a list of numbers and x is the number we want to search for in the list.*"
   ]
  },
  {
   "cell_type": "code",
   "execution_count": 4,
   "id": "bf693ad9-1501-49c1-bf2a-8c15346641e6",
   "metadata": {
    "tags": []
   },
   "outputs": [
    {
     "data": {
      "text/plain": [
       "1"
      ]
     },
     "execution_count": 4,
     "metadata": {},
     "output_type": "execute_result"
    }
   ],
   "source": [
    "def findx(seq, x):\n",
    "    # Initialize the variable \"ans\" with -1, which represents the position of the first occurrence of \"x\"\n",
    "    ans = -1\n",
    "\n",
    "    # Iterate over the elements in the list \"seq\"\n",
    "    for i in range(len(seq)):\n",
    "        # Check if the current element in \"seq\" is equal to \"x\" and \"ans\" is still -1\n",
    "        if ans == -1 and seq[i] == x:\n",
    "            # If both conditions are true, update the value of \"ans\" to the current index \"i\"\n",
    "            ans = i\n",
    "\n",
    "    # Return the value of \"ans\" as the result, which represents the position of the first occurrence of \"x\"\n",
    "    return ans\n",
    "\n",
    "# Call the function \"findx\" with a list of numbers and a number to search for\n",
    "findx([1, 2, 3, 2, 1], 2)"
   ]
  },
  {
   "cell_type": "markdown",
   "id": "471ec077-af7f-4849-96bd-ead38d63aed5",
   "metadata": {},
   "source": [
    "#### Task 2. The last rightmost occurrence"
   ]
  },
  {
   "cell_type": "markdown",
   "id": "9101782e-df45-4ab7-aa9b-3bc0f627668f",
   "metadata": {},
   "source": [
    "Given a sequence of numbers of length N, find the last (rightmost) occurrence of the positive number X in it or output -1 if the number X has not been encountered."
   ]
  },
  {
   "cell_type": "code",
   "execution_count": 7,
   "id": "a7b15dff-c07a-4255-8e8c-3803245eef35",
   "metadata": {
    "tags": []
   },
   "outputs": [
    {
     "data": {
      "text/plain": [
       "3"
      ]
     },
     "execution_count": 7,
     "metadata": {},
     "output_type": "execute_result"
    }
   ],
   "source": [
    "def findrightx(seq, x):\n",
    "    # Initialize the variable \"ans\" with -1, which represents the position of the last occurrence of \"x\"\n",
    "    ans = -1\n",
    "\n",
    "    # Iterate over the elements in the list \"seq\"\n",
    "    for i in range(len(seq)):\n",
    "        # Check if the current element in \"seq\" is equal to \"x\"\n",
    "        if seq[i] == x:\n",
    "            # If the condition is true, update the value of \"ans\" to the current index \"i\"\n",
    "            ans = i\n",
    "\n",
    "    # Return the value of \"ans\" as the result, which represents the position of the last occurrence of \"x\"\n",
    "    return ans\n",
    "\n",
    "# Call the function \"findrightx\" with a list of numbers and a number to search for\n",
    "findrightx([1, 2, 3, 2, 1], 2)"
   ]
  },
  {
   "cell_type": "markdown",
   "id": "13dbc97c-3ce4-4592-bb86-c7b767f4d660",
   "metadata": {},
   "source": [
    "#### Task 3. Find MAX value"
   ]
  },
  {
   "cell_type": "markdown",
   "id": "366dd855-7415-49fa-9a96-3da9c3e2418d",
   "metadata": {
    "tags": []
   },
   "source": [
    "Given a sequence of numbers with length N (N>0), find the maximum number in the sequence."
   ]
  },
  {
   "cell_type": "markdown",
   "id": "443fd33a-f703-4c1f-8637-27e15eaa9203",
   "metadata": {},
   "source": [
    "This one will be a fast version of the solution, but not optimized by memory consumtion. "
   ]
  },
  {
   "cell_type": "code",
   "execution_count": 13,
   "id": "809f552e-3082-4976-b686-1ad9ad9770bf",
   "metadata": {
    "tags": []
   },
   "outputs": [
    {
     "data": {
      "text/plain": [
       "3"
      ]
     },
     "execution_count": 13,
     "metadata": {},
     "output_type": "execute_result"
    }
   ],
   "source": [
    "def findmax(seq):\n",
    "    # Initialize the variable \"ans\" with the first element of the list \"seq\"\n",
    "    ans = seq[0]\n",
    "\n",
    "    # Iterate over the elements in the list \"seq\" starting from the second element\n",
    "    for i in range(1, len(seq)):\n",
    "        # Check if the current element in \"seq\" is greater than the current value of \"ans\"\n",
    "        if seq[i] > ans:\n",
    "            # If the condition is true, update the value of \"ans\" to the current element\n",
    "            ans = seq[i]\n",
    "\n",
    "    # Return the value of \"ans\" as the result, which represents the maximum number in the list \"seq\"\n",
    "    return ans\n",
    "\n",
    "# Call the function \"findmax\" with a list of numbers\n",
    "findmax([1, 2, 3, 1, 2])"
   ]
  },
  {
   "cell_type": "markdown",
   "id": "005c6849-ab3b-4c2a-94f4-7717c73c7aff",
   "metadata": {},
   "source": [
    "This one is better (in terms of memory consumption) will be to store not the value, but the index of an element with this value. Let's have a look how to do it:"
   ]
  },
  {
   "cell_type": "code",
   "execution_count": 14,
   "id": "6fece827-4d9c-4a93-9d4a-9923c44791cd",
   "metadata": {
    "tags": []
   },
   "outputs": [
    {
     "data": {
      "text/plain": [
       "3"
      ]
     },
     "execution_count": 14,
     "metadata": {},
     "output_type": "execute_result"
    }
   ],
   "source": [
    "def findmax(seq):\n",
    "    # Initialize the variable \"ans\" with the index 0\n",
    "    ans = 0\n",
    "\n",
    "    # Iterate over the elements in the list \"seq\" starting from the second element\n",
    "    for i in range(1, len(seq)):\n",
    "        # Check if the current element in \"seq\" is greater than the element at the index \"ans\"\n",
    "        if seq[i] > seq[ans]:\n",
    "            # If the condition is true, update the value of \"ans\" to the current index \"i\"\n",
    "            ans = i\n",
    "\n",
    "    # Return the element at the index \"ans\" as the result, which represents the maximum number in the list \"seq\"\n",
    "    return seq[ans]\n",
    "\n",
    "# Call the function \"findmax\" with a list of numbers\n",
    "findmax([1, 2, 3, 1, 2])"
   ]
  },
  {
   "cell_type": "markdown",
   "id": "c9ebfbe6-ac5b-4104-80ce-f6d7525cdcdf",
   "metadata": {},
   "source": [
    "The lexicographic order is almost the same as the alphabetical order, with one difference being that in the former, uppercase and lowercase letters are treated as different, while in the latter they are not. It is used to sort words in dictionaries and is often used in computer science when sorting data structures such as lists and arrays. In general, the lexicographic order is used to order words and symbols based on the sequence of their characters, rather than their numerical values."
   ]
  },
  {
   "cell_type": "markdown",
   "id": "09162ca2-5b96-49e3-b69d-571893290b4a",
   "metadata": {},
   "source": [
    "#### Task 4. Find MAX and penultimate MAX value"
   ]
  },
  {
   "cell_type": "markdown",
   "id": "8f836516-9d33-40b4-b49b-a47b27d285ae",
   "metadata": {},
   "source": [
    "Given a sequence of numbers of length N (N > 1). Find the largest number in the sequence and the second largest number (the one that will be the largest if one maximum number is removed from the sequence)."
   ]
  },
  {
   "cell_type": "code",
   "execution_count": 17,
   "id": "dfc37d90-8598-4731-a6ad-f5b851f50aec",
   "metadata": {
    "tags": []
   },
   "outputs": [
    {
     "data": {
      "text/plain": [
       "(3, 2)"
      ]
     },
     "execution_count": 17,
     "metadata": {},
     "output_type": "execute_result"
    }
   ],
   "source": [
    "def findmax2(seq):\n",
    "    # initialize max1 with the maximum of first two elements\n",
    "    max1 = max(seq[0], seq[1])\n",
    "    # initialize max2 with the minimum of first two elements\n",
    "    max2 = min(seq[0], seq[1])\n",
    "    \n",
    "    # loop through the remaining elements\n",
    "    for i in range(2, len(seq)):\n",
    "        # if the current element is greater than max1, update max2 to the previous max1 value, and max1 to the current element\n",
    "        if seq[i] > max1:\n",
    "            max2 = max1\n",
    "            max1 = seq[i]\n",
    "        # if the current element is greater than max2 but not greater than max1, update max2 to the current element\n",
    "        elif seq[i] > max2:\n",
    "            max2 = seq[i]\n",
    "    \n",
    "    # return max1 and max2 as a tuple\n",
    "    return (max1, max2)\n",
    "\n",
    "# example usage\n",
    "findmax2([2, 1, 3, 2, 1])"
   ]
  },
  {
   "cell_type": "markdown",
   "id": "3ad17fc7-a78b-48aa-a18c-134c3120e747",
   "metadata": {},
   "source": [
    "#### Task 5. Find MIN even number"
   ]
  },
  {
   "cell_type": "markdown",
   "id": "4bfa2850-5dd0-4a25-88a1-32559579154e",
   "metadata": {},
   "source": [
    "Find the minimum even number in a sequence of numbers of length N, or output -1 if such a number does not exist."
   ]
  },
  {
   "cell_type": "code",
   "execution_count": 21,
   "id": "d65819e2-7236-4ed1-94de-c5124f5992c7",
   "metadata": {
    "tags": []
   },
   "outputs": [
    {
     "data": {
      "text/plain": [
       "4"
      ]
     },
     "execution_count": 21,
     "metadata": {},
     "output_type": "execute_result"
    }
   ],
   "source": [
    "def findmineven(seq):\n",
    "    # Initialize the answer to -1, to indicate that no even number is found yet\n",
    "    ans = -1\n",
    "    \n",
    "    # Loop through all the elements in the sequence\n",
    "    for i in range(len(seq)):\n",
    "        # Check if the current element is even and either ans is still -1 or the current element is smaller than the current value of ans\n",
    "        if seq[i] % 2 == 0 and (ans == -1 or seq[i] < ans):\n",
    "            ans = seq[i]\n",
    "    \n",
    "    # Return the answer\n",
    "    return ans\n",
    "\n",
    "# Example usage\n",
    "findmineven([1, 3, 4, 5, 12])"
   ]
  },
  {
   "cell_type": "markdown",
   "id": "a4a58e56-c2df-493f-b176-62f841211b52",
   "metadata": {},
   "source": [
    "Same, but using a flag boolean variable:   \n",
    "*This code uses a flag boolean variable to keep track of whether or not an even number has been found in the sequence. The flag variable is initialized to False at the start of the function, indicating that no even number has been found yet. In each iteration of the loop, if the current number is even and either no even number has been found yet (indicated by not flag) or the current number is smaller than the current minimum even number (seq\\[i\\] < ans), then the minimum even number is updated to the current number and the flag is set to True to indicate that an even number has been found. If the loop finishes without finding an even number, then the function returns -1.*"
   ]
  },
  {
   "cell_type": "code",
   "execution_count": 22,
   "id": "ad66a014-e15e-4884-b9d2-bf6eb9c4eff8",
   "metadata": {
    "tags": []
   },
   "outputs": [
    {
     "name": "stdout",
     "output_type": "stream",
     "text": [
      "4\n"
     ]
    }
   ],
   "source": [
    "def findmineven(seq):\n",
    "    # Initialize the flag variable to False, indicating that we have not found an even number yet.\n",
    "    flag = False\n",
    "    # Iterate through the sequence of numbers.\n",
    "    for i in range(len(seq)):\n",
    "        # If the current number is even and (either the flag is False, meaning we haven't found an even number yet,\n",
    "        # or the current number is smaller than the current minimum even number), then update the minimum even number.\n",
    "        if seq[i] % 2 == 0 and (not flag or seq[i] < ans):\n",
    "            ans = seq[i]\n",
    "            # Set the flag to True to indicate that we have found an even number.\n",
    "            flag = True\n",
    "    # Return the minimum even number, or -1 if no even number was found.\n",
    "    return ans\n",
    "\n",
    "# Example usage\n",
    "print(findmineven([1, 3, 4, 5, 12]))"
   ]
  },
  {
   "cell_type": "markdown",
   "id": "68147ef4-2424-4ed3-b884-c2742092b804",
   "metadata": {},
   "source": [
    "#### Task 6. Find the shortest words"
   ]
  },
  {
   "cell_type": "markdown",
   "id": "5e776d72-1708-44b0-92ec-4802ace1dc74",
   "metadata": {},
   "source": [
    "Given a sequence of words, output all the shortest words separated by spaces."
   ]
  },
  {
   "cell_type": "markdown",
   "id": "ae7e4272-9a15-4e54-b97b-aa65c0d49654",
   "metadata": {},
   "source": [
    "The solution is in two passes:  \n",
    "*The shortwords function takes a list of strings words as input. It first finds the minimum length of the words in the list by initializing minlen to the length of the first word in the list and then iterating through the rest of the words, updating minlen if a shorter word is found.*\n",
    "\n",
    "*Next, the function creates a list ans of all words with the minimum length. This is done by iterating through the words list again and checking if each word has a length equal to minlen. If a word with the minimum length is found, it is appended to ans.*\n",
    "\n",
    "*Finally, the function returns the list of words with the minimum length as a string, separated by spaces, by using the join method on the list ans.*"
   ]
  },
  {
   "cell_type": "code",
   "execution_count": 29,
   "id": "638033ab-a6f1-4456-89c8-43d5dd513d6e",
   "metadata": {
    "tags": []
   },
   "outputs": [
    {
     "data": {
      "text/plain": [
       "'b d'"
      ]
     },
     "execution_count": 29,
     "metadata": {},
     "output_type": "execute_result"
    }
   ],
   "source": [
    "def shortwords(words):\n",
    "    # Find the minimum length of words in the list\n",
    "    minlen = len(words[0])\n",
    "    for word in words:\n",
    "        if len(word) < minlen:\n",
    "            minlen = len(word)\n",
    "    \n",
    "    # Create a list of all words with the minimum length\n",
    "    ans = []\n",
    "    for word in words:\n",
    "        if len(word) == minlen:\n",
    "            ans.append(word)\n",
    "    \n",
    "    # Return the list of words with the minimum length as a string, separated by spaces\n",
    "    return ' '.join(ans)\n",
    "\n",
    "shortwords(['aa', 'b', 'cc', 'd'])"
   ]
  },
  {
   "cell_type": "markdown",
   "id": "babc5c59-788f-4e3b-bcd3-213aba5dc517",
   "metadata": {},
   "source": [
    "#### Task 7. Define the volume of water"
   ]
  },
  {
   "cell_type": "markdown",
   "id": "f6e45c9d-cb7b-4bac-990d-655a3204599a",
   "metadata": {},
   "source": [
    "The game PitCraft takes place in a two-dimensional world consisting of 1 by 1 meter blocks. The player's island is represented by a set of columns of different heights, made up of stone blocks and surrounded by sea. A strong rain has passed over the island, filling all the valleys with water and any excess water flowed into the sea without increasing its level.\n",
    "Determine the amount of water blocks left in the valleys on the island landscape."
   ]
  },
  {
   "cell_type": "markdown",
   "id": "91761449-3ef4-4beb-bf99-c65cf2179ccc",
   "metadata": {
    "tags": []
   },
   "source": [
    "<img src=\\\"./pics/2_1_pic.png\\\">"
   ]
  },
  {
   "cell_type": "code",
   "execution_count": 35,
   "id": "0659dc36-da0b-434e-872f-6c119607ec54",
   "metadata": {
    "tags": []
   },
   "outputs": [
    {
     "data": {
      "text/plain": [
       "7"
      ]
     },
     "execution_count": 35,
     "metadata": {},
     "output_type": "execute_result"
    }
   ],
   "source": [
    "def isleflood(h):\n",
    "    # Find the position of the highest column\n",
    "    maxpos = 0\n",
    "    for i in range(len(h)):\n",
    "        if h[i] > h[maxpos]:\n",
    "            maxpos = i\n",
    "\n",
    "    ans = 0\n",
    "    nowm = 0\n",
    "    # Count the trapped water in the columns before the highest one\n",
    "    for i in range(maxpos):\n",
    "        if h[i] > nowm:\n",
    "            nowm = h[i]\n",
    "        ans += nowm - h[i]\n",
    "\n",
    "    nowm = 0\n",
    "    # Count the trapped water in the columns after the highest one\n",
    "    for i in range(len(h) - 1, maxpos, -1):\n",
    "        if h[i] > nowm:\n",
    "            nowm = h[i]\n",
    "        ans += nowm - h[i]\n",
    "\n",
    "    return ans\n",
    "\n",
    "\n",
    "isleflood([3, 1, 4, 3, 5, 1, 1, 3, 1])"
   ]
  },
  {
   "cell_type": "markdown",
   "id": "336a72f0-1121-4e1e-b0fb-a27e9deef273",
   "metadata": {},
   "source": [
    "#### Task 8. RLE"
   ]
  },
  {
   "cell_type": "markdown",
   "id": "c4cf4cd8-11f3-4e65-8dc7-39827fe6dccc",
   "metadata": {},
   "source": [
    "Given a string (possibly empty), consisting of letters A-Z:  \n",
    "`AAAABBBCCXYZDDDDEEEFFFAAAAAABBBBBBBBBBBBBBBBBBBBBBBBBBBB`    \n",
    "You need to write a function RLE, which will output a string in the form:  \n",
    "`A4B3C2XYZD4E3F3A6B28`  \n",
    "Explanations: If a symbol appears once, it remains unchanged, if a symbol repeats more than once, the number of repetitions is added to it."
   ]
  },
  {
   "cell_type": "markdown",
   "id": "dec0aab0-60db-4285-8b51-3cbf0832c84b",
   "metadata": {},
   "source": [
    "Firstly, let's practise to solve an easy type of this task. We need to return an output string with removed duplicated latters. "
   ]
  },
  {
   "cell_type": "code",
   "execution_count": 53,
   "id": "42c26fd2-bf49-4fc9-9c7b-f3150b106160",
   "metadata": {
    "tags": []
   },
   "outputs": [
    {
     "data": {
      "text/plain": [
       "'ABCXYZDEFAB'"
      ]
     },
     "execution_count": 53,
     "metadata": {},
     "output_type": "execute_result"
    }
   ],
   "source": [
    "def easypeasy(s):\n",
    "    # initializing variables to store the last symbol, and the answer list\n",
    "    lastsym = s[0]\n",
    "    ans = []\n",
    "    # looping through the string starting from the second symbol (index 1)\n",
    "    for i in range(1, len(s)):\n",
    "        # if the current symbol is different from the last symbol\n",
    "        if s[i] != lastsym:\n",
    "            # append the last symbol to the answer list\n",
    "            ans.append(lastsym)\n",
    "            # update the last symbol to be the current symbol\n",
    "            lastsym = s[i]\n",
    "    # after the loop is done, append the last symbol to the answer list\n",
    "    ans.append(lastsym)\n",
    "    # join all the elements in the answer list into a single string and return it\n",
    "    return ''.join(ans)\n",
    "\n",
    "\n",
    "# testing the function\n",
    "easypeasy(\"AAAABBBCCXYZDDDDEEEFFFAAAAAABBBBBBBBBBBBBBBBBBBBBBBBBBBB\")"
   ]
  },
  {
   "cell_type": "markdown",
   "id": "8f080a7a-e4bf-4fe2-a792-150636b8b077",
   "metadata": {},
   "source": [
    "And now let's solve the task itself. "
   ]
  },
  {
   "cell_type": "code",
   "execution_count": 54,
   "id": "5837cf24-bcab-41a9-a387-f497c9fc04bc",
   "metadata": {
    "tags": []
   },
   "outputs": [
    {
     "data": {
      "text/plain": [
       "'A4B3C2XYZD4E3F3A6B28'"
      ]
     },
     "execution_count": 54,
     "metadata": {},
     "output_type": "execute_result"
    }
   ],
   "source": [
    "def rle(s):\n",
    "    \"\"\"\n",
    "    This function implements the RLE algorithm for compressing a string.\n",
    "    If a character occurs more than once in the string, it will be compressed into the character followed by the number of repetitions.\n",
    "\n",
    "    Parameters:\n",
    "    s (str): The string to be compressed.\n",
    "\n",
    "    Returns:\n",
    "    str: The compressed string.\n",
    "    \"\"\"\n",
    "    \n",
    "    def pack(s, cnt):\n",
    "        \"\"\"\n",
    "        Helper function to format a character and its count into a string.\n",
    "\n",
    "        Parameters:\n",
    "        s (str): The character to be packed.\n",
    "        cnt (int): The number of repetitions of the character.\n",
    "\n",
    "        Returns:\n",
    "        str: The packed string.\n",
    "        \"\"\"\n",
    "        if cnt > 1:\n",
    "            return s + str(cnt)\n",
    "        return s\n",
    "    \n",
    "    lastsym = s[0]  # Store the last symbol\n",
    "    lastpos = 0  # Store the last position of the symbol\n",
    "    ans = []  # Create an empty list for the answer\n",
    "    \n",
    "    # Iterate over all characters in the string\n",
    "    for i in range(len(s)):\n",
    "        # If the current character is different from the last symbol\n",
    "        if s[i] != lastsym:\n",
    "            # Add the packed form of the last symbol to the answer list\n",
    "            ans.append(pack(lastsym, i - lastpos))\n",
    "            lastpos = i  # Update the last position\n",
    "            lastsym = s[i]  # Update the last symbol\n",
    "    \n",
    "    # Add the packed form of the last symbol to the answer list\n",
    "    ans.append(pack(s[lastpos], len(s) - lastpos))\n",
    "    \n",
    "    # Join all elements in the answer list into a single string\n",
    "    return ''.join(ans)\n",
    "\n",
    "rle('AAAABBBCCXYZDDDDEEEFFFAAAAAABBBBBBBBBBBBBBBBBBBBBBBBBBBB')\n"
   ]
  }
 ],
 "metadata": {
  "kernelspec": {
   "display_name": "Python 3 (ipykernel)",
   "language": "python",
   "name": "python3"
  },
  "language_info": {
   "codemirror_mode": {
    "name": "ipython",
    "version": 3
   },
   "file_extension": ".py",
   "mimetype": "text/x-python",
   "name": "python",
   "nbconvert_exporter": "python",
   "pygments_lexer": "ipython3",
   "version": "3.7.11"
  }
 },
 "nbformat": 4,
 "nbformat_minor": 5
}

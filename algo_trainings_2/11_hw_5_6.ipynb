{
 "cells": [
  {
   "cell_type": "markdown",
   "id": "131837a4-df14-4d57-9afb-048cd85534e1",
   "metadata": {},
   "source": [
    "# Algorithms by Yandex"
   ]
  },
  {
   "cell_type": "markdown",
   "id": "70ddfb4c-e9b2-4660-b6f5-1e0b9c695eeb",
   "metadata": {},
   "source": [
    "[youtube playlist](https://www.youtube.com/playlist?list=PL6Wui14DvQPySdPv5NUqV3i8sDbHkCKC5)"
   ]
  },
  {
   "cell_type": "markdown",
   "id": "ce6e56b2-d6c6-4bad-ac8d-f38173f9550f",
   "metadata": {},
   "source": [
    "## Lessons 5 & 6. Hometasks"
   ]
  },
  {
   "cell_type": "markdown",
   "id": "9bf89146-15b4-4bc5-9c3d-f801f171c884",
   "metadata": {},
   "source": [
    "### Lesson 5. "
   ]
  },
  {
   "cell_type": "markdown",
   "id": "80a6db04-c3c7-46ef-b076-7a251d0abf6a",
   "metadata": {},
   "source": [
    "#### Task 1. "
   ]
  },
  {
   "cell_type": "markdown",
   "id": "188ab574-f955-45d2-af64-a81960b1d09d",
   "metadata": {},
   "source": [
    "In each game of checkers, three players participate. During the game, each of the players earns a certain positive integer number of points. If, at the end of the game, the first player has scored A points, the second has scored B points, and the third has scored C points, it is said that the game ended with a score of A:B:C.\n",
    "\n",
    "Andrew knows that the rules of the game are such that as a result of the game, the scores of any two players differ by no more than K times. After the match, Andrew displays its result by placing three cards with the players' scores on a special scoreboard. He has a set of n cards, each with a number x1, x2, ..., xn written on it.   \n",
    "\n",
    "To find out how prepared he is for the championship, Andrew wants to understand how many different score combinations he can show on the scoreboard using the available cards.  \n",
    "\n",
    "3 <= n <= 100000; 1 <= k <= 10^9; 1 <= Xi <= 10^9"
   ]
  },
  {
   "cell_type": "code",
   "execution_count": 4,
   "id": "6f855214-1e78-4244-8acd-2ec53af73e85",
   "metadata": {
    "tags": []
   },
   "outputs": [
    {
     "name": "stdin",
     "output_type": "stream",
     "text": [
      " 4 3\n",
      " 1 2 3 6\n"
     ]
    },
    {
     "name": "stdout",
     "output_type": "stream",
     "text": [
      "12\n"
     ]
    }
   ],
   "source": [
    "# read input of integers n and k\n",
    "n, k = map(int, input().split())\n",
    "\n",
    "# read input of list of integers x\n",
    "x = list(map(int, input().split()))\n",
    "\n",
    "# create a dictionary cntnums to count the frequency of each number in x\n",
    "cntnums = {}\n",
    "for now in x:\n",
    "    if now not in cntnums:\n",
    "        cntnums[now] = 0\n",
    "    cntnums[now] += 1\n",
    "\n",
    "# create a sorted list of unique numbers in x\n",
    "uniqnums = list(cntnums.keys())\n",
    "uniqnums.sort()\n",
    "\n",
    "# initialize variables\n",
    "r = 0\n",
    "ans = 0\n",
    "duplicates = 0\n",
    "\n",
    "# iterate over the unique numbers in x\n",
    "for l in range(len(uniqnums)):\n",
    "    # move the right pointer r to the first number outside the k-multiple range of the current left number\n",
    "    while r < len(uniqnums) and uniqnums[l] * k >= uniqnums[r]:\n",
    "        # count the number of duplicates\n",
    "        if cntnums[uniqnums[r]] >= 2:\n",
    "            duplicates += 1\n",
    "        r += 1\n",
    "    # calculate the length of the range and add to ans\n",
    "    rangelen = r - l\n",
    "    # add to ans based on the number of duplicates and the frequency of the current left number\n",
    "    if cntnums[uniqnums[l]] >= 2:\n",
    "        ans += (rangelen - 1) * 3\n",
    "    if cntnums[uniqnums[l]] >= 3:\n",
    "        ans += 1\n",
    "    ans += (rangelen - 1) * (rangelen - 2) * 3\n",
    "    # subtract one from the number of duplicates if the current left number has duplicates\n",
    "    if cntnums[uniqnums[l]] >= 2:\n",
    "        duplicates -= 1\n",
    "    # add to ans based on the remaining number of duplicates\n",
    "    ans += duplicates * 3\n",
    "\n",
    "# print the answer\n",
    "print(ans)"
   ]
  },
  {
   "cell_type": "markdown",
   "id": "963810e5-0e93-489b-972d-473a5929ce7e",
   "metadata": {},
   "source": [
    "#### Task 2. "
   ]
  },
  {
   "cell_type": "markdown",
   "id": "5e1d6d0a-c570-4b58-a934-c8e6dfb12c21",
   "metadata": {},
   "source": [
    "During the engine assembly, 26 types of operations may occur, which are denoted by lowercase Latin letters. The assembly process consists of N operations.  \n",
    "It is planned to use a robot once to perform a part of consecutive operations from the assembly process.  \n",
    "The robot's memory consists of K cells, each of which contains one operation. Operations are performed sequentially, starting with the first one, in the order they are located in memory. After performing the last operation, the robot continues to work from the first one. The robot can be stopped after any operation. The use of the robot is economically feasible if it performs at least K+1 operations.  \n",
    "\n",
    "It is necessary to write a program that, based on the given assembly process, determines the number of economically feasible ways to use the robot.\n",
    "\n",
    "N <= 200000. "
   ]
  },
  {
   "cell_type": "code",
   "execution_count": 6,
   "id": "3be03933-c788-4138-a94d-cef86f723769",
   "metadata": {
    "tags": []
   },
   "outputs": [
    {
     "name": "stdin",
     "output_type": "stream",
     "text": [
      " 3\n",
      " abcabcacb\n"
     ]
    },
    {
     "name": "stdout",
     "output_type": "stream",
     "text": [
      "10\n"
     ]
    }
   ],
   "source": [
    "# get the input values of k and s\n",
    "k = int(input())\n",
    "s = input()\n",
    "\n",
    "# initialize variables for previous length and answer\n",
    "prevlen = 0\n",
    "ans = 0\n",
    "\n",
    "# loop through the string starting from the kth character\n",
    "for i in range(k, len(s)):\n",
    "    # check if the current character matches the one k characters before\n",
    "    if s[i] == s[i - k]:\n",
    "        # increment the previous length and add it to the answer\n",
    "        prevlen += 1\n",
    "        ans += prevlen\n",
    "    else:\n",
    "        # reset the previous length if the characters don't match\n",
    "        prevlen = 0\n",
    "\n",
    "# output the final answer\n",
    "print(ans)"
   ]
  },
  {
   "cell_type": "markdown",
   "id": "d8b87ea1-9e1c-4f9f-a526-cdc02dfb718e",
   "metadata": {},
   "source": [
    "#### Task 3. "
   ]
  },
  {
   "cell_type": "markdown",
   "id": "5cb1ed67-2bb3-4fde-8853-9ab2c8e6c962",
   "metadata": {},
   "source": [
    "Pete has been involved in a math circle for quite some time, so he has already learned not only the rules for performing simple operations, but also such a complex concept as symmetry. In order to better study symmetry, he decided to start with the simplest geometric shapes - triangles. He soon realized that so-called isosceles triangles have axial symmetry. Therefore, now Pete is looking for such triangles everywhere.  \n",
    "Recall that a triangle is called isosceles if its area is positive and it has at least two equal sides.  \n",
    "Recently, when Pete walked into class, he saw that N points were drawn on the board. Of course, he immediately wondered how many triples of these points are vertices of isosceles triangles.  \n",
    "\n",
    "You need to write a program that solves the specified problem.  \n",
    "3 <= n <= 1500"
   ]
  },
  {
   "cell_type": "code",
   "execution_count": 9,
   "id": "6659a306-0d6f-49c9-a047-23fc6eda82b8",
   "metadata": {
    "tags": []
   },
   "outputs": [
    {
     "name": "stdin",
     "output_type": "stream",
     "text": [
      " 4\n",
      " 0 0\n",
      " 0 1\n",
      " 1 0\n",
      " 1 1\n"
     ]
    },
    {
     "name": "stdout",
     "output_type": "stream",
     "text": [
      "4\n"
     ]
    }
   ],
   "source": [
    "n = int(input())  # read the number of points\n",
    "points = [] * n  # initialize an empty list to hold the points\n",
    "\n",
    "# read in the x and y coordinates for each point and add to the list\n",
    "for i in range(n):\n",
    "    x, y = map(int, input().split())\n",
    "    points.append((x, y))\n",
    "\n",
    "ans = 0  # initialize the answer to 0\n",
    "for i in range(n):\n",
    "    usedvectors = set()  # initialize a set to hold used vectors for each point\n",
    "    neig = []  # initialize a list to hold the lengths of the vectors between this point and all other points\n",
    "    for j in range(n):\n",
    "        # calculate the x and y components of the vector between these two points\n",
    "        vecx = points[i][0] - points[j][0]\n",
    "        vecy = points[i][1] - points[j][1]\n",
    "        veclen = vecx ** 2 + vecy ** 2  # calculate the length of the vector\n",
    "        neig.append(veclen)  # add the length to the list\n",
    "        if (vecx, vecy) in usedvectors:  # if we've seen this vector before, remove it from the answer\n",
    "            ans -= 1\n",
    "        usedvectors.add((-vecx, -vecy))  # add the negative vector to the set of used vectors\n",
    "    neig.sort()  # sort the list of vector lengths\n",
    "    r = 0\n",
    "    for l in range(len(neig)):\n",
    "        # find the number of other points that share the same vector length\n",
    "        while r < len(neig) and neig[l] == neig[r]:\n",
    "            r += 1\n",
    "        ans += r - l - 1  # add the number of combinations of two other points with this vector length to the answer\n",
    "    \n",
    "print(ans)  # output the final answer"
   ]
  },
  {
   "cell_type": "markdown",
   "id": "1fbf8c28-28d4-4425-98b8-27d857e286a0",
   "metadata": {},
   "source": [
    "There are four points located at the vertices of a unit square. Any three points of the square can form an isosceles triangle, and all possible combinations of these points form four isosceles triangles. Therefore, the output is 4."
   ]
  },
  {
   "cell_type": "markdown",
   "id": "dd69ae9b-bbe0-49f3-9fd7-098798f8c883",
   "metadata": {},
   "source": [
    "### Lesson 6. "
   ]
  },
  {
   "cell_type": "markdown",
   "id": "e44ff947-6af6-4884-809d-8f97bf103acf",
   "metadata": {},
   "source": [
    "#### Task 1. "
   ]
  },
  {
   "cell_type": "markdown",
   "id": "9bb21208-b30f-43d0-9130-ab3f538b2336",
   "metadata": {
    "tags": []
   },
   "source": [
    "There are N students in a class. The teacher received an instruction to create R cleaning brigades with C people in each. All brigades will be engaged in carrying logs. The logs are carried by all members of a brigade at the same time. The more similar the heights of the members of a brigade, the easier it is for them to carry the log.  \n",
    "The discomfort of a brigade is defined as the difference between the height of the tallest and the shortest member in that brigade (if there is only one person in the brigade, then this difference is zero). The teacher wants to form brigades in such a way that the maximum discomfort among all brigades formed is minimized. Help the teacher with this task.  \n",
    "1 <= R * C <= N <= 100000"
   ]
  },
  {
   "cell_type": "code",
   "execution_count": 13,
   "id": "39f6dd3b-152c-4304-bd07-86c182656c04",
   "metadata": {
    "tags": []
   },
   "outputs": [
    {
     "name": "stdin",
     "output_type": "stream",
     "text": [
      " 5 2 2\n",
      " 1\n",
      " 5\n",
      " 10\n",
      " 15\n",
      " 20\n"
     ]
    },
    {
     "name": "stdout",
     "output_type": "stream",
     "text": [
      "5\n"
     ]
    }
   ],
   "source": [
    "def check(m, checkparams):\n",
    "    # unpack the parameters\n",
    "    minbrigades, c, heights = checkparams\n",
    "    # loop through the heights of each student\n",
    "    i = 0\n",
    "    brigades = 0\n",
    "    while i < len(heights) - c + 1:\n",
    "        # check if the difference between the heights of the tallest and shortest\n",
    "        # students in a group of c students is less than or equal to m\n",
    "        if heights[i + c - 1] - heights[i] <= m:\n",
    "            brigades += 1\n",
    "            i += c\n",
    "        else:\n",
    "            i += 1\n",
    "    # return True if the number of brigades formed is greater than or equal to minbrigades\n",
    "    return brigades >= minbrigades\n",
    "\n",
    "\n",
    "def lbinsearch(l, r, check, checkparams):\n",
    "    # perform binary search for the smallest value of m such that check(m) is True\n",
    "    while l < r:\n",
    "        m = (l + r) // 2\n",
    "        if check(m, checkparams):\n",
    "            r = m\n",
    "        else:\n",
    "            l = m + 1\n",
    "    # return the value of m that satisfies the condition\n",
    "    return l\n",
    "\n",
    "\n",
    "# read input values\n",
    "n, r, c = map(int, input().split())\n",
    "heights = []\n",
    "for _ in range(n):\n",
    "    heights.append(int(input()))\n",
    "\n",
    "# sort the heights in non-decreasing order\n",
    "heights.sort()\n",
    "\n",
    "# perform binary search and print the result\n",
    "print(lbinsearch(0, heights[-1] - heights[0], check, (r, c, heights)))"
   ]
  },
  {
   "cell_type": "markdown",
   "id": "8b826430-8b3b-461f-8a79-07fa51d33d6f",
   "metadata": {},
   "source": [
    "#### Task 2. "
   ]
  },
  {
   "cell_type": "markdown",
   "id": "ce541eb1-42ed-4607-9178-2fac6a6a6623",
   "metadata": {},
   "source": [
    "Given N ordered sequences of integers, each of length L (i.e., each subsequent element is greater than or equal to the previous one). For each pair of sequences, the following operation is performed: their elements are combined (in the merged sequence, each number will occur as many times as it occurred in the combined sequences), the sequence is ordered in non-decreasing order, and the element at position L in this sequence of 2L elements is returned (this element is called the left median).  \n",
    "\n",
    "Write a program that, for each pair of sequences, outputs the left median of their merged sequence.  \n",
    "2 <= N <= 200, 1 <= L <= 50000"
   ]
  },
  {
   "cell_type": "code",
   "execution_count": 21,
   "id": "103d83a8-56de-407b-8b51-d650c83554e8",
   "metadata": {
    "tags": []
   },
   "outputs": [
    {
     "name": "stdin",
     "output_type": "stream",
     "text": [
      " 3 4\n",
      " 1 1 0 0 2\n",
      " 2 2 0 0 2\n",
      " 3 3 0 0 3\n"
     ]
    },
    {
     "name": "stdout",
     "output_type": "stream",
     "text": [
      "2\n",
      "2\n",
      "4\n"
     ]
    }
   ],
   "source": [
    "## Define a function to generate a sequence with a given length l, starting number x1, and difference d1, using the linear congruential generator algorithm with parameters a, c, and m.\n",
    "def gensequence(l, x1, d1, a, c, m):\n",
    "    seq = [x1] # start with x1\n",
    "    d = d1\n",
    "    for _ in range(l - 1): # generate the rest of the sequence\n",
    "        seq.append(seq[-1] + d) # add the next number to the sequence\n",
    "        d = ((a * d + c) % m) # calculate the next difference using the LCG algorithm\n",
    "    return seq\n",
    "\n",
    "\n",
    "# Define a function to perform binary search on a range of values between l and r, using a given function check and check parameters checkparams.\n",
    "def lbinsearch(l, r, check, checkparams):\n",
    "    while l < r: # continue searching while the range of values is not empty\n",
    "        m = (l + r) // 2 # find the midpoint of the range\n",
    "        if check(m, checkparams): # check if the midpoint satisfies the condition using the given check function and parameters\n",
    "            r = m # if the midpoint satisfies the condition, narrow the range to the left half\n",
    "        else:\n",
    "            l = m + 1 # if the midpoint does not satisfy the condition, narrow the range to the right half\n",
    "    return l\n",
    "\n",
    "\n",
    "# Define a function to check if an element in a sequence at a given index is greater than or equal to a given value x.\n",
    "def checkisge(index, params):\n",
    "    seq, x = params\n",
    "    return seq[index] >= x\n",
    "\n",
    "\n",
    "# Define a function to check if an element in a sequence at a given index is greater than a given value x.\n",
    "def checkisgt(index, params):\n",
    "    seq, x = params\n",
    "    return seq[index] > x\n",
    "\n",
    "\n",
    "# Define a function to count the number of elements in a sequence that are less than a given value x.\n",
    "def cntless(seq, x):\n",
    "    ans = lbinsearch(0, len(seq) - 1, checkisge, (seq, x)) # use binary search to find the index of the first element that is greater than or equal to x\n",
    "    if seq[ans] < x: # if the element at that index is less than x, increment the index to count all the elements that are less than x\n",
    "        return len(seq)\n",
    "    return ans # otherwise, return the index as the count of elements that are less than x\n",
    "\n",
    "\n",
    "# Define a function to count the number of elements in a sequence that are greater than a given value x.\n",
    "def cntgt(seq, x):\n",
    "    return len(seq) - cntless(seq, x + 1) # count the number of elements that are less than or equal to x and subtract that from the total number of elements in the sequence\n",
    "\n",
    "\n",
    "# Define a function to find the median of two sorted sequences.\n",
    "def medianmerge(seq1, seq2):\n",
    "    l = min(seq1[0], seq2[0]) # set the lower bound of the search space to the minimum of the first elements of the two sequences\n",
    "    r = max(seq1[-1], seq2[-1]) # set the upper bound of the search space to the maximum of the last elements of the two sequences\n",
    "    while l < r: # perform binary search on the search space\n",
    "        m = (l + r) // 2 # find the midpoint of the search space\n",
    "        less = cntless(seq1, m) + cntless(seq2, m) # count the total number of\n",
    "        gt = cntgt(seq1 , m) + cntgt(seq2, m)\n",
    "        if less <= len(seq1) - 1 and gt <= len(seq1):\n",
    "            return m\n",
    "        if gt > len(seq1):\n",
    "            l = m + 1\n",
    "        if less > len(seq1) - 1:\n",
    "            r = m - 1\n",
    "    return l\n",
    "        \n",
    "        \n",
    "n, l = map(int, input().split())\n",
    "seqs = []\n",
    "for i in range(n):\n",
    "    x1, d1, a, c, m = map(int, input().split())\n",
    "    seqs.append(gensequence(l, x1, d1, a, c, m))\n",
    "for i in range(n):\n",
    "    for j in range(i + 1, n):\n",
    "        print(medianmerge(seqs[i], seqs[j]))"
   ]
  }
 ],
 "metadata": {
  "kernelspec": {
   "display_name": "Python 3 (ipykernel)",
   "language": "python",
   "name": "python3"
  },
  "language_info": {
   "codemirror_mode": {
    "name": "ipython",
    "version": 3
   },
   "file_extension": ".py",
   "mimetype": "text/x-python",
   "name": "python",
   "nbconvert_exporter": "python",
   "pygments_lexer": "ipython3",
   "version": "3.7.11"
  }
 },
 "nbformat": 4,
 "nbformat_minor": 5
}

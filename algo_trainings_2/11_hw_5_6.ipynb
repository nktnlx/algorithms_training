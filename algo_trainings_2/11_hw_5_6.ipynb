{
 "cells": [
  {
   "cell_type": "markdown",
   "id": "131837a4-df14-4d57-9afb-048cd85534e1",
   "metadata": {},
   "source": [
    "# Algorithms by Yandex"
   ]
  },
  {
   "cell_type": "markdown",
   "id": "70ddfb4c-e9b2-4660-b6f5-1e0b9c695eeb",
   "metadata": {},
   "source": [
    "[youtube playlist](https://www.youtube.com/playlist?list=PL6Wui14DvQPySdPv5NUqV3i8sDbHkCKC5)"
   ]
  },
  {
   "cell_type": "markdown",
   "id": "ce6e56b2-d6c6-4bad-ac8d-f38173f9550f",
   "metadata": {},
   "source": [
    "## Lessons 5 & 6. Hometasks"
   ]
  },
  {
   "cell_type": "markdown",
   "id": "9bf89146-15b4-4bc5-9c3d-f801f171c884",
   "metadata": {},
   "source": [
    "### Lesson 5. "
   ]
  },
  {
   "cell_type": "markdown",
   "id": "80a6db04-c3c7-46ef-b076-7a251d0abf6a",
   "metadata": {},
   "source": [
    "#### Task 1. "
   ]
  },
  {
   "cell_type": "markdown",
   "id": "188ab574-f955-45d2-af64-a81960b1d09d",
   "metadata": {},
   "source": [
    "In each game of checkers, three players participate. During the game, each of the players earns a certain positive integer number of points. If, at the end of the game, the first player has scored A points, the second has scored B points, and the third has scored C points, it is said that the game ended with a score of A:B:C.\n",
    "\n",
    "Andrew knows that the rules of the game are such that as a result of the game, the scores of any two players differ by no more than K times. After the match, Andrew displays its result by placing three cards with the players' scores on a special scoreboard. He has a set of n cards, each with a number x1, x2, ..., xn written on it.   \n",
    "\n",
    "To find out how prepared he is for the championship, Andrew wants to understand how many different score combinations he can show on the scoreboard using the available cards.  \n",
    "\n",
    "3 <= n <= 100000; 1 <= k <= 10^9; 1 <= Xi <= 10^9"
   ]
  },
  {
   "cell_type": "code",
   "execution_count": 4,
   "id": "6f855214-1e78-4244-8acd-2ec53af73e85",
   "metadata": {
    "tags": []
   },
   "outputs": [
    {
     "name": "stdin",
     "output_type": "stream",
     "text": [
      " 4 3\n",
      " 1 2 3 6\n"
     ]
    },
    {
     "name": "stdout",
     "output_type": "stream",
     "text": [
      "12\n"
     ]
    }
   ],
   "source": [
    "# read input of integers n and k\n",
    "n, k = map(int, input().split())\n",
    "\n",
    "# read input of list of integers x\n",
    "x = list(map(int, input().split()))\n",
    "\n",
    "# create a dictionary cntnums to count the frequency of each number in x\n",
    "cntnums = {}\n",
    "for now in x:\n",
    "    if now not in cntnums:\n",
    "        cntnums[now] = 0\n",
    "    cntnums[now] += 1\n",
    "\n",
    "# create a sorted list of unique numbers in x\n",
    "uniqnums = list(cntnums.keys())\n",
    "uniqnums.sort()\n",
    "\n",
    "# initialize variables\n",
    "r = 0\n",
    "ans = 0\n",
    "duplicates = 0\n",
    "\n",
    "# iterate over the unique numbers in x\n",
    "for l in range(len(uniqnums)):\n",
    "    # move the right pointer r to the first number outside the k-multiple range of the current left number\n",
    "    while r < len(uniqnums) and uniqnums[l] * k >= uniqnums[r]:\n",
    "        # count the number of duplicates\n",
    "        if cntnums[uniqnums[r]] >= 2:\n",
    "            duplicates += 1\n",
    "        r += 1\n",
    "    # calculate the length of the range and add to ans\n",
    "    rangelen = r - l\n",
    "    # add to ans based on the number of duplicates and the frequency of the current left number\n",
    "    if cntnums[uniqnums[l]] >= 2:\n",
    "        ans += (rangelen - 1) * 3\n",
    "    if cntnums[uniqnums[l]] >= 3:\n",
    "        ans += 1\n",
    "    ans += (rangelen - 1) * (rangelen - 2) * 3\n",
    "    # subtract one from the number of duplicates if the current left number has duplicates\n",
    "    if cntnums[uniqnums[l]] >= 2:\n",
    "        duplicates -= 1\n",
    "    # add to ans based on the remaining number of duplicates\n",
    "    ans += duplicates * 3\n",
    "\n",
    "# print the answer\n",
    "print(ans)"
   ]
  },
  {
   "cell_type": "markdown",
   "id": "963810e5-0e93-489b-972d-473a5929ce7e",
   "metadata": {},
   "source": [
    "#### Task 2. "
   ]
  },
  {
   "cell_type": "markdown",
   "id": "5e1d6d0a-c570-4b58-a934-c8e6dfb12c21",
   "metadata": {},
   "source": [
    "During the engine assembly, 26 types of operations may occur, which are denoted by lowercase Latin letters. The assembly process consists of N operations.  \n",
    "It is planned to use a robot once to perform a part of consecutive operations from the assembly process.  \n",
    "The robot's memory consists of K cells, each of which contains one operation. Operations are performed sequentially, starting with the first one, in the order they are located in memory. After performing the last operation, the robot continues to work from the first one. The robot can be stopped after any operation. The use of the robot is economically feasible if it performs at least K+1 operations.  \n",
    "\n",
    "It is necessary to write a program that, based on the given assembly process, determines the number of economically feasible ways to use the robot.\n",
    "\n",
    "N <= 200000. "
   ]
  },
  {
   "cell_type": "code",
   "execution_count": 6,
   "id": "3be03933-c788-4138-a94d-cef86f723769",
   "metadata": {
    "tags": []
   },
   "outputs": [
    {
     "name": "stdin",
     "output_type": "stream",
     "text": [
      " 3\n",
      " abcabcacb\n"
     ]
    },
    {
     "name": "stdout",
     "output_type": "stream",
     "text": [
      "10\n"
     ]
    }
   ],
   "source": [
    "# get the input values of k and s\n",
    "k = int(input())\n",
    "s = input()\n",
    "\n",
    "# initialize variables for previous length and answer\n",
    "prevlen = 0\n",
    "ans = 0\n",
    "\n",
    "# loop through the string starting from the kth character\n",
    "for i in range(k, len(s)):\n",
    "    # check if the current character matches the one k characters before\n",
    "    if s[i] == s[i - k]:\n",
    "        # increment the previous length and add it to the answer\n",
    "        prevlen += 1\n",
    "        ans += prevlen\n",
    "    else:\n",
    "        # reset the previous length if the characters don't match\n",
    "        prevlen = 0\n",
    "\n",
    "# output the final answer\n",
    "print(ans)"
   ]
  },
  {
   "cell_type": "markdown",
   "id": "d8b87ea1-9e1c-4f9f-a526-cdc02dfb718e",
   "metadata": {},
   "source": [
    "#### Task 3. "
   ]
  },
  {
   "cell_type": "markdown",
   "id": "5cb1ed67-2bb3-4fde-8853-9ab2c8e6c962",
   "metadata": {},
   "source": [
    "Pete has been involved in a math circle for quite some time, so he has already learned not only the rules for performing simple operations, but also such a complex concept as symmetry. In order to better study symmetry, he decided to start with the simplest geometric shapes - triangles. He soon realized that so-called isosceles triangles have axial symmetry. Therefore, now Pete is looking for such triangles everywhere.  \n",
    "Recall that a triangle is called isosceles if its area is positive and it has at least two equal sides.  \n",
    "Recently, when Pete walked into class, he saw that N points were drawn on the board. Of course, he immediately wondered how many triples of these points are vertices of isosceles triangles.  \n",
    "\n",
    "You need to write a program that solves the specified problem.  \n",
    "3 <= n <= 1500"
   ]
  },
  {
   "cell_type": "code",
   "execution_count": 9,
   "id": "6659a306-0d6f-49c9-a047-23fc6eda82b8",
   "metadata": {
    "tags": []
   },
   "outputs": [
    {
     "name": "stdin",
     "output_type": "stream",
     "text": [
      " 4\n",
      " 0 0\n",
      " 0 1\n",
      " 1 0\n",
      " 1 1\n"
     ]
    },
    {
     "name": "stdout",
     "output_type": "stream",
     "text": [
      "4\n"
     ]
    }
   ],
   "source": [
    "n = int(input())  # read the number of points\n",
    "points = [] * n  # initialize an empty list to hold the points\n",
    "\n",
    "# read in the x and y coordinates for each point and add to the list\n",
    "for i in range(n):\n",
    "    x, y = map(int, input().split())\n",
    "    points.append((x, y))\n",
    "\n",
    "ans = 0  # initialize the answer to 0\n",
    "for i in range(n):\n",
    "    usedvectors = set()  # initialize a set to hold used vectors for each point\n",
    "    neig = []  # initialize a list to hold the lengths of the vectors between this point and all other points\n",
    "    for j in range(n):\n",
    "        # calculate the x and y components of the vector between these two points\n",
    "        vecx = points[i][0] - points[j][0]\n",
    "        vecy = points[i][1] - points[j][1]\n",
    "        veclen = vecx ** 2 + vecy ** 2  # calculate the length of the vector\n",
    "        neig.append(veclen)  # add the length to the list\n",
    "        if (vecx, vecy) in usedvectors:  # if we've seen this vector before, remove it from the answer\n",
    "            ans -= 1\n",
    "        usedvectors.add((-vecx, -vecy))  # add the negative vector to the set of used vectors\n",
    "    neig.sort()  # sort the list of vector lengths\n",
    "    r = 0\n",
    "    for l in range(len(neig)):\n",
    "        # find the number of other points that share the same vector length\n",
    "        while r < len(neig) and neig[l] == neig[r]:\n",
    "            r += 1\n",
    "        ans += r - l - 1  # add the number of combinations of two other points with this vector length to the answer\n",
    "    \n",
    "print(ans)  # output the final answer"
   ]
  },
  {
   "cell_type": "markdown",
   "id": "1fbf8c28-28d4-4425-98b8-27d857e286a0",
   "metadata": {},
   "source": [
    "There are four points located at the vertices of a unit square. Any three points of the square can form an isosceles triangle, and all possible combinations of these points form four isosceles triangles. Therefore, the output is 4."
   ]
  },
  {
   "cell_type": "markdown",
   "id": "dd69ae9b-bbe0-49f3-9fd7-098798f8c883",
   "metadata": {},
   "source": [
    "### Lesson 6. "
   ]
  },
  {
   "cell_type": "markdown",
   "id": "e44ff947-6af6-4884-809d-8f97bf103acf",
   "metadata": {},
   "source": [
    "#### Task 1. "
   ]
  },
  {
   "cell_type": "markdown",
   "id": "9bb21208-b30f-43d0-9130-ab3f538b2336",
   "metadata": {
    "tags": []
   },
   "source": [
    "tbc.."
   ]
  },
  {
   "cell_type": "markdown",
   "id": "8b826430-8b3b-461f-8a79-07fa51d33d6f",
   "metadata": {},
   "source": [
    "#### Task 2. "
   ]
  },
  {
   "cell_type": "code",
   "execution_count": null,
   "id": "d64ff411-9dec-4ef6-bd45-e87e5b654411",
   "metadata": {},
   "outputs": [],
   "source": []
  },
  {
   "cell_type": "code",
   "execution_count": null,
   "id": "c2e0ca3c-bbef-4800-9542-8b86b2c9d649",
   "metadata": {},
   "outputs": [],
   "source": []
  },
  {
   "cell_type": "code",
   "execution_count": null,
   "id": "14c16ac6-d4d3-4c04-a97d-53fac4bbeddf",
   "metadata": {},
   "outputs": [],
   "source": []
  }
 ],
 "metadata": {
  "kernelspec": {
   "display_name": "Python 3 (ipykernel)",
   "language": "python",
   "name": "python3"
  },
  "language_info": {
   "codemirror_mode": {
    "name": "ipython",
    "version": 3
   },
   "file_extension": ".py",
   "mimetype": "text/x-python",
   "name": "python",
   "nbconvert_exporter": "python",
   "pygments_lexer": "ipython3",
   "version": "3.7.11"
  }
 },
 "nbformat": 4,
 "nbformat_minor": 5
}

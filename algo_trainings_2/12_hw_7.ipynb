{
 "cells": [
  {
   "cell_type": "markdown",
   "id": "131837a4-df14-4d57-9afb-048cd85534e1",
   "metadata": {},
   "source": [
    "# Algorithms by Yandex"
   ]
  },
  {
   "cell_type": "markdown",
   "id": "70ddfb4c-e9b2-4660-b6f5-1e0b9c695eeb",
   "metadata": {},
   "source": [
    "[youtube playlist](https://www.youtube.com/playlist?list=PL6Wui14DvQPySdPv5NUqV3i8sDbHkCKC5)"
   ]
  },
  {
   "cell_type": "markdown",
   "id": "ce6e56b2-d6c6-4bad-ac8d-f38173f9550f",
   "metadata": {},
   "source": [
    "## Lessons 7. Hometasks"
   ]
  },
  {
   "cell_type": "markdown",
   "id": "9bf89146-15b4-4bc5-9c3d-f801f171c884",
   "metadata": {},
   "source": [
    "### Lesson 7. "
   ]
  },
  {
   "cell_type": "markdown",
   "id": "80a6db04-c3c7-46ef-b076-7a251d0abf6a",
   "metadata": {},
   "source": [
    "#### Task 1. "
   ]
  },
  {
   "cell_type": "markdown",
   "id": "7cb3a6b8-3e38-44d5-b37a-4b30105b1316",
   "metadata": {},
   "source": [
    "The company decided to broadcast its advertisement in a supermarket. However, they only had enough money planned for the advertising campaign to cover two broadcasts of the advertisement during one working day.  \n",
    "The company collected information on the arrival and departure times of each customer on a certain day. The advertising manager suggested that the customers would arrive and depart at exactly the same times the following day.  \n",
    "Help the manager determine the times when the advertising broadcasts should be played to ensure that as many customers as possible hear the advertisement in its entirety at least once from start to finish. The advertisement lasts exactly 5 units of time. The broadcasts should not overlap, so the start of the second broadcast should be at least 5 units of time after the start of the first.  \n",
    "1 <= N <= 2000."
   ]
  },
  {
   "cell_type": "code",
   "execution_count": 13,
   "id": "2c44706a-cf6c-4a62-95b6-b7f3fe32a533",
   "metadata": {
    "tags": []
   },
   "outputs": [
    {
     "name": "stdin",
     "output_type": "stream",
     "text": [
      " 2\n",
      " 1 6\n",
      " 6 15\n"
     ]
    },
    {
     "name": "stdout",
     "output_type": "stream",
     "text": [
      "2 1 6\n"
     ]
    }
   ],
   "source": [
    "# Take input for the number of events\n",
    "n = int(input())\n",
    "\n",
    "# Create an empty list to store events\n",
    "events = []\n",
    "\n",
    "# Loop over each event and store it as a tuple in the events list\n",
    "for i in range(n):\n",
    "    # Take input for the start and end times of the event\n",
    "    nowin, nowout = map(int, input().split())\n",
    "    \n",
    "    # Check if the event is long enough for the advertisement\n",
    "    if nowout - nowin >= 5:\n",
    "        # Append the start time, -1 (indicating the start of an event), and the index of the event to the events list\n",
    "        events.append((nowin, -1, i))\n",
    "        # Append the end time minus 5, 1 (indicating the end of an event), and the index of the event to the events list\n",
    "        events.append((nowout - 5, 1, i))\n",
    "\n",
    "# Sort the events list by time\n",
    "events.sort()\n",
    "\n",
    "# Check if there are no events or only one event\n",
    "if len(events) == 0:\n",
    "    print(0, 10, 20)\n",
    "elif len(events) == 2:\n",
    "    # Print the start time and end time of the first event\n",
    "    print(1, events[0][0], events[0][0] + 10)\n",
    "else:\n",
    "    # Initialize variables for the best answer and the start and end times of the two advertisements\n",
    "    bestans = 0\n",
    "    firstbest, secondbest = 0, 0\n",
    "    # Create a set to store the indices of events that have already had the first advertisement\n",
    "    firstad = set()\n",
    "    \n",
    "    # Loop over each event in the events list\n",
    "    for i in range(len(events)):\n",
    "        # Get the current event\n",
    "        event1 = events[i]\n",
    "        \n",
    "        # Check if the current event is the start of an event\n",
    "        if event1[1] == -1:\n",
    "            # Add the index of the event to the set of events that have had the first advertisement\n",
    "            firstad.add(event1[2])\n",
    "            \n",
    "            # Check if the number of events that have had the first advertisement is greater than the current best answer\n",
    "            if len(firstad) > bestans:\n",
    "                # Update the best answer and the start and end times of the two advertisements\n",
    "                bestans = len(firstad)\n",
    "                firstbest = event1[0]\n",
    "                secondbest = event1[0] + 5\n",
    "        \n",
    "        # Initialize a variable to store the number of events that have not had the first advertisement\n",
    "        secondadcnt = 0\n",
    "        \n",
    "        # Loop over each event after the current event in the events list\n",
    "        for j in range(i + 1, len(events)):\n",
    "            # Get the next event\n",
    "            event2 = events[j]\n",
    "            \n",
    "            # Check if the next event is the start of an event that has not had the first advertisement\n",
    "            if event2[1] == -1 and event2[2] not in firstad:\n",
    "                # Increment the number of events that have not had the first advertisement\n",
    "                secondadcnt += 1\n",
    "            \n",
    "            # Check if the time between the start of the first event and the start of the second event is at least 5 units of time and the number of events that have had both advertisements is greater than the current best answer\n",
    "            if event2[0] - 5 >= event1[0] and len(firstad) + secondadcnt > bestans:\n",
    "                # Update the best answer and the start and end times of the two advertisements\n",
    "                bestans = len(firstad) + secondadcnt\n",
    "                firstbest = event1[0]\n",
    "                secondbest = event2[0]\n",
    "            # if customer leaves second ad set, decrement secondadcnt\n",
    "            if event2[1] == 1 and event2[2] not in firstad:\n",
    "                secondadcnt -= 1\n",
    "         # if customer leaves, remove them from the first ad set\n",
    "        if event1[1] == 1:\n",
    "            firstad.remove(event1[2])\n",
    "    \n",
    "    # print best times to show the ad and number of viewers\n",
    "    print(bestans, firstbest, secondbest)"
   ]
  },
  {
   "cell_type": "markdown",
   "id": "7e1f97aa-bd71-4cb3-9bf5-00e2ad8b1d2d",
   "metadata": {},
   "source": [
    "#### Task 2. "
   ]
  },
  {
   "cell_type": "markdown",
   "id": "4f911c49-852b-41e7-9f50-e3bde26583fa",
   "metadata": {},
   "source": [
    "At a secret military base, there are N security guards. The day is divided into 10,000 equal time intervals, and it is known when each of the guards comes on duty and leaves it. For example, if a guard comes at 5 and leaves at 8, it means that they were on duty during intervals 6, 7, and 8 (but not 5!).  \n",
    "Determine whether for this set of guards, the object is guarded by at least one guard at any given time, and removing any of them leads to a period of time when the object is completely unguarded.  \n",
    "N <= 10,000, K <= 100."
   ]
  },
  {
   "cell_type": "code",
   "execution_count": null,
   "id": "1d3f670a-5134-46de-b7ee-9f216e80612b",
   "metadata": {},
   "outputs": [],
   "source": [
    "# Take input for number of test cases\n",
    "k = int(input())\n",
    "\n",
    "# Create empty answer list\n",
    "ans = [''] * k\n",
    "\n",
    "# Loop through test cases\n",
    "for test in range(k):\n",
    "    \n",
    "    # Take input for the test case\n",
    "    nums = list(map(int, input().split()))\n",
    "    n = nums[0]\n",
    "    \n",
    "    # Create events list\n",
    "    events = [0] * (2 * n)\n",
    "    for i in range(1, len(nums), 2):\n",
    "        events[i - 1] = (nums[i], -1, i)\n",
    "        events[i] = (nums[i + 1], 1, i)\n",
    "    \n",
    "    # Sort events list\n",
    "    events.sort()\n",
    "    \n",
    "    # Initialize variables\n",
    "    goodseq = set()\n",
    "    nowseq = set()\n",
    "    goodflag = True\n",
    "    prevtime = -1\n",
    "    \n",
    "    # Loop through events\n",
    "    for event in events:\n",
    "        \n",
    "        # Check if object is not being guarded when it should be\n",
    "        if event[0] != 0 and len(nowseq) == 0:\n",
    "            goodflag = False\n",
    "            break\n",
    "        \n",
    "        # Check if a good sequence has been found\n",
    "        if len(nowseq) == 1 and event[0] != prevtime:\n",
    "            goodseq.update(nowseq)\n",
    "        \n",
    "        # Update nowseq based on event\n",
    "        if event[1] == -1:\n",
    "            nowseq.add(event[2])\n",
    "        else:\n",
    "            nowseq.remove(event[2])\n",
    "        prevtime = event[0]\n",
    "    \n",
    "    # Check if object is not being guarded at the end of the day\n",
    "    if events[-1][0] != 10000:\n",
    "        goodflag = False\n",
    "    \n",
    "    # Check if a good sequence has been found for all guards\n",
    "    if goodflag and len(goodseq) == n:\n",
    "        ans[test] = 'Accepted'\n",
    "    else:\n",
    "        ans[test] = 'Wrong Answer'\n",
    "    \n",
    "    \n",
    "# Print answer list with newline between each item\n",
    "print('\\n'.join(ans))"
   ]
  },
  {
   "cell_type": "markdown",
   "id": "3af4a313-2e64-45a2-8cc1-7e4729edd3c7",
   "metadata": {},
   "source": [
    "#### Task 3. "
   ]
  },
  {
   "cell_type": "markdown",
   "id": "9af0d118-221c-4c10-ac89-898faa6bd377",
   "metadata": {},
   "source": [
    "The country's bus network covers N cities, numbered with integers from 1 to N.  \n",
    "An ideal schedule contains M daily trips. The i-th trip starts in the city Fi at time Xi and ends in some city Gi at time Yi. The duration of each trip is non-zero and strictly less than 24 hours. Trip i is performed by one of the buses located at city Fi at time Xi.  \n",
    "It is assumed that the schedule will be valid indefinitely, so it may happen that it cannot be serviced by any finite number of buses.  \n",
    "Determine the smallest number of new buses sufficient to ensure traffic according to the schedule indefinitely.  \n",
    "N, M <= 100000."
   ]
  },
  {
   "cell_type": "code",
   "execution_count": 26,
   "id": "584c32f9-4a6d-4f47-9a1d-43be07713d80",
   "metadata": {
    "tags": []
   },
   "outputs": [
    {
     "name": "stdin",
     "output_type": "stream",
     "text": [
      " 5 7\n",
      " 1 09:00 2 10:00\n",
      " 2 11:00 3 12:00\n",
      " 3 12:30 4 14:00\n",
      " 4 15:00 5 16:00\n",
      " 5 17:00 4 18:00\n",
      " 4 19:00 3 20:00\n",
      " 3 21:00 1 22:00\n"
     ]
    },
    {
     "name": "stdout",
     "output_type": "stream",
     "text": [
      "1\n"
     ]
    }
   ],
   "source": [
    "# Define a function to convert time string to minutes\n",
    "def makeminutes(time):\n",
    "    h, m = time.split(':')\n",
    "    return int(h) * 60 + int(m)\n",
    "\n",
    "# Read input values for the number of cities and daily trips\n",
    "n, m = map(int, input().split())\n",
    "\n",
    "# Initialize counters and lists\n",
    "cntbuses = [0] * (n + 1)\n",
    "busbalance = [0] * (n + 1)\n",
    "events = []\n",
    "overnight = 0\n",
    "\n",
    "# Process each trip and update bus balances and events list\n",
    "for i in range(m):\n",
    "    cdep, deptime, carr, arrtime = input().split()\n",
    "    cdep = int(cdep)\n",
    "    carr = int(carr)\n",
    "    deptime = makeminutes(deptime)\n",
    "    arrtime = makeminutes(arrtime)\n",
    "    \n",
    "    # If arrival time is earlier than departure time, trip is overnight\n",
    "    if arrtime < deptime:\n",
    "        overnight += 1\n",
    "    \n",
    "    # Update bus balances for departure and arrival cities\n",
    "    busbalance[cdep] -= 1\n",
    "    busbalance[carr] += 1\n",
    "    \n",
    "    # Add departure and arrival events to the events list\n",
    "    events.append((deptime, 1, cdep))\n",
    "    events.append((arrtime, -1, carr))\n",
    "\n",
    "# Check if there is an overall bus imbalance for all cities\n",
    "disbalance = False\n",
    "for i in range(n + 1):\n",
    "    if busbalance[i] != 0:\n",
    "        disbalance = True\n",
    "\n",
    "# If there is an overall imbalance, it is impossible to serve the schedule\n",
    "if disbalance:\n",
    "    print(-1)\n",
    "else:\n",
    "    # Sort events list by time\n",
    "    events.sort()\n",
    "    \n",
    "    # Process events and count buses needed\n",
    "    for event in events:\n",
    "        if event[1] == -1:\n",
    "            cntbuses[event[2]] += 1\n",
    "        else:\n",
    "            if cntbuses[event[2]] > 0:\n",
    "                cntbuses[event[2]] -= 1\n",
    "    \n",
    "    # Count total buses needed\n",
    "    ans = 0\n",
    "    for i in range(n + 1):\n",
    "        ans += cntbuses[i]\n",
    "    \n",
    "    # Print result, including buses needed for overnight trips\n",
    "    print(ans + overnight)\n"
   ]
  },
  {
   "cell_type": "markdown",
   "id": "0d0537b7-e9cf-4b8e-9f86-a458c0e66598",
   "metadata": {},
   "source": [
    "#### Task 4. "
   ]
  },
  {
   "cell_type": "markdown",
   "id": "9c841251-7add-4274-8dcd-0cbc9ea4996e",
   "metadata": {},
   "source": [
    "You need to write a program that allows you to select the minimum number of blocks that, when installed in the places specified by the contractor, form an overlap, or determine that it is impossible to do so. The height at which the overlap is formed does not matter.  \n",
    "N <= 100000"
   ]
  },
  {
   "cell_type": "code",
   "execution_count": 27,
   "id": "ae342e49-a8e9-4edd-adf4-fe42bc1fde44",
   "metadata": {
    "tags": []
   },
   "outputs": [
    {
     "name": "stdin",
     "output_type": "stream",
     "text": [
      " 3 4 6\n",
      " 0 0 0 2 2 2\n",
      " 1 1 1 3 3 3\n",
      " 2 2 2 4 4 4\n"
     ]
    },
    {
     "name": "stdout",
     "output_type": "stream",
     "text": [
      "NO\n"
     ]
    }
   ],
   "source": [
    "# Take input values\n",
    "n, w, l = map(int, input().split())\n",
    "\n",
    "# Calculate total area to be covered\n",
    "totalarea = w * l\n",
    "\n",
    "# Initialize empty list for events\n",
    "events = []\n",
    "\n",
    "# Loop over each block\n",
    "for i in range(1, n + 1):\n",
    "    # Take input values for the block\n",
    "    x1, y1, z1, x2, y2, z2 = map(int, input().split())\n",
    "\n",
    "    # Calculate area of the block\n",
    "    area = abs(x2 - x1) * abs(y2 - y1)\n",
    "\n",
    "    # Add start and end events for the block to the events list\n",
    "    events.append((z1, 1, area, i))\n",
    "    events.append((z2, -1, area, i))\n",
    "\n",
    "# Sort the events list by time\n",
    "events.sort()\n",
    "\n",
    "# Initialize counters and trackers\n",
    "minused = n + 1\n",
    "nowused = 0\n",
    "nowarea = 0\n",
    "\n",
    "# Loop over each event\n",
    "for event in events:\n",
    "    # If the event is the start of a block, add it to the coverage\n",
    "    if event[1] == 1:\n",
    "        nowused += 1\n",
    "        nowarea += event[2]\n",
    "        # If the coverage is complete and the number of used blocks is less than the current minimum, update the minimum\n",
    "        if nowarea == totalarea and nowused < minused:\n",
    "            minused = nowused\n",
    "    # If the event is the end of a block, remove it from the coverage\n",
    "    else:\n",
    "        nowused -= 1\n",
    "        nowarea -= event[2]\n",
    "\n",
    "# If there is no set of blocks that can completely cover the area, output \"NO\"\n",
    "if minused == n + 1:\n",
    "    print('NO')\n",
    "# Otherwise, output \"YES\" and the minimum number of blocks needed, followed by the IDs of the blocks used to achieve coverage\n",
    "else:\n",
    "    print('YES')\n",
    "    print(minused)\n",
    "    usedblocks = set()\n",
    "    # iterate over the events to find the blocks used in the solution\n",
    "    for event in events:\n",
    "        if event[1] == 1:\n",
    "            nowused += 1\n",
    "            usedblocks.add(event[3])\n",
    "            nowarea += event[2]\n",
    "            # if the total area is covered and the minimum number of blocks are used, print the used blocks\n",
    "            if nowarea == totalarea and nowused == minused:\n",
    "                print(*usedblocks)\n",
    "                break\n",
    "        else:\n",
    "            nowused -= 1\n",
    "            usedblocks.remove(event[3])\n",
    "            nowarea -= event[2]"
   ]
  }
 ],
 "metadata": {
  "kernelspec": {
   "display_name": "Python 3 (ipykernel)",
   "language": "python",
   "name": "python3"
  },
  "language_info": {
   "codemirror_mode": {
    "name": "ipython",
    "version": 3
   },
   "file_extension": ".py",
   "mimetype": "text/x-python",
   "name": "python",
   "nbconvert_exporter": "python",
   "pygments_lexer": "ipython3",
   "version": "3.7.11"
  }
 },
 "nbformat": 4,
 "nbformat_minor": 5
}

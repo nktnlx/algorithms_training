{
 "cells": [
  {
   "cell_type": "markdown",
   "id": "131837a4-df14-4d57-9afb-048cd85534e1",
   "metadata": {},
   "source": [
    "# Algorithms by Yandex"
   ]
  },
  {
   "cell_type": "markdown",
   "id": "70ddfb4c-e9b2-4660-b6f5-1e0b9c695eeb",
   "metadata": {},
   "source": [
    "[youtube playlist](https://www.youtube.com/playlist?list=PL6Wui14DvQPySdPv5NUqV3i8sDbHkCKC5)"
   ]
  },
  {
   "cell_type": "markdown",
   "id": "ce6e56b2-d6c6-4bad-ac8d-f38173f9550f",
   "metadata": {},
   "source": [
    "## Lesson 5. Prefix sums and Two pointers"
   ]
  },
  {
   "cell_type": "markdown",
   "id": "4b1137c3-e499-4b88-bf15-384e58ad72c3",
   "metadata": {},
   "source": [
    "### Prefix sums"
   ]
  },
  {
   "cell_type": "markdown",
   "id": "6624a35a-f198-4301-803b-06ed174b106e",
   "metadata": {},
   "source": [
    "Prefix sum is a technique used in programming to efficiently calculate the sum of a range of values in an array. It involves precomputing and storing the sum of values up to each index in the array, and then using this precomputed information to quickly calculate the sum of any range of values in the array. This can be particularly useful when performing many operations that require calculating the sum of multiple ranges of values in the same array."
   ]
  },
  {
   "cell_type": "markdown",
   "id": "e990f8ba-8583-406a-afd3-2e421fcf6045",
   "metadata": {},
   "source": [
    "Building a prefix sum array:\n",
    "- it can be built in O(N) time: prefixsum[i] = prefixsum[i-1] + nums[i-1]\n",
    "- don't forget about the difference in size (the size of the prefix sum array is one more than the size of the original input array)!\n",
    "- watch out for overflow!"
   ]
  },
  {
   "cell_type": "markdown",
   "id": "cd255fee-689e-4611-b73a-b645bf10e1ee",
   "metadata": {},
   "source": [
    "Answer to a query for the sum of a range:\n",
    "- the answer can be obtained in O(1) time: sum(L, R) = prefixsum[R] - prefixsum[L]"
   ]
  },
  {
   "cell_type": "markdown",
   "id": "e211171e-5a7b-45f6-9bd4-1fbd049d4a7f",
   "metadata": {},
   "source": [
    "Implementation of Range Sum Query (RSQ) using prefix sums:"
   ]
  },
  {
   "cell_type": "code",
   "execution_count": 8,
   "id": "9548888c-0c0b-4e1a-b468-07aa47f1d00d",
   "metadata": {
    "tags": []
   },
   "outputs": [
    {
     "name": "stdout",
     "output_type": "stream",
     "text": [
      "[0, 1, 3, 6, 10, 15, 21]\n",
      "7\n"
     ]
    }
   ],
   "source": [
    "# function to create prefix sum array from input array\n",
    "def makeprefixsum(nums):\n",
    "    # create prefix sum array of length len(nums)+1 with all elements initialized to 0\n",
    "    prefixsum = [0] * (len(nums) + 1)\n",
    "    \n",
    "    # loop through each element in nums starting at index 1\n",
    "    for i in range(1, len(nums) + 1):\n",
    "        # calculate the prefix sum up to this index and store in prefixsum\n",
    "        prefixsum[i] = prefixsum[i - 1] + nums[i - 1]\n",
    "    \n",
    "    # return the prefix sum array\n",
    "    return prefixsum\n",
    "\n",
    "# function to calculate sum of elements between indices l and r in original array nums\n",
    "def rsq(prefixsum, l, r):\n",
    "    # return the difference between the prefix sum at r and the prefix sum at l\n",
    "    return prefixsum[r] - prefixsum[l]\n",
    "\n",
    "\n",
    "# example of making prefix sum\n",
    "nums = [1, 2, 3, 4, 5, 6]\n",
    "prefix_sum = makeprefixsum(nums)\n",
    "print(prefix_sum)\n",
    "\n",
    "# example rsq\n",
    "l = 2\n",
    "r = 4\n",
    "sum_lr = rsq(prefix_sum, l, r)\n",
    "print(sum_lr)"
   ]
  },
  {
   "cell_type": "markdown",
   "id": "2f593474-4ab0-4267-8d51-bb964f97cba3",
   "metadata": {},
   "source": [
    "#### Task 1. "
   ]
  },
  {
   "cell_type": "markdown",
   "id": "73cd6f84-ae8d-4b0c-9a09-f34450b2d984",
   "metadata": {},
   "source": [
    "Given a sequence of numbers of length N and M queries.  \n",
    "Queries: how many zeros are there on the half-open interval [L, R)."
   ]
  },
  {
   "cell_type": "markdown",
   "id": "9d30ee9c-d5ac-4b46-8bb2-dd2d926f9be2",
   "metadata": {},
   "source": [
    "##### O(NM) solution"
   ]
  },
  {
   "cell_type": "code",
   "execution_count": 19,
   "id": "2f7e2443-b17f-4377-8c29-3ae1b375feec",
   "metadata": {
    "tags": []
   },
   "outputs": [
    {
     "name": "stdout",
     "output_type": "stream",
     "text": [
      "2\n"
     ]
    }
   ],
   "source": [
    "# function to count zeroes between two indices in an input array\n",
    "def countzeroes(nums, l, r):\n",
    "    # initialize counter to 0\n",
    "    cnt = 0\n",
    "    # loop through each element in the input array between indices l and r-1\n",
    "    for i in range(l, r):\n",
    "        # if the current element is zero, increment the counter\n",
    "        if nums[i] == 0:\n",
    "            cnt += 1\n",
    "    # return the final count of zeroes\n",
    "    return cnt\n",
    "\n",
    "\n",
    "# Example usage\n",
    "cnt = countzeroes([1, 0, 3, 0, 0, 1], 1, 4)\n",
    "print(cnt)"
   ]
  },
  {
   "cell_type": "markdown",
   "id": "cd89c0d9-7c9b-4d5f-9b1b-9901a85f104c",
   "metadata": {},
   "source": [
    "##### O(N + M) solution"
   ]
  },
  {
   "cell_type": "code",
   "execution_count": 25,
   "id": "5f8b6ee9-d94b-4b97-b805-cec10eda1f1f",
   "metadata": {
    "tags": []
   },
   "outputs": [
    {
     "name": "stdout",
     "output_type": "stream",
     "text": [
      "2\n"
     ]
    }
   ],
   "source": [
    "# Function to create a prefix sum array of the number of zeroes in an input array\n",
    "def makeprefixzeroes(nums):\n",
    "    # Create a prefix sum array of length len(nums)+1 with all elements initialized to 0\n",
    "    prefixzeroes = [0] * (len(nums) + 1)\n",
    "    \n",
    "    # Loop through each element in nums starting at index 1\n",
    "    for i in range(1, len(nums) + 1):\n",
    "        # If the current element is 0, increment the prefix sum by 1, else keep it the same\n",
    "        if nums[i - 1] == 0:\n",
    "            prefixzeroes[i] = prefixzeroes[i - 1] + 1\n",
    "        else:\n",
    "            prefixzeroes[i] = prefixzeroes[i - 1]\n",
    "    \n",
    "    # Return the prefix sum array\n",
    "    return prefixzeroes\n",
    "\n",
    "\n",
    "# Function to count the number of zeroes in an input array between two indices using the prefix sum array\n",
    "def countzeroes(prefixzeroes, l, r):\n",
    "    # Return the difference between the prefix sum at r and the prefix sum at l\n",
    "    return prefixzeroes[r] - prefixzeroes[l]\n",
    "\n",
    "\n",
    "# Create a prefix sum array of zeroes in the input array [1, 0, 3, 0, 0, 1]\n",
    "prefixzeroes = makeprefixzeroes([1, 0, 3, 0, 0, 1])\n",
    "\n",
    "# Count the number of zeroes in the half-open interval [1, 4) using the prefix sum array\n",
    "print(countzeroes(prefixzeroes, 1, 4))"
   ]
  },
  {
   "cell_type": "markdown",
   "id": "b72e01e5-385f-4917-b25c-75345806929f",
   "metadata": {},
   "source": [
    "#### Task 2. "
   ]
  },
  {
   "cell_type": "markdown",
   "id": "0b9315db-2a5d-4a76-9f41-14904d069a4a",
   "metadata": {},
   "source": [
    "Given a sequence of numbers of length N.   \n",
    "It is necessary to find the number of segments with zero sum."
   ]
  },
  {
   "cell_type": "markdown",
   "id": "e52506f5-f8f5-4e04-82b8-0f1c54013e76",
   "metadata": {},
   "source": [
    "##### O(N^3) solution"
   ]
  },
  {
   "cell_type": "code",
   "execution_count": 32,
   "id": "e37d1254-272d-44d7-8d2a-905b9043a7d4",
   "metadata": {
    "tags": []
   },
   "outputs": [
    {
     "name": "stdout",
     "output_type": "stream",
     "text": [
      "Number of zero sum ranges: 2\n"
     ]
    }
   ],
   "source": [
    "# This function counts the number of segments with zero sum in the given sequence of numbers\n",
    "def countzerosumranges(nums):\n",
    "    cntranges = 0\n",
    "    for i in range(len(nums)):\n",
    "        for j in range(i + 1, len(nums) + 1):\n",
    "            rangesum = 0\n",
    "            for k in range(i, j):    # iterating through all possible subarrays starting from i\n",
    "                rangesum += nums[k]  # computing the sum of elements in the subarray\n",
    "            if rangesum == 0:        # if the sum is zero, increment the counter for zero sum ranges\n",
    "                cntranges += 1\n",
    "    return cntranges\n",
    "\n",
    "\n",
    "# Example usage\n",
    "nums = [3, 4, -7, 3, 1]\n",
    "zero_sum_ranges = countzerosumranges(nums)\n",
    "print('Number of zero sum ranges:', zero_sum_ranges)"
   ]
  },
  {
   "cell_type": "markdown",
   "id": "dba872a6-8556-48a2-bfad-13025d06a161",
   "metadata": {},
   "source": [
    "##### O(N^2) solution"
   ]
  },
  {
   "cell_type": "code",
   "execution_count": 34,
   "id": "d4dcbac7-d886-4296-a1b0-8d39c5c97592",
   "metadata": {
    "tags": []
   },
   "outputs": [
    {
     "name": "stdout",
     "output_type": "stream",
     "text": [
      "Number of zero sum ranges: 2\n"
     ]
    }
   ],
   "source": [
    "def countzerosumranges(nums):\n",
    "    cntranges = 0   # initialize the counter variable\n",
    "    for i in range(len(nums)):   # iterate over all the starting indices of segments\n",
    "        rangesum = 0   # initialize the sum variable for the current segment\n",
    "        for j in range(i, len(nums)):   # iterate over all the ending indices of segments starting at i\n",
    "            rangesum += nums[j]   # add the j-th number to the sum\n",
    "            if rangesum == 0:   # check if the sum is zero\n",
    "                cntranges += 1   # increment the counter if the sum is zero\n",
    "    return cntranges   # return the total count of zero-sum segments\n",
    "\n",
    "\n",
    "# Example usage\n",
    "nums = [3, 4, -7, 3, 1]\n",
    "zero_sum_ranges = countzerosumranges(nums)\n",
    "print('Number of zero sum ranges:', zero_sum_ranges)"
   ]
  },
  {
   "cell_type": "markdown",
   "id": "ad2ef2a6-2881-433c-90c1-345a9a3a5efb",
   "metadata": {},
   "source": [
    "##### O(N) solution"
   ]
  },
  {
   "cell_type": "code",
   "execution_count": 37,
   "id": "cfff4a01-b630-43dd-845d-678821eac798",
   "metadata": {
    "tags": []
   },
   "outputs": [
    {
     "name": "stdout",
     "output_type": "stream",
     "text": [
      "Number of zero sum ranges: 2\n"
     ]
    }
   ],
   "source": [
    "# This function takes an array of integers and returns a dictionary with keys as prefix sums of the array and values as the count of the prefix sums.\n",
    "def countprefixsums(nums):\n",
    "    prefixsumbyvalue = {0: 1} # initialize dictionary with 0 prefix sum count as 1\n",
    "    nowsum = 0\n",
    "    for now in nums:\n",
    "        nowsum += now # increment prefix sum\n",
    "        if nowsum not in prefixsumbyvalue: # if prefix sum is not in dictionary, add it\n",
    "            prefixsumbyvalue[nowsum] = 0\n",
    "        prefixsumbyvalue[nowsum] += 1 # increment count of prefix sum\n",
    "    return prefixsumbyvalue\n",
    "\n",
    "# This function takes the dictionary from the previous function and returns the count of zero sum ranges in the array.\n",
    "def countzerosumranges(prefixsumbyvalue):\n",
    "    cntranges = 0\n",
    "    for nowsum in prefixsumbyvalue:\n",
    "        cntsum = prefixsumbyvalue[nowsum]\n",
    "        cntranges += cntsum * (cntsum - 1) // 2 # calculate number of zero sum ranges\n",
    "    return cntranges\n",
    "\n",
    "# Example usage\n",
    "prefixsumbyvalue = countprefixsums([3, 4, -7, 3, 1]) # calculate prefix sum count dictionary\n",
    "zero_sum_ranges = countzerosumranges(prefixsumbyvalue) # calculate number of zero sum ranges\n",
    "print('Number of zero sum ranges:', zero_sum_ranges) # output the result"
   ]
  },
  {
   "cell_type": "markdown",
   "id": "d4626b62-e076-41ec-9d5c-d0aaf6a8eab0",
   "metadata": {},
   "source": [
    "### Two pointers"
   ]
  },
  {
   "cell_type": "markdown",
   "id": "88894d5b-f9f4-4d1e-a379-a550b41bf8be",
   "metadata": {},
   "source": [
    "In coding, \"two pointers\" is a technique that uses two pointers to traverse through an array or a list. The technique is usually used when we need to search for a specific target or condition in the array or list, and involves incrementing or decrementing the pointers based on certain conditions until the target or condition is found. It is often used in algorithms such as sorting, searching, and sliding windows problems. The two pointers can move in the same direction, in opposite directions, or even overlap depending on the problem at hand."
   ]
  },
  {
   "cell_type": "markdown",
   "id": "3af2ef48-14f8-4e6b-842d-b52ca46d2f16",
   "metadata": {},
   "source": [
    "#### Task 1."
   ]
  },
  {
   "cell_type": "markdown",
   "id": "e8f5b5a0-f7ee-4018-83a9-e08dd0dfba05",
   "metadata": {},
   "source": [
    "Given a sorted sequence of N numbers and a number K.  \n",
    "Find the number of pairs of numbers A and B such that B - A > K."
   ]
  },
  {
   "cell_type": "markdown",
   "id": "4030a0fe-a4db-4851-850b-65035ddb5633",
   "metadata": {},
   "source": [
    "##### O(N^2) solution"
   ]
  },
  {
   "cell_type": "code",
   "execution_count": 43,
   "id": "79ec1146-1c06-4e8e-b90a-73436fd84df2",
   "metadata": {
    "tags": []
   },
   "outputs": [
    {
     "data": {
      "text/plain": [
       "3"
      ]
     },
     "execution_count": 43,
     "metadata": {},
     "output_type": "execute_result"
    }
   ],
   "source": [
    "def cntpairswithdiffgtk(sortednums, k):\n",
    "    cntpairs = 0\n",
    "    for first in range(len(sortednums)):\n",
    "        # The second pointer starts from the first pointer\n",
    "        for second in range(first, len(sortednums)):\n",
    "            # If the difference between the numbers is greater than k, add the number of pairs\n",
    "            if sortednums[second] - sortednums[first] > k:\n",
    "                cntpairs += 1\n",
    "    return cntpairs\n",
    "\n",
    "\n",
    "# Example usage\n",
    "cntpairswithdiffgtk([1, 3, 7, 8], 4)"
   ]
  },
  {
   "cell_type": "markdown",
   "id": "d426273b-1f4b-4b28-adca-8e956ae6a3f3",
   "metadata": {},
   "source": [
    "The function takes a sorted list of numbers sortednums and an integer k as input, and returns the number of pairs of numbers whose difference is greater than k.\n",
    "\n",
    "It works by using two pointers first and second that iterate through the list. The second pointer starts from the first pointer, and if the difference between the numbers is greater than k, the function adds the number of pairs."
   ]
  },
  {
   "cell_type": "markdown",
   "id": "5040403c-ae14-4e39-9e78-7d830cc6ae79",
   "metadata": {},
   "source": [
    "##### O(N) solution"
   ]
  },
  {
   "cell_type": "code",
   "execution_count": 45,
   "id": "dea29698-f801-495c-9a9f-a339cd13f158",
   "metadata": {
    "tags": []
   },
   "outputs": [
    {
     "data": {
      "text/plain": [
       "3"
      ]
     },
     "execution_count": 45,
     "metadata": {},
     "output_type": "execute_result"
    }
   ],
   "source": [
    "def cntpairswithdiffgtk(sortednums, k):\n",
    "    cntpairs = 0  # initialize the counter for the pairs\n",
    "    last = 0  # initialize the pointer to the last element\n",
    "    for first in range(len(sortednums)):\n",
    "        while last < len(sortednums) and sortednums[last] - sortednums[first] <= k:\n",
    "            # move the last pointer until the difference is greater than k\n",
    "            last += 1\n",
    "        cntpairs += len(sortednums) - last  # add the count of pairs to the total counter\n",
    "    return cntpairs\n",
    "\n",
    "\n",
    "# Example usage\n",
    "cntpairswithdiffgtk([1, 3, 7, 8], 4)"
   ]
  },
  {
   "cell_type": "markdown",
   "id": "47835483-e2b2-49a1-a2cb-67233d900bd4",
   "metadata": {},
   "source": [
    "#### Task 2."
   ]
  },
  {
   "cell_type": "markdown",
   "id": "6e67aae6-5d63-48dc-83d4-e80097b77d06",
   "metadata": {},
   "source": [
    "A football player has only one numerical characteristic - professionalism. A team is called cohesive if the professionalism of any player does not exceed the total professionalism of any two other players on the team. The team can consist of any number of players. Given a sorted sequence of N numbers - the professionalism of the players. Find the maximum total professionalism of a cohesive team."
   ]
  },
  {
   "cell_type": "markdown",
   "id": "87acf91a-1e99-41df-8832-87f160d387cf",
   "metadata": {},
   "source": [
    "##### O(N^3) solution"
   ]
  },
  {
   "cell_type": "code",
   "execution_count": 54,
   "id": "eb4b4d93-6c9e-4058-93a1-9c8cb8017f36",
   "metadata": {
    "tags": []
   },
   "outputs": [
    {
     "name": "stdout",
     "output_type": "stream",
     "text": [
      "Max team professionalism: 16\n"
     ]
    }
   ],
   "source": [
    "def find_max_team_professionalism(professionalism):\n",
    "    max_professionalism = 0\n",
    "    for i in range(len(professionalism)):\n",
    "        for j in range(i + 1, len(professionalism)):\n",
    "            for k in range(j + 1, len(professionalism)):\n",
    "                if professionalism[k] - professionalism[i] <= professionalism[j]:\n",
    "                    team_professionalism = sum(professionalism[i:k+1])\n",
    "                    max_professionalism = max(max_professionalism, team_professionalism)\n",
    "    return max_professionalism\n",
    "\n",
    "\n",
    "professionalism = [0, 1, 1, 3, 3, 4, 6, 11]\n",
    "max_team_professionalism = find_max_team_professionalism(professionalism)\n",
    "print('Max team professionalism:', max_team_professionalism)"
   ]
  },
  {
   "cell_type": "markdown",
   "id": "387b1e5d-cc79-42aa-af26-a4a5d7389527",
   "metadata": {},
   "source": [
    "##### O(N) solution"
   ]
  },
  {
   "cell_type": "code",
   "execution_count": 55,
   "id": "89e46958-341d-4eae-97f8-297ad5cc87dc",
   "metadata": {
    "tags": []
   },
   "outputs": [
    {
     "name": "stdout",
     "output_type": "stream",
     "text": [
      "Max team professionalism: 16\n"
     ]
    }
   ],
   "source": [
    "def max_team_professionals(sorted_professionals):\n",
    "    n = len(sorted_professionals)\n",
    "    max_professional_sum = 0\n",
    "    team_professionals = 0\n",
    "    for i in range(n):\n",
    "        team_professionals += sorted_professionals[i]\n",
    "        if i < 2:\n",
    "            max_professional_sum = team_professionals\n",
    "            continue\n",
    "        if team_professionals - sorted_professionals[i] > 2 * sorted_professionals[i - 2]:\n",
    "            team_professionals -= sorted_professionals[i - 2]\n",
    "        if team_professionals > max_professional_sum:\n",
    "            max_professional_sum = team_professionals\n",
    "    return max_professional_sum\n",
    "\n",
    "\n",
    "professionalism = [0, 1, 1, 3, 3, 4, 6, 11]\n",
    "max_team_professionalism = find_max_team_professionalism(professionalism)\n",
    "print('Max team professionalism:', max_team_professionalism)"
   ]
  },
  {
   "cell_type": "markdown",
   "id": "69c8affe-2a31-4dd9-87f4-f1ad781d33c6",
   "metadata": {},
   "source": [
    "This code uses a sliding window approach to keep track of the current team's professionals and to adjust the window when the team's condition is violated. The max_professional_sum variable is used to keep track of the maximum sum of professionals found so far.\n",
    "\n",
    "The time complexity of this algorithm is O(N) because it makes a single pass over the input sequence."
   ]
  },
  {
   "cell_type": "markdown",
   "id": "7a00e08e-113b-4edf-aa27-88c300db1088",
   "metadata": {},
   "source": [
    "#### Task 3."
   ]
  },
  {
   "cell_type": "markdown",
   "id": "cad9732d-6f63-459e-bd38-3198ca31c56f",
   "metadata": {},
   "source": [
    "Given two sorted sequences of numbers of length N and M, respectively.  \n",
    "It is necessary to merge them into one sorted sequence."
   ]
  },
  {
   "cell_type": "markdown",
   "id": "2c0302e5-e54a-414e-964f-37107a0fdd5e",
   "metadata": {},
   "source": [
    "##### not optimal solution"
   ]
  },
  {
   "cell_type": "code",
   "execution_count": 59,
   "id": "d1185744-8976-43bf-9462-2bd8de3426c0",
   "metadata": {
    "tags": []
   },
   "outputs": [
    {
     "data": {
      "text/plain": [
       "[1, 2, 3, 4, 4, 5, 7]"
      ]
     },
     "execution_count": 59,
     "metadata": {},
     "output_type": "execute_result"
    }
   ],
   "source": [
    "def merge(nums1, nums2):\n",
    "    # Initialize an empty list to hold the merged sequence\n",
    "    merged = [0] * (len(nums1) + len(nums2))\n",
    "    # Initialize the indexes to the beginning of both sequences\n",
    "    first1 = first2 = 0\n",
    "    # Add a large number to the end of both sequences as a sentinel value\n",
    "    inf = max(nums1[-1], nums2[-1] + 1)\n",
    "    nums1.append(inf)\n",
    "    nums2.append(inf)\n",
    "    # Iterate over the merged sequence and fill it with sorted elements\n",
    "    for k in range(len(nums1) + len(nums2) - 2):\n",
    "        if nums1[first1] <= nums2[first2]:\n",
    "            merged[k] = nums1[first1]\n",
    "            first1 += 1\n",
    "        else:\n",
    "            merged[k] = nums2[first2]\n",
    "            first2 += 1\n",
    "    # Remove the sentinel values from the original sequences\n",
    "    nums1.pop()\n",
    "    nums2.pop()\n",
    "    # Return the merged sequence\n",
    "    return merged\n",
    "\n",
    "\n",
    "# Example usage\n",
    "merge([1, 2, 5, 7], [3, 4, 4])"
   ]
  },
  {
   "cell_type": "markdown",
   "id": "3e697eae-095e-47bb-96f8-84c3ccffcf9b",
   "metadata": {},
   "source": [
    "##### better solution"
   ]
  },
  {
   "cell_type": "code",
   "execution_count": 61,
   "id": "3a52b0b1-4ee9-4776-a6c6-be597e9cb6d1",
   "metadata": {
    "tags": []
   },
   "outputs": [
    {
     "data": {
      "text/plain": [
       "[1, 2, 3, 4, 4, 5, 7]"
      ]
     },
     "execution_count": 61,
     "metadata": {},
     "output_type": "execute_result"
    }
   ],
   "source": [
    "def merge(nums1, nums2):\n",
    "    # create an array to store the merged sequence\n",
    "    merged = [0] * (len(nums1) + len(nums2))\n",
    "    # initialize two pointers to the beginning of each sequence\n",
    "    first1 = first2 = 0\n",
    "    # iterate over the merged sequence and compare the values at each position\n",
    "    for k in range(len(nums1) + len(nums2)):\n",
    "        if first1 != len(nums1) and (first2 == len(nums2) or nums1[first1] < nums2[first2]):\n",
    "            # if the current element in nums1 is smaller or nums2 is empty,\n",
    "            # add the current element in nums1 to the merged sequence\n",
    "            merged[k] = nums1[first1]\n",
    "            first1 += 1\n",
    "        else:\n",
    "            # otherwise, add the current element in nums2 to the merged sequence\n",
    "            merged[k] = nums2[first2]\n",
    "            first2 += 1\n",
    "    return merged\n",
    "\n",
    "\n",
    "# Example usage\n",
    "merge([1, 2, 5, 7], [3, 4, 4])"
   ]
  }
 ],
 "metadata": {
  "kernelspec": {
   "display_name": "Python 3 (ipykernel)",
   "language": "python",
   "name": "python3"
  },
  "language_info": {
   "codemirror_mode": {
    "name": "ipython",
    "version": 3
   },
   "file_extension": ".py",
   "mimetype": "text/x-python",
   "name": "python",
   "nbconvert_exporter": "python",
   "pygments_lexer": "ipython3",
   "version": "3.7.11"
  }
 },
 "nbformat": 4,
 "nbformat_minor": 5
}

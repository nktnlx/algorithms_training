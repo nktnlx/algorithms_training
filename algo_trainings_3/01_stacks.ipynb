{
 "cells": [
  {
   "cell_type": "markdown",
   "id": "e140b715-9e1d-4a85-b91b-f653d9d4396f",
   "metadata": {},
   "source": [
    "# Algorithms by Yandex 3.0"
   ]
  },
  {
   "cell_type": "markdown",
   "id": "2b579946-86e5-4ff2-aadb-85052f0df02a",
   "metadata": {},
   "source": [
    "## Lesson 1. Stacks"
   ]
  },
  {
   "cell_type": "markdown",
   "id": "dbeaff5f-68e2-469e-9f95-65e1c9e0ee5b",
   "metadata": {},
   "source": [
    "### Stack"
   ]
  },
  {
   "cell_type": "markdown",
   "id": "195ea207-ca34-458f-a7d7-490c143e1d5e",
   "metadata": {},
   "source": [
    "What is a stack?  \n",
    "A stack is a linear data structure in which the last item to arrive is the first one to leave.  \n",
    "\n",
    "This is also known as Last in - First out (LIFO).  \n",
    "\n",
    "Two main operations:\n",
    "- push(x) - adds an element x to the stack  \n",
    "- pop - removes the element at the top of the stack  "
   ]
  },
  {
   "cell_type": "markdown",
   "id": "4b79986e-9e4a-4f8f-87c7-76fefbea2ab3",
   "metadata": {},
   "source": [
    "Think of it as a stack of plates, where new plates are added to the top of the stack and plates are removed from the top as well. In programming, stacks are often used to implement algorithms and to manage memory allocation. For example, in the recursive function calls, the function calls are added to the stack as they occur and removed from the stack as they are completed. "
   ]
  },
  {
   "cell_type": "markdown",
   "id": "b4880418-d011-4b7c-80eb-d14c798ddecd",
   "metadata": {},
   "source": [
    "Stacks can be useful in a variety of tasks and algorithms, including:\n",
    "1.  Parentheses matching: In many programming languages, parentheses must be properly matched, so a stack can be used to keep track of opening and closing parentheses.\n",
    "2. Function call stack: As mentioned earlier, stacks are used to keep track of function calls in many programming languages. As each function is called, it is added to the stack, and as each function completes, it is removed from the stack.\n",
    "3. Expression evaluation: Stacks can be used to evaluate expressions, such as postfix expressions, where operands are added to the stack, and operators are applied to the top elements on the stack.\n",
    "4. Backtracking algorithms: Backtracking algorithms, such as the N-Queens problem or the 8-Queens problem, often use a stack to store the current state of the solution.\n",
    "5. Memory allocation: Stacks can be used to manage memory allocation, where the stack keeps track of the available memory blocks and the allocated memory blocks.  \n",
    "\n",
    "Overall, stacks are a simple yet powerful data structure that can be useful in a wide range of tasks and algorithms."
   ]
  },
  {
   "cell_type": "markdown",
   "id": "67005178-26a5-44be-8b21-a2256fde409e",
   "metadata": {},
   "source": [
    "### Infix and postfix notation"
   ]
  },
  {
   "cell_type": "markdown",
   "id": "8924fd10-b0c2-4a42-ad4a-bc224f03c0ca",
   "metadata": {},
   "source": [
    "How we evaluate arithmetic expressions:\n",
    "1. We look for the deepest nested parentheses (possibly using balancing techniques).\n",
    "2. Inside the deepest nested parentheses, we perform operations in decreasing order of priority and replace two operands and an operator with one number.\n",
    "3. When there is only one number left inside the parentheses, we remove the parentheses and start over again."
   ]
  },
  {
   "cell_type": "markdown",
   "id": "4fc9c8cb-d77e-439d-902e-391511d771e2",
   "metadata": {},
   "source": [
    "Infix and postfix notation:\n",
    "- Infix notation - operation between operands: 6 + 3 х (1 + 4 х 5) х 2\n",
    "- Postfix notation - operands first, then operation: 6 3 1 4 5 х + х 2 х +"
   ]
  },
  {
   "cell_type": "markdown",
   "id": "0d4c0968-807b-42cd-92d8-6aa0af05c29a",
   "metadata": {},
   "source": [
    "Why postfix notation is good:\n",
    "- No parentheses needed\n",
    "- It can be evaluated in a single pass: we add operands to a stack, and when we encounter an operation, we take the top two operands from the stack, perform the operation, and push the result back onto the stack."
   ]
  },
  {
   "cell_type": "markdown",
   "id": "ef22617c-9135-4c31-9eca-3f846dab84de",
   "metadata": {},
   "source": [
    "Converting infix notation to postfix notation:\n",
    "- An operand is immediately added to the output queue.\n",
    "- An operator pops all operators with equal or higher precedence from the stack and adds them to the output queue. The operator is then pushed onto the stack.\n",
    "- An opening parenthesis is added to the stack.\n",
    "- A closing parenthesis pops all operators from the stack until the opening parenthesis is found. The opening parenthesis is then removed from the stack.\n",
    "- At the end, all remaining operators are added to the output queue."
   ]
  },
  {
   "cell_type": "markdown",
   "id": "1eba5ecc-c3f8-404e-9f32-40c9dc5e776b",
   "metadata": {},
   "source": [
    "### Finding the nearest smallest element"
   ]
  },
  {
   "cell_type": "markdown",
   "id": "9082c32d-0017-4f93-9557-7a42d2dacdf4",
   "metadata": {},
   "source": [
    "Finding the nearest smaller element on the right:\n",
    "- For each number, find the index of the nearest smaller number to the right of the current one.\n",
    "- The obvious solution is O(N^2), but it can be solved in O(NlogN) using balanced binary search trees.\n",
    "- We want a solution that runs in O(N)."
   ]
  },
  {
   "cell_type": "markdown",
   "id": "a2d5c199-3654-4fee-a7f8-daa4bb18daaa",
   "metadata": {},
   "source": [
    "Solution idea for O(N) complexity:\n",
    "- We will store pairs of values and indices of elements for which the answer has not been found yet in a stack.\n",
    "- We will go through the sequence from left to right.\n",
    "- Each subsequent element will pop all elements with a greater value from the stack - they are the answer for it.\n",
    "- Thus, the stack will always store an increasing sequence."
   ]
  },
  {
   "cell_type": "markdown",
   "id": "b4cdc564-5fa8-4948-8a84-e60621a718ea",
   "metadata": {},
   "source": [
    "### Escaping from recursion"
   ]
  },
  {
   "cell_type": "markdown",
   "id": "294ac54e-b89a-4160-80ea-660a0dc531a8",
   "metadata": {},
   "source": [
    "How functions are executed:\n",
    "- When a function is called, memory is allocated on the stack for local variables and parameters. The location where program execution should continue after the function completes is also saved there.\n",
    "- When the function ends, its variables and parameters are removed from the stack, and execution continues from the saved location."
   ]
  },
  {
   "cell_type": "code",
   "execution_count": 2,
   "id": "876ca45d-a044-42b6-b92c-f0f66e08a835",
   "metadata": {
    "tags": []
   },
   "outputs": [
    {
     "name": "stdout",
     "output_type": "stream",
     "text": [
      "120\n"
     ]
    }
   ],
   "source": [
    "def factorial(n):\n",
    "    if n == 1:\n",
    "        return 1\n",
    "    prevfac = factorial(n - 1)\n",
    "    return n * prevfac\n",
    "\n",
    "\n",
    "print(factorial(5))"
   ]
  },
  {
   "cell_type": "markdown",
   "id": "9df56d80-0059-45b9-96c0-2ca5551fbac3",
   "metadata": {},
   "source": [
    "General rules for replacing recursion with a stack:\n",
    "- This should only be done if the language has limitations or non-asymptotic optimization is needed.\n",
    "- Create a loop \"while the stack is not empty\" and do all the work manually."
   ]
  },
  {
   "cell_type": "markdown",
   "id": "10d910d1-0e90-4152-b80d-9288db474e54",
   "metadata": {},
   "source": [
    "Example of solving a problem using manual stack implementation:"
   ]
  },
  {
   "cell_type": "code",
   "execution_count": 5,
   "id": "ae8937ec-2130-4b1b-9ba6-e0456b09d1af",
   "metadata": {
    "tags": []
   },
   "outputs": [
    {
     "name": "stdout",
     "output_type": "stream",
     "text": [
      "120\n"
     ]
    }
   ],
   "source": [
    "stack = []\n",
    "stack.append({'n': 5, 'prevfac': '?', 'labelfrom': 0})\n",
    "while len(stack):\n",
    "    localvars = stack[-1]\n",
    "    labelfrom = localvars['labelfrom']\n",
    "    if labelfrom <= 0:\n",
    "        if localvars['n'] == 1:\n",
    "            returnedvalue = 1\n",
    "            stack.pop()\n",
    "            continue\n",
    "        localvars['labelfrom'] = 1\n",
    "        stack.append({'n': localvars['n'] - 1, 'prevfac': '?', 'labelfrom': 0})\n",
    "        continue\n",
    "    if labelfrom <= 1:\n",
    "        localvars['prevfac'] = returnedvalue\n",
    "        returnedvalue = localvars['n'] * localvars['prevfac']\n",
    "        stack.pop()\n",
    "        continue\n",
    "        \n",
    "        \n",
    "print(returnedvalue)"
   ]
  }
 ],
 "metadata": {
  "kernelspec": {
   "display_name": "Python 3 (ipykernel)",
   "language": "python",
   "name": "python3"
  },
  "language_info": {
   "codemirror_mode": {
    "name": "ipython",
    "version": 3
   },
   "file_extension": ".py",
   "mimetype": "text/x-python",
   "name": "python",
   "nbconvert_exporter": "python",
   "pygments_lexer": "ipython3",
   "version": "3.7.11"
  }
 },
 "nbformat": 4,
 "nbformat_minor": 5
}

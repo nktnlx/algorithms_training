{
 "cells": [
  {
   "cell_type": "markdown",
   "id": "e140b715-9e1d-4a85-b91b-f653d9d4396f",
   "metadata": {},
   "source": [
    "# Algorithms by Yandex 3.0"
   ]
  },
  {
   "cell_type": "markdown",
   "id": "2b579946-86e5-4ff2-aadb-85052f0df02a",
   "metadata": {},
   "source": [
    "## Lesson 6. Breadth-first search traversal of graphs"
   ]
  },
  {
   "cell_type": "markdown",
   "id": "4a540258-0017-472d-a52b-0b680fa306fc",
   "metadata": {},
   "source": [
    "### Breadth-first search traversal"
   ]
  },
  {
   "cell_type": "markdown",
   "id": "781b742e-e339-4406-89e0-0e606c0ad807",
   "metadata": {},
   "source": [
    "Breadth-first search allows us to find the shortest paths in an unweighted graph from one vertex to all the others."
   ]
  },
  {
   "cell_type": "markdown",
   "id": "06c62cdb-dc44-408a-8516-c06723306980",
   "metadata": {},
   "source": [
    "Breadth-first search (BFS) is an algorithm used for traversing or searching tree or graph data structures. It starts at the tree root (or some arbitrary node of a graph), and explores all the neighboring nodes at the present depth level before moving on to the nodes at the next depth level.\n",
    "\n",
    "One of the most useful applications of BFS is finding the shortest path between two nodes in an unweighted graph. By visiting all the nodes at each level in order of their distance from the starting node, BFS guarantees that when a node is visited, it has been reached via the shortest possible path.\n",
    "\n",
    "BFS uses a queue to keep track of the nodes that need to be visited. The algorithm starts by adding the starting node to the queue, and then iteratively processes each node in the queue by visiting all its neighbors, marking them as visited, and adding them to the queue. When all the neighbors of a node have been processed, the algorithm dequeues the next node from the queue and repeats the process until all nodes have been visited.\n",
    "\n",
    "BFS has a time complexity of O(|V| + |E|), where |V| is the number of vertices in the graph and |E| is the number of edges. It requires a lot of memory to store the queue of nodes to be visited, so it may not be practical for large graphs."
   ]
  },
  {
   "cell_type": "markdown",
   "id": "aa93114d-56a6-452a-ac81-537876cbab0f",
   "metadata": {},
   "source": [
    "Breadth-first search (BFS) can be used to solve a variety of problems, including:\n",
    "\n",
    "Shortest path problems: \n",
    "* BFS can be used to find the shortest path between two nodes in an unweighted graph. For example, it can be used to find the shortest route between two locations on a map or to find the shortest path between two pages on a website.\n",
    "* Connected component problems: BFS can be used to find all the nodes that are connected to a given node in an undirected graph. This can be useful for clustering or grouping related data.\n",
    "* Traversal problems: BFS can be used to traverse a tree or graph in a specific order. For example, it can be used to print out all the nodes in a tree in level order or to visit all the web pages on a website in a systematic way.\n",
    "* Cycle detection problems: BFS can be used to detect cycles in a graph. If a visited node is encountered again during the search, then there must be a cycle in the graph.\n",
    "* Game problems: BFS can be used to find the shortest sequence of moves to win a game, such as a maze or a puzzle. For example, it can be used to solve the classic \"eight queens\" puzzle or to find the shortest way to escape from a maze.  \n",
    "\n",
    "Overall, BFS is a versatile algorithm that can be applied to a wide range of problems in computer science, mathematics, and other fields."
   ]
  },
  {
   "cell_type": "markdown",
   "id": "2cd17c56-409f-4f52-8342-4023fc736405",
   "metadata": {},
   "source": [
    "A vertex lies on the shortest path between two vertices if the sum of its distances from one vertex to it and from it to the other vertex equals the distance between those two vertices."
   ]
  },
  {
   "cell_type": "markdown",
   "id": "d1ab6e3d-953c-4333-a13f-9a594683420c",
   "metadata": {},
   "source": [
    "If both vertices lie on the shortest path between two vertices, then the edge between them also lies on the shortest path."
   ]
  },
  {
   "cell_type": "markdown",
   "id": "5096228f-3a8d-4660-99cd-b0b6115063f1",
   "metadata": {},
   "source": [
    "Depth-first search finds some path, but not necessarily the shortest one, while breadth-first search spreads like a wave and always finds the shortest path."
   ]
  },
  {
   "cell_type": "code",
   "execution_count": 3,
   "id": "2ab01414-ced1-4502-8449-38e0b7a22ce3",
   "metadata": {
    "tags": []
   },
   "outputs": [
    {
     "name": "stdout",
     "output_type": "stream",
     "text": [
      "Shortest path between A and F: A -> C -> F\n"
     ]
    }
   ],
   "source": [
    "from collections import deque\n",
    "\n",
    "\n",
    "def bfs(graph, start, end):\n",
    "    # Initialize a set to keep track of visited nodes\n",
    "    visited = set()\n",
    "    # Initialize a queue to keep track of nodes to be visited\n",
    "    queue = deque([(start, [start])])\n",
    "    while queue:\n",
    "        # Dequeue the next node to be visited\n",
    "        (node, path) = queue.popleft()\n",
    "        if node not in visited:\n",
    "            visited.add(node)\n",
    "            # Enqueue all the neighboring nodes that have not been visited\n",
    "            for neighbor in graph[node]:\n",
    "                if neighbor == end:\n",
    "                    return path + [neighbor]\n",
    "                else:\n",
    "                    queue.append((neighbor, path + [neighbor]))\n",
    "    return None\n",
    "\n",
    "\n",
    "# Example usage:\n",
    "graph = {\n",
    "    'A': ['B', 'C'],\n",
    "    'B': ['A', 'D', 'E'],\n",
    "    'C': ['A', 'F'],\n",
    "    'D': ['B'],\n",
    "    'E': ['B', 'F'],\n",
    "    'F': ['C', 'E']\n",
    "}\n",
    "\n",
    "start = 'A'\n",
    "end = 'F'\n",
    "\n",
    "path = bfs(graph, start, end)\n",
    "\n",
    "if path:\n",
    "    print(f\"Shortest path between {start} and {end}: {' -> '.join(path)}\")\n",
    "else:\n",
    "    print(f\"No path found between {start} and {end}\")\n"
   ]
  }
 ],
 "metadata": {
  "kernelspec": {
   "display_name": "Python 3 (ipykernel)",
   "language": "python",
   "name": "python3"
  },
  "language_info": {
   "codemirror_mode": {
    "name": "ipython",
    "version": 3
   },
   "file_extension": ".py",
   "mimetype": "text/x-python",
   "name": "python",
   "nbconvert_exporter": "python",
   "pygments_lexer": "ipython3",
   "version": "3.7.11"
  }
 },
 "nbformat": 4,
 "nbformat_minor": 5
}

{
 "cells": [
  {
   "cell_type": "markdown",
   "id": "df80d595-1850-4bf0-a33d-cd0def6bcd1e",
   "metadata": {},
   "source": [
    "# Algorithms by Yandex 3.0"
   ]
  },
  {
   "cell_type": "markdown",
   "id": "c658ad55-f16f-446e-8cc0-74c79da435ae",
   "metadata": {},
   "source": [
    "## Introduction"
   ]
  },
  {
   "cell_type": "markdown",
   "id": "e140b715-9e1d-4a85-b91b-f653d9d4396f",
   "metadata": {},
   "source": [
    "#### Task 1. "
   ]
  },
  {
   "cell_type": "markdown",
   "id": "2b579946-86e5-4ff2-aadb-85052f0df02a",
   "metadata": {},
   "source": [
    "<img src=\"https://disk.yandex.ru/i/fZGb0zr6Hw7Hfg\">"
   ]
  },
  {
   "cell_type": "markdown",
   "id": "4be6daf0-43fc-4067-8884-bf464bf36678",
   "metadata": {},
   "source": [
    "Input for test:  \n",
    "5  \n",
    "1 1 5 5 5  \n",
    "\n",
    "Output:  \n",
    "4"
   ]
  },
  {
   "cell_type": "code",
   "execution_count": 5,
   "id": "d42fffc7-61aa-43cc-9298-9b69d1f87875",
   "metadata": {
    "tags": []
   },
   "outputs": [
    {
     "name": "stdin",
     "output_type": "stream",
     "text": [
      " 5\n",
      " 1 1 5 5 5\n"
     ]
    },
    {
     "name": "stdout",
     "output_type": "stream",
     "text": [
      "4\n"
     ]
    }
   ],
   "source": [
    "# Get the number of elements in the list from the user\n",
    "n = int(input())\n",
    "\n",
    "# Get the list of integers from the user, separated by space\n",
    "a = list(map(int, input().split()))\n",
    "\n",
    "# Create a flag variable to track if the list is sorted in ascending order\n",
    "flag = True\n",
    "\n",
    "# Loop through the list, excluding the last element\n",
    "for i in range(n-1):\n",
    "    # If the current element is greater than the next element,\n",
    "    # set the flag to False as the list is not sorted in ascending order\n",
    "    if a[i] > a[i+1]:\n",
    "        flag = False\n",
    "        \n",
    "# Check the value of the flag after the loop\n",
    "if flag:\n",
    "    # If the flag is still True, that means the list is sorted in ascending order\n",
    "    # so the difference between the last and first elements is printed\n",
    "    print(a[n-1] - a[0])\n",
    "else:\n",
    "    # If the flag is False, that means the list is not sorted in ascending order\n",
    "    # so -1 is printed\n",
    "    print(-1)"
   ]
  },
  {
   "cell_type": "markdown",
   "id": "abd80ac3-fb30-4ec1-9429-9243a5720457",
   "metadata": {},
   "source": [
    "In this code, the program takes input from the user for the number of elements in the list and the elements themselves. Then, it checks if the list is sorted in ascending order or not by comparing each element with its next element. If the list is sorted, the program calculates the difference between the last and first elements of the list and prints it. If the list is not sorted, the program prints -1."
   ]
  },
  {
   "cell_type": "markdown",
   "id": "ebbcd4cb-ac46-4236-b471-9f2458729cc4",
   "metadata": {},
   "source": [
    "#### Task 2. "
   ]
  },
  {
   "cell_type": "markdown",
   "id": "4d19590b-926a-4b47-8093-86b749cf8e25",
   "metadata": {},
   "source": [
    "<img src=\"https://disk.yandex.ru/i/YgsEu2XdR-cW3g\">"
   ]
  },
  {
   "cell_type": "markdown",
   "id": "e39b4c84-794f-4f14-b320-e32bfc467df0",
   "metadata": {},
   "source": [
    "<img src=\"https://disk.yandex.ru/i/DVrCF5EAFqZtBg\">"
   ]
  },
  {
   "cell_type": "markdown",
   "id": "704b6aea-5220-41d2-8136-a725eb4d500d",
   "metadata": {},
   "source": [
    "Input for test:  \n",
    "8  \n",
    "50 7 25 3632 A  \n",
    "14 23 52 212372 S  \n",
    "15 0 5 3632 C  \n",
    "14 21 30 212372 A  \n",
    "50 7 26 3632 C  \n",
    "14 21 30 3632 A  \n",
    "14 21 40 213272 B  \n",
    "14 23 52 3632 B  \n",
    "\n",
    "Output:  \n",
    "156 142 "
   ]
  },
  {
   "cell_type": "code",
   "execution_count": 7,
   "id": "6863f869-cef6-4a7f-8ee6-b7b89e659bb4",
   "metadata": {
    "tags": []
   },
   "outputs": [
    {
     "name": "stdin",
     "output_type": "stream",
     "text": [
      " 8\n",
      " 50 7 25 3632 A\n",
      " 14 23 52 212372 S\n",
      " 15 0 5 3632 C\n",
      " 14 21 30 212372 A\n",
      " 50 7 26 3632 C\n",
      " 14 21 30 3632 A\n",
      " 14 21 40 213272 B\n",
      " 14 23 52 3632 B\n"
     ]
    },
    {
     "name": "stdout",
     "output_type": "stream",
     "text": [
      "156 142 "
     ]
    }
   ],
   "source": [
    "# Code to process events based on their type and calculate the duration of each event\n",
    "\n",
    "# Input read\n",
    "n = int(input())  # Reads the number of events\n",
    "\n",
    "# Store events information by id\n",
    "events_by_id = {}  # Dictionary to store events information by id\n",
    "\n",
    "# Loop through the events\n",
    "for i in range(n):\n",
    "    # Read the data of the event\n",
    "    data = input().split()\n",
    "    day, hour, minute, r_id = map(int, data[:4])\n",
    "    event = data[4]\n",
    "    \n",
    "    # Assign event type\n",
    "    if event == 'A':\n",
    "        event_type = 0\n",
    "    elif event == 'C' or event == 'S':\n",
    "        event_type = 1\n",
    "    elif event == 'B':\n",
    "        # Skip the events of type B\n",
    "        continue\n",
    "\n",
    "    # Convert day, hour, minute to total minutes\n",
    "    hour = day * 24 + hour\n",
    "    minute = hour * 60 + minute\n",
    "\n",
    "    # Add the event to the dictionary\n",
    "    if r_id not in events_by_id:\n",
    "        events_by_id[r_id] = []\n",
    "    events_by_id[r_id].append((minute, event_type))\n",
    "\n",
    "# Loop through the sorted events\n",
    "for r_id in sorted(events_by_id):\n",
    "    events_by_id[r_id].sort()  # Sort the events by their time\n",
    "    ans = 0  # Initialize the answer\n",
    "    prev_time = None  # Initialize the previous event time\n",
    "    \n",
    "    # Loop through the events and calculate the duration\n",
    "    for event in events_by_id[r_id]:\n",
    "        if event[1] == 0:\n",
    "            prev_time = event[0]  # Store the time of the start event\n",
    "        elif event[1] == 1:\n",
    "            ans += event[0] - prev_time  # Calculate the duration\n",
    "    \n",
    "    # Print the result\n",
    "    print(ans, end=' ')"
   ]
  },
  {
   "cell_type": "markdown",
   "id": "3ebddfb5-c6fd-4f61-bd22-f75aa8c343ec",
   "metadata": {},
   "source": [
    "This code takes in an integer 'n' as input, which represents the number of events to be processed. The code then creates an empty dictionary called 'events_by_id' that will store each event along with its respective id as key-value pairs.\n",
    "\n",
    "For each event in the range of 'n', the code takes in a line of input, splits it into its components (day, hour, minute, event id, and event type), and maps the first 4 components to integers. The code then assigns a numerical value to the event type based on whether it is 'A', 'C' or 'S', or 'B'. If the event type is 'B', the code continues to the next iteration as 'B' events are not processed.\n",
    "\n",
    "Next, the code converts the day, hour, and minute values into a total number of minutes, and uses the event id as the key to store the event type and total minutes in the 'events_by_id' dictionary.\n",
    "\n",
    "After all events have been processed, the code sorts the keys of the 'events_by_id' dictionary and for each id, sorts the events by total minutes. The code then calculates the total duration of each event type 1 by subtracting the previous time from the current time for each event type 1. This duration is stored in the variable 'ans', and the value of 'ans' is printed at the end of processing each id. The end=' ' argument at the end of the print statement ensures that the output is printed on the same line, with a space separating the output of each id."
   ]
  }
 ],
 "metadata": {
  "kernelspec": {
   "display_name": "Python 3 (ipykernel)",
   "language": "python",
   "name": "python3"
  },
  "language_info": {
   "codemirror_mode": {
    "name": "ipython",
    "version": 3
   },
   "file_extension": ".py",
   "mimetype": "text/x-python",
   "name": "python",
   "nbconvert_exporter": "python",
   "pygments_lexer": "ipython3",
   "version": "3.7.11"
  }
 },
 "nbformat": 4,
 "nbformat_minor": 5
}

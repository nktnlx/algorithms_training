{
 "cells": [
  {
   "cell_type": "markdown",
   "id": "e140b715-9e1d-4a85-b91b-f653d9d4396f",
   "metadata": {},
   "source": [
    "# Algorithms by Yandex 3.0"
   ]
  },
  {
   "cell_type": "markdown",
   "id": "2b579946-86e5-4ff2-aadb-85052f0df02a",
   "metadata": {},
   "source": [
    "## Lesson 3. Dynamic programming"
   ]
  },
  {
   "cell_type": "markdown",
   "id": "4a540258-0017-472d-a52b-0b680fa306fc",
   "metadata": {},
   "source": [
    "### Dynamic programming with one parameter"
   ]
  },
  {
   "cell_type": "markdown",
   "id": "8734e66e-6eb3-48a6-b39f-9966fb65a9c7",
   "metadata": {},
   "source": [
    "Dynamic programming is a technique used in computer science and mathematics to efficiently solve problems by breaking them down into smaller subproblems and solving each subproblem only once. It is especially useful for problems that exhibit overlapping subproblems and optimal substructure.  \n",
    "\n",
    "The basic idea behind dynamic programming is to store the solutions to subproblems in a table, so that they can be reused later instead of recomputing them. This approach can greatly reduce the time complexity of a problem, making it solvable in polynomial time instead of exponential time."
   ]
  },
  {
   "cell_type": "markdown",
   "id": "cdb22e3f-577f-417c-8087-3d7154310663",
   "metadata": {},
   "source": [
    "Dynamic programming algorithms typically involve three main steps:\n",
    "1. Characterize the structure of an optimal solution to the problem.\n",
    "2. Define the value of an optimal solution recursively in terms of smaller subproblems.\n",
    "3. Compute the value of an optimal solution iteratively using the values of previously computed subproblems, typically stored in a table."
   ]
  },
  {
   "cell_type": "markdown",
   "id": "5d609c3c-c77f-40a3-9871-28bf3ac6250a",
   "metadata": {},
   "source": [
    "Examples of problems that can be solved using dynamic programming include the Fibonacci sequence, shortest path problems, knapsack problems, and sequence alignment problems, among others. Dynamic programming is a powerful technique that has applications in a wide range of fields, including computer science, mathematics, economics, biology, and physics, among others."
   ]
  },
  {
   "cell_type": "markdown",
   "id": "4959a43f-ba74-4e44-a572-24194b3cb75a",
   "metadata": {},
   "source": [
    "#### Fibonacci and steps"
   ]
  },
  {
   "cell_type": "markdown",
   "id": "2ddfdc0c-ea83-44ba-8892-8477c473b469",
   "metadata": {},
   "source": [
    "Fibo nums: 1, 1, 2, 3, 5, 8, 13, 21, 34, 55, ..."
   ]
  },
  {
   "cell_type": "markdown",
   "id": "172d02d4-8418-48d2-aea7-fd5fc6baa61f",
   "metadata": {},
   "source": [
    "Recursive solution:"
   ]
  },
  {
   "cell_type": "code",
   "execution_count": 5,
   "id": "f068891a-8918-46f8-9889-5f66956cb765",
   "metadata": {
    "tags": []
   },
   "outputs": [
    {
     "name": "stdout",
     "output_type": "stream",
     "text": [
      "21\n"
     ]
    }
   ],
   "source": [
    "def fib(n):\n",
    "    if n == 0 or n == 1:\n",
    "        return 1\n",
    "    else:\n",
    "        return fib(n - 1) + fib(n - 2)\n",
    "    \n",
    "\n",
    "print(fib(7))"
   ]
  },
  {
   "cell_type": "markdown",
   "id": "263badb1-dc3f-4cce-b734-a8ad239d8419",
   "metadata": {},
   "source": [
    "Recursive with memoization solution:"
   ]
  },
  {
   "cell_type": "code",
   "execution_count": 7,
   "id": "cb29ba5d-6343-492e-a69b-3d41ac61324e",
   "metadata": {
    "tags": []
   },
   "outputs": [
    {
     "name": "stdin",
     "output_type": "stream",
     "text": [
      " 7\n"
     ]
    },
    {
     "name": "stdout",
     "output_type": "stream",
     "text": [
      "21\n"
     ]
    }
   ],
   "source": [
    "# Define a function named fib that takes two parameters n and dp\n",
    "def fib(n, dp):\n",
    "    # Check if dp[n] is -1. If it is, compute the nth Fibonacci number\n",
    "    # using recursion and dynamic programming, and store the result in dp[n]\n",
    "    if dp[n] == -1:\n",
    "        dp[n] = fib(n - 1, dp) + fib(n - 2, dp)\n",
    "    # Return the nth Fibonacci number\n",
    "    return dp[n]\n",
    "\n",
    "\n",
    "# Read an integer input from the user and store it in n\n",
    "n = int(input())\n",
    "# Initialize a list named dp with n+1 elements, all set to -1\n",
    "dp = [-1] * (n + 1)\n",
    "# Set the first two elements of dp to 1 (since the first two Fibonacci numbers are 1 and 1)\n",
    "dp[0] = dp[1] = 1\n",
    "# Compute and print the nth Fibonacci number using the fib function\n",
    "print(fib(n, dp))"
   ]
  },
  {
   "cell_type": "markdown",
   "id": "6ce0a3a2-a35a-498f-8576-35acaa529709",
   "metadata": {},
   "source": [
    "With a for loop:"
   ]
  },
  {
   "cell_type": "code",
   "execution_count": 9,
   "id": "dd795608-1e55-4546-b47a-8586da2d352c",
   "metadata": {
    "tags": []
   },
   "outputs": [
    {
     "name": "stdin",
     "output_type": "stream",
     "text": [
      " 7\n"
     ]
    },
    {
     "name": "stdout",
     "output_type": "stream",
     "text": [
      "21\n"
     ]
    }
   ],
   "source": [
    "n = int(input())\n",
    "dp = [0] * (n + 1)\n",
    "dp[0] = dp[1] = 1\n",
    "for i in range(2, n + 1):\n",
    "    dp[i] = dp[i - 1] + dp[i - 2]\n",
    "print(dp[i])"
   ]
  },
  {
   "cell_type": "markdown",
   "id": "28250053-9d52-485a-9ab1-7bbbafaabdee",
   "metadata": {},
   "source": [
    "##### General principles of dynamic programming:"
   ]
  },
  {
   "cell_type": "markdown",
   "id": "55dd4b69-41ca-4698-b4be-a8cde73905ef",
   "metadata": {},
   "source": [
    "- understand what we are calculating\n",
    "- find a recurrence relation (how to express the problem in terms of smaller ones)\n",
    "- set initial values (the base of dynamic programming)\n",
    "- know in what order to compute the values\n",
    "- understand where to find the answer"
   ]
  },
  {
   "cell_type": "markdown",
   "id": "8bbd64ec-f8d5-495f-8d6e-e126b6466004",
   "metadata": {},
   "source": [
    "#### The longest increasing sequence"
   ]
  },
  {
   "cell_type": "markdown",
   "id": "059b9229-2190-4fcc-bca9-b5ae79321402",
   "metadata": {},
   "source": [
    "Subsequence - what is obtained from a sequence by removing some elements (i.e. not necessarily consecutive elements)  \n",
    "\n",
    "Increasing - each subsequent element of the subsequence is strictly greater than the previous one  \n",
    "\n",
    "Longest - the largest in terms of length"
   ]
  },
  {
   "cell_type": "markdown",
   "id": "d6fb43de-7c6f-48f4-a613-9b7fbbb02d53",
   "metadata": {},
   "source": [
    "Time complexity O(N^2)"
   ]
  },
  {
   "cell_type": "markdown",
   "id": "0f143360-70e1-455d-8661-37ff43c82dc2",
   "metadata": {},
   "source": [
    "But there is also a way to do it O(NlogN)"
   ]
  }
 ],
 "metadata": {
  "kernelspec": {
   "display_name": "Python 3 (ipykernel)",
   "language": "python",
   "name": "python3"
  },
  "language_info": {
   "codemirror_mode": {
    "name": "ipython",
    "version": 3
   },
   "file_extension": ".py",
   "mimetype": "text/x-python",
   "name": "python",
   "nbconvert_exporter": "python",
   "pygments_lexer": "ipython3",
   "version": "3.7.11"
  }
 },
 "nbformat": 4,
 "nbformat_minor": 5
}

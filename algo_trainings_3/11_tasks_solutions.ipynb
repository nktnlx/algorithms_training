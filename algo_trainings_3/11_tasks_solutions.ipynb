{
 "cells": [
  {
   "cell_type": "markdown",
   "id": "df80d595-1850-4bf0-a33d-cd0def6bcd1e",
   "metadata": {},
   "source": [
    "# Algorithms by Yandex 3.0"
   ]
  },
  {
   "cell_type": "markdown",
   "id": "c658ad55-f16f-446e-8cc0-74c79da435ae",
   "metadata": {},
   "source": [
    "## Homework solutions"
   ]
  },
  {
   "cell_type": "markdown",
   "id": "e140b715-9e1d-4a85-b91b-f653d9d4396f",
   "metadata": {},
   "source": [
    "#### Task 8. "
   ]
  },
  {
   "cell_type": "markdown",
   "id": "22b0d783-db0a-4b5c-ba99-f98212853b86",
   "metadata": {},
   "source": [
    "On a checkered plane, K cells are colored. It is required to find the minimum area rectangle with sides parallel to the grid lines covering all colored cells.  \n",
    "\n",
    "In the input file, the first line contains the number K (1 ≤ K ≤ 100). The next K lines contain pairs of numbers Xi and Yi - the coordinates of the colored cells (|Xi|, |Yi| ≤ 109).  \n",
    "\n",
    "Output the coordinates of the bottom left and top right corners of the rectangle to the output file."
   ]
  },
  {
   "cell_type": "code",
   "execution_count": 3,
   "id": "54360cb6-b184-418e-ab10-6daada811bca",
   "metadata": {
    "tags": []
   },
   "outputs": [
    {
     "name": "stdin",
     "output_type": "stream",
     "text": [
      " 3\n",
      " 1 1\n",
      " 1 10\n",
      " 5 5\n"
     ]
    },
    {
     "name": "stdout",
     "output_type": "stream",
     "text": [
      "1 1 5 10\n"
     ]
    }
   ],
   "source": [
    "# solution will be posted here by me after 13/03/2023"
   ]
  }
 ],
 "metadata": {
  "kernelspec": {
   "display_name": "Python 3 (ipykernel)",
   "language": "python",
   "name": "python3"
  },
  "language_info": {
   "codemirror_mode": {
    "name": "ipython",
    "version": 3
   },
   "file_extension": ".py",
   "mimetype": "text/x-python",
   "name": "python",
   "nbconvert_exporter": "python",
   "pygments_lexer": "ipython3",
   "version": "3.7.11"
  }
 },
 "nbformat": 4,
 "nbformat_minor": 5
}

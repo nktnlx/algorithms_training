{
 "cells": [
  {
   "cell_type": "markdown",
   "id": "df80d595-1850-4bf0-a33d-cd0def6bcd1e",
   "metadata": {},
   "source": [
    "# Algorithms by Yandex 3.0"
   ]
  },
  {
   "cell_type": "markdown",
   "id": "c658ad55-f16f-446e-8cc0-74c79da435ae",
   "metadata": {},
   "source": [
    "## Homework solutions"
   ]
  },
  {
   "cell_type": "markdown",
   "id": "824938e3-907e-4be8-a1ea-1f69f0d74011",
   "metadata": {},
   "source": [
    "#### Task 1. "
   ]
  },
  {
   "cell_type": "markdown",
   "id": "b0574c9b-c785-44a2-8b7a-78664aaccad6",
   "metadata": {},
   "source": [
    "Mike wants to build a histogram of the number of characters in a message. A histogram is a graph in which each character that appears in the message at least once corresponds to a column whose height is proportional to the number of times that character appears in the message.  \n",
    "\n",
    "The input file contains the encrypted text of the message. It contains lowercase and uppercase Latin letters, numbers, punctuation marks (\".\", \"!\", \"?\", \":\", \"-\", \",\", \";\", \"(\", \")\"), spaces, and line breaks. The size of the input file does not exceed 10000 bytes. The text contains at least one non-space character. All lines in the input file are no longer than 200 characters.  \n",
    "\n",
    "For each character c, except for spaces and line breaks, output a column of \"#\" characters, the number of which should be equal to the number of occurrences of c in the given text. Below each column, write the character that corresponds to it. Format the histogram so that the bottoms of the columns are on the same line, the first row and first column are not empty, and the columns are not separated from each other. Sort the columns in ascending order of their character codes."
   ]
  },
  {
   "cell_type": "code",
   "execution_count": 134,
   "id": "037f6c6e-1be3-4d89-b1d4-7b10cc043328",
   "metadata": {
    "tags": []
   },
   "outputs": [
    {
     "name": "stdout",
     "output_type": "stream",
     "text": [
      "         #              \n",
      "         #              \n",
      "         #              \n",
      "         #              \n",
      "         #              \n",
      "         #         #    \n",
      "         #  #      #    \n",
      "      #  # ###  ####    \n",
      "      ## ###### ####    \n",
      "      ##############    \n",
      "      ##############  ##\n",
      "#  #  ############## ###\n",
      "########################\n",
      ",.;ADTabdeghilmnorstuvwy\n"
     ]
    }
   ],
   "source": [
    "# solution will be posted here by me after 13/03/2023"
   ]
  },
  {
   "cell_type": "markdown",
   "id": "30af40af-1243-452e-ba0a-158de77099df",
   "metadata": {},
   "source": [
    "#### Task 3. "
   ]
  },
  {
   "cell_type": "markdown",
   "id": "5ba47ef3-2452-4448-af87-0dc168c75b2f",
   "metadata": {},
   "source": [
    "Diego is passionate about collecting stickers. Each of them has a number written on it, and every collector dreams of collecting stickers with all the numbers that appear.  \n",
    "\n",
    "Diego collected N stickers, some of which may coincide. One day, K collectors came to him. The i-th of them collected all stickers with numbers not less than pi. Write a program that will help each of the collectors determine how many stickers he is missing from Diego. Of course, Diego's guests are not interested in duplicate stickers.  \n",
    "\n",
    "The first line contains a single integer N (0 ≤ N ≤ 100,000) - the number of stickers Diego has.  \n",
    "\n",
    "The next line contains N non-negative integers (not necessarily distinct) - the numbers of Diego's stickers. All sticker numbers do not exceed 109.  \n",
    "\n",
    "The next line contains the number K (0 ≤ K ≤ 100,000) - the number of collectors who came to Diego. The next line contains K integers pi (0 ≤ pi ≤ 109), where pi is the smallest sticker number that is not of interest to the i-th collector.  \n",
    "\n",
    "For each collector, print the number of different numbers on the stickers that Diego has but the collector does not have, in a separate line."
   ]
  },
  {
   "cell_type": "code",
   "execution_count": 1,
   "id": "2c7fdfe4-69e0-4d74-b28e-0414e354e34c",
   "metadata": {
    "tags": []
   },
   "outputs": [
    {
     "name": "stdin",
     "output_type": "stream",
     "text": [
      " 4\n",
      " 3 3 2 2\n",
      " 4\n",
      " 3 3 4 2\n"
     ]
    },
    {
     "name": "stdout",
     "output_type": "stream",
     "text": [
      "1\n",
      "1\n",
      "2\n",
      "0\n"
     ]
    }
   ],
   "source": [
    "# solution will be posted here by me after 13/03/2023"
   ]
  },
  {
   "cell_type": "markdown",
   "id": "e140b715-9e1d-4a85-b91b-f653d9d4396f",
   "metadata": {},
   "source": [
    "#### Task 8. "
   ]
  },
  {
   "cell_type": "markdown",
   "id": "22b0d783-db0a-4b5c-ba99-f98212853b86",
   "metadata": {},
   "source": [
    "On a checkered plane, K cells are colored. It is required to find the minimum area rectangle with sides parallel to the grid lines covering all colored cells.  \n",
    "\n",
    "In the input file, the first line contains the number K (1 ≤ K ≤ 100). The next K lines contain pairs of numbers Xi and Yi - the coordinates of the colored cells (|Xi|, |Yi| ≤ 109).  \n",
    "\n",
    "Output the coordinates of the bottom left and top right corners of the rectangle to the output file."
   ]
  },
  {
   "cell_type": "code",
   "execution_count": 3,
   "id": "54360cb6-b184-418e-ab10-6daada811bca",
   "metadata": {
    "tags": []
   },
   "outputs": [
    {
     "name": "stdin",
     "output_type": "stream",
     "text": [
      " 3\n",
      " 1 1\n",
      " 1 10\n",
      " 5 5\n"
     ]
    },
    {
     "name": "stdout",
     "output_type": "stream",
     "text": [
      "1 1 5 10\n"
     ]
    }
   ],
   "source": [
    "# solution will be posted here by me after 13/03/2023"
   ]
  },
  {
   "cell_type": "markdown",
   "id": "19d34ee9-8226-4cab-9324-70a5ffd34b6d",
   "metadata": {},
   "source": [
    "#### Task 11. "
   ]
  },
  {
   "cell_type": "markdown",
   "id": "1a386796-239f-485a-9e1a-99911cc23c2b",
   "metadata": {
    "tags": []
   },
   "source": [
    "Learn to use the standard data structure stack for integers. Write a program that includes a stack description and simulates the stack operation by implementing all the methods mentioned here. The program reads a sequence of commands and performs a certain operation depending on the command. After executing each command, the program should output one line.  \n",
    "\n",
    "Possible commands for the program are:  \n",
    "\n",
    "`push n`  \n",
    "Add the number n (the value of n is specified after the command) to the stack. The program should output ok.  \n",
    "  \n",
    "`pop`  \n",
    "Remove the last element from the stack. The program should output its value.  \n",
    "  \n",
    "`back`  \n",
    "The program should output the value of the last element without removing it from the stack.  \n",
    "  \n",
    "`size`  \n",
    "The program should output the number of elements in the stack.  \n",
    "  \n",
    "`clear`  \n",
    "The program should clear the stack and output ok.  \n",
    "  \n",
    "`exit`  \n",
    "The program should output bye and terminate.  \n",
    "  \n",
    "Before executing the back and pop operations, the program should check whether at least one element is in the stack. If the input data contains the back or pop operation and the stack is empty, the program should output the string error instead of a numeric value.  \n",
    "  \n",
    "Stack control commands are entered, one per line.\n",
    "The program should output the stack operation protocol, one message per line."
   ]
  },
  {
   "cell_type": "code",
   "execution_count": 371,
   "id": "bf08252b-a1eb-4fca-b822-015e762f42c7",
   "metadata": {
    "tags": []
   },
   "outputs": [
    {
     "name": "stdout",
     "output_type": "stream",
     "text": [
      "ok\n",
      "1\n",
      "bye\n"
     ]
    }
   ],
   "source": [
    "# solution will be posted here by me after 13/03/2023"
   ]
  },
  {
   "cell_type": "markdown",
   "id": "4cf41b90-b7cc-4a21-b30f-e722988582da",
   "metadata": {},
   "source": [
    "#### Task 12. "
   ]
  },
  {
   "cell_type": "markdown",
   "id": "89a2cc26-66be-43bf-95fd-5c89d6af070e",
   "metadata": {},
   "source": [
    "Let's consider a sequence consisting of round, square, and curly brackets. The program must determine if the given bracket sequence is correct. An empty sequence is considered correct. If A is correct, then the sequences (A), [A], {A} are also correct. If A and B are correct sequences, then the sequence AB is also correct.\n",
    "The input consists of a single line containing a bracket sequence containing no more than 100000 brackets.\n",
    "If the given sequence is correct, the program should output the string \"yes\", otherwise it should output \"no\"."
   ]
  },
  {
   "cell_type": "code",
   "execution_count": 303,
   "id": "2ae4ddf0-77cb-44a7-9bcb-392da2c2e5a9",
   "metadata": {
    "tags": []
   },
   "outputs": [
    {
     "name": "stdout",
     "output_type": "stream",
     "text": [
      "yes\n"
     ]
    }
   ],
   "source": [
    "# solution will be posted here by me after 13/03/2023"
   ]
  },
  {
   "cell_type": "markdown",
   "id": "3c41c811-a405-47de-a87a-c7bb070964ef",
   "metadata": {},
   "source": [
    "#### Task 13. "
   ]
  },
  {
   "cell_type": "markdown",
   "id": "3edfead7-8f80-42e8-bc8b-321e806e38bb",
   "metadata": {},
   "source": [
    "In postfix notation (or Reverse Polish Notation), an operator is written after its two operands. For example, the sum of two numbers A and B is written as A B +. The notation B C + D * represents the familiar (B + C) * D, and the notation A B C + D * + means A + (B + C) * D. The advantage of postfix notation is that it does not require parentheses or additional agreements on operator precedence to be read.  \n",
    "\n",
    "The input consists of a single line containing an expression in postfix notation, consisting of digits and the operations +, -, *. Digits and operations are separated by spaces. There may be any number of spaces at the end of the line.  \n",
    "\n",
    "The program should output the value of the expression."
   ]
  },
  {
   "cell_type": "code",
   "execution_count": 1,
   "id": "26577b51-8a12-4a0f-8caa-3ca6ae161f0c",
   "metadata": {
    "tags": []
   },
   "outputs": [
    {
     "name": "stdin",
     "output_type": "stream",
     "text": [
      " 8 9 + 1 7 - *\n"
     ]
    },
    {
     "name": "stdout",
     "output_type": "stream",
     "text": [
      "-102\n"
     ]
    }
   ],
   "source": [
    "# solution will be posted here by me after 13/03/2023"
   ]
  },
  {
   "cell_type": "markdown",
   "id": "95f85af4-d8af-456a-a3f6-4e8d1af9494b",
   "metadata": {},
   "source": [
    "#### Task 14. "
   ]
  },
  {
   "cell_type": "markdown",
   "id": "b77830e1-8b5a-4ab2-b6ce-825e478dc211",
   "metadata": {},
   "source": [
    "A train approached the dead end from the direction of track 1 (see the figure). It is allowed to detach one or several first cars from the train and take them into the dead end (if desired, the entire train can be taken into the dead end at once). After that, some of these cars can be taken out in the direction of track 2. After that, it is possible to take several more cars into the dead end and again take some of the cars out in the direction of track 2. And so on (so that each car can only enter the dead end from track 1 once and then leave the dead end to track 2 once). Entering the dead end from track 2 or leaving the dead end to track 1 is prohibited. It is not possible to get from track 1 to track 2 without entering the dead end.  \n",
    "\n",
    "It is known in what order the cars of the train are originally arranged. It is required to use the specified operations to make the cars of the train go in order (first the first one, then the second one, etc., counting from the head of the train traveling along track 2 away from the dead end). Write a program to determine if this can be done.  \n",
    "\n",
    "The number N is entered - the number of cars in the train (1 ≤ N ≤ 100). Then there are the numbers of the cars in the order from the head of the train traveling along track 1 towards the dead end. The cars are numbered with natural numbers from 1 to N, each of which occurs exactly once.  \n",
    "\n",
    "If it is possible to arrange the cars in order from 1 to N, counting from the head of the train, when the train travels along track 2 from the dead end, output the message YES, otherwise output NO."
   ]
  },
  {
   "cell_type": "code",
   "execution_count": 1,
   "id": "7b5dc7c0-f252-49cb-abad-29b4ccf94e54",
   "metadata": {
    "tags": []
   },
   "outputs": [
    {
     "name": "stdin",
     "output_type": "stream",
     "text": [
      " 3\n",
      " 2 1 3\n"
     ]
    },
    {
     "name": "stdout",
     "output_type": "stream",
     "text": [
      "YES\n"
     ]
    }
   ],
   "source": [
    "# solution will be posted here by me after 13/03/2023"
   ]
  },
  {
   "cell_type": "markdown",
   "id": "23ef3e79-b406-459e-9ef0-bcd58e18eef6",
   "metadata": {},
   "source": [
    "#### Task 16. "
   ]
  },
  {
   "cell_type": "markdown",
   "id": "61fcb224-75d4-440f-b2bf-db71744c4089",
   "metadata": {},
   "source": [
    "Learn to use the standard data structure queue for integers. Write a program that contains a description of the queue and models the operation of the queue, implementing all the methods specified here.\n",
    "The program reads a sequence of commands and depending on the command, performs one or another operation. After executing each command, the program should output one line.  \n",
    "\n",
    "Possible commands for the program:  \n",
    "\n",
    "`push n`  \n",
    "Add the number n (value n is given after the command) to the queue. The program should output ok.  \n",
    "\n",
    "`pop`  \n",
    "Remove the first element from the queue. The program should output its value.  \n",
    "\n",
    "`front`  \n",
    "The program should output the value of the first element without removing it from the queue.  \n",
    "\n",
    "`size`  \n",
    "The program should output the number of elements in the queue.  \n",
    "\n",
    "`clear`  \n",
    "The program should clear the queue and output ok.  \n",
    "\n",
    "`exit`  \n",
    "The program should output bye and terminate.  \n",
    "\n",
    "Before executing the front and pop operations, the program should check if the queue contains at least one element. If the input contains a front or pop operation and the queue is empty, the program should output the string error instead of a numerical value.  \n",
    "\n",
    "Queue management commands are entered one per line. The protocol of the queue operation is required to be output, one message per line."
   ]
  },
  {
   "cell_type": "code",
   "execution_count": 1,
   "id": "456a3aa5-26f7-4408-a3cc-a3d011482629",
   "metadata": {
    "tags": []
   },
   "outputs": [
    {
     "name": "stdout",
     "output_type": "stream",
     "text": [
      "ok\n",
      "ok\n",
      "2\n",
      "ok\n",
      "ok\n",
      "1\n",
      "ok\n",
      "1\n",
      "1\n",
      "1\n",
      "2\n",
      "0\n",
      "bye\n"
     ]
    }
   ],
   "source": [
    "# solution will be posted here by me after 13/03/2023"
   ]
  }
 ],
 "metadata": {
  "kernelspec": {
   "display_name": "Python 3 (ipykernel)",
   "language": "python",
   "name": "python3"
  },
  "language_info": {
   "codemirror_mode": {
    "name": "ipython",
    "version": 3
   },
   "file_extension": ".py",
   "mimetype": "text/x-python",
   "name": "python",
   "nbconvert_exporter": "python",
   "pygments_lexer": "ipython3",
   "version": "3.7.11"
  }
 },
 "nbformat": 4,
 "nbformat_minor": 5
}

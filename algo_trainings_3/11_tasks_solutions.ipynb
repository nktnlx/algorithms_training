{
 "cells": [
  {
   "cell_type": "markdown",
   "id": "df80d595-1850-4bf0-a33d-cd0def6bcd1e",
   "metadata": {},
   "source": [
    "# Algorithms by Yandex 3.0"
   ]
  },
  {
   "cell_type": "markdown",
   "id": "c658ad55-f16f-446e-8cc0-74c79da435ae",
   "metadata": {},
   "source": [
    "## Homework solutions"
   ]
  },
  {
   "cell_type": "markdown",
   "id": "824938e3-907e-4be8-a1ea-1f69f0d74011",
   "metadata": {},
   "source": [
    "#### Task 1. "
   ]
  },
  {
   "cell_type": "markdown",
   "id": "b0574c9b-c785-44a2-8b7a-78664aaccad6",
   "metadata": {},
   "source": [
    "Mike wants to build a histogram of the number of characters in a message. A histogram is a graph in which each character that appears in the message at least once corresponds to a column whose height is proportional to the number of times that character appears in the message.  \n",
    "\n",
    "The input file contains the encrypted text of the message. It contains lowercase and uppercase Latin letters, numbers, punctuation marks (\".\", \"!\", \"?\", \":\", \"-\", \",\", \";\", \"(\", \")\"), spaces, and line breaks. The size of the input file does not exceed 10000 bytes. The text contains at least one non-space character. All lines in the input file are no longer than 200 characters.  \n",
    "\n",
    "For each character c, except for spaces and line breaks, output a column of \"#\" characters, the number of which should be equal to the number of occurrences of c in the given text. Below each column, write the character that corresponds to it. Format the histogram so that the bottoms of the columns are on the same line, the first row and first column are not empty, and the columns are not separated from each other. Sort the columns in ascending order of their character codes."
   ]
  },
  {
   "cell_type": "code",
   "execution_count": 134,
   "id": "037f6c6e-1be3-4d89-b1d4-7b10cc043328",
   "metadata": {
    "tags": []
   },
   "outputs": [
    {
     "name": "stdout",
     "output_type": "stream",
     "text": [
      "         #              \n",
      "         #              \n",
      "         #              \n",
      "         #              \n",
      "         #              \n",
      "         #         #    \n",
      "         #  #      #    \n",
      "      #  # ###  ####    \n",
      "      ## ###### ####    \n",
      "      ##############    \n",
      "      ##############  ##\n",
      "#  #  ############## ###\n",
      "########################\n",
      ",.;ADTabdeghilmnorstuvwy\n"
     ]
    }
   ],
   "source": [
    "# solution will be posted here by me after 13/03/2023"
   ]
  },
  {
   "cell_type": "markdown",
   "id": "e140b715-9e1d-4a85-b91b-f653d9d4396f",
   "metadata": {},
   "source": [
    "#### Task 8. "
   ]
  },
  {
   "cell_type": "markdown",
   "id": "22b0d783-db0a-4b5c-ba99-f98212853b86",
   "metadata": {},
   "source": [
    "On a checkered plane, K cells are colored. It is required to find the minimum area rectangle with sides parallel to the grid lines covering all colored cells.  \n",
    "\n",
    "In the input file, the first line contains the number K (1 ≤ K ≤ 100). The next K lines contain pairs of numbers Xi and Yi - the coordinates of the colored cells (|Xi|, |Yi| ≤ 109).  \n",
    "\n",
    "Output the coordinates of the bottom left and top right corners of the rectangle to the output file."
   ]
  },
  {
   "cell_type": "code",
   "execution_count": 3,
   "id": "54360cb6-b184-418e-ab10-6daada811bca",
   "metadata": {
    "tags": []
   },
   "outputs": [
    {
     "name": "stdin",
     "output_type": "stream",
     "text": [
      " 3\n",
      " 1 1\n",
      " 1 10\n",
      " 5 5\n"
     ]
    },
    {
     "name": "stdout",
     "output_type": "stream",
     "text": [
      "1 1 5 10\n"
     ]
    }
   ],
   "source": [
    "# solution will be posted here by me after 13/03/2023"
   ]
  },
  {
   "cell_type": "markdown",
   "id": "4cf41b90-b7cc-4a21-b30f-e722988582da",
   "metadata": {},
   "source": [
    "#### Task 12. "
   ]
  },
  {
   "cell_type": "markdown",
   "id": "89a2cc26-66be-43bf-95fd-5c89d6af070e",
   "metadata": {},
   "source": [
    "Let's consider a sequence consisting of round, square, and curly brackets. The program must determine if the given bracket sequence is correct. An empty sequence is considered correct. If A is correct, then the sequences (A), [A], {A} are also correct. If A and B are correct sequences, then the sequence AB is also correct.\n",
    "The input consists of a single line containing a bracket sequence containing no more than 100000 brackets.\n",
    "If the given sequence is correct, the program should output the string \"yes\", otherwise it should output \"no\"."
   ]
  },
  {
   "cell_type": "code",
   "execution_count": 303,
   "id": "2ae4ddf0-77cb-44a7-9bcb-392da2c2e5a9",
   "metadata": {
    "tags": []
   },
   "outputs": [
    {
     "name": "stdout",
     "output_type": "stream",
     "text": [
      "yes\n"
     ]
    }
   ],
   "source": [
    "# solution will be posted here by me after 13/03/2023"
   ]
  }
 ],
 "metadata": {
  "kernelspec": {
   "display_name": "Python 3 (ipykernel)",
   "language": "python",
   "name": "python3"
  },
  "language_info": {
   "codemirror_mode": {
    "name": "ipython",
    "version": 3
   },
   "file_extension": ".py",
   "mimetype": "text/x-python",
   "name": "python",
   "nbconvert_exporter": "python",
   "pygments_lexer": "ipython3",
   "version": "3.7.11"
  }
 },
 "nbformat": 4,
 "nbformat_minor": 5
}

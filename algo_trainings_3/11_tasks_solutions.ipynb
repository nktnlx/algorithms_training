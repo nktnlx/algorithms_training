{
 "cells": [
  {
   "cell_type": "markdown",
   "id": "df80d595-1850-4bf0-a33d-cd0def6bcd1e",
   "metadata": {},
   "source": [
    "# Algorithms by Yandex 3.0"
   ]
  },
  {
   "cell_type": "markdown",
   "id": "c658ad55-f16f-446e-8cc0-74c79da435ae",
   "metadata": {},
   "source": [
    "## Homework solutions"
   ]
  },
  {
   "cell_type": "markdown",
   "id": "824938e3-907e-4be8-a1ea-1f69f0d74011",
   "metadata": {},
   "source": [
    "#### Task 1. "
   ]
  },
  {
   "cell_type": "markdown",
   "id": "b0574c9b-c785-44a2-8b7a-78664aaccad6",
   "metadata": {},
   "source": [
    "Mike wants to build a histogram of the number of characters in a message. A histogram is a graph in which each character that appears in the message at least once corresponds to a column whose height is proportional to the number of times that character appears in the message.  \n",
    "\n",
    "The input file contains the encrypted text of the message. It contains lowercase and uppercase Latin letters, numbers, punctuation marks (\".\", \"!\", \"?\", \":\", \"-\", \",\", \";\", \"(\", \")\"), spaces, and line breaks. The size of the input file does not exceed 10000 bytes. The text contains at least one non-space character. All lines in the input file are no longer than 200 characters.  \n",
    "\n",
    "For each character c, except for spaces and line breaks, output a column of \"#\" characters, the number of which should be equal to the number of occurrences of c in the given text. Below each column, write the character that corresponds to it. Format the histogram so that the bottoms of the columns are on the same line, the first row and first column are not empty, and the columns are not separated from each other. Sort the columns in ascending order of their character codes."
   ]
  },
  {
   "cell_type": "code",
   "execution_count": 134,
   "id": "037f6c6e-1be3-4d89-b1d4-7b10cc043328",
   "metadata": {
    "tags": []
   },
   "outputs": [
    {
     "name": "stdout",
     "output_type": "stream",
     "text": [
      "         #              \n",
      "         #              \n",
      "         #              \n",
      "         #              \n",
      "         #              \n",
      "         #         #    \n",
      "         #  #      #    \n",
      "      #  # ###  ####    \n",
      "      ## ###### ####    \n",
      "      ##############    \n",
      "      ##############  ##\n",
      "#  #  ############## ###\n",
      "########################\n",
      ",.;ADTabdeghilmnorstuvwy\n"
     ]
    }
   ],
   "source": [
    "# solution will be posted here by me after 13/03/2023"
   ]
  },
  {
   "cell_type": "markdown",
   "id": "98408211-0ed7-4ba5-b57e-9c2bb5f92f34",
   "metadata": {},
   "source": [
    "#### Task 2. "
   ]
  },
  {
   "cell_type": "markdown",
   "id": "38281964-42d0-4f3b-8304-fac53d734071",
   "metadata": {},
   "source": [
    "We define the beauty of a string as the maximum number of consecutive identical characters in the string. (For example, the beauty of the string \"abcaabdddettq\" is 3)\n",
    "Make the given string as beautiful as possible, if you can make no more than k character replacements.  \n",
    "\n",
    "The first line contains a single integer k (0 ≤ k ≤ 10^9).  \n",
    "The second line contains a non-empty string S (|S| ≤ 2 ⋅ 10^5).   \n",
    "String S consists only of lowercase Latin letters.   \n",
    "\n",
    "Output a single number, which is the maximum beauty of the string that can be obtained."
   ]
  },
  {
   "cell_type": "code",
   "execution_count": 1,
   "id": "9fab7cb7-8c0b-4d1f-9b66-4168f7fd75fe",
   "metadata": {
    "tags": []
   },
   "outputs": [
    {
     "name": "stdout",
     "output_type": "stream",
     "text": [
      "1350\n"
     ]
    }
   ],
   "source": [
    "# solution will be posted here by me after 13/03/2023"
   ]
  },
  {
   "cell_type": "markdown",
   "id": "30af40af-1243-452e-ba0a-158de77099df",
   "metadata": {},
   "source": [
    "#### Task 3. "
   ]
  },
  {
   "cell_type": "markdown",
   "id": "5ba47ef3-2452-4448-af87-0dc168c75b2f",
   "metadata": {},
   "source": [
    "Diego is passionate about collecting stickers. Each of them has a number written on it, and every collector dreams of collecting stickers with all the numbers that appear.  \n",
    "\n",
    "Diego collected N stickers, some of which may coincide. One day, K collectors came to him. The i-th of them collected all stickers with numbers not less than pi. Write a program that will help each of the collectors determine how many stickers he is missing from Diego. Of course, Diego's guests are not interested in duplicate stickers.  \n",
    "\n",
    "The first line contains a single integer N (0 ≤ N ≤ 100,000) - the number of stickers Diego has.  \n",
    "\n",
    "The next line contains N non-negative integers (not necessarily distinct) - the numbers of Diego's stickers. All sticker numbers do not exceed 109.  \n",
    "\n",
    "The next line contains the number K (0 ≤ K ≤ 100,000) - the number of collectors who came to Diego. The next line contains K integers pi (0 ≤ pi ≤ 109), where pi is the smallest sticker number that is not of interest to the i-th collector.  \n",
    "\n",
    "For each collector, print the number of different numbers on the stickers that Diego has but the collector does not have, in a separate line."
   ]
  },
  {
   "cell_type": "code",
   "execution_count": 1,
   "id": "2c7fdfe4-69e0-4d74-b28e-0414e354e34c",
   "metadata": {
    "tags": []
   },
   "outputs": [
    {
     "name": "stdin",
     "output_type": "stream",
     "text": [
      " 4\n",
      " 3 3 2 2\n",
      " 4\n",
      " 3 3 4 2\n"
     ]
    },
    {
     "name": "stdout",
     "output_type": "stream",
     "text": [
      "1\n",
      "1\n",
      "2\n",
      "0\n"
     ]
    }
   ],
   "source": [
    "# solution will be posted here by me after 13/03/2023"
   ]
  },
  {
   "cell_type": "markdown",
   "id": "a5425acc-f9b3-4c65-b2ca-d01112ed1af6",
   "metadata": {},
   "source": [
    "#### Task 4."
   ]
  },
  {
   "cell_type": "markdown",
   "id": "23b96022-1a82-489e-97c1-fc837f43073e",
   "metadata": {},
   "source": [
    "Pete and Mike are classmates and best friends, so they help each other in everything. Tomorrow they have a math test and the teacher has prepared K different sets of tasks.\n",
    "\n",
    "There is only one row of desks in the classroom, and there will be exactly two students sitting behind each desk (except possibly the last one) during the test. The students know that the sets will be handed out strictly in order: the student on the right side of the first desk relative to the teacher will receive set 1, the one on the left will receive set 2, the student on the right side of the second desk will receive set 3 (if there are more than two sets) and so on. Since K may be less than the number of students N, after set K is handed out, set 1 will be handed out again. In the case of an odd number of students, only the first desk is used during the last round.\n",
    "\n",
    "Pete entered the classroom first and sat in his favorite seat. Mike entered next and wants to get the same set as Pete while sitting as close to him as possible. That is, there should be as few desks as possible between them, and if there are two such places at an equal distance from Pete, Mike will sit behind Pete rather than in front of him.  \n",
    "\n",
    "Write a program that will tell Mike which row and which side (right or left relative to the teacher) he should choose.  \n",
    "If Mike cannot write the same set as Pete, output -1.  \n",
    "If there is a solution, output two numbers: the row number that Mike should sit on, and 1 if he should sit on the right side, or 2 if he should sit on the left side.  \n",
    "You can only use the first N desks in the order in which the sets are handed out."
   ]
  },
  {
   "cell_type": "code",
   "execution_count": 1,
   "id": "50ffed62-be1e-466d-a9dc-63bbdb67ab6d",
   "metadata": {
    "tags": []
   },
   "outputs": [
    {
     "name": "stdin",
     "output_type": "stream",
     "text": [
      " 25\n",
      " 2\n",
      " 1\n",
      " 2\n"
     ]
    },
    {
     "name": "stdout",
     "output_type": "stream",
     "text": [
      "2 2\n"
     ]
    }
   ],
   "source": [
    "# solution will be posted here by me after 13/03/2023"
   ]
  },
  {
   "cell_type": "markdown",
   "id": "c3c88058-3e14-4f40-9b31-bbce400fe967",
   "metadata": {},
   "source": [
    "#### Task 5. "
   ]
  },
  {
   "cell_type": "markdown",
   "id": "3718d341-1a8c-4548-9f05-c32a4dc0e0e9",
   "metadata": {},
   "source": [
    "The goodness of a string is defined as the number of positions from 1 to L-1 (where L is the length of the string) such that the next letter in the string is the next one in the alphabet. For example, the goodness of the string \"abcdefghijklmnopqrstuvwxyz\" is 25, while the goodness of the string \"abdc\" is only 1.  \n",
    "\n",
    "What is the maximum possible goodness of a string that can be assembled using the boards from the given set?  \n",
    "\n",
    "The first input line contains a single integer N, which is the number of different letters in the set (1 ≤ N ≤ 26). Note that the set always uses the first N letters of the Latin alphabet.  \n",
    "\n",
    "The following N lines contain integers ci, which represent the number of letters of the corresponding type (1 ≤ ci ≤ 10^9). Thus, the first number indicates the number of letters \"a\", the second number is the number of letters \"b\", and so on.  \n",
    "\n",
    "Output a single integer, which is the maximum possible goodness of a string that can be assembled using the available boards."
   ]
  },
  {
   "cell_type": "code",
   "execution_count": 1,
   "id": "73af21af-7e77-4c46-954d-5bb79c4ff4aa",
   "metadata": {
    "tags": []
   },
   "outputs": [
    {
     "name": "stdin",
     "output_type": "stream",
     "text": [
      " 2\n",
      " 3\n",
      " 4\n"
     ]
    },
    {
     "name": "stdout",
     "output_type": "stream",
     "text": [
      "3\n"
     ]
    }
   ],
   "source": [
    "# solution will be posted here by me after 13/03/2023"
   ]
  },
  {
   "cell_type": "markdown",
   "id": "803dc80c-eaaa-41ed-9d3b-b04538c867b7",
   "metadata": {},
   "source": [
    "#### Task 6. "
   ]
  },
  {
   "cell_type": "markdown",
   "id": "fe312892-f3ae-49d9-975a-42c4fba4fd8f",
   "metadata": {},
   "source": [
    "Mike's hard drive consists of M sectors. He sequentially installed various operating systems on it using the following method: he created a new partition on the disk consisting of consecutive sectors, starting from sector number ai and ending with sector bi (inclusive), and installed the next system on it. At the same time, if the next partition intersects with any previously created partition, the previously created partition is \"erased\", and the operating system that was installed on it can no longer be loaded.\n",
    "\n",
    "Write a program that, based on information about which partitions Mike created on the disk, will determine how many operational systems are ultimately installed and working on Mike's computer.\n",
    "\n",
    "First, a natural number M is entered, the number of sectors on the hard drive (1 ≤ M ≤ 10^9), and an integer N, the number of partitions sequentially created by Mike (0 ≤ N ≤ 1000).\n",
    "\n",
    "Then N pairs of numbers ai and bi are given, specifying the starting and ending sectors of the partition (1 ≤ ai ≤ bi ≤ M).\n",
    "\n",
    "Output one number - the number of working operating systems on Mike's computer."
   ]
  },
  {
   "cell_type": "code",
   "execution_count": 1,
   "id": "98f48d99-a96d-4e1c-9f8b-bcb44c2072da",
   "metadata": {
    "tags": []
   },
   "outputs": [
    {
     "name": "stdin",
     "output_type": "stream",
     "text": [
      " 10\n",
      " 4\n",
      " 1 3\n",
      " 4 5\n",
      " 7 8\n",
      " 4 6\n"
     ]
    },
    {
     "name": "stdout",
     "output_type": "stream",
     "text": [
      "3\n"
     ]
    }
   ],
   "source": [
    "# solution will be posted here by me after 13/03/2023"
   ]
  },
  {
   "cell_type": "markdown",
   "id": "c8888a92-3c05-4f8a-b705-6c5d209495c8",
   "metadata": {},
   "source": [
    "#### Task 7. "
   ]
  },
  {
   "cell_type": "markdown",
   "id": "243f9181-841d-479d-8e7f-286143e9579c",
   "metadata": {},
   "source": [
    "In order for computers to maintain accurate time, they can use the Simple Network Time Protocol (SNTP) to access time servers. Unfortunately, a computer cannot simply obtain the time from the server because information transmitted over the network is not instantaneous: by the time the message with the current time reaches the computer, it will no longer be current. The protocol for interaction between the client (the computer requesting the accurate time) and the server (the computer providing the accurate time) looks as follows:\n",
    "\n",
    "1. The client sends a request to the server and remembers the sending time A (according to client time).\n",
    "2. The server receives the request at time B (according to accurate server time) and sends a message to the client containing time B.\n",
    "3. The client receives the response to its request at time C (according to client time) and remembers it. Now, assuming that the network delays in transmitting messages from the client to the server and from the server to the client are the same, the client can determine and set the accurate time for itself using the known values of A, B, and C.  \n",
    "\n",
    "You have to implement an algorithm that determines the accurate time, up to the second, for setting on the client using the known values of A, B, and C. If necessary, round the result to the nearest integer number of seconds using arithmetic rules (downwards if the fractional part of the number is less than 1/2, otherwise upwards).  \n",
    "\n",
    "It is possible that while the client was waiting for a response, new days have started according to client time, but it is known that less than 24 hours have passed between the client sending the request and receiving the response from the server.  \n",
    "\n",
    "The program receives three time stamps A, B, and C, one per line. All time stamps are in the format \"hh\\:mm:ss\", where \"hh\" is the hours, \"mm\" is the minutes, and \"ss\" is the seconds. The hours, minutes, and seconds are each represented by exactly two digits (possibly with leading zeros).  \n",
    "\n",
    "The program should output one time stamp in the format described in the input - the calculated accurate time for setting on the client. There should be no spaces or blank lines at the beginning of the output of the program. "
   ]
  },
  {
   "cell_type": "code",
   "execution_count": 1,
   "id": "71068a66-5e5f-4ab0-a1ae-6fdc0c760da7",
   "metadata": {
    "tags": []
   },
   "outputs": [
    {
     "name": "stdout",
     "output_type": "stream",
     "text": [
      "18:10:05\n"
     ]
    }
   ],
   "source": [
    "# solution will be posted here by me after 13/03/2023"
   ]
  },
  {
   "cell_type": "markdown",
   "id": "e140b715-9e1d-4a85-b91b-f653d9d4396f",
   "metadata": {},
   "source": [
    "#### Task 8. "
   ]
  },
  {
   "cell_type": "markdown",
   "id": "22b0d783-db0a-4b5c-ba99-f98212853b86",
   "metadata": {},
   "source": [
    "On a checkered plane, K cells are colored. It is required to find the minimum area rectangle with sides parallel to the grid lines covering all colored cells.  \n",
    "\n",
    "In the input file, the first line contains the number K (1 ≤ K ≤ 100). The next K lines contain pairs of numbers Xi and Yi - the coordinates of the colored cells (|Xi|, |Yi| ≤ 109).  \n",
    "\n",
    "Output the coordinates of the bottom left and top right corners of the rectangle to the output file."
   ]
  },
  {
   "cell_type": "code",
   "execution_count": 3,
   "id": "54360cb6-b184-418e-ab10-6daada811bca",
   "metadata": {
    "tags": []
   },
   "outputs": [
    {
     "name": "stdin",
     "output_type": "stream",
     "text": [
      " 3\n",
      " 1 1\n",
      " 1 10\n",
      " 5 5\n"
     ]
    },
    {
     "name": "stdout",
     "output_type": "stream",
     "text": [
      "1 1 5 10\n"
     ]
    }
   ],
   "source": [
    "# solution will be posted here by me after 13/03/2023"
   ]
  },
  {
   "cell_type": "markdown",
   "id": "9d8c2545-7112-41ec-a5b1-c3ee43c7cc67",
   "metadata": {},
   "source": [
    "#### Task 9. "
   ]
  },
  {
   "cell_type": "markdown",
   "id": "9f809d6f-52b4-44b7-ac3f-437d61f934dc",
   "metadata": {},
   "source": [
    "You need to answer requests to find the sum of all elements in a numerical matrix of size N×M within a rectangle with the top left corner (x1, y1) and the bottom right corner (x2, y2).  \n",
    "\n",
    "The first line contains three integers: N, M, and K, where N and M are the dimensions of the matrix (1 ≤ N, M ≤ 1000) and K is the number of requests (1 ≤ K ≤ 100000). Each of the following N lines contains M integers - the elements of the corresponding row of the matrix (with absolute value not exceeding 1000). The next K lines contain 4 integers each, separated by a space: x1 y1 x2 y2 - a request for the sum of the elements in the matrix within the rectangle (1 ≤ x1 ≤ x2 ≤ N, 1 ≤ y1 ≤ y2 ≤ M).  \n",
    "\n",
    "For each request, output the sum of all numbers in the matrix elements within the rectangle (x1, y1), (x2, y2) on a separate line."
   ]
  },
  {
   "cell_type": "code",
   "execution_count": 1,
   "id": "5231b280-91a0-4f2b-8a6b-090c9a496c81",
   "metadata": {
    "tags": []
   },
   "outputs": [
    {
     "name": "stdin",
     "output_type": "stream",
     "text": [
      " 3 3 2\n",
      " 1 2 3\n",
      " 4 5 6\n",
      " 7 8 9\n",
      " 2 2 3 3\n",
      " 1 1 2 3\n"
     ]
    },
    {
     "name": "stdout",
     "output_type": "stream",
     "text": [
      "28\n",
      "21\n"
     ]
    }
   ],
   "source": [
    "# solution will be posted here by me after 13/03/2023"
   ]
  },
  {
   "cell_type": "markdown",
   "id": "dcaeca9e-6b46-4613-8ae0-da2104380b08",
   "metadata": {},
   "source": [
    "#### Task 10. "
   ]
  },
  {
   "cell_type": "markdown",
   "id": "d02f15cd-71b7-4fd0-93b7-eb86ccf9d511",
   "metadata": {},
   "source": [
    "The input is a string consisting of lowercase Latin letters.\n",
    "The length of the string is between 5 and 100,000 characters.  \n",
    "\n",
    "If you write down this string in all possible ways without some part from the beginning and some part from the end, how many letters of each type will you end up with in the end?  \n",
    "\n",
    "For each letter in the string, output the letter followed by a colon and a space, and then the number of times it appears in the resulting string as described above. The letters should be in alphabetical order. Letters that do not appear in the string should not be output."
   ]
  },
  {
   "cell_type": "code",
   "execution_count": 1,
   "id": "1db0a12f-13de-4a77-a7ff-785b970c06ec",
   "metadata": {
    "tags": []
   },
   "outputs": [
    {
     "name": "stdin",
     "output_type": "stream",
     "text": [
      " abacaba\n"
     ]
    },
    {
     "name": "stdout",
     "output_type": "stream",
     "text": [
      "a: 44\n",
      "b: 24\n",
      "c: 16\n"
     ]
    }
   ],
   "source": [
    "# solution will be posted here by me after 13/03/2023"
   ]
  },
  {
   "cell_type": "markdown",
   "id": "19d34ee9-8226-4cab-9324-70a5ffd34b6d",
   "metadata": {},
   "source": [
    "#### Task 11. "
   ]
  },
  {
   "cell_type": "markdown",
   "id": "1a386796-239f-485a-9e1a-99911cc23c2b",
   "metadata": {
    "tags": []
   },
   "source": [
    "Learn to use the standard data structure stack for integers. Write a program that includes a stack description and simulates the stack operation by implementing all the methods mentioned here. The program reads a sequence of commands and performs a certain operation depending on the command. After executing each command, the program should output one line.  \n",
    "\n",
    "Possible commands for the program are:  \n",
    "\n",
    "`push n`  \n",
    "Add the number n (the value of n is specified after the command) to the stack. The program should output ok.  \n",
    "  \n",
    "`pop`  \n",
    "Remove the last element from the stack. The program should output its value.  \n",
    "  \n",
    "`back`  \n",
    "The program should output the value of the last element without removing it from the stack.  \n",
    "  \n",
    "`size`  \n",
    "The program should output the number of elements in the stack.  \n",
    "  \n",
    "`clear`  \n",
    "The program should clear the stack and output ok.  \n",
    "  \n",
    "`exit`  \n",
    "The program should output bye and terminate.  \n",
    "  \n",
    "Before executing the back and pop operations, the program should check whether at least one element is in the stack. If the input data contains the back or pop operation and the stack is empty, the program should output the string error instead of a numeric value.  \n",
    "  \n",
    "Stack control commands are entered, one per line.\n",
    "The program should output the stack operation protocol, one message per line."
   ]
  },
  {
   "cell_type": "code",
   "execution_count": 371,
   "id": "bf08252b-a1eb-4fca-b822-015e762f42c7",
   "metadata": {
    "tags": []
   },
   "outputs": [
    {
     "name": "stdout",
     "output_type": "stream",
     "text": [
      "ok\n",
      "1\n",
      "bye\n"
     ]
    }
   ],
   "source": [
    "# solution will be posted here by me after 13/03/2023"
   ]
  },
  {
   "cell_type": "markdown",
   "id": "4cf41b90-b7cc-4a21-b30f-e722988582da",
   "metadata": {},
   "source": [
    "#### Task 12. "
   ]
  },
  {
   "cell_type": "markdown",
   "id": "89a2cc26-66be-43bf-95fd-5c89d6af070e",
   "metadata": {},
   "source": [
    "Let's consider a sequence consisting of round, square, and curly brackets. The program must determine if the given bracket sequence is correct. An empty sequence is considered correct. If A is correct, then the sequences (A), [A], {A} are also correct. If A and B are correct sequences, then the sequence AB is also correct.\n",
    "The input consists of a single line containing a bracket sequence containing no more than 100000 brackets.\n",
    "If the given sequence is correct, the program should output the string \"yes\", otherwise it should output \"no\"."
   ]
  },
  {
   "cell_type": "code",
   "execution_count": 303,
   "id": "2ae4ddf0-77cb-44a7-9bcb-392da2c2e5a9",
   "metadata": {
    "tags": []
   },
   "outputs": [
    {
     "name": "stdout",
     "output_type": "stream",
     "text": [
      "yes\n"
     ]
    }
   ],
   "source": [
    "# solution will be posted here by me after 13/03/2023"
   ]
  },
  {
   "cell_type": "markdown",
   "id": "3c41c811-a405-47de-a87a-c7bb070964ef",
   "metadata": {},
   "source": [
    "#### Task 13. "
   ]
  },
  {
   "cell_type": "markdown",
   "id": "3edfead7-8f80-42e8-bc8b-321e806e38bb",
   "metadata": {},
   "source": [
    "In postfix notation (or Reverse Polish Notation), an operator is written after its two operands. For example, the sum of two numbers A and B is written as A B +. The notation B C + D * represents the familiar (B + C) * D, and the notation A B C + D * + means A + (B + C) * D. The advantage of postfix notation is that it does not require parentheses or additional agreements on operator precedence to be read.  \n",
    "\n",
    "The input consists of a single line containing an expression in postfix notation, consisting of digits and the operations +, -, *. Digits and operations are separated by spaces. There may be any number of spaces at the end of the line.  \n",
    "\n",
    "The program should output the value of the expression."
   ]
  },
  {
   "cell_type": "code",
   "execution_count": 1,
   "id": "26577b51-8a12-4a0f-8caa-3ca6ae161f0c",
   "metadata": {
    "tags": []
   },
   "outputs": [
    {
     "name": "stdin",
     "output_type": "stream",
     "text": [
      " 8 9 + 1 7 - *\n"
     ]
    },
    {
     "name": "stdout",
     "output_type": "stream",
     "text": [
      "-102\n"
     ]
    }
   ],
   "source": [
    "# solution will be posted here by me after 13/03/2023"
   ]
  },
  {
   "cell_type": "markdown",
   "id": "95f85af4-d8af-456a-a3f6-4e8d1af9494b",
   "metadata": {},
   "source": [
    "#### Task 14. "
   ]
  },
  {
   "cell_type": "markdown",
   "id": "b77830e1-8b5a-4ab2-b6ce-825e478dc211",
   "metadata": {},
   "source": [
    "A train approached the dead end from the direction of track 1 (see the figure). It is allowed to detach one or several first cars from the train and take them into the dead end (if desired, the entire train can be taken into the dead end at once). After that, some of these cars can be taken out in the direction of track 2. After that, it is possible to take several more cars into the dead end and again take some of the cars out in the direction of track 2. And so on (so that each car can only enter the dead end from track 1 once and then leave the dead end to track 2 once). Entering the dead end from track 2 or leaving the dead end to track 1 is prohibited. It is not possible to get from track 1 to track 2 without entering the dead end.  \n",
    "\n",
    "It is known in what order the cars of the train are originally arranged. It is required to use the specified operations to make the cars of the train go in order (first the first one, then the second one, etc., counting from the head of the train traveling along track 2 away from the dead end). Write a program to determine if this can be done.  \n",
    "\n",
    "The number N is entered - the number of cars in the train (1 ≤ N ≤ 100). Then there are the numbers of the cars in the order from the head of the train traveling along track 1 towards the dead end. The cars are numbered with natural numbers from 1 to N, each of which occurs exactly once.  \n",
    "\n",
    "If it is possible to arrange the cars in order from 1 to N, counting from the head of the train, when the train travels along track 2 from the dead end, output the message YES, otherwise output NO."
   ]
  },
  {
   "cell_type": "code",
   "execution_count": 1,
   "id": "7b5dc7c0-f252-49cb-abad-29b4ccf94e54",
   "metadata": {
    "tags": []
   },
   "outputs": [
    {
     "name": "stdin",
     "output_type": "stream",
     "text": [
      " 3\n",
      " 2 1 3\n"
     ]
    },
    {
     "name": "stdout",
     "output_type": "stream",
     "text": [
      "YES\n"
     ]
    }
   ],
   "source": [
    "# solution will be posted here by me after 13/03/2023"
   ]
  },
  {
   "cell_type": "markdown",
   "id": "c7acdfeb-a10e-49d2-9848-69a4396de1d5",
   "metadata": {},
   "source": [
    "#### Task 15. "
   ]
  },
  {
   "cell_type": "markdown",
   "id": "97396e75-5ae3-4ddc-bf02-9682b2a7208c",
   "metadata": {},
   "source": [
    "The first line contains a single integer N (2 ≤ N ≤ 10^5) — the number of cities. The second line contains N integers ai (0 ≤ ai ≤ 10^9) — the average cost of living in cities from 0-th to (N-1)-th, respectively.  \n",
    "\n",
    "For each city in the order from 0-th to (N-1)-th, output the number of the city to which its original residents will move. If the residents of a city do not stop in any other city, output -1."
   ]
  },
  {
   "cell_type": "code",
   "execution_count": 1,
   "id": "b8e7a7fe-0f66-4312-ab64-1d23443bbf46",
   "metadata": {
    "tags": []
   },
   "outputs": [
    {
     "name": "stdin",
     "output_type": "stream",
     "text": [
      " 10\n",
      " 1 2 3 2 1 4 2 5 3 1\n"
     ]
    },
    {
     "name": "stdout",
     "output_type": "stream",
     "text": [
      "-1 4 3 4 -1 6 9 8 9 -1\n"
     ]
    }
   ],
   "source": [
    "# solution will be posted here by me after 13/03/2023"
   ]
  },
  {
   "cell_type": "markdown",
   "id": "23ef3e79-b406-459e-9ef0-bcd58e18eef6",
   "metadata": {},
   "source": [
    "#### Task 16. "
   ]
  },
  {
   "cell_type": "markdown",
   "id": "61fcb224-75d4-440f-b2bf-db71744c4089",
   "metadata": {},
   "source": [
    "Learn to use the standard data structure queue for integers. Write a program that contains a description of the queue and models the operation of the queue, implementing all the methods specified here.\n",
    "The program reads a sequence of commands and depending on the command, performs one or another operation. After executing each command, the program should output one line.  \n",
    "\n",
    "Possible commands for the program:  \n",
    "\n",
    "`push n`  \n",
    "Add the number n (value n is given after the command) to the queue. The program should output ok.  \n",
    "\n",
    "`pop`  \n",
    "Remove the first element from the queue. The program should output its value.  \n",
    "\n",
    "`front`  \n",
    "The program should output the value of the first element without removing it from the queue.  \n",
    "\n",
    "`size`  \n",
    "The program should output the number of elements in the queue.  \n",
    "\n",
    "`clear`  \n",
    "The program should clear the queue and output ok.  \n",
    "\n",
    "`exit`  \n",
    "The program should output bye and terminate.  \n",
    "\n",
    "Before executing the front and pop operations, the program should check if the queue contains at least one element. If the input contains a front or pop operation and the queue is empty, the program should output the string error instead of a numerical value.  \n",
    "\n",
    "Queue management commands are entered one per line. The protocol of the queue operation is required to be output, one message per line."
   ]
  },
  {
   "cell_type": "code",
   "execution_count": 1,
   "id": "456a3aa5-26f7-4408-a3cc-a3d011482629",
   "metadata": {
    "tags": []
   },
   "outputs": [
    {
     "name": "stdout",
     "output_type": "stream",
     "text": [
      "ok\n",
      "ok\n",
      "2\n",
      "ok\n",
      "ok\n",
      "1\n",
      "ok\n",
      "1\n",
      "1\n",
      "1\n",
      "2\n",
      "0\n",
      "bye\n"
     ]
    }
   ],
   "source": [
    "# solution will be posted here by me after 13/03/2023"
   ]
  },
  {
   "cell_type": "markdown",
   "id": "3acc0deb-b41f-4e49-9693-36311db27666",
   "metadata": {},
   "source": [
    "#### Task 17. "
   ]
  },
  {
   "cell_type": "markdown",
   "id": "33dd0dd8-5c2c-41fa-b487-63ec8fbbf429",
   "metadata": {},
   "source": [
    "In the game of War (or \"Pizhama\" in Russian), a deck of cards is dealt equally between two players. Then, each player turns over one card at a time, and the player with the higher card takes both cards and places them at the bottom of their deck. The game continues until one player has all of the cards, at which point they are declared the winner. For simplicity, we will assume that all cards have unique values, and that the lowest card beats the highest card (\"6 beats Ace\"). The player who takes the cards puts the card of the first player under their deck first, and then the card of the second player (i.e., the second player's card ends up on the bottom of the deck). Write a program that simulates the game of War and determines who wins. There are 10 cards in the game, with values from 0 to 9, and the higher card beats the lower card, with card 0 beating card 9.  \n",
    "\n",
    "The program takes two lines of input: the first line contains 5 numbers separated by spaces, which are the cards of the first player, and the second line is the same for the second player. The cards are listed from top to bottom, so each line starts with the card that will be revealed first.  \n",
    "\n",
    "The program should determine who wins with the given distribution and output the word \"first\" or \"second\", followed by the number of moves made until the win. If the game does not end after 10^6 moves, the program should output \"botva\"."
   ]
  },
  {
   "cell_type": "code",
   "execution_count": 1,
   "id": "9c32f278-91bf-4672-8a80-dbc19dc28a39",
   "metadata": {
    "tags": []
   },
   "outputs": [
    {
     "name": "stdin",
     "output_type": "stream",
     "text": [
      " 1 7 3 9 4\n",
      " 5 8 0 2 6\n"
     ]
    },
    {
     "name": "stdout",
     "output_type": "stream",
     "text": [
      "second 23\n"
     ]
    }
   ],
   "source": [
    "# solution will be posted here by me after 13/03/2023"
   ]
  },
  {
   "cell_type": "markdown",
   "id": "56374786-9b7e-4066-bd33-ab1264a1a7c8",
   "metadata": {},
   "source": [
    "#### Task 18. "
   ]
  },
  {
   "cell_type": "markdown",
   "id": "96983ca9-5c42-40ec-903b-01a6a927ef21",
   "metadata": {},
   "source": [
    "Learn to use the standard deque data structure for integers. Write a program that contains a description of the deque and models the deque's operation by implementing all the methods listed here. The program reads a sequence of commands and, depending on the command, performs one or another operation. After executing each command, the program should output one line.  \n",
    "\n",
    "Possible commands for the program:  \n",
    "\n",
    "`push_front n`    \n",
    "Add (put) a new element at the beginning of the deque. The program should output ok.  \n",
    "\n",
    "`push_back n`  \n",
    "Add (put) a new element at the end of the deque. The program should output ok.  \n",
    "\n",
    "`pop_front`  \n",
    "Extract the first element from the deque. The program should output its value.  \n",
    "\n",
    "`pop_back`  \n",
    "Extract the last element from the deque. The program should output its value.  \n",
    "\n",
    "`front`  \n",
    "Get the value of the first element (without removing it). The program should output its value.  \n",
    "\n",
    "`back`  \n",
    "Get the value of the last element (without removing it). The program should output its value.  \n",
    "\n",
    "`size`  \n",
    "Output the number of elements in the deque.  \n",
    "\n",
    "`clear`  \n",
    "Clear the deque (remove all elements from it) and output ok.  \n",
    "\n",
    "`exit`  \n",
    "The program should output bye and terminate.  \n",
    "\n",
    "It is guaranteed that the number of elements in the deque does not exceed 100 at any time. Before executing the pop_front, pop_back, front, back operations, the program should check whether the deque contains at least one element. If the input contains pop_front, pop_back, front, back operations and the deque is empty, the program should output the error string instead of a numeric value.  \n",
    "\n",
    "Control commands are entered for the deque, one per line. The protocol of the deque's operation is required, with one message per line."
   ]
  },
  {
   "cell_type": "code",
   "execution_count": 1,
   "id": "f5cbe786-79b3-4e78-b7a3-4cbc8a3be13f",
   "metadata": {
    "tags": []
   },
   "outputs": [
    {
     "name": "stdout",
     "output_type": "stream",
     "text": [
      "ok\n",
      "ok\n",
      "2\n",
      "ok\n",
      "ok\n",
      "1\n",
      "ok\n",
      "1\n",
      "2\n",
      "1\n",
      "1\n",
      "0\n",
      "bye\n"
     ]
    }
   ],
   "source": [
    "# solution will be posted here by me after 13/03/2023"
   ]
  },
  {
   "cell_type": "markdown",
   "id": "29d5f9b7-c31f-4692-ac21-dbd8d0f807c4",
   "metadata": {},
   "source": [
    "#### Task 19. "
   ]
  },
  {
   "cell_type": "markdown",
   "id": "a6577a26-58b8-4a5e-a7a2-9127ecf7834a",
   "metadata": {},
   "source": [
    "In this task, you need to independently (without using the corresponding classes and functions of the standard library) organize a Heap data structure to store integers, on which the following operations are defined: a) Insert(k) - add the number k to the Heap; b) Extract - retrieve the largest number from the Heap (while deleting it).  \n",
    "\n",
    "The first line contains the number of commands N (1 ≤ N ≤ 100000), followed by N commands, each in its own line. The command can have the format: \"0 <number>\" or \"1\", denoting, respectively, the operations Insert(<number>) and Extract. It is guaranteed that when executing the Extract command, there is at least one element in the structure.  \n",
    "\n",
    "For each extraction command, you need to output the number obtained when executing the Extract command on a separate line."
   ]
  },
  {
   "cell_type": "code",
   "execution_count": 1,
   "id": "89c28470-876e-47bd-92d2-a81bbfc9623e",
   "metadata": {
    "tags": []
   },
   "outputs": [
    {
     "name": "stdout",
     "output_type": "stream",
     "text": [
      "345\n",
      "4346\n",
      "2435\n",
      "365\n",
      "235\n",
      "5\n",
      "1\n"
     ]
    }
   ],
   "source": [
    "# solution will be posted here by me after 13/03/2023"
   ]
  },
  {
   "cell_type": "markdown",
   "id": "c1adcd52-74f4-4fc5-8bf5-8d9bafdc04d1",
   "metadata": {},
   "source": [
    "#### Task 28."
   ]
  },
  {
   "cell_type": "markdown",
   "id": "f9c20612-114f-43d9-be89-6790d9afc059",
   "metadata": {},
   "source": [
    "You are given a rectangular board of size N × M (N rows and M columns). In the upper left corner of the board is a chess knight, which needs to be moved to the lower right corner of the board. In this task, the knight can move two squares down and one square to the right, or one square down and two squares to the right.  \n",
    "\n",
    "You need to determine how many different routes exist that lead from the upper left to the lower right corner.  \n",
    "\n",
    "The input file contains two natural numbers N and M, where 1 <= N, M <= 50.  \n",
    "\n",
    "In the output file, print a single number - the number of ways the knight can reach the lower right corner of the board."
   ]
  },
  {
   "cell_type": "code",
   "execution_count": 1,
   "id": "5b4ea9ec-6fb5-46cc-87b5-91e5006c4f77",
   "metadata": {
    "tags": []
   },
   "outputs": [
    {
     "name": "stdin",
     "output_type": "stream",
     "text": [
      " 31 34\n"
     ]
    },
    {
     "name": "stdout",
     "output_type": "stream",
     "text": [
      "293930\n"
     ]
    }
   ],
   "source": [
    "# solution will be posted here by me after 13/03/2023"
   ]
  },
  {
   "cell_type": "code",
   "execution_count": null,
   "id": "8a2df1b5-4260-4000-b02d-0dfb1d9bf6da",
   "metadata": {},
   "outputs": [],
   "source": []
  }
 ],
 "metadata": {
  "kernelspec": {
   "display_name": "Python 3 (ipykernel)",
   "language": "python",
   "name": "python3"
  },
  "language_info": {
   "codemirror_mode": {
    "name": "ipython",
    "version": 3
   },
   "file_extension": ".py",
   "mimetype": "text/x-python",
   "name": "python",
   "nbconvert_exporter": "python",
   "pygments_lexer": "ipython3",
   "version": "3.7.11"
  }
 },
 "nbformat": 4,
 "nbformat_minor": 5
}

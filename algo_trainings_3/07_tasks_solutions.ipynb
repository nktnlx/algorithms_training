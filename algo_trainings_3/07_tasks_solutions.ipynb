{
 "cells": [
  {
   "cell_type": "markdown",
   "id": "df80d595-1850-4bf0-a33d-cd0def6bcd1e",
   "metadata": {},
   "source": [
    "# Algorithms by Yandex 3.0"
   ]
  },
  {
   "cell_type": "markdown",
   "id": "c658ad55-f16f-446e-8cc0-74c79da435ae",
   "metadata": {},
   "source": [
    "## Homework solutions"
   ]
  },
  {
   "cell_type": "markdown",
   "id": "824938e3-907e-4be8-a1ea-1f69f0d74011",
   "metadata": {},
   "source": [
    "#### Task 1. "
   ]
  },
  {
   "cell_type": "markdown",
   "id": "b0574c9b-c785-44a2-8b7a-78664aaccad6",
   "metadata": {},
   "source": [
    "Mike wants to build a histogram of the number of characters in a message. A histogram is a graph in which each character that appears in the message at least once corresponds to a column whose height is proportional to the number of times that character appears in the message.  \n",
    "\n",
    "The input file contains the encrypted text of the message. It contains lowercase and uppercase Latin letters, numbers, punctuation marks (\".\", \"!\", \"?\", \":\", \"-\", \",\", \";\", \"(\", \")\"), spaces, and line breaks. The size of the input file does not exceed 10000 bytes. The text contains at least one non-space character. All lines in the input file are no longer than 200 characters.  \n",
    "\n",
    "For each character c, except for spaces and line breaks, output a column of \"#\" characters, the number of which should be equal to the number of occurrences of c in the given text. Below each column, write the character that corresponds to it. Format the histogram so that the bottoms of the columns are on the same line, the first row and first column are not empty, and the columns are not separated from each other. Sort the columns in ascending order of their character codes."
   ]
  },
  {
   "cell_type": "code",
   "execution_count": 134,
   "id": "037f6c6e-1be3-4d89-b1d4-7b10cc043328",
   "metadata": {
    "tags": []
   },
   "outputs": [
    {
     "name": "stdout",
     "output_type": "stream",
     "text": [
      "         #              \n",
      "         #              \n",
      "         #              \n",
      "         #              \n",
      "         #              \n",
      "         #         #    \n",
      "         #  #      #    \n",
      "      #  # ###  ####    \n",
      "      ## ###### ####    \n",
      "      ##############    \n",
      "      ##############  ##\n",
      "#  #  ############## ###\n",
      "########################\n",
      ",.;ADTabdeghilmnorstuvwy\n"
     ]
    }
   ],
   "source": [
    "# reading input\n",
    "with open('input.txt', 'r') as txt:\n",
    "    s = [line for line in txt]\n",
    "s = ' '.join(s).strip()    \n",
    "        \n",
    "dct = dict()\n",
    "# counting symbols occurencies\n",
    "for l in s:\n",
    "    if l == ' ' or l == '\\n':\n",
    "        continue\n",
    "    if l not in dct:\n",
    "        dct[l] = 1\n",
    "    else:\n",
    "        dct[l] += 1\n",
    "\n",
    "# sorting and getting max hist hight        \n",
    "keys_srt = sorted(dct.keys())\n",
    "max_height = max(dct.values())\n",
    "\n",
    "# printing histogram\n",
    "for h in range(max_height, 0, -1):\n",
    "    for sign in keys_srt:\n",
    "        if dct[sign] >= h:\n",
    "            print('#', end='')\n",
    "        else:\n",
    "            print(' ', end='')\n",
    "    print()\n",
    "print(''.join(keys_srt))"
   ]
  },
  {
   "cell_type": "markdown",
   "id": "c732d871-d15f-4c7a-8114-bb0c34ed3ed6",
   "metadata": {},
   "source": [
    "#### Task 2. "
   ]
  },
  {
   "cell_type": "markdown",
   "id": "6b68c422-755f-41c9-8003-29ebc4faee80",
   "metadata": {},
   "source": [
    "We define the beauty of a string as the maximum number of consecutive identical characters in the string. (For example, the beauty of the string \"abcaabdddettq\" is 3)\n",
    "Make the given string as beautiful as possible, if you can make no more than k character replacements.  \n",
    "\n",
    "The first line contains a single integer k (0 ≤ k ≤ 10^9).  \n",
    "The second line contains a non-empty string S (|S| ≤ 2 ⋅ 10^5).   \n",
    "String S consists only of lowercase Latin letters.   \n",
    "\n",
    "Output a single number, which is the maximum beauty of the string that can be obtained."
   ]
  },
  {
   "cell_type": "code",
   "execution_count": 1071,
   "id": "f04fbc3f-8880-47aa-a8f1-d48ade19cc54",
   "metadata": {
    "tags": []
   },
   "outputs": [
    {
     "name": "stdout",
     "output_type": "stream",
     "text": [
      "1350\n"
     ]
    }
   ],
   "source": [
    "# slow solution\n",
    "with open('02.txt', 'r') as txt:\n",
    "    inp = [line for line in txt]\n",
    "\n",
    "    \n",
    "k_ini = int(inp[0])\n",
    "s = inp[1]\n",
    "n = len(s)\n",
    "\n",
    "\n",
    "k = k_ini\n",
    "max_len = 0\n",
    "for i in range(n):\n",
    "    letter = s[i]\n",
    "    l = i\n",
    "    r = i + 1\n",
    "    while (s[i] == letter and k >= 0) and r < (n):\n",
    "        if s[l] == s[r]:\n",
    "            r += 1\n",
    "            len_now = r - l\n",
    "        elif k > 0:\n",
    "            k -= 1\n",
    "            r += 1\n",
    "            len_now = r - l\n",
    "        else:\n",
    "            k -= 1\n",
    "        max_len = max(max_len, len_now)\n",
    "    k = k_ini\n",
    "        \n",
    "        \n",
    "print(max_len) "
   ]
  },
  {
   "cell_type": "code",
   "execution_count": 1072,
   "id": "9fa9e84e-0028-4fd1-90ad-7467012ab976",
   "metadata": {
    "tags": []
   },
   "outputs": [
    {
     "name": "stdout",
     "output_type": "stream",
     "text": [
      "1350\n"
     ]
    }
   ],
   "source": [
    "# fast solution\n",
    "from string import ascii_lowercase\n",
    "\n",
    "\n",
    "alphabet_lower = ascii_lowercase\n",
    "\n",
    "with open('02.txt', 'r') as txt:\n",
    "    inp = [line for line in txt]\n",
    "k = int(inp[0])\n",
    "s = inp[1]\n",
    "\n",
    "\n",
    "def two_pointer(avail_repl, s, pivot_char):\n",
    "    replace_cnt = 0\n",
    "    max_beauty = 0\n",
    "    text_len = len(s)\n",
    "\n",
    "    l = 0\n",
    "    r = 0\n",
    "    while l < text_len:\n",
    "        while r < text_len:\n",
    "            if s[r] != pivot_char:\n",
    "                if replace_cnt >= avail_repl:\n",
    "                    break\n",
    "\n",
    "                replace_cnt += 1\n",
    "\n",
    "            r += 1\n",
    "\n",
    "        if s[l] != pivot_char:\n",
    "            replace_cnt -= 1\n",
    "\n",
    "        beauty_now = r - l\n",
    "        if beauty_now > max_beauty:\n",
    "            max_beauty = beauty_now\n",
    "\n",
    "        if r == text_len - 1:\n",
    "            break\n",
    "\n",
    "        l += 1\n",
    "\n",
    "    return max_beauty\n",
    "\n",
    "\n",
    "def max_len_consec_after_replacement(avail_repl, s, alphabet=alphabet_lower):\n",
    "    max_beauty = 0\n",
    "\n",
    "    for alphabet_idx in range(len(alphabet)):\n",
    "        pivot_char = alphabet[alphabet_idx]\n",
    "\n",
    "        max_beauty_by_char = two_pointer(avail_repl, s, pivot_char)\n",
    "        \n",
    "        max_beauty = max(max_beauty_by_char, max_beauty)\n",
    "\n",
    "    return max_beauty\n",
    "\n",
    "\n",
    "print(max_len_consec_after_replacement(k, s))"
   ]
  },
  {
   "cell_type": "markdown",
   "id": "01b234b4-28c1-4e45-8857-117b305b8b93",
   "metadata": {},
   "source": [
    "#### Task 3. "
   ]
  },
  {
   "cell_type": "markdown",
   "id": "e7560725-4e0b-42db-9940-a3cee49380b5",
   "metadata": {},
   "source": [
    "Diego is passionate about collecting stickers. Each of them has a number written on it, and every collector dreams of collecting stickers with all the numbers that appear.  \n",
    "\n",
    "Diego collected N stickers, some of which may coincide. One day, K collectors came to him. The i-th of them collected all stickers with numbers not less than pi. Write a program that will help each of the collectors determine how many stickers he is missing from Diego. Of course, Diego's guests are not interested in duplicate stickers.  \n",
    "\n",
    "The first line contains a single integer N (0 ≤ N ≤ 100,000) - the number of stickers Diego has.  \n",
    "\n",
    "The next line contains N non-negative integers (not necessarily distinct) - the numbers of Diego's stickers. All sticker numbers do not exceed 109.  \n",
    "\n",
    "The next line contains the number K (0 ≤ K ≤ 100,000) - the number of collectors who came to Diego. The next line contains K integers pi (0 ≤ pi ≤ 109), where pi is the smallest sticker number that is not of interest to the i-th collector.  \n",
    "\n",
    "For each collector, print the number of different numbers on the stickers that Diego has but the collector does not have, in a separate line."
   ]
  },
  {
   "cell_type": "code",
   "execution_count": 519,
   "id": "c16c1a1e-3261-4395-bd6f-f0e61603a1cf",
   "metadata": {
    "tags": []
   },
   "outputs": [
    {
     "name": "stdin",
     "output_type": "stream",
     "text": [
      " 4\n",
      " 3 3 2 2\n",
      " 4\n",
      " 3 3 4 2\n"
     ]
    },
    {
     "name": "stdout",
     "output_type": "stream",
     "text": [
      "1\n",
      "1\n",
      "2\n",
      "0\n"
     ]
    }
   ],
   "source": [
    "import bisect\n",
    "\n",
    "n_cards_d = int(input())\n",
    "cards_d = list(map(int, input().split()))\n",
    "n_friends = int(input())\n",
    "cards_friends = list(map(int, input().split()))\n",
    "\n",
    "cards_d = list(set(cards_d))\n",
    "cards_d.sort()\n",
    "\n",
    "\n",
    "cards_for_friends = []\n",
    "if n_cards_d == 0:\n",
    "    cards_for_friends = [0] * n_friends\n",
    "elif n_cards_d == 1:\n",
    "    for c in cards_friends:\n",
    "        if cards_d[0] < c:\n",
    "            cards_for_friends.append(1)\n",
    "        else:\n",
    "            cards_for_friends.append(0)\n",
    "else:\n",
    "    for c in cards_friends:\n",
    "        cards_for_friends.append(bisect.bisect_left(cards_d, c, 0, len(cards_d)))\n",
    "    \n",
    "\n",
    "print(*cards_for_friends, sep='\\n')  "
   ]
  },
  {
   "cell_type": "markdown",
   "id": "84fdf450-29ab-428f-88d2-198d70bb8a06",
   "metadata": {},
   "source": [
    "#### Task 4. "
   ]
  },
  {
   "cell_type": "markdown",
   "id": "86a6cbc9-e710-4ecf-aaef-47f56d87f122",
   "metadata": {},
   "source": [
    "Pete and Mike are classmates and best friends, so they help each other in everything. Tomorrow they have a math test and the teacher has prepared K different sets of tasks.\n",
    "\n",
    "There is only one row of desks in the classroom, and there will be exactly two students sitting behind each desk (except possibly the last one) during the test. The students know that the sets will be handed out strictly in order: the student on the right side of the first desk relative to the teacher will receive set 1, the one on the left will receive set 2, the student on the right side of the second desk will receive set 3 (if there are more than two sets) and so on. Since K may be less than the number of students N, after set K is handed out, set 1 will be handed out again. In the case of an odd number of students, only the first desk is used during the last round.\n",
    "\n",
    "Pete entered the classroom first and sat in his favorite seat. Mike entered next and wants to get the same set as Pete while sitting as close to him as possible. That is, there should be as few desks as possible between them, and if there are two such places at an equal distance from Pete, Mike will sit behind Pete rather than in front of him.  \n",
    "\n",
    "Write a program that will tell Mike which row and which side (right or left relative to the teacher) he should choose.  \n",
    "If Mike cannot write the same set as Pete, output -1.  \n",
    "If there is a solution, output two numbers: the row number that Mike should sit on, and 1 if he should sit on the right side, or 2 if he should sit on the left side.  \n",
    "You can only use the first N desks in the order in which the sets are handed out."
   ]
  },
  {
   "cell_type": "code",
   "execution_count": 814,
   "id": "01ae718c-bba3-4a3c-a15e-74e49028dd1d",
   "metadata": {
    "tags": []
   },
   "outputs": [
    {
     "name": "stdin",
     "output_type": "stream",
     "text": [
      " 25\n",
      " 2\n",
      " 1\n",
      " 2\n"
     ]
    },
    {
     "name": "stdout",
     "output_type": "stream",
     "text": [
      "2 2\n"
     ]
    }
   ],
   "source": [
    "def chunk(arr, size):\n",
    "    return [arr[i:i+size] for i in range(0, len(arr), size)]\n",
    "\n",
    "\n",
    "def drawPlaces(students_cnt, task_cnt, student_1, student_2 = None):\n",
    "    arr = [((i % task_cnt) + 1) for i in range(students_cnt)]\n",
    "    arr = arr[:100]\n",
    "    table = chunk(arr, 2)\n",
    "\n",
    "    table[student_1['y'] - 1][student_1['x'] - 1] = 's1'\n",
    "    if student_2 and 'x' in student_2:\n",
    "        table[student_2['y'] - 1][student_2['x'] - 1] = 's2'\n",
    "\n",
    "    max_char = len(str(task_cnt))\n",
    "    draw = '\\n'.join([f\"|{str(left).rjust(max_char)}|{str(right).rjust(max_char) if right else ' '.rjust(max_char)}|\" for left, right in table])\n",
    "\n",
    "    return draw\n",
    "\n",
    "\n",
    "def int_division(a, b):\n",
    "    return a // b\n",
    "\n",
    "\n",
    "def calc_student2_best_place(students_cnt, task_cnt, student1_place_y, student1_place_x):\n",
    "    def get_place_num(y, x):\n",
    "        return y * 2 - (x % 2)\n",
    "\n",
    "    def get_x(place_num):\n",
    "        return 2 - (place_num % 2)\n",
    "\n",
    "    def get_y(place_num):\n",
    "        return place_num // 2 + (place_num % 2)\n",
    "\n",
    "    student_1 = {'y': student1_place_y, 'x': student1_place_x}\n",
    "    student_2 = {'before': {}, 'after': {}, 'best': {}}\n",
    "\n",
    "    student_1['place_num'] = get_place_num(student_1['y'], student_1['x'])\n",
    "    student_2['before']['place_num'] = student_1['place_num'] - task_cnt\n",
    "    student_2['after']['place_num'] = student_1['place_num'] + task_cnt\n",
    "\n",
    "    student_2['before'] = {\n",
    "        **student_2['before'],\n",
    "        'y': get_y(student_2['before']['place_num']),\n",
    "        'x': get_x(student_2['before']['place_num']),\n",
    "        'is_placed_valid': student_2['before']['place_num'] > 0,\n",
    "    }\n",
    "\n",
    "    student_2['after'] = {\n",
    "        **student_2['after'],\n",
    "        'y': get_y(student_2['after']['place_num']),\n",
    "        'x': get_x(student_2['after']['place_num']),\n",
    "        'is_placed_valid': student_2['after']['place_num'] <= students_cnt,\n",
    "    }\n",
    "\n",
    "    student_2['before']['dist_to_student_1'] = student_1['y'] - student_2['before']['y']\n",
    "    student_2['after']['dist_to_student_1'] = student_2['after']['y'] - student_1['y']\n",
    "\n",
    "    if not student_2['after']['is_placed_valid'] and not student_2['before']['is_placed_valid']:\n",
    "        return -1\n",
    "\n",
    "    if student_2['after']['is_placed_valid'] and student_2['before']['is_placed_valid']:\n",
    "        if student_2['after']['dist_to_student_1'] > student_2['before']['dist_to_student_1']:\n",
    "            student_2['best'] = student_2['before']\n",
    "        else:\n",
    "            student_2['best'] = student_2['after']\n",
    "    elif student_2['after']['is_placed_valid']:\n",
    "        student_2['best'] = student_2['after']\n",
    "    elif student_2['before']['is_placed_valid']:\n",
    "        student_2['best'] = student_2['before']\n",
    "\n",
    "    return int({student_2['best']['y']}.pop()), int({student_2['best']['x']}.pop())\n",
    "\n",
    "\n",
    "def run_script(lines):\n",
    "    students_cnt = int(lines[0])\n",
    "    task_cnt = int(lines[1])\n",
    "    student1_place_y = int(lines[2])\n",
    "    student1_place_x = int(lines[3])\n",
    "    \n",
    "    ans =  calc_student2_best_place(students_cnt, task_cnt, student1_place_y, student1_place_x)\n",
    "    \n",
    "    if ans == -1:\n",
    "        print(ans)\n",
    "    else:\n",
    "        print(*ans)\n",
    "\n",
    "\n",
    "run_script([int(input()) for _ in range(4)])"
   ]
  },
  {
   "cell_type": "markdown",
   "id": "9389fd91-49f4-4a67-94ab-f98e63bf2748",
   "metadata": {},
   "source": [
    "#### Task 5. "
   ]
  },
  {
   "cell_type": "markdown",
   "id": "c7ceab7e-82d9-4bbb-bd65-9ae881f842de",
   "metadata": {},
   "source": [
    "The goodness of a string is defined as the number of positions from 1 to L-1 (where L is the length of the string) such that the next letter in the string is the next one in the alphabet. For example, the goodness of the string \"abcdefghijklmnopqrstuvwxyz\" is 25, while the goodness of the string \"abdc\" is only 1.  \n",
    "\n",
    "What is the maximum possible goodness of a string that can be assembled using the boards from the given set?  \n",
    "\n",
    "The first input line contains a single integer N, which is the number of different letters in the set (1 ≤ N ≤ 26). Note that the set always uses the first N letters of the Latin alphabet.  \n",
    "\n",
    "The following N lines contain integers ci, which represent the number of letters of the corresponding type (1 ≤ ci ≤ 10^9). Thus, the first number indicates the number of letters \"a\", the second number is the number of letters \"b\", and so on.  \n",
    "\n",
    "Output a single integer, which is the maximum possible goodness of a string that can be assembled using the available boards."
   ]
  },
  {
   "cell_type": "code",
   "execution_count": 764,
   "id": "12843ff6-90f5-4718-9ce7-7f7301716948",
   "metadata": {
    "tags": []
   },
   "outputs": [
    {
     "name": "stdin",
     "output_type": "stream",
     "text": [
      " 2\n",
      " 3\n",
      " 4\n"
     ]
    },
    {
     "name": "stdout",
     "output_type": "stream",
     "text": [
      "3\n"
     ]
    }
   ],
   "source": [
    "n = int(input())\n",
    "l_frec = [int(input()) for _ in range(n)]\n",
    "\n",
    "\n",
    "cnt = 0\n",
    "for i in range(n):\n",
    "    if i == len(l_frec) - 1:\n",
    "        break\n",
    "    else:\n",
    "        if l_frec[i+1] - l_frec[i] > 0:\n",
    "            cnt += l_frec[i] \n",
    "        else:\n",
    "            cnt += l_frec[i+1]\n",
    "            \n",
    "        \n",
    "print(cnt)"
   ]
  },
  {
   "cell_type": "markdown",
   "id": "4ac7f571-9353-44e9-81e4-75063835bea4",
   "metadata": {},
   "source": [
    "#### Task 6. "
   ]
  },
  {
   "cell_type": "markdown",
   "id": "a916bf2d-082f-4194-9bb8-8f0ce7674bf9",
   "metadata": {},
   "source": [
    "Mike's hard drive consists of M sectors. He sequentially installed various operating systems on it using the following method: he created a new partition on the disk consisting of consecutive sectors, starting from sector number ai and ending with sector bi (inclusive), and installed the next system on it. At the same time, if the next partition intersects with any previously created partition, the previously created partition is \"erased\", and the operating system that was installed on it can no longer be loaded.\n",
    "\n",
    "Write a program that, based on information about which partitions Mike created on the disk, will determine how many operational systems are ultimately installed and working on Mike's computer.\n",
    "\n",
    "First, a natural number M is entered, the number of sectors on the hard drive (1 ≤ M ≤ 10^9), and an integer N, the number of partitions sequentially created by Mike (0 ≤ N ≤ 1000).\n",
    "\n",
    "Then N pairs of numbers ai and bi are given, specifying the starting and ending sectors of the partition (1 ≤ ai ≤ bi ≤ M).\n",
    "\n",
    "Output one number - the number of working operating systems on Mike's computer."
   ]
  },
  {
   "cell_type": "code",
   "execution_count": 1248,
   "id": "47a414f8-d3f0-4ce2-85cb-66869bbc9c95",
   "metadata": {
    "tags": []
   },
   "outputs": [
    {
     "name": "stdin",
     "output_type": "stream",
     "text": [
      " 10\n",
      " 4\n",
      " 1 3\n",
      " 4 5\n",
      " 7 8\n",
      " 4 6\n"
     ]
    },
    {
     "name": "stdout",
     "output_type": "stream",
     "text": [
      "3\n"
     ]
    }
   ],
   "source": [
    "sectors = int(input())\n",
    "segments_count = int(input())\n",
    "\n",
    "segments = []\n",
    "for coords in [input() for _ in range(segments_count)]:\n",
    "    segment = list(map(int, coords.split()))\n",
    "    segments.append(segment)\n",
    "      \n",
    "\n",
    "existed_os = []\n",
    "for segment in segments:\n",
    "    begin_new, end_new = segment\n",
    "\n",
    "    upd_existed_os = []\n",
    "    for begin, end in existed_os:\n",
    "        if not (begin_new <= end and begin <= end_new):\n",
    "            upd_existed_os.append((begin, end))\n",
    "    existed_os = upd_existed_os\n",
    "    existed_os.append(segment)\n",
    "\n",
    "    \n",
    "print(len(existed_os))"
   ]
  },
  {
   "cell_type": "markdown",
   "id": "1749c3a4-e70f-4bf5-ba4c-3ed0620039ed",
   "metadata": {},
   "source": [
    "#### Task 7."
   ]
  },
  {
   "cell_type": "markdown",
   "id": "3566f05b-2c9f-49ad-a372-c82395928104",
   "metadata": {},
   "source": [
    "In order for computers to maintain accurate time, they can use the Simple Network Time Protocol (SNTP) to access time servers. Unfortunately, a computer cannot simply obtain the time from the server because information transmitted over the network is not instantaneous: by the time the message with the current time reaches the computer, it will no longer be current. The protocol for interaction between the client (the computer requesting the accurate time) and the server (the computer providing the accurate time) looks as follows:\n",
    "\n",
    "1. The client sends a request to the server and remembers the sending time A (according to client time).\n",
    "2. The server receives the request at time B (according to accurate server time) and sends a message to the client containing time B.\n",
    "3. The client receives the response to its request at time C (according to client time) and remembers it. Now, assuming that the network delays in transmitting messages from the client to the server and from the server to the client are the same, the client can determine and set the accurate time for itself using the known values of A, B, and C.  \n",
    "\n",
    "You have to implement an algorithm that determines the accurate time, up to the second, for setting on the client using the known values of A, B, and C. If necessary, round the result to the nearest integer number of seconds using arithmetic rules (downwards if the fractional part of the number is less than 1/2, otherwise upwards).  \n",
    "\n",
    "It is possible that while the client was waiting for a response, new days have started according to client time, but it is known that less than 24 hours have passed between the client sending the request and receiving the response from the server.  \n",
    "\n",
    "The program receives three time stamps A, B, and C, one per line. All time stamps are in the format \"hh\\:mm:ss\", where \"hh\" is the hours, \"mm\" is the minutes, and \"ss\" is the seconds. The hours, minutes, and seconds are each represented by exactly two digits (possibly with leading zeros).  \n",
    "\n",
    "The program should output one time stamp in the format described in the input - the calculated accurate time for setting on the client. There should be no spaces or blank lines at the beginning of the output of the program. "
   ]
  },
  {
   "cell_type": "code",
   "execution_count": 981,
   "id": "bfcffe94-9dde-4c7d-96ae-7f2e0f91bc47",
   "metadata": {
    "tags": []
   },
   "outputs": [
    {
     "name": "stdout",
     "output_type": "stream",
     "text": [
      "18:10:05\n"
     ]
    }
   ],
   "source": [
    "import math\n",
    "\n",
    "\n",
    "with open('7.txt', 'r') as txt:\n",
    "    inp = [line for line in txt]\n",
    "\n",
    "a, b, c = inp\n",
    "\n",
    "\n",
    "def round_math(x):\n",
    "    if x - math.floor(x) < 0.5:\n",
    "        return math.floor(x)\n",
    "    return math.ceil(x)\n",
    "    \n",
    "    \n",
    "def to_sec(hhmmss):\n",
    "    minutes = 60 * int(hhmmss[0:2])\n",
    "    seconds = 60 * (int(hhmmss[3:5]) + minutes) + int(hhmmss[6:8])\n",
    "    return seconds    \n",
    "\n",
    "\n",
    "def to_hhmmss(sec):\n",
    "    minutes = sec // 60\n",
    "    seconds = sec - minutes * 60\n",
    "    hours = minutes // 60\n",
    "    minutes = minutes - hours * 60\n",
    "    if hours > 23:\n",
    "        hours = hours - 24\n",
    "    if hours < 10:\n",
    "        hours = '0' + str(hours)\n",
    "    if minutes < 10:\n",
    "        minutes = '0' + str(minutes)\n",
    "    if seconds < 10:\n",
    "        seconds = '0' + str(seconds)\n",
    "    return str(hours) + ':' + str(minutes) + ':' + str(seconds)\n",
    "    \n",
    "\n",
    "a_conv = to_sec(a)\n",
    "b_conv = to_sec(b)\n",
    "c_conv = to_sec(c)\n",
    "\n",
    "if c_conv - a_conv < 0:\n",
    "    c_conv += 86400\n",
    "\n",
    "\n",
    "ans = round_math((c_conv - a_conv) / 2) + b_conv\n",
    "\n",
    "\n",
    "print(to_hhmmss(ans).strip())"
   ]
  },
  {
   "cell_type": "markdown",
   "id": "e140b715-9e1d-4a85-b91b-f653d9d4396f",
   "metadata": {},
   "source": [
    "#### Task 8. "
   ]
  },
  {
   "cell_type": "markdown",
   "id": "22b0d783-db0a-4b5c-ba99-f98212853b86",
   "metadata": {},
   "source": [
    "On a checkered plane, K cells are colored. It is required to find the minimum area rectangle with sides parallel to the grid lines covering all colored cells.  \n",
    "\n",
    "In the input file, the first line contains the number K (1 ≤ K ≤ 100). The next K lines contain pairs of numbers Xi and Yi - the coordinates of the colored cells (|Xi|, |Yi| ≤ 109).  \n",
    "\n",
    "Output the coordinates of the bottom left and top right corners of the rectangle to the output file."
   ]
  },
  {
   "cell_type": "code",
   "execution_count": 3,
   "id": "54360cb6-b184-418e-ab10-6daada811bca",
   "metadata": {
    "tags": []
   },
   "outputs": [
    {
     "name": "stdin",
     "output_type": "stream",
     "text": [
      " 3\n",
      " 1 1\n",
      " 1 10\n",
      " 5 5\n"
     ]
    },
    {
     "name": "stdout",
     "output_type": "stream",
     "text": [
      "1 1 5 10\n"
     ]
    }
   ],
   "source": [
    "n = int(input())\n",
    "\n",
    "x_min = 10000000000 \n",
    "x_max = 0\n",
    "y_min = 10000000000 \n",
    "y_max = 0\n",
    "\n",
    "for i in range(n):\n",
    "    x, y = map(int, input().split())\n",
    "    x_min = min(x, x_min)\n",
    "    x_max = max(x, x_max)\n",
    "    y_min = min(y, y_min)\n",
    "    y_max = max(y, y_max)\n",
    "    \n",
    "print(x_min, y_min, x_max, y_max)"
   ]
  },
  {
   "cell_type": "markdown",
   "id": "ec396a5f-631b-4a90-af46-9909452ea478",
   "metadata": {},
   "source": [
    "#### Task 9. "
   ]
  },
  {
   "cell_type": "markdown",
   "id": "77df0b1d-ab70-40fe-9389-fa68189e8cea",
   "metadata": {},
   "source": [
    "You need to answer requests to find the sum of all elements in a numerical matrix of size N×M within a rectangle with the top left corner (x1, y1) and the bottom right corner (x2, y2).  \n",
    "\n",
    "The first line contains three integers: N, M, and K, where N and M are the dimensions of the matrix (1 ≤ N, M ≤ 1000) and K is the number of requests (1 ≤ K ≤ 100000). Each of the following N lines contains M integers - the elements of the corresponding row of the matrix (with absolute value not exceeding 1000). The next K lines contain 4 integers each, separated by a space: x1 y1 x2 y2 - a request for the sum of the elements in the matrix within the rectangle (1 ≤ x1 ≤ x2 ≤ N, 1 ≤ y1 ≤ y2 ≤ M).  \n",
    "\n",
    "For each request, output the sum of all numbers in the matrix elements within the rectangle (x1, y1), (x2, y2) on a separate line."
   ]
  },
  {
   "cell_type": "code",
   "execution_count": 1002,
   "id": "ea3ce2d8-5576-4075-a190-686a66933050",
   "metadata": {
    "tags": []
   },
   "outputs": [
    {
     "name": "stdin",
     "output_type": "stream",
     "text": [
      " 3 3 2\n",
      " 1 2 3\n",
      " 4 5 6\n",
      " 7 8 9\n",
      " 2 2 3 3\n",
      " 1 1 2 3\n"
     ]
    },
    {
     "name": "stdout",
     "output_type": "stream",
     "text": [
      "28\n",
      "21\n"
     ]
    }
   ],
   "source": [
    "n, m, q = list(map(int, input().split()))\n",
    "matrix = [list(map(int, input().split())) for _ in range(n)]\n",
    "coords = [list(map(int, input().split())) for _ in range(q)]\n",
    "\n",
    "\n",
    "matrix_sum_lst = []\n",
    "for row in matrix:\n",
    "    matrix_sum = [0] * (m + 1)\n",
    "    for i in range(1, m + 1):\n",
    "        matrix_sum[i] = matrix_sum[i-1] + row[i-1]\n",
    "    matrix_sum_lst.append(matrix_sum)\n",
    "    \n",
    "\n",
    "ans_lst = []\n",
    "for i in range(len(coords)):\n",
    "    ans = 0\n",
    "    x1, y1, x2, y2, = coords[i]\n",
    "    for row_num in range(x1-1, x2):\n",
    "        ans += matrix_sum_lst[row_num][y2] - matrix_sum_lst[row_num][y1-1]\n",
    "    ans_lst.append(ans)\n",
    "    \n",
    "    \n",
    "print(*ans_lst, sep='\\n')"
   ]
  },
  {
   "cell_type": "markdown",
   "id": "6be46858-e252-4a7d-9480-ae271244e607",
   "metadata": {},
   "source": [
    "#### Task 10. "
   ]
  },
  {
   "cell_type": "markdown",
   "id": "3df84656-cf03-4bf0-a49e-2b7b875649c2",
   "metadata": {},
   "source": [
    "The input is a string consisting of lowercase Latin letters.\n",
    "The length of the string is between 5 and 100,000 characters.  \n",
    "\n",
    "If you write down this string in all possible ways without some part from the beginning and some part from the end, how many letters of each type will you end up with in the end?  \n",
    "\n",
    "For each letter in the string, output the letter followed by a colon and a space, and then the number of times it appears in the resulting string as described above. The letters should be in alphabetical order. Letters that do not appear in the string should not be output."
   ]
  },
  {
   "cell_type": "code",
   "execution_count": 853,
   "id": "913988a7-0bf3-47a4-9fc0-0dfb6bf681b6",
   "metadata": {
    "tags": []
   },
   "outputs": [
    {
     "name": "stdin",
     "output_type": "stream",
     "text": [
      " abacaba\n"
     ]
    },
    {
     "name": "stdout",
     "output_type": "stream",
     "text": [
      "a: 44\n",
      "b: 24\n",
      "c: 16\n"
     ]
    }
   ],
   "source": [
    "s = input()\n",
    "\n",
    "\n",
    "s_set = set(s)\n",
    "dct = {x: 0 for x in s_set}\n",
    "\n",
    "for i in range(len(s)):\n",
    "    ans = (i+1) * (len(s) - i)\n",
    "    dct[s[i]] += ans\n",
    "\n",
    "for letter in sorted(dct):\n",
    "    print(letter + ': ' + str(dct[letter]))"
   ]
  },
  {
   "cell_type": "markdown",
   "id": "19d34ee9-8226-4cab-9324-70a5ffd34b6d",
   "metadata": {},
   "source": [
    "#### Task 11. "
   ]
  },
  {
   "cell_type": "markdown",
   "id": "1a386796-239f-485a-9e1a-99911cc23c2b",
   "metadata": {
    "tags": []
   },
   "source": [
    "Learn to use the standard data structure stack for integers. Write a program that includes a stack description and simulates the stack operation by implementing all the methods mentioned here. The program reads a sequence of commands and performs a certain operation depending on the command. After executing each command, the program should output one line.  \n",
    "\n",
    "Possible commands for the program are:  \n",
    "\n",
    "`push n`  \n",
    "Add the number n (the value of n is specified after the command) to the stack. The program should output ok.  \n",
    "  \n",
    "`pop`  \n",
    "Remove the last element from the stack. The program should output its value.  \n",
    "  \n",
    "`back`  \n",
    "The program should output the value of the last element without removing it from the stack.  \n",
    "  \n",
    "`size`  \n",
    "The program should output the number of elements in the stack.  \n",
    "  \n",
    "`clear`  \n",
    "The program should clear the stack and output ok.  \n",
    "  \n",
    "`exit`  \n",
    "The program should output bye and terminate.  \n",
    "  \n",
    "Before executing the back and pop operations, the program should check whether at least one element is in the stack. If the input data contains the back or pop operation and the stack is empty, the program should output the string error instead of a numeric value.  \n",
    "  \n",
    "Stack control commands are entered, one per line.\n",
    "The program should output the stack operation protocol, one message per line."
   ]
  },
  {
   "cell_type": "code",
   "execution_count": 371,
   "id": "bf08252b-a1eb-4fca-b822-015e762f42c7",
   "metadata": {
    "tags": []
   },
   "outputs": [
    {
     "name": "stdout",
     "output_type": "stream",
     "text": [
      "ok\n",
      "1\n",
      "bye\n"
     ]
    }
   ],
   "source": [
    "# input from file\n",
    "with open('11.txt', 'r') as txt:\n",
    "    inp = [line for line in txt]\n",
    "\n",
    "stack = list()\n",
    "\n",
    "def push_stack(stack, x):\n",
    "    print('ok')\n",
    "    stack.append(x)\n",
    "    return stack\n",
    "\n",
    "def pop_stack(stack):\n",
    "    if not stack:\n",
    "        print('error')\n",
    "        return []\n",
    "    else:\n",
    "        print(stack[-1])\n",
    "        stack.pop()\n",
    "        return stack\n",
    "\n",
    "def back_stack(stack):\n",
    "    if not stack:\n",
    "        print('error')\n",
    "    else:\n",
    "        print(stack[-1])\n",
    "    \n",
    "def size_stack(stack):\n",
    "    print(len(stack))\n",
    "    \n",
    "def clear_stack(stack):\n",
    "    print('ok')\n",
    "    return []\n",
    "\n",
    "for i in range(len(inp)):\n",
    "    com_ful = inp[i].strip().strip('\\n')\n",
    "    com = com_ful.split()\n",
    "    if com[0] == 'push':\n",
    "        x = com[1]\n",
    "        stack = push_stack(stack, x)\n",
    "    elif com[0] == 'pop':\n",
    "        stack = pop_stack(stack)\n",
    "    elif com[0] == 'back':\n",
    "        back_stack(stack)\n",
    "    elif com[0] == 'size':\n",
    "        size_stack(stack)\n",
    "    elif com[0] == 'clear':\n",
    "        stack = clear_stack(stack)\n",
    "    elif com[0] == 'exit':\n",
    "        print('bye')\n",
    "        break"
   ]
  },
  {
   "cell_type": "markdown",
   "id": "4cf41b90-b7cc-4a21-b30f-e722988582da",
   "metadata": {},
   "source": [
    "#### Task 12. "
   ]
  },
  {
   "cell_type": "markdown",
   "id": "89a2cc26-66be-43bf-95fd-5c89d6af070e",
   "metadata": {},
   "source": [
    "Let's consider a sequence consisting of round, square, and curly brackets. The program must determine if the given bracket sequence is correct. An empty sequence is considered correct. If A is correct, then the sequences (A), [A], {A} are also correct. If A and B are correct sequences, then the sequence AB is also correct.\n",
    "The input consists of a single line containing a bracket sequence containing no more than 100000 brackets.\n",
    "If the given sequence is correct, the program should output the string \"yes\", otherwise it should output \"no\"."
   ]
  },
  {
   "cell_type": "code",
   "execution_count": 303,
   "id": "2ae4ddf0-77cb-44a7-9bcb-392da2c2e5a9",
   "metadata": {
    "tags": []
   },
   "outputs": [
    {
     "name": "stdout",
     "output_type": "stream",
     "text": [
      "yes\n"
     ]
    }
   ],
   "source": [
    "seq = '{({}{})}'\n",
    "\n",
    "def brackets(s):\n",
    "    stack = []\n",
    "    cnt = 0\n",
    "\n",
    "    if len(s) % 2 == 1:\n",
    "        return 'no'\n",
    "    elif len(s) == 0:\n",
    "        return 'yes'\n",
    "    else:\n",
    "        for i in range(len(s)):\n",
    "            now_elem = s[i]\n",
    "            if s[i] in ['(', '{', '[']:\n",
    "                stack.append(s[i])\n",
    "                cnt += 1\n",
    "            else:\n",
    "                if len(stack) > 0:\n",
    "                    last_elem = stack[-1]\n",
    "                    if s[i] == ')' and last_elem == '(':\n",
    "                        stack.pop()\n",
    "                        cnt -= 1\n",
    "                    elif s[i] == '}' and last_elem == '{':\n",
    "                        stack.pop()\n",
    "                        cnt -= 1\n",
    "                    elif s[i] == ']' and last_elem == '[':\n",
    "                        stack.pop()\n",
    "                        cnt -= 1\n",
    "                    else:\n",
    "                        return 'no'\n",
    "                else:\n",
    "                    cnt -= 1\n",
    "        if len(stack) == 0 and cnt == 0:\n",
    "            return 'yes'\n",
    "        elif len(stack) == 0 and cnt < 0:\n",
    "            return 'no'\n",
    "        elif len(stack) != 0:\n",
    "            return 'no'\n",
    "\n",
    "\n",
    "print(brackets(seq))"
   ]
  },
  {
   "cell_type": "markdown",
   "id": "61573360-b9e9-446b-9041-0370431b80db",
   "metadata": {},
   "source": [
    "#### Task 13. "
   ]
  },
  {
   "cell_type": "markdown",
   "id": "bbc9fb88-5bd2-4305-b20d-3e2ff304f58a",
   "metadata": {},
   "source": [
    "In postfix notation (or Reverse Polish Notation), an operator is written after its two operands. For example, the sum of two numbers A and B is written as A B +. The notation B C + D * represents the familiar (B + C) * D, and the notation A B C + D * + means A + (B + C) * D. The advantage of postfix notation is that it does not require parentheses or additional agreements on operator precedence to be read.  \n",
    "\n",
    "The input consists of a single line containing an expression in postfix notation, consisting of digits and the operations +, -, *. Digits and operations are separated by spaces. There may be any number of spaces at the end of the line.  \n",
    "\n",
    "The program should output the value of the expression."
   ]
  },
  {
   "cell_type": "code",
   "execution_count": 381,
   "id": "bdbf19b7-d4bd-4f9b-a4c3-8afd8e22dc8f",
   "metadata": {
    "tags": []
   },
   "outputs": [
    {
     "name": "stdin",
     "output_type": "stream",
     "text": [
      " 8 9 + 1 7 - *\n"
     ]
    },
    {
     "name": "stdout",
     "output_type": "stream",
     "text": [
      "-102\n"
     ]
    }
   ],
   "source": [
    "inp = input().strip().split()\n",
    "\n",
    "\n",
    "stack = []\n",
    "ans = 0\n",
    "\n",
    "for i in inp:\n",
    "    if i not in ['+', '*', '-']:\n",
    "        stack.append(int(i))\n",
    "    else:\n",
    "        b = stack.pop()\n",
    "        a = stack.pop()\n",
    "        if i == '+':\n",
    "            ans = a + b\n",
    "            stack.append(ans)\n",
    "        elif i == '*':\n",
    "            ans = a * b\n",
    "            stack.append(ans)\n",
    "        elif i == '-':\n",
    "            ans = a - b\n",
    "            stack.append(ans)\n",
    "\n",
    "print(ans)"
   ]
  },
  {
   "cell_type": "markdown",
   "id": "751b2598-edd5-46d0-abe4-21006cc7ad08",
   "metadata": {},
   "source": [
    "#### Task 14. "
   ]
  },
  {
   "cell_type": "markdown",
   "id": "fa1c56b8-b3ad-489b-bbc4-c0120f9b3ce1",
   "metadata": {
    "tags": []
   },
   "source": [
    "A train approached the dead end from the direction of track 1 (see the figure). It is allowed to detach one or several first cars from the train and take them into the dead end (if desired, the entire train can be taken into the dead end at once). After that, some of these cars can be taken out in the direction of track 2. After that, it is possible to take several more cars into the dead end and again take some of the cars out in the direction of track 2. And so on (so that each car can only enter the dead end from track 1 once and then leave the dead end to track 2 once). Entering the dead end from track 2 or leaving the dead end to track 1 is prohibited. It is not possible to get from track 1 to track 2 without entering the dead end.  \n",
    "\n",
    "It is known in what order the cars of the train are originally arranged. It is required to use the specified operations to make the cars of the train go in order (first the first one, then the second one, etc., counting from the head of the train traveling along track 2 away from the dead end). Write a program to determine if this can be done.  \n",
    "\n",
    "The number N is entered - the number of cars in the train (1 ≤ N ≤ 100). Then there are the numbers of the cars in the order from the head of the train traveling along track 1 towards the dead end. The cars are numbered with natural numbers from 1 to N, each of which occurs exactly once.  \n",
    "\n",
    "If it is possible to arrange the cars in order from 1 to N, counting from the head of the train, when the train travels along track 2 from the dead end, output the message YES, otherwise output NO."
   ]
  },
  {
   "cell_type": "code",
   "execution_count": 429,
   "id": "db3b80b5-b72e-4275-9d45-384d3485503c",
   "metadata": {
    "tags": []
   },
   "outputs": [
    {
     "name": "stdin",
     "output_type": "stream",
     "text": [
      " 3\n",
      " 2 1 3\n"
     ]
    },
    {
     "name": "stdout",
     "output_type": "stream",
     "text": [
      "YES\n"
     ]
    }
   ],
   "source": [
    "n = int(input())\n",
    "nums = list(map(int, input().split()))\n",
    "\n",
    "cnt = 1\n",
    "stack = []\n",
    "for num in nums:\n",
    "    stack.append(num)\n",
    "    while stack[-1] == cnt:\n",
    "        stack.pop()\n",
    "        cnt += 1\n",
    "        if not stack:\n",
    "            break\n",
    "        \n",
    "if not stack:\n",
    "    print('YES')\n",
    "else:\n",
    "    print('NO')"
   ]
  },
  {
   "cell_type": "markdown",
   "id": "255e3e0c-8d47-4133-b027-48839c44aba4",
   "metadata": {},
   "source": [
    "#### Task 15. "
   ]
  },
  {
   "cell_type": "markdown",
   "id": "a648acd1-6afc-4916-a03f-743060df4854",
   "metadata": {},
   "source": [
    "The first line contains a single integer N (2 ≤ N ≤ 10^5) — the number of cities. The second line contains N integers ai (0 ≤ ai ≤ 10^9) — the average cost of living in cities from 0-th to (N-1)-th, respectively.  \n",
    "\n",
    "For each city in the order from 0-th to (N-1)-th, output the number of the city to which its original residents will move. If the residents of a city do not stop in any other city, output -1."
   ]
  },
  {
   "cell_type": "code",
   "execution_count": 679,
   "id": "39b55831-c74b-4603-bd08-5d5a5737a403",
   "metadata": {
    "tags": []
   },
   "outputs": [
    {
     "name": "stdin",
     "output_type": "stream",
     "text": [
      " 10\n",
      " 1 2 3 2 1 4 2 5 3 1\n"
     ]
    },
    {
     "name": "stdout",
     "output_type": "stream",
     "text": [
      "-1 4 3 4 -1 6 9 8 9 -1\n"
     ]
    }
   ],
   "source": [
    "n = int(input())\n",
    "seq = list(map(int, input().split()))\n",
    "\n",
    "ans = [-1] * n\n",
    "\n",
    "stack = []\n",
    "for i in range(n):\n",
    "    if not stack:\n",
    "        stack.append((seq[i], i))\n",
    "    else:\n",
    "        if seq[i] > stack[-1][0]:\n",
    "            stack.append((seq[i], i))\n",
    "        else:\n",
    "            while stack[-1][0] > seq[i]:\n",
    "                tup = stack.pop()\n",
    "                ans[tup[1]] = i\n",
    "                if not stack:\n",
    "                    break\n",
    "            stack.append((seq[i], i))\n",
    "            \n",
    "print(*ans)"
   ]
  },
  {
   "cell_type": "markdown",
   "id": "6b94a03a-d21b-43e9-82a7-6eb9c75987c8",
   "metadata": {},
   "source": [
    "#### Task 16."
   ]
  },
  {
   "cell_type": "markdown",
   "id": "2dc83b01-bd94-4e02-9432-c71c361be2ee",
   "metadata": {},
   "source": [
    "Learn to use the standard data structure queue for integers. Write a program that contains a description of the queue and models the operation of the queue, implementing all the methods specified here.\n",
    "The program reads a sequence of commands and depending on the command, performs one or another operation. After executing each command, the program should output one line.  \n",
    "\n",
    "Possible commands for the program:  \n",
    "\n",
    "`push n`  \n",
    "Add the number n (value n is given after the command) to the queue. The program should output ok.  \n",
    "\n",
    "`pop`  \n",
    "Remove the first element from the queue. The program should output its value.  \n",
    "\n",
    "`front`  \n",
    "The program should output the value of the first element without removing it from the queue.  \n",
    "\n",
    "`size`  \n",
    "The program should output the number of elements in the queue.  \n",
    "\n",
    "`clear`  \n",
    "The program should clear the queue and output ok.  \n",
    "\n",
    "`exit`  \n",
    "The program should output bye and terminate.  \n",
    "\n",
    "Before executing the front and pop operations, the program should check if the queue contains at least one element. If the input contains a front or pop operation and the queue is empty, the program should output the string error instead of a numerical value.  \n",
    "\n",
    "Queue management commands are entered one per line. The protocol of the queue operation is required to be output, one message per line."
   ]
  },
  {
   "cell_type": "code",
   "execution_count": 530,
   "id": "98002370-9646-4be5-82b1-92cfedc151c0",
   "metadata": {
    "tags": []
   },
   "outputs": [
    {
     "name": "stdout",
     "output_type": "stream",
     "text": [
      "ok\n",
      "ok\n",
      "2\n",
      "ok\n",
      "ok\n",
      "1\n",
      "ok\n",
      "1\n",
      "1\n",
      "1\n",
      "2\n",
      "0\n",
      "bye\n"
     ]
    }
   ],
   "source": [
    "# input from file\n",
    "with open('16.txt', 'r') as txt:\n",
    "    inp = [line for line in txt]\n",
    "\n",
    "\n",
    "queue = list()\n",
    "\n",
    "def push_queue(queue, x):\n",
    "    print('ok')\n",
    "    queue.append(x)\n",
    "    return queue\n",
    "\n",
    "def pop_queue(queue):\n",
    "    if not queue:\n",
    "        print('error')\n",
    "        return []\n",
    "    else:\n",
    "        print(queue[0])\n",
    "        queue.pop(0)\n",
    "        return queue\n",
    "\n",
    "def front_queue(queue):\n",
    "    if not queue:\n",
    "        print('error')\n",
    "    else:\n",
    "        print(queue[0])\n",
    "\n",
    "def size_queue(queue):\n",
    "    print(len(queue))\n",
    "\n",
    "def clear_queue(queue):\n",
    "    print('ok')\n",
    "    return []\n",
    "\n",
    "for i in range(len(inp)):\n",
    "    com_ful = inp[i].strip().strip('\\n')\n",
    "    com = com_ful.split()\n",
    "    if com[0] == 'push':\n",
    "        x = com[1]\n",
    "        queue = push_queue(queue, x)\n",
    "    elif com[0] == 'pop':\n",
    "        queue = pop_queue(queue)\n",
    "    elif com[0] == 'front':\n",
    "        front_queue(queue)\n",
    "    elif com[0] == 'size':\n",
    "        size_queue(queue)\n",
    "    elif com[0] == 'clear':\n",
    "        queue = clear_queue(queue)\n",
    "    elif com[0] == 'exit':\n",
    "        print('bye')\n",
    "        break"
   ]
  },
  {
   "cell_type": "markdown",
   "id": "ab2d82c6-a347-4100-b74f-80abeda42a30",
   "metadata": {},
   "source": [
    "#### Task 17. "
   ]
  },
  {
   "cell_type": "markdown",
   "id": "7c3c4366-162d-4df4-9fa2-577962318b2f",
   "metadata": {},
   "source": [
    "In the game of War (or \"Pizhama\" in Russian), a deck of cards is dealt equally between two players. Then, each player turns over one card at a time, and the player with the higher card takes both cards and places them at the bottom of their deck. The game continues until one player has all of the cards, at which point they are declared the winner. For simplicity, we will assume that all cards have unique values, and that the lowest card beats the highest card (\"6 beats Ace\"). The player who takes the cards puts the card of the first player under their deck first, and then the card of the second player (i.e., the second player's card ends up on the bottom of the deck). Write a program that simulates the game of War and determines who wins. There are 10 cards in the game, with values from 0 to 9, and the higher card beats the lower card, with card 0 beating card 9.  \n",
    "\n",
    "The program takes two lines of input: the first line contains 5 numbers separated by spaces, which are the cards of the first player, and the second line is the same for the second player. The cards are listed from top to bottom, so each line starts with the card that will be revealed first.  \n",
    "\n",
    "The program should determine who wins with the given distribution and output the word \"first\" or \"second\", followed by the number of moves made until the win. If the game does not end after 10^6 moves, the program should output \"botva\"."
   ]
  },
  {
   "cell_type": "code",
   "execution_count": 700,
   "id": "588f9509-9311-494a-ba1d-1aef278bb85e",
   "metadata": {
    "tags": []
   },
   "outputs": [
    {
     "name": "stdin",
     "output_type": "stream",
     "text": [
      " 1 7 3 9 4\n",
      " 5 8 0 2 6\n"
     ]
    },
    {
     "name": "stdout",
     "output_type": "stream",
     "text": [
      "second 23\n"
     ]
    }
   ],
   "source": [
    "first = list(map(int, input().split()))\n",
    "second = list(map(int, input().split()))\n",
    "\n",
    "\n",
    "cnt = 0\n",
    "while first and second:\n",
    "    cnt += 1\n",
    "    card_1 = first[0]\n",
    "    card_2 = second[0]\n",
    "    \n",
    "    if card_1 == 0 and card_2 == 9:\n",
    "        card_1 = 10\n",
    "    if card_2 == 0 and card_1 == 9:\n",
    "        card_2 = 10\n",
    "    \n",
    "    if card_1 > card_2:\n",
    "        first.append(first.pop(0))\n",
    "        first.append(second.pop(0))\n",
    "    if card_2 > card_1:\n",
    "        second.append(first.pop(0))\n",
    "        second.append(second.pop(0))\n",
    "    \n",
    "    if cnt > 10**6:\n",
    "        draw = 'botva'\n",
    "        break\n",
    "      \n",
    "    \n",
    "if not first:\n",
    "    print('second', cnt)\n",
    "elif not second:\n",
    "    print('first', cnt)\n",
    "else:\n",
    "    print(draw)"
   ]
  },
  {
   "cell_type": "code",
   "execution_count": 701,
   "id": "192d58b9-ef36-40e2-98df-12eedcb8cdfc",
   "metadata": {
    "tags": []
   },
   "outputs": [
    {
     "name": "stdout",
     "output_type": "stream",
     "text": [
      "hey!\n"
     ]
    }
   ],
   "source": [
    "print('hey!')"
   ]
  },
  {
   "cell_type": "markdown",
   "id": "6ec3dcff-e473-47a7-8758-12f7fd4f9161",
   "metadata": {},
   "source": [
    "#### Task 18. "
   ]
  },
  {
   "cell_type": "markdown",
   "id": "25f1cb77-c846-4843-b102-b4aa0948e41f",
   "metadata": {},
   "source": [
    "Learn to use the standard deque data structure for integers. Write a program that contains a description of the deque and models the deque's operation by implementing all the methods listed here. The program reads a sequence of commands and, depending on the command, performs one or another operation. After executing each command, the program should output one line.  \n",
    "\n",
    "Possible commands for the program:  \n",
    "\n",
    "`push_front n`    \n",
    "Add (put) a new element at the beginning of the deque. The program should output ok.  \n",
    "\n",
    "`push_back n`  \n",
    "Add (put) a new element at the end of the deque. The program should output ok.  \n",
    "\n",
    "`pop_front`  \n",
    "Extract the first element from the deque. The program should output its value.  \n",
    "\n",
    "`pop_back`  \n",
    "Extract the last element from the deque. The program should output its value.  \n",
    "\n",
    "`front`  \n",
    "Get the value of the first element (without removing it). The program should output its value.  \n",
    "\n",
    "`back`  \n",
    "Get the value of the last element (without removing it). The program should output its value.  \n",
    "\n",
    "`size`  \n",
    "Output the number of elements in the deque.  \n",
    "\n",
    "`clear`  \n",
    "Clear the deque (remove all elements from it) and output ok.  \n",
    "\n",
    "`exit`  \n",
    "The program should output bye and terminate.  \n",
    "\n",
    "It is guaranteed that the number of elements in the deque does not exceed 100 at any time. Before executing the pop_front, pop_back, front, back operations, the program should check whether the deque contains at least one element. If the input contains pop_front, pop_back, front, back operations and the deque is empty, the program should output the error string instead of a numeric value.  \n",
    "\n",
    "Control commands are entered for the deque, one per line. The protocol of the deque's operation is required, with one message per line."
   ]
  },
  {
   "cell_type": "code",
   "execution_count": 712,
   "id": "1d3f5eb1-a6f5-48a3-91d4-4cec3fe71b87",
   "metadata": {
    "tags": []
   },
   "outputs": [
    {
     "name": "stdout",
     "output_type": "stream",
     "text": [
      "ok\n",
      "ok\n",
      "2\n",
      "ok\n",
      "ok\n",
      "1\n",
      "ok\n",
      "1\n",
      "2\n",
      "1\n",
      "1\n",
      "0\n",
      "bye\n"
     ]
    }
   ],
   "source": [
    "# input from file\n",
    "with open('18.txt', 'r') as txt:\n",
    "    inp = [line for line in txt]\n",
    "\n",
    "\n",
    "deque = list()\n",
    "\n",
    "def push_front(deque, x):\n",
    "    print('ok')\n",
    "    deque.insert(0, x)\n",
    "    return deque\n",
    "\n",
    "def push_back(deque, x):\n",
    "    print('ok')\n",
    "    deque.append(x)\n",
    "    return deque\n",
    "\n",
    "def pop_front(deque):\n",
    "    if not deque:\n",
    "        print('error')\n",
    "        return []\n",
    "    else:\n",
    "        print(deque[0])\n",
    "        deque.pop(0)\n",
    "        return deque\n",
    "    \n",
    "def pop_back(deque):\n",
    "    if not deque:\n",
    "        print('error')\n",
    "        return []\n",
    "    else:\n",
    "        print(deque[-1])\n",
    "        deque.pop()\n",
    "        return deque\n",
    "\n",
    "def front_deque(deque):\n",
    "    if not deque:\n",
    "        print('error')\n",
    "    else:\n",
    "        print(deque[0])\n",
    "        \n",
    "def back_deque(deque):\n",
    "    if not deque:\n",
    "        print('error')\n",
    "    else:\n",
    "        print(deque[-1])\n",
    "\n",
    "def size_deque(deque):\n",
    "    print(len(deque))\n",
    "\n",
    "def clear_deque(deque):\n",
    "    print('ok')\n",
    "    return []\n",
    "\n",
    "for i in range(len(inp)):\n",
    "    com_ful = inp[i].strip().strip('\\n')\n",
    "    com = com_ful.split()\n",
    "    if com[0] == 'push_back':\n",
    "        x = com[1]\n",
    "        deque = push_back(deque, x)\n",
    "    elif com[0] == 'push_front':\n",
    "        x = com[1]\n",
    "        deque = push_front(deque, x)\n",
    "    elif com[0] == 'pop_front':\n",
    "        deque = pop_front(deque)\n",
    "    elif com[0] == 'pop_back':\n",
    "        deque = pop_back(deque)\n",
    "    elif com[0] == 'front':\n",
    "        front_deque(deque)\n",
    "    elif com[0] == 'back':\n",
    "        back_deque(deque)\n",
    "    elif com[0] == 'size':\n",
    "        size_deque(deque)\n",
    "    elif com[0] == 'clear':\n",
    "        deque = clear_deque(deque)\n",
    "    elif com[0] == 'exit':\n",
    "        print('bye')\n",
    "        break"
   ]
  },
  {
   "cell_type": "markdown",
   "id": "874223b6-bfef-4281-9373-f320c8b230af",
   "metadata": {},
   "source": [
    "#### Task 19. "
   ]
  },
  {
   "cell_type": "markdown",
   "id": "e6dcbbd3-6772-4cf9-9655-37df01f27801",
   "metadata": {},
   "source": [
    "In this task, you need to independently (without using the corresponding classes and functions of the standard library) organize a Heap data structure to store integers, on which the following operations are defined: a) Insert(k) - add the number k to the Heap; b) Extract - retrieve the largest number from the Heap (while deleting it).  \n",
    "\n",
    "The first line contains the number of commands N (1 ≤ N ≤ 100000), followed by N commands, each in its own line. The command can have the format: \"0 <number>\" or \"1\", denoting, respectively, the operations Insert(<number>) and Extract. It is guaranteed that when executing the Extract command, there is at least one element in the structure.  \n",
    "\n",
    "For each extraction command, you need to output the number obtained when executing the Extract command on a separate line."
   ]
  },
  {
   "cell_type": "code",
   "execution_count": 1192,
   "id": "2eb0eef3-fcc3-43b3-8ab0-4258d296f0b1",
   "metadata": {
    "tags": []
   },
   "outputs": [
    {
     "name": "stdout",
     "output_type": "stream",
     "text": [
      "345\n",
      "4346\n",
      "2435\n",
      "365\n",
      "235\n",
      "5\n",
      "1\n"
     ]
    }
   ],
   "source": [
    "# slow solution\n",
    "with open('19.txt', 'r') as txt:\n",
    "    inp = [line for line in txt]\n",
    "\n",
    "\n",
    "def insert_heap(heap, val):\n",
    "    if not heap:\n",
    "        heap.append(val)\n",
    "    elif max(heap) > val:\n",
    "        heap.append(val)\n",
    "    else:\n",
    "        heap.insert(0, val)\n",
    "    return heap\n",
    "\n",
    "\n",
    "def extract_heap(heap):\n",
    "    ans = heap.pop(0)\n",
    "    print(ans)\n",
    "    if heap:\n",
    "        max_val = max(heap)\n",
    "        if max_val != heap[0]:\n",
    "            heap.remove(max_val)\n",
    "            heap.insert(0, max_val)\n",
    "    return heap\n",
    "    \n",
    "\n",
    "heap = []\n",
    "for com in inp[1:]:\n",
    "    com = com.strip('\\n')\n",
    "    if len(com) == 1:\n",
    "        heap = extract_heap(heap)\n",
    "    else:\n",
    "        a, num = com.split()\n",
    "        num = int(num)\n",
    "        heap = insert_heap(heap, num)"
   ]
  },
  {
   "cell_type": "code",
   "execution_count": 1193,
   "id": "e00072f7-61bc-4c43-b3b2-4816961c0d1d",
   "metadata": {
    "tags": []
   },
   "outputs": [
    {
     "name": "stdout",
     "output_type": "stream",
     "text": [
      "345\n",
      "4346\n",
      "2435\n",
      "365\n",
      "235\n",
      "5\n",
      "1\n"
     ]
    }
   ],
   "source": [
    "# fast solution\n",
    "with open('19.txt', 'r') as txt:\n",
    "    inp = [line for line in txt]\n",
    "\n",
    "# This function adds an element to a binary heap implemented as a list\n",
    "def insert_heap(heap_list, x):\n",
    "    # Add the new element to the end of the list\n",
    "    heap_list.append(x)\n",
    "    # Get the position of the new element in the list\n",
    "    pos = len(heap_list) - 1\n",
    "    # While the new element is greater than its parent, swap them\n",
    "    while pos > 0 and heap_list[pos] > heap_list[(pos - 1) // 2]:\n",
    "        heap_list[pos], heap_list[(pos - 1) // 2] = heap_list[(pos - 1) // 2], heap_list[pos]\n",
    "        # Set the position to the new parent after all swaps have been made\n",
    "        pos = (pos - 1) // 2\n",
    "\n",
    "    \n",
    "# This function removes and returns the maximum element of a binary heap implemented as a list\n",
    "def extract_heap(heap_list):\n",
    "    # Store the maximum element at the root of the heap\n",
    "    ans = heap_list[0]\n",
    "    # Replace the root with the last element in the list\n",
    "    heap_list[0] = heap_list[-1]\n",
    "    # Set the index to the root of the heap\n",
    "    pos = 0\n",
    "    # While the current node has at least one child node\n",
    "    while pos * 2 + 1 < len(heap_list) - 1:\n",
    "        # Find the index of the largest child node\n",
    "        min_son_index = pos * 2 + 1\n",
    "        if heap_list[pos * 2 + 2] > heap_list[min_son_index]:\n",
    "            min_son_index = pos * 2 + 2\n",
    "        # If the parent node is smaller than the largest child node, swap them and continue\n",
    "        if heap_list[pos] < heap_list[min_son_index]:\n",
    "            heap_list[pos], heap_list[min_son_index] = heap_list[min_son_index], heap_list[pos]\n",
    "            pos = min_son_index\n",
    "        # If the parent node is already larger than both child nodes, the heap property is satisfied, so break\n",
    "        else:\n",
    "            break\n",
    "    # Remove the last element in the list and return the maximum element\n",
    "    heap_list.pop()\n",
    "    print(ans)\n",
    "    return heap_list\n",
    "\n",
    "\n",
    "heap = []\n",
    "for com in inp[1:]:\n",
    "    com = com.strip('\\n')\n",
    "    if len(com) == 1:\n",
    "        heap = extract_heap(heap)\n",
    "    else:\n",
    "        a, num = com.split()\n",
    "        num = int(num)\n",
    "        insert_heap(heap, num)"
   ]
  },
  {
   "cell_type": "markdown",
   "id": "144d2b1b-ce28-4bfa-8238-0838a68ad2e2",
   "metadata": {},
   "source": [
    "#### Task 20. "
   ]
  },
  {
   "cell_type": "markdown",
   "id": "4a9d943c-92a9-4fd5-8cb4-74b34ea5ed70",
   "metadata": {},
   "source": [
    "Sort the given array using Heap Sort.  \n",
    "\n",
    "The first line of the input data contains the number of elements in the array N, N ≤ 10^5. Next, N integers are given, not exceeding 10^9 in absolute value.  \n",
    "\n",
    "Print these numbers in non-descending order."
   ]
  },
  {
   "cell_type": "code",
   "execution_count": 1271,
   "id": "93a2bb80-8854-496a-8c56-d3ce17d5a53a",
   "metadata": {
    "tags": []
   },
   "outputs": [
    {
     "name": "stdin",
     "output_type": "stream",
     "text": [
      " 2\n",
      " 3 1\n"
     ]
    },
    {
     "name": "stdout",
     "output_type": "stream",
     "text": [
      "1 3\n"
     ]
    }
   ],
   "source": [
    "# Define the heapify function\n",
    "def heapify(arr, n, i):\n",
    "    largest = i  # Initialize largest as root\n",
    "    l = 2 * i + 1  # Left child index\n",
    "    r = 2 * i + 2  # Right child index\n",
    "\n",
    "    # Check if left child exists and is greater than root\n",
    "    if l < n and arr[i] < arr[l]:\n",
    "        largest = l\n",
    "\n",
    "    # Check if right child exists and is greater than root or left child\n",
    "    if r < n and arr[largest] < arr[r]:\n",
    "        largest = r\n",
    "\n",
    "    # Swap root if necessary\n",
    "    if largest != i:\n",
    "        arr[i], arr[largest] = arr[largest], arr[i]  # Swap the elements\n",
    "        heapify(arr, n, largest)  # Heapify the affected sub-tree\n",
    "\n",
    "\n",
    "# Define the heapSort function\n",
    "def heapSort(arr):\n",
    "    n = len(arr)\n",
    "    \n",
    "    # Build max heap\n",
    "    for i in range(n // 2 - 1, -1, -1):\n",
    "        heapify(arr, n, i)\n",
    "\n",
    "    # Extract elements from heap one by one\n",
    "    for i in range(n - 1, 0, -1):\n",
    "        arr[0], arr[i] = arr[i], arr[0]  # Swap the maximum element with the last element\n",
    "        heapify(arr, i, 0)  # Heapify the reduced heap\n",
    "\n",
    "    return arr\n",
    "\n",
    "\n",
    "# example usage\n",
    "n = int(input())\n",
    "arr = list(map(int, input().split()))\n",
    "sorted_arr = heapSort(arr)\n",
    "print(*sorted_arr) "
   ]
  },
  {
   "cell_type": "markdown",
   "id": "a5e3554e-474d-49de-8314-38b1416a34ca",
   "metadata": {},
   "source": [
    "#### Task 21."
   ]
  },
  {
   "cell_type": "markdown",
   "id": "32982e37-f463-4d7b-a6ff-cb5cb0c83834",
   "metadata": {},
   "source": [
    "Given a number N, determine the number of sequences of zeros and ones of length N in which no three ones stand together.  \n",
    "\n",
    "The input file contains a natural number N, not exceeding 35.  \n",
    "\n",
    "Output the number of required sequences."
   ]
  },
  {
   "cell_type": "code",
   "execution_count": 1292,
   "id": "63e59302-b919-482d-ac2f-30f2b6a15d02",
   "metadata": {},
   "outputs": [
    {
     "name": "stdin",
     "output_type": "stream",
     "text": [
      " 3\n"
     ]
    },
    {
     "name": "stdout",
     "output_type": "stream",
     "text": [
      "7\n"
     ]
    }
   ],
   "source": [
    "n = int(input()) \n",
    "dp = [0] * (n+1)\n",
    "\n",
    "\n",
    "# base cases\n",
    "if n == 1:\n",
    "    dp[0] = 1\n",
    "    dp[1] = 2\n",
    "else:\n",
    "    dp[0] = 1\n",
    "    dp[1] = 2\n",
    "    dp[2] = 4\n",
    "\n",
    "\n",
    "for i in range(3, n+1):\n",
    "    dp[i] = dp[i-1] + dp[i-2] + dp[i-3]\n",
    "\n",
    "\n",
    "print(dp[n])"
   ]
  },
  {
   "cell_type": "markdown",
   "id": "4fc6803f-a201-4c7d-8724-2bcdab29bcbf",
   "metadata": {},
   "source": [
    "#### Task 22. "
   ]
  },
  {
   "cell_type": "markdown",
   "id": "1e0d3ca5-a647-4eb0-8965-2c0eed723b51",
   "metadata": {},
   "source": [
    "One of the students in the room has a cricket living with him who loves to jump on a checkered one-dimensional board. The length of the board is N cells. Unfortunately, the cricket can only jump 1, 2, ..., k cells forward.\n",
    "\n",
    "Once, the students became interested in how many ways the cricket could jump from the first cell to the last cell. Help them answer this question.\n",
    "\n",
    "The first and only line of the input file contains two integers - N and k. 1 <= N <= 30, 1 <= k <= 10.\n",
    "\n",
    "Output one number - the number of ways the cricket can jump from the first cell to the last cell."
   ]
  },
  {
   "cell_type": "code",
   "execution_count": 1293,
   "id": "e299a821-ddb4-4f51-8f2c-84b2968565a0",
   "metadata": {
    "tags": []
   },
   "outputs": [
    {
     "name": "stdin",
     "output_type": "stream",
     "text": [
      " 8 2\n"
     ]
    },
    {
     "name": "stdout",
     "output_type": "stream",
     "text": [
      "21\n"
     ]
    }
   ],
   "source": [
    "n, k = map(int, input().split())\n",
    "\n",
    "# Initialize the array to store the number of ways to reach each cell\n",
    "dp = [0] * (n + 1)\n",
    "\n",
    "# There is one way to reach the first cell\n",
    "dp[1] = 1\n",
    "\n",
    "# Iterate through each cell and calculate the number of ways to reach it\n",
    "for i in range(2, n + 1):\n",
    "    for j in range(1, k + 1):\n",
    "        if i - j >= 1:\n",
    "            dp[i] += dp[i - j]\n",
    "\n",
    "# The number of ways to reach the last cell is the value in dp[n]\n",
    "print(dp[n])"
   ]
  },
  {
   "cell_type": "markdown",
   "id": "1390bc72-2ff3-446e-bfce-6a12c2058721",
   "metadata": {},
   "source": [
    "#### Task 24. "
   ]
  },
  {
   "cell_type": "markdown",
   "id": "38a6e233-bce1-4f55-9447-0b61fcf2d15f",
   "metadata": {},
   "source": [
    "A queue of N people has formed to buy tickets for the premiere of a new musical, with each person wanting to buy 1 ticket. Only one ticket office was open for the entire queue, so ticket sales were very slow, causing the queue to become desperate. The most resourceful quickly noticed that the cashier sold several tickets to one person faster than when those same tickets were sold one at a time. Therefore, they suggested that several consecutive people should give their money to the first person in line so that they could buy tickets for everyone.\n",
    "\n",
    "However, to combat speculators, the cashier sold no more than 3 tickets to one person, so only 2 or 3 consecutive people could make such an agreement with each other. It is known that it takes Ai seconds to sell one ticket to the ith person in the queue, Bi seconds to sell two tickets, and Ci seconds to sell three tickets. Write a program that calculates the minimum time it would take to serve all customers.\n",
    "\n",
    "Note that the first person in the group of combined people always buys the tickets. Also, no one buys extra tickets to speed up the process (i.e. tickets that no one needs).\n",
    "\n",
    "The input to the program is first the number N - the number of customers in the queue (1 ≤ N ≤ 5000). Next are N triples of natural numbers Ai, Bi, Ci. Each of these numbers does not exceed 3600. People in the queue are numbered starting from the cashier.\n",
    "\n",
    "The program should output a single number - the minimum time in seconds it would take to serve all customers."
   ]
  },
  {
   "cell_type": "code",
   "execution_count": 1297,
   "id": "f1248e70-0c55-4d65-820d-f8e60f5352a5",
   "metadata": {
    "tags": []
   },
   "outputs": [
    {
     "name": "stdin",
     "output_type": "stream",
     "text": [
      " 5\n",
      " 5 10 15\n",
      " 2 10 15\n",
      " 5 5 5\n",
      " 20 20 1\n",
      " 20 1 1\n"
     ]
    },
    {
     "name": "stdout",
     "output_type": "stream",
     "text": [
      "12\n"
     ]
    }
   ],
   "source": [
    "n = int(input())\n",
    "seconds = [list(map(int, input().split())) for _ in range(n)]\n",
    "\n",
    "# Create a list to store the minimum time it takes to serve each person\n",
    "dp = [float('inf')] * (n + 3)\n",
    "dp[0] = 0\n",
    "\n",
    "for i in range(n):\n",
    "    # If serving one person is faster than grouping with the next person, \n",
    "    # then it's always better to serve one person\n",
    "    dp[i+1] = min(dp[i+1], dp[i] + seconds[i][0])\n",
    "    \n",
    "    # If grouping with one person is faster than serving them separately, \n",
    "    # then group with the next person\n",
    "    if i < n - 1:\n",
    "        dp[i+2] = min(dp[i+2], dp[i] + seconds[i][1])\n",
    "    \n",
    "    # If grouping with two people is faster than serving them separately, \n",
    "    # then group with the next two people\n",
    "    if i < n - 2:\n",
    "        dp[i+3] = min(dp[i+3], dp[i] + seconds[i][2])\n",
    "\n",
    "# Print the minimum time it takes to serve all people\n",
    "print(dp[n])"
   ]
  },
  {
   "cell_type": "markdown",
   "id": "792c13ec-3d51-4a6b-9b5b-4e605df1f0d8",
   "metadata": {
    "tags": []
   },
   "source": [
    "#### Task 26. "
   ]
  },
  {
   "cell_type": "markdown",
   "id": "00f5a8ae-9a55-492a-be79-a8ecae0fc655",
   "metadata": {},
   "source": [
    "In each cell of a rectangular table with dimensions N x M, there is a certain number written. Initially, the player is in the upper left cell. In one move, he is allowed to move to a neighboring cell either to the right or down (moving left and up is prohibited). When passing through a cell, the player takes as much food in kilograms as the number written in this cell (food is also taken for the first and last cells of his path).  \n",
    "\n",
    "It is necessary to find the minimum weight of food in kilograms that the player can give away in order to reach the lower right corner.  \n",
    "\n",
    "Two numbers N and M are entered - the dimensions of the table (1 ≤ N ≤ 20, 1 ≤ M ≤ 20). Then there are N lines with M numbers in each - the weights in kilograms for passing through the corresponding cells (numbers from 0 to 100).  \n",
    "\n",
    "Output the minimum weight of food in kilograms that must be given away to reach the lower right corner."
   ]
  },
  {
   "cell_type": "code",
   "execution_count": 1353,
   "id": "fd6337c9-49de-4ef1-9027-0e11cf59b30e",
   "metadata": {},
   "outputs": [
    {
     "name": "stdin",
     "output_type": "stream",
     "text": [
      " 5 5\n",
      " 1 1 1 1 1\n",
      " 3 100 100 100 100\n",
      " 1 1 1 1 1\n",
      " 2 2 2 2 1\n",
      " 1 1 1 1 1\n"
     ]
    },
    {
     "name": "stdout",
     "output_type": "stream",
     "text": [
      "11\n"
     ]
    }
   ],
   "source": [
    "n, m = map(int, input().split())\n",
    "\n",
    "\n",
    "def min_paths(n, m):\n",
    "    dp = [list(map(int, input().split())) for i in range(n)]\n",
    "    dp.insert(0, [0 for _ in range(m)])\n",
    "    [l.insert(0, 0) for l in dp]\n",
    "\n",
    "    for i in range(1, n+1):\n",
    "        for j in range(1, m+1):\n",
    "            if i == 1:\n",
    "                dp[i][j] = dp[i][j-1] + dp[i][j]\n",
    "            if j == 1:\n",
    "                dp[i][j] = dp[i-1][j] + dp[i][j]\n",
    "            else:\n",
    "                right = dp[i][j-1] + dp[i][j]\n",
    "                bottom = dp[i-1][j] + dp[i][j]\n",
    "                dp[i][j] = min(right, bottom)\n",
    "\n",
    "    return dp[n][m]\n",
    "\n",
    "    \n",
    "min_paths = min_paths(n, m)\n",
    "print(min_paths)"
   ]
  },
  {
   "cell_type": "markdown",
   "id": "576b9671-bf38-4341-9fed-54d531764bc2",
   "metadata": {},
   "source": [
    "#### Task 28. "
   ]
  },
  {
   "cell_type": "markdown",
   "id": "50f14c43-5e17-4d69-980d-a99d9c904bc9",
   "metadata": {},
   "source": [
    "You are given a rectangular board of size N × M (N rows and M columns). In the upper left corner of the board is a chess knight, which needs to be moved to the lower right corner of the board. In this task, the knight can move two squares down and one square to the right, or one square down and two squares to the right.  \n",
    "\n",
    "You need to determine how many different routes exist that lead from the upper left to the lower right corner.  \n",
    "\n",
    "The input file contains two natural numbers N and M, where 1 <= N, M <= 50.  \n",
    "\n",
    "In the output file, print a single number - the number of ways the knight can reach the lower right corner of the board."
   ]
  },
  {
   "cell_type": "code",
   "execution_count": 726,
   "id": "c8bd759e-8fca-43d9-bd8e-b8a7bb0ea887",
   "metadata": {
    "tags": []
   },
   "outputs": [
    {
     "name": "stdin",
     "output_type": "stream",
     "text": [
      " 31 34\n"
     ]
    },
    {
     "name": "stdout",
     "output_type": "stream",
     "text": [
      "293930\n"
     ]
    }
   ],
   "source": [
    "n, m = map(int, input().split())\n",
    "\n",
    "\n",
    "def count_paths(n, m):\n",
    "    # Create a 2D array to store the number of paths to each cell\n",
    "    dp = [[0 for j in range(m)] for i in range(n)]\n",
    "\n",
    "    # Set the starting cell to 1\n",
    "    dp[0][0] = 1\n",
    "\n",
    "    # Iterate over each cell in the board\n",
    "    for i in range(n):\n",
    "        for j in range(m):\n",
    "            # Check if the current cell is reachable from the top or left cell\n",
    "            if i > 0 and j > 1:\n",
    "                dp[i][j] += dp[i-1][j-2]\n",
    "            if i > 1 and j > 0:\n",
    "                dp[i][j] += dp[i-2][j-1]\n",
    "            \n",
    "    # Return the number of paths to the bottom-right cell\n",
    "    return dp[n-1][m-1]\n",
    "\n",
    "    \n",
    "num_paths = count_paths(n, m)\n",
    "print(num_paths)"
   ]
  }
 ],
 "metadata": {
  "kernelspec": {
   "display_name": "Python 3 (ipykernel)",
   "language": "python",
   "name": "python3"
  },
  "language_info": {
   "codemirror_mode": {
    "name": "ipython",
    "version": 3
   },
   "file_extension": ".py",
   "mimetype": "text/x-python",
   "name": "python",
   "nbconvert_exporter": "python",
   "pygments_lexer": "ipython3",
   "version": "3.7.11"
  }
 },
 "nbformat": 4,
 "nbformat_minor": 5
}

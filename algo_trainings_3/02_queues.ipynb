{
 "cells": [
  {
   "cell_type": "markdown",
   "id": "e140b715-9e1d-4a85-b91b-f653d9d4396f",
   "metadata": {},
   "source": [
    "# Algorithms by Yandex 3.0"
   ]
  },
  {
   "cell_type": "markdown",
   "id": "2b579946-86e5-4ff2-aadb-85052f0df02a",
   "metadata": {},
   "source": [
    "## Lesson 2. Queues"
   ]
  },
  {
   "cell_type": "markdown",
   "id": "dbeaff5f-68e2-469e-9f95-65e1c9e0ee5b",
   "metadata": {},
   "source": [
    "### Queue"
   ]
  },
  {
   "cell_type": "markdown",
   "id": "6bf19a3e-5d71-4731-b3c2-ebb00f653e2b",
   "metadata": {},
   "source": [
    "What is a **queue**:\n",
    "- first come, first served\n",
    "- First In - First Out (FIFO)  \n",
    "\n",
    "Actions:\n",
    "- push(x) - add an element to the end of the queue\n",
    "- pop - remove an element from the front of the queue"
   ]
  },
  {
   "cell_type": "markdown",
   "id": "f84df7f9-2bc1-4942-8a3f-69d3f6284a70",
   "metadata": {},
   "source": [
    "- A queue is a data structure that is used to store a collection of elements. It follows the FIFO (First In, First Out) principle, which means that the element that was added first to the queue will be the first one to be removed.\n",
    "- Queues are often used in computer science and programming for tasks such as handling requests from clients or users, processing messages, and implementing algorithms that require ordering or sequencing of data.\n",
    "- In addition to the push and pop operations, queues typically support other operations such as peek (to view the element at the front of the queue without removing it), size (to determine the number of elements in the queue), and isEmpty (to check whether the queue is empty or not).\n",
    "- There are various implementations of queues, including using an array or a linked list data structure. Depending on the use case and performance requirements, one implementation may be more suitable than another. For example, using an array-based queue may provide faster access to elements, but may be less efficient in terms of memory usage compared to a linked-list based queue."
   ]
  },
  {
   "cell_type": "markdown",
   "id": "d7f5b325-5c27-4b3f-a8f2-99a76fbf0a69",
   "metadata": {},
   "source": [
    "To delete from the beginning of an array is difficult.  \n",
    "Deleting each element requires O(N) operations."
   ]
  },
  {
   "cell_type": "markdown",
   "id": "92a5aec2-ddbf-486d-8a76-a04e55483f9c",
   "metadata": {},
   "source": [
    "**Circular buffer** - you need to know the limit on the maximum number of elements in the queue (k) in advance.\n",
    "We reset the indices when tail % k = 0."
   ]
  },
  {
   "cell_type": "markdown",
   "id": "893af488-8916-42c9-a1d1-d9ae941a48c1",
   "metadata": {
    "tags": []
   },
   "source": [
    "- A circular buffer, also known as a circular queue, is a data structure that uses a fixed-size buffer to store a collection of elements. It is a type of queue that allows elements to be efficiently added and removed from both the front and the back of the buffer.\n",
    "- Unlike a traditional queue, which may become full and stop accepting new elements, a circular buffer can continue to accept new elements as long as there is space available in the buffer. This is achieved by wrapping the indices around to the beginning of the buffer when they reach the end.\n",
    "- As mentioned in the previous translation, a key feature of circular buffers is that they require a fixed maximum size to be specified in advance. This can be an advantage in situations where the amount of memory available for the buffer is limited or needs to be reserved for other purposes.\n",
    "- One important consideration when using a circular buffer is to ensure that the indices are updated correctly when elements are added or removed. This can be achieved using modular arithmetic to wrap the indices around to the beginning of the buffer when necessary.\n",
    "- Circular buffers can be implemented using an array data structure, where the indices are updated using modulo arithmetic. Alternatively, they can be implemented using a linked list data structure with pointers to the front and back of the buffer."
   ]
  },
  {
   "cell_type": "markdown",
   "id": "598e3df3-a5c6-46f0-a05f-d0a05f8aeda7",
   "metadata": {},
   "source": [
    "### Deque"
   ]
  },
  {
   "cell_type": "markdown",
   "id": "eedaa96b-46b1-44e0-8f76-954312c235b7",
   "metadata": {},
   "source": [
    "What is a **deque**:\n",
    "- deque - double ended deque\n",
    "- in a deque, elements can be added and removed from both the front and the back.\n",
    "\n",
    "Methods:\n",
    "- push_front\n",
    "- pop_front\n",
    "- push_back\n",
    "- pop_back"
   ]
  },
  {
   "cell_type": "markdown",
   "id": "3c88668e-5c60-4136-ba87-7a3911300902",
   "metadata": {},
   "source": [
    "- A deque (short for double-ended queue) is a data structure that allows elements to be added and removed from both the front and the back. It can be thought of as a hybrid between a stack and a queue.\n",
    "- Deques are useful when it is necessary to efficiently add and remove elements from both ends of the collection. For example, they can be used in situations where elements need to be processed in a specific order, such as implementing a sliding window algorithm or maintaining a cache of recently accessed items.\n",
    "- In addition to the *push_front, pop_front, push_back, and pop_back* operations, deques typically support other operations such as:\n",
    "  - peek_front (to view the element at the front of the deque without removing it),\n",
    "  - peek_back (to view the element at the back of the deque without removing it), \n",
    "  - size (to determine the number of elements in the deque), and isEmpty (to check whether the deque is empty or not).\n",
    "- Deques can be implemented using an array or a linked list data structure. Depending on the use case and performance requirements, one implementation may be more suitable than another. For example, using an array-based deque may provide faster access to elements, but may be less efficient in terms of memory usage compared to a linked-list based deque."
   ]
  },
  {
   "cell_type": "markdown",
   "id": "4c2cb658-50d7-42e2-a718-c6f7093e8854",
   "metadata": {},
   "source": [
    "A **linked list** is a linear data structure that is used to store a collection of elements. Unlike arrays, linked lists do not use contiguous blocks of memory to store their elements. Instead, each element (or node) in a linked list is composed of two parts: the data itself and a reference (or pointer) to the next element in the list.  \n",
    "\n",
    "This linked structure allows for efficient insertion and deletion of elements, as it is not necessary to shift the positions of the other elements in the list. However, accessing an element in a linked list can be slower than accessing an element in an array, as it may be necessary to traverse through multiple nodes in the list to reach the desired element.  \n",
    "\n",
    "Linked lists can be singly linked, meaning that each node only has a reference to the next node in the list, or doubly linked, meaning that each node has references to both the next and previous nodes in the list. Singly linked lists are simpler and more space-efficient, while doubly linked lists allow for more efficient traversal of the list in both directions.  \n",
    "\n",
    "Linked lists are commonly used in computer science and programming for tasks such as implementing hash tables, stacks, queues, and other data structures. They can also be used to represent more complex data structures such as trees and graphs."
   ]
  },
  {
   "cell_type": "markdown",
   "id": "0cde7999-d872-40a7-b824-ee40438ec16d",
   "metadata": {},
   "source": [
    "### Heap"
   ]
  },
  {
   "cell_type": "markdown",
   "id": "3c5f26f6-f833-4746-88bc-e1c1904c127f",
   "metadata": {},
   "source": [
    "What is a **heap**:\n",
    "- A data structure that implements a priority queue.  \n",
    "\n",
    "Operations:\n",
    "- add(x) - add element x to the heap\n",
    "- pop - remove the minimum (or maximum) element from the heap."
   ]
  },
  {
   "cell_type": "markdown",
   "id": "bc50261d-a1fb-4b9f-b53f-29df5b459a88",
   "metadata": {},
   "source": [
    "- A heap is a binary tree that satisfies the heap property. The heap property states that for a min-heap, each parent node has a value less than or equal to its children nodes, and for a max-heap, each parent node has a value greater than or equal to its children nodes.\n",
    "- Heaps are commonly used to implement priority queues, as they allow for efficient insertion and removal of elements while maintaining the heap property. Priority queues are useful in situations where elements need to be processed in a specific order based on their priority.\n",
    "- Heaps can be implemented using an array data structure. In this implementation, each element in the array corresponds to a node in the heap. The left child of a node at index i is located at index 2i+1, and the right child is located at index 2i+2. The parent of a node at index i is located at index floor((i-1)/2).\n",
    "- The add and pop operations on a heap have a time complexity of O(log n), where n is the number of elements in the heap. This is because these operations involve swapping elements in the heap and then restoring the heap property by \"bubbling up\" or \"sinking down\" the swapped element to its correct position.\n",
    "- There are two types of heaps: min-heaps and max-heaps. In a min-heap, the minimum element is always located at the root of the heap. In a max-heap, the maximum element is located at the root."
   ]
  },
  {
   "cell_type": "markdown",
   "id": "b690d037-b987-4dad-a2cc-646ef372ee3b",
   "metadata": {},
   "source": [
    "Implementation of adding an element:"
   ]
  },
  {
   "cell_type": "code",
   "execution_count": 4,
   "id": "b0a2a790-47c6-4be6-933e-dbceb39077e2",
   "metadata": {
    "tags": []
   },
   "outputs": [],
   "source": [
    "# This function adds an element to a binary heap implemented as a list\n",
    "def push_heap(heap_list, x):\n",
    "    # Add the new element to the end of the list\n",
    "    heap_list.append(x)\n",
    "    # Get the position of the new element in the list\n",
    "    pos = len(heap_list) - 1\n",
    "    # While the new element is smaller than its parent, swap them\n",
    "    while pos > 0 and heap_list[pos] < heap_list[(pos - 1) // 2]:\n",
    "        heap_list[pos], heap_list[(pos - 1) // 2] = heap_list[(pos - 1) // 2], heap_list[pos]\n",
    "    # Set the position to the new parent after all swaps have been made\n",
    "    pos = (pos - 1) // 2"
   ]
  },
  {
   "cell_type": "markdown",
   "id": "a41861a3-08d4-4da5-af5c-279992ee058b",
   "metadata": {},
   "source": [
    "Implementation of poping an element:"
   ]
  },
  {
   "cell_type": "code",
   "execution_count": 5,
   "id": "0188cd43-c43d-4a5d-807b-ec5a445ad010",
   "metadata": {
    "tags": []
   },
   "outputs": [],
   "source": [
    "# This function removes and returns the minimum element of a binary heap implemented as a list\n",
    "def pop_heap(heap_list):\n",
    "    # Store the minimum element at the root of the heap\n",
    "    ans = heap_list[0]\n",
    "    # Replace the root with the last element in the list\n",
    "    heap_list[0] = heap_list[-1]\n",
    "    # Set the index to the root of the heap\n",
    "    pos = 0\n",
    "    # While the current node has at least one child node\n",
    "    while pos * 2 + 1 < len(heap_list) - 1:\n",
    "        # Find the index of the smaller child node\n",
    "        min_son_index = pos * 2 + 1\n",
    "        if heap_list[pos * 2 + 2] < heap_list[min_son_index]:\n",
    "            min_son_index = pos * 2 + 2\n",
    "        # If the parent node is larger than the smaller child node, swap them and continue\n",
    "        if heap_list[pos] > heap_list[min_son_index]:\n",
    "            heap_list[pos], heap_list[min_son_index] = heap_list[min_son_index], heap_list[pos]\n",
    "            pos = min_son_index\n",
    "        # If the parent node is already smaller than both child nodes, the heap property is satisfied, so break\n",
    "        else:\n",
    "            break\n",
    "    # Remove the last element in the list and return the minimum element\n",
    "    heap_list.pop()\n",
    "    return ans"
   ]
  },
  {
   "cell_type": "markdown",
   "id": "57fae1dc-ea98-444f-9b22-dde1e735cfc4",
   "metadata": {},
   "source": [
    "#### LRU cash"
   ]
  },
  {
   "cell_type": "markdown",
   "id": "a85c5cab-20f0-4ca1-be18-00c2d8f9a47a",
   "metadata": {},
   "source": [
    "LRU (Least Recently Used) cache allows to remove from the cache (fast memory) those values that were used a long time ago.  \n",
    "\n",
    "We will need:\n",
    "- a dictionary to store values\n",
    "- a priority queue to store time"
   ]
  },
  {
   "cell_type": "markdown",
   "id": "3446ab0b-2fd1-4e9f-932f-0243eda6a6ea",
   "metadata": {},
   "source": [
    "Из-за удаления и добавления в кучу при cache miss (непопадания в кэш) сложность одной операции будет O(logK), а общая сложность в худшем случае O(NlogK).  \n",
    "\n",
    "Можно сделать общую операцию за O(1) и общую сложность за O(N)."
   ]
  },
  {
   "cell_type": "markdown",
   "id": "abb44536-92c5-4c0f-8e08-eee467c828ac",
   "metadata": {},
   "source": [
    "#### Median in a window"
   ]
  },
  {
   "cell_type": "markdown",
   "id": "3253915d-c8c5-4879-ba0f-b3f82c3fcfe8",
   "metadata": {},
   "source": [
    "To smooth time series data, median filtering can be applied: replace each element with the median in a certain neighborhood."
   ]
  },
  {
   "cell_type": "markdown",
   "id": "0f610b27-12a5-42e7-acc2-564bc3d78ba9",
   "metadata": {},
   "source": [
    "And it can be done using two heaps. "
   ]
  },
  {
   "cell_type": "markdown",
   "id": "a0257a68-d877-4c84-a020-bb40b08d5abe",
   "metadata": {},
   "source": [
    "#### Heap Sort"
   ]
  },
  {
   "cell_type": "markdown",
   "id": "da8df5ec-6e7c-44ff-a146-dd2acc5cebee",
   "metadata": {},
   "source": [
    "Using a heap, sorting can be implemented in O(NlogN) time complexity. If done carefully, it is possible to avoid using additional memory.\n",
    "\n",
    "We will maintain a heap of maximum values on one array, and the sorted part of the array will be formed in the right half of the array, which is already freed from the heap."
   ]
  },
  {
   "cell_type": "markdown",
   "id": "2e6709ff-9c13-43ac-8695-52b380c85ef8",
   "metadata": {},
   "source": [
    "Heap Sort is a comparison-based sorting algorithm that works by building a max-heap from the input array and repeatedly extracting the maximum element from the heap and placing it at the end of the array. The algorithm consists of two main steps:\n",
    "- Build a max-heap from the input array: Starting from the middle of the array and moving backwards, the max-heap is constructed by repeatedly swapping elements until the heap property is satisfied. This ensures that the root element is the maximum element in the heap.\n",
    "- Extract the maximum element from the heap and place it at the end of the array: After the max-heap is constructed, the maximum element is extracted from the root of the heap and swapped with the last element in the heap (which is not part of the sorted array). The heap property is then restored by moving the new root element down the heap until the heap property is satisfied again. This process is repeated until all elements have been extracted from the heap and placed in the sorted array.  \n",
    "\n",
    "Heap Sort has a time complexity of O(N log N) and a space complexity of O(1), which makes it an efficient sorting algorithm for large datasets. However, unlike some other sorting algorithms (such as Merge Sort), Heap Sort is not a stable sorting algorithm, which means that the order of equal elements may not be preserved in the sorted array."
   ]
  },
  {
   "cell_type": "markdown",
   "id": "ea6d6ec7-f8e4-44ed-913d-4860c01e7877",
   "metadata": {},
   "source": [
    "**Heapify** is a process of rearranging the elements of an array in order to satisfy the heap property, which is that for any given node i, the value of the node is greater than or equal to the values of its children nodes. This process can be used to convert an array into a heap, and it is often used as a subroutine in heap-based algorithms, such as Heap Sort.\n",
    "\n",
    "The basic idea behind heapify is to start at the middle of the array (the parent of the last leaf node) and work backwards, fixing the heap property at each node by swapping it with its largest child if necessary. This ensures that the heap property is satisfied for all nodes in the tree below the current node.\n",
    "\n",
    "There are two ways to implement heapify: top-down and bottom-up. The top-down approach starts at the root and recursively fixes the heap property for the current node and its children. The bottom-up approach starts at the last parent node (i.e., the parent of the last leaf node) and works upwards, fixing the heap property for each node and its children. The bottom-up approach is generally faster, as it requires fewer comparisons and swaps."
   ]
  },
  {
   "cell_type": "markdown",
   "id": "3a82b636-4231-47fd-a666-e11de693247e",
   "metadata": {},
   "source": [
    "Time complexity of heapify is O(N) because the algorithm iterates over each element in the array once, and performs a constant amount of work at each iteration. Therefore, the total number of operations is proportional to the size of the input, which is N."
   ]
  }
 ],
 "metadata": {
  "kernelspec": {
   "display_name": "Python 3 (ipykernel)",
   "language": "python",
   "name": "python3"
  },
  "language_info": {
   "codemirror_mode": {
    "name": "ipython",
    "version": 3
   },
   "file_extension": ".py",
   "mimetype": "text/x-python",
   "name": "python",
   "nbconvert_exporter": "python",
   "pygments_lexer": "ipython3",
   "version": "3.7.11"
  }
 },
 "nbformat": 4,
 "nbformat_minor": 5
}

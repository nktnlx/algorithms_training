{
 "cells": [
  {
   "cell_type": "markdown",
   "id": "e140b715-9e1d-4a85-b91b-f653d9d4396f",
   "metadata": {},
   "source": [
    "# Algorithms by Yandex 3.0"
   ]
  },
  {
   "cell_type": "markdown",
   "id": "2b579946-86e5-4ff2-aadb-85052f0df02a",
   "metadata": {},
   "source": [
    "## Lesson 4. Dynamic programming with two parameters"
   ]
  },
  {
   "cell_type": "markdown",
   "id": "4a540258-0017-472d-a52b-0b680fa306fc",
   "metadata": {},
   "source": [
    "### Dynamic programming with two parameters of the same nature"
   ]
  },
  {
   "cell_type": "markdown",
   "id": "cbf793ea-30e0-4d06-a200-4e2f6060c769",
   "metadata": {},
   "source": [
    "General principles of dynamic programming:\n",
    "- Understand what we are computing\n",
    "- Find the recurrence relation (how to express the problem in terms of smaller subproblems)\n",
    "- Define initial values (without dynamic programming)\n",
    "- Know the order in which to compute the values\n",
    "- Understand where to look for the answer"
   ]
  }
 ],
 "metadata": {
  "kernelspec": {
   "display_name": "Python 3 (ipykernel)",
   "language": "python",
   "name": "python3"
  },
  "language_info": {
   "codemirror_mode": {
    "name": "ipython",
    "version": 3
   },
   "file_extension": ".py",
   "mimetype": "text/x-python",
   "name": "python",
   "nbconvert_exporter": "python",
   "pygments_lexer": "ipython3",
   "version": "3.7.11"
  }
 },
 "nbformat": 4,
 "nbformat_minor": 5
}

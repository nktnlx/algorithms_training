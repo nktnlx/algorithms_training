{
 "cells": [
  {
   "cell_type": "markdown",
   "id": "e140b715-9e1d-4a85-b91b-f653d9d4396f",
   "metadata": {},
   "source": [
    "# Algorithms by Yandex 3.0"
   ]
  },
  {
   "cell_type": "markdown",
   "id": "2b579946-86e5-4ff2-aadb-85052f0df02a",
   "metadata": {},
   "source": [
    "## Lesson 5. Depth-first search traversal of graphs"
   ]
  },
  {
   "cell_type": "markdown",
   "id": "4a540258-0017-472d-a52b-0b680fa306fc",
   "metadata": {},
   "source": [
    "### Depth-first search traversal"
   ]
  },
  {
   "cell_type": "markdown",
   "id": "ad856d83-a050-453c-bd53-ce01edd4f7a9",
   "metadata": {},
   "source": [
    "\"Depth-first search traversal\" is a method used to traverse or search through a graph data structure. In this method, the algorithm starts at a particular node in the graph and explores as far as possible along each branch before backtracking.  \n",
    "\n",
    "The basic idea is to visit each node in the graph only once, marking each visited node to avoid visiting it again. This approach is often used in algorithms such as finding connected components, determining if a path exists between two nodes, or finding a cycle in a graph.  \n",
    "\n",
    "During the traversal process, the algorithm maintains a stack of nodes to be visited next. It pops a node from the stack, visits it, and then pushes all of its unvisited neighbors onto the stack. This process continues until the stack is empty.  \n",
    "\n",
    "The time complexity of the depth-first search algorithm is O(V + E), where V is the number of vertices in the graph and E is the number of edges. This makes it a popular choice for graph traversal when the graph is not too large.  \n",
    "\n",
    "Overall, depth-first search traversal is a fundamental algorithmic technique used in various domains such as graph theory, network analysis, and artificial intelligence.  "
   ]
  },
  {
   "cell_type": "code",
   "execution_count": 3,
   "id": "099ef4f5-92ed-4953-baa4-db8d5d3d8b72",
   "metadata": {
    "tags": []
   },
   "outputs": [],
   "source": [
    "# This function implements depth-first search (DFS) algorithm on a graph\n",
    "def dfs(graph, visited, now):\n",
    "    # Mark the current node as visited\n",
    "    visited[now] = True\n",
    "    # Traverse all neighbors of the current node in the graph\n",
    "    for neig in graph[now]:\n",
    "        # If a neighbor node is not visited yet, \n",
    "        # recursively call DFS on it\n",
    "        if not visited[neig]:\n",
    "            dfs(graph, visited, neig)"
   ]
  },
  {
   "cell_type": "code",
   "execution_count": 6,
   "id": "27385538-8b81-4b7e-8229-f3e27ac0b14b",
   "metadata": {
    "tags": []
   },
   "outputs": [
    {
     "name": "stdout",
     "output_type": "stream",
     "text": [
      "[False, True, True, False, True, True]\n"
     ]
    }
   ],
   "source": [
    "# example run of the dfs function\n",
    "graph = {\n",
    "    1: [2],\n",
    "    2: [4, 5],\n",
    "    3: [5],\n",
    "    4: [],\n",
    "    5: []\n",
    "}\n",
    "\n",
    "visited = [False] * (len(graph) + 1)\n",
    "\n",
    "# Call dfs starting from node 1\n",
    "dfs(graph, visited, 1)\n",
    "\n",
    "print(visited)"
   ]
  },
  {
   "cell_type": "markdown",
   "id": "909f1618-51d1-4c8e-ada0-32f73d31d70a",
   "metadata": {},
   "source": [
    "Graph connectivity refers to the ability to travel from one node in a graph to another by following a path of edges.  \n",
    "\n",
    "In graph theory, a connected graph is a graph in which there is a path between any two nodes. In other words, for any two nodes in a connected graph, there exists a sequence of edges that connects them.  \n",
    "\n",
    "On the other hand, a graph that is not connected is said to be disconnected. A disconnected graph can be broken down into two or more connected components, where a connected component is a subgraph of the original graph in which every pair of nodes is connected by a path."
   ]
  },
  {
   "cell_type": "markdown",
   "id": "6ea4120c-c48a-4e29-a2ab-214d50b0d318",
   "metadata": {},
   "source": [
    "Connected component labeling:"
   ]
  },
  {
   "cell_type": "code",
   "execution_count": 14,
   "id": "3e3e707c-ca81-4dd3-8679-8afec5d22951",
   "metadata": {
    "tags": []
   },
   "outputs": [
    {
     "name": "stdout",
     "output_type": "stream",
     "text": [
      "[False, 1, 1, 2, 1, 1]\n"
     ]
    }
   ],
   "source": [
    "# modified dfs with connected component labeling\n",
    "def dfs(graph, visited, now, comp):\n",
    "    visited[now] = comp\n",
    "    for neig in graph[now]:\n",
    "        if not visited[neig]:\n",
    "            dfs(graph, visited, neig, comp)\n",
    "\n",
    "\n",
    "graph = {\n",
    "    1: [2],\n",
    "    2: [4, 5],\n",
    "    3: [5],\n",
    "    4: [],\n",
    "    5: []\n",
    "}\n",
    "\n",
    "visited = [False] * (len(graph) + 1)\n",
    "\n",
    "\n",
    "comp = 1\n",
    "for i in range(1, len(graph)):\n",
    "    if not visited[i]:\n",
    "        dfs(graph, visited, i, comp)\n",
    "        comp += 1\n",
    "        \n",
    "print(visited)"
   ]
  },
  {
   "cell_type": "markdown",
   "id": "d6bbe3bd-837c-4c40-8efd-83b837abb22c",
   "metadata": {},
   "source": [
    "### Cycles in a directed graph"
   ]
  },
  {
   "cell_type": "markdown",
   "id": "1b150b85-06fb-40b2-910c-cb826c44b441",
   "metadata": {},
   "source": [
    " A cycle is a path that leads from a vertex to itself."
   ]
  },
  {
   "cell_type": "markdown",
   "id": "31387445-9d6a-462c-9aac-635f7e72e607",
   "metadata": {},
   "source": [
    "0 - a white vertex (we have never been there)  \n",
    "1 - a grey vertex (we have just been there)  \n",
    "2 - a black vertex (we have exited from dfs and we have already visited all childs of this vertex)  \n",
    "\n",
    "if we have all vertices that are grey in our loop - this is a cycle. "
   ]
  },
  {
   "cell_type": "markdown",
   "id": "8fe976ca-f37d-4cc3-a55e-4a8740be6d06",
   "metadata": {},
   "source": [
    "A **bipartite graph (bigraph)** is a special type of graph in which the vertices can be divided into two disjoint sets such that no two vertices within the same set are adjacent. In other words, a bipartite graph is a graph whose vertices can be partitioned into two sets such that all edges go between the two sets.\n",
    "\n",
    "This property can be restated in terms of graph coloring: A graph is bipartite if and only if it can be colored with two colors such that no two adjacent vertices have the same color.\n",
    "\n",
    "Bipartite graphs have many applications, including:\n",
    "\n",
    "- Modeling social networks, where one set of vertices represents people and the other set represents events, groups, or activities that people can participate in.\n",
    "- Solving problems in combinatorial optimization, such as the assignment problem or the transportation problem.\n",
    "- Solving problems in electronic circuit design, where one set of vertices represents input terminals and the other set represents output terminals.\n",
    "- In mathematics, bipartite graphs have connections to algebraic graph theory and topological graph theory.  \n",
    "\n",
    "One interesting fact about bipartite graphs is that they do not contain any odd-length cycles. This is a consequence of the fact that a cycle in a bipartite graph must alternate between the two sets of vertices, and so its length must be even."
   ]
  },
  {
   "cell_type": "markdown",
   "id": "ba1aae72-9982-4aed-beab-b3252ba38fc8",
   "metadata": {},
   "source": [
    "### Topological sorting"
   ]
  },
  {
   "cell_type": "markdown",
   "id": "a6ccf6d4-662b-4082-aade-f0ae8aefcbad",
   "metadata": {},
   "source": [
    "\"Topological sorting\" is an algorithm used to sort the nodes of a directed acyclic graph (DAG) in a linear order. In other words, it arranges the nodes in such a way that for every directed edge (u, v), node u comes before node v in the sorted order.  \n",
    "\n",
    "The algorithm starts by finding a node with no incoming edges, which is called a \"source\" node. It then removes this node and all its outgoing edges from the graph, and adds it to the sorted list. The process is then repeated with the remaining nodes until all nodes have been added to the sorted list.  \n",
    "\n",
    "If the graph contains cycles, then no topological ordering is possible, since a cycle creates a situation where a node would have to come before itself in the ordering. Therefore, a prerequisite for topological sorting is that the graph must be acyclic.  \n",
    "\n",
    "Topological sorting has numerous applications in computer science and engineering, such as task scheduling, dependency resolution, and circuit design. It also plays an important role in compilers, where it is used to order the instructions in a program to optimize its execution speed."
   ]
  }
 ],
 "metadata": {
  "kernelspec": {
   "display_name": "Python 3 (ipykernel)",
   "language": "python",
   "name": "python3"
  },
  "language_info": {
   "codemirror_mode": {
    "name": "ipython",
    "version": 3
   },
   "file_extension": ".py",
   "mimetype": "text/x-python",
   "name": "python",
   "nbconvert_exporter": "python",
   "pygments_lexer": "ipython3",
   "version": "3.7.11"
  }
 },
 "nbformat": 4,
 "nbformat_minor": 5
}
